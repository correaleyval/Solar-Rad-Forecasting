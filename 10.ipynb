{
 "cells": [
  {
   "cell_type": "code",
   "execution_count": 1,
   "metadata": {
    "colab": {
     "base_uri": "https://localhost:8080/",
     "height": 34
    },
    "colab_type": "code",
    "id": "6oRi56aFck6Q",
    "outputId": "36994927-584d-4f68-a176-dd5a70515ac3"
   },
   "outputs": [],
   "source": [
    "#from google.colab import drive\n",
    "#drive.mount('/content/drive')"
   ]
  },
  {
   "cell_type": "code",
   "execution_count": 2,
   "metadata": {
    "colab": {},
    "colab_type": "code",
    "id": "3NABGHXccPC3"
   },
   "outputs": [],
   "source": [
    "import pandas as pd"
   ]
  },
  {
   "cell_type": "code",
   "execution_count": 3,
   "metadata": {
    "colab": {},
    "colab_type": "code",
    "id": "0pz0_Gg_csZU"
   },
   "outputs": [],
   "source": [
    "#data = pd.read_csv('/content/drive/My Drive/solar-forecasting/data/meteo_galicia.csv', sep=';', parse_dates=['fecha'], decimal=',',\n",
    "#                 infer_datetime_format=True, low_memory=False, index_col='fecha').sort_index()"
   ]
  },
  {
   "cell_type": "code",
   "execution_count": 4,
   "metadata": {
    "colab": {},
    "colab_type": "code",
    "id": "YX0GnW63cPC8"
   },
   "outputs": [],
   "source": [
    "data = pd.read_csv('./data/meteo_galicia.csv', sep=';', parse_dates=['fecha'], decimal=',',\n",
    "                 infer_datetime_format=True, low_memory=False, index_col='fecha').sort_index()"
   ]
  },
  {
   "cell_type": "code",
   "execution_count": 5,
   "metadata": {
    "colab": {
     "base_uri": "https://localhost:8080/",
     "height": 450
    },
    "colab_type": "code",
    "id": "MkioM9Z8cPDC",
    "outputId": "7aced18e-cadf-4767-c3a8-a1ad4d71ca3c"
   },
   "outputs": [
    {
     "data": {
      "text/html": [
       "<div>\n",
       "<style scoped>\n",
       "    .dataframe tbody tr th:only-of-type {\n",
       "        vertical-align: middle;\n",
       "    }\n",
       "\n",
       "    .dataframe tbody tr th {\n",
       "        vertical-align: top;\n",
       "    }\n",
       "\n",
       "    .dataframe thead th {\n",
       "        text-align: right;\n",
       "    }\n",
       "</style>\n",
       "<table border=\"1\" class=\"dataframe\">\n",
       "  <thead>\n",
       "    <tr style=\"text-align: right;\">\n",
       "      <th></th>\n",
       "      <th>estacionid</th>\n",
       "      <th>lat</th>\n",
       "      <th>lon</th>\n",
       "      <th>tamb</th>\n",
       "      <th>hum</th>\n",
       "      <th>pres</th>\n",
       "      <th>prec</th>\n",
       "      <th>rad</th>\n",
       "      <th>vvien</th>\n",
       "      <th>tipodered</th>\n",
       "    </tr>\n",
       "    <tr>\n",
       "      <th>fecha</th>\n",
       "      <th></th>\n",
       "      <th></th>\n",
       "      <th></th>\n",
       "      <th></th>\n",
       "      <th></th>\n",
       "      <th></th>\n",
       "      <th></th>\n",
       "      <th></th>\n",
       "      <th></th>\n",
       "      <th></th>\n",
       "    </tr>\n",
       "  </thead>\n",
       "  <tbody>\n",
       "    <tr>\n",
       "      <th>2019-01-01 00:10:00</th>\n",
       "      <td>20284</td>\n",
       "      <td>42.4044</td>\n",
       "      <td>-8.6730</td>\n",
       "      <td>5.4</td>\n",
       "      <td>0</td>\n",
       "      <td>1022.0</td>\n",
       "      <td>0.0</td>\n",
       "      <td>0.0</td>\n",
       "      <td>0.7</td>\n",
       "      <td>OFICIAL</td>\n",
       "    </tr>\n",
       "    <tr>\n",
       "      <th>2019-01-01 00:10:00</th>\n",
       "      <td>20233</td>\n",
       "      <td>42.3554</td>\n",
       "      <td>-7.0086</td>\n",
       "      <td>7.3</td>\n",
       "      <td>0</td>\n",
       "      <td>892.1</td>\n",
       "      <td>0.0</td>\n",
       "      <td>0.0</td>\n",
       "      <td>3.5</td>\n",
       "      <td>OFICIAL</td>\n",
       "    </tr>\n",
       "    <tr>\n",
       "      <th>2019-01-01 00:10:00</th>\n",
       "      <td>20218</td>\n",
       "      <td>43.1626</td>\n",
       "      <td>-7.2826</td>\n",
       "      <td>9.2</td>\n",
       "      <td>0</td>\n",
       "      <td>955.0</td>\n",
       "      <td>0.0</td>\n",
       "      <td>0.0</td>\n",
       "      <td>0.0</td>\n",
       "      <td>OFICIAL</td>\n",
       "    </tr>\n",
       "    <tr>\n",
       "      <th>2019-01-01 00:10:00</th>\n",
       "      <td>20217</td>\n",
       "      <td>42.7071</td>\n",
       "      <td>-7.0471</td>\n",
       "      <td>8.5</td>\n",
       "      <td>0</td>\n",
       "      <td>882.5</td>\n",
       "      <td>0.0</td>\n",
       "      <td>1.0</td>\n",
       "      <td>6.3</td>\n",
       "      <td>OFICIAL</td>\n",
       "    </tr>\n",
       "    <tr>\n",
       "      <th>2019-01-01 00:10:00</th>\n",
       "      <td>20221</td>\n",
       "      <td>43.5407</td>\n",
       "      <td>-7.0830</td>\n",
       "      <td>5.3</td>\n",
       "      <td>0</td>\n",
       "      <td>1027.0</td>\n",
       "      <td>0.0</td>\n",
       "      <td>0.0</td>\n",
       "      <td>2.8</td>\n",
       "      <td>OFICIAL</td>\n",
       "    </tr>\n",
       "    <tr>\n",
       "      <th>...</th>\n",
       "      <td>...</td>\n",
       "      <td>...</td>\n",
       "      <td>...</td>\n",
       "      <td>...</td>\n",
       "      <td>...</td>\n",
       "      <td>...</td>\n",
       "      <td>...</td>\n",
       "      <td>...</td>\n",
       "      <td>...</td>\n",
       "      <td>...</td>\n",
       "    </tr>\n",
       "    <tr>\n",
       "      <th>2019-06-01 19:40:00</th>\n",
       "      <td>20249</td>\n",
       "      <td>42.2987</td>\n",
       "      <td>-7.5907</td>\n",
       "      <td>25.0</td>\n",
       "      <td>0</td>\n",
       "      <td>909.0</td>\n",
       "      <td>0.0</td>\n",
       "      <td>402.0</td>\n",
       "      <td>2.0</td>\n",
       "      <td>OFICIAL</td>\n",
       "    </tr>\n",
       "    <tr>\n",
       "      <th>2019-06-01 19:40:00</th>\n",
       "      <td>20259</td>\n",
       "      <td>42.1630</td>\n",
       "      <td>-7.0896</td>\n",
       "      <td>27.0</td>\n",
       "      <td>0</td>\n",
       "      <td>922.0</td>\n",
       "      <td>0.0</td>\n",
       "      <td>374.0</td>\n",
       "      <td>3.0</td>\n",
       "      <td>OFICIAL</td>\n",
       "    </tr>\n",
       "    <tr>\n",
       "      <th>2019-06-01 19:40:00</th>\n",
       "      <td>20255</td>\n",
       "      <td>42.4631</td>\n",
       "      <td>-6.9295</td>\n",
       "      <td>30.0</td>\n",
       "      <td>0</td>\n",
       "      <td>NaN</td>\n",
       "      <td>0.0</td>\n",
       "      <td>378.0</td>\n",
       "      <td>0.0</td>\n",
       "      <td>OFICIAL</td>\n",
       "    </tr>\n",
       "    <tr>\n",
       "      <th>2019-06-01 19:40:00</th>\n",
       "      <td>20187</td>\n",
       "      <td>42.8760</td>\n",
       "      <td>-8.5594</td>\n",
       "      <td>28.0</td>\n",
       "      <td>0</td>\n",
       "      <td>988.0</td>\n",
       "      <td>0.0</td>\n",
       "      <td>419.0</td>\n",
       "      <td>3.0</td>\n",
       "      <td>OFICIAL</td>\n",
       "    </tr>\n",
       "    <tr>\n",
       "      <th>2019-06-01 19:40:00</th>\n",
       "      <td>20295</td>\n",
       "      <td>42.0786</td>\n",
       "      <td>-8.6794</td>\n",
       "      <td>25.0</td>\n",
       "      <td>0</td>\n",
       "      <td>963.0</td>\n",
       "      <td>0.0</td>\n",
       "      <td>26.0</td>\n",
       "      <td>0.0</td>\n",
       "      <td>OFICIAL</td>\n",
       "    </tr>\n",
       "  </tbody>\n",
       "</table>\n",
       "<p>2510008 rows × 10 columns</p>\n",
       "</div>"
      ],
      "text/plain": [
       "                     estacionid      lat     lon  tamb  hum    pres  prec  \\\n",
       "fecha                                                                       \n",
       "2019-01-01 00:10:00       20284  42.4044 -8.6730   5.4    0  1022.0   0.0   \n",
       "2019-01-01 00:10:00       20233  42.3554 -7.0086   7.3    0   892.1   0.0   \n",
       "2019-01-01 00:10:00       20218  43.1626 -7.2826   9.2    0   955.0   0.0   \n",
       "2019-01-01 00:10:00       20217  42.7071 -7.0471   8.5    0   882.5   0.0   \n",
       "2019-01-01 00:10:00       20221  43.5407 -7.0830   5.3    0  1027.0   0.0   \n",
       "...                         ...      ...     ...   ...  ...     ...   ...   \n",
       "2019-06-01 19:40:00       20249  42.2987 -7.5907  25.0    0   909.0   0.0   \n",
       "2019-06-01 19:40:00       20259  42.1630 -7.0896  27.0    0   922.0   0.0   \n",
       "2019-06-01 19:40:00       20255  42.4631 -6.9295  30.0    0     NaN   0.0   \n",
       "2019-06-01 19:40:00       20187  42.8760 -8.5594  28.0    0   988.0   0.0   \n",
       "2019-06-01 19:40:00       20295  42.0786 -8.6794  25.0    0   963.0   0.0   \n",
       "\n",
       "                       rad  vvien tipodered  \n",
       "fecha                                        \n",
       "2019-01-01 00:10:00    0.0    0.7   OFICIAL  \n",
       "2019-01-01 00:10:00    0.0    3.5   OFICIAL  \n",
       "2019-01-01 00:10:00    0.0    0.0   OFICIAL  \n",
       "2019-01-01 00:10:00    1.0    6.3   OFICIAL  \n",
       "2019-01-01 00:10:00    0.0    2.8   OFICIAL  \n",
       "...                    ...    ...       ...  \n",
       "2019-06-01 19:40:00  402.0    2.0   OFICIAL  \n",
       "2019-06-01 19:40:00  374.0    3.0   OFICIAL  \n",
       "2019-06-01 19:40:00  378.0    0.0   OFICIAL  \n",
       "2019-06-01 19:40:00  419.0    3.0   OFICIAL  \n",
       "2019-06-01 19:40:00   26.0    0.0   OFICIAL  \n",
       "\n",
       "[2510008 rows x 10 columns]"
      ]
     },
     "execution_count": 5,
     "metadata": {},
     "output_type": "execute_result"
    }
   ],
   "source": [
    "data"
   ]
  },
  {
   "cell_type": "code",
   "execution_count": 6,
   "metadata": {
    "colab": {},
    "colab_type": "code",
    "id": "sOr0Ezu0cPDP"
   },
   "outputs": [],
   "source": [
    "data = data.drop(columns=['tipodered', 'hum', 'prec', 'vvien', 'pres'])"
   ]
  },
  {
   "cell_type": "code",
   "execution_count": 7,
   "metadata": {},
   "outputs": [
    {
     "data": {
      "text/plain": [
       "2510008"
      ]
     },
     "execution_count": 7,
     "metadata": {},
     "output_type": "execute_result"
    }
   ],
   "source": [
    "len(data)"
   ]
  },
  {
   "cell_type": "code",
   "execution_count": 8,
   "metadata": {},
   "outputs": [
    {
     "data": {
      "text/plain": [
       "estacionid        0\n",
       "lat               0\n",
       "lon               0\n",
       "tamb           2475\n",
       "rad           10847\n",
       "dtype: int64"
      ]
     },
     "execution_count": 8,
     "metadata": {},
     "output_type": "execute_result"
    }
   ],
   "source": [
    "data.isnull().sum()"
   ]
  },
  {
   "cell_type": "code",
   "execution_count": 9,
   "metadata": {},
   "outputs": [],
   "source": [
    "data = data.dropna()"
   ]
  },
  {
   "cell_type": "code",
   "execution_count": 10,
   "metadata": {},
   "outputs": [
    {
     "data": {
      "text/plain": [
       "2496903"
      ]
     },
     "execution_count": 10,
     "metadata": {},
     "output_type": "execute_result"
    }
   ],
   "source": [
    "len(data)"
   ]
  },
  {
   "cell_type": "code",
   "execution_count": 11,
   "metadata": {},
   "outputs": [
    {
     "data": {
      "text/plain": [
       "estacionid    0\n",
       "lat           0\n",
       "lon           0\n",
       "tamb          0\n",
       "rad           0\n",
       "dtype: int64"
      ]
     },
     "execution_count": 11,
     "metadata": {},
     "output_type": "execute_result"
    }
   ],
   "source": [
    "data.isnull().sum()"
   ]
  },
  {
   "cell_type": "code",
   "execution_count": 12,
   "metadata": {},
   "outputs": [
    {
     "data": {
      "text/html": [
       "<div>\n",
       "<style scoped>\n",
       "    .dataframe tbody tr th:only-of-type {\n",
       "        vertical-align: middle;\n",
       "    }\n",
       "\n",
       "    .dataframe tbody tr th {\n",
       "        vertical-align: top;\n",
       "    }\n",
       "\n",
       "    .dataframe thead th {\n",
       "        text-align: right;\n",
       "    }\n",
       "</style>\n",
       "<table border=\"1\" class=\"dataframe\">\n",
       "  <thead>\n",
       "    <tr style=\"text-align: right;\">\n",
       "      <th></th>\n",
       "      <th>estacionid</th>\n",
       "      <th>lat</th>\n",
       "      <th>lon</th>\n",
       "      <th>tamb</th>\n",
       "      <th>rad</th>\n",
       "    </tr>\n",
       "    <tr>\n",
       "      <th>fecha</th>\n",
       "      <th></th>\n",
       "      <th></th>\n",
       "      <th></th>\n",
       "      <th></th>\n",
       "      <th></th>\n",
       "    </tr>\n",
       "  </thead>\n",
       "  <tbody>\n",
       "    <tr>\n",
       "      <th>2019-01-01 00:10:00</th>\n",
       "      <td>20284</td>\n",
       "      <td>42.4044</td>\n",
       "      <td>-8.6730</td>\n",
       "      <td>5.4</td>\n",
       "      <td>0.0</td>\n",
       "    </tr>\n",
       "    <tr>\n",
       "      <th>2019-01-01 00:10:00</th>\n",
       "      <td>20233</td>\n",
       "      <td>42.3554</td>\n",
       "      <td>-7.0086</td>\n",
       "      <td>7.3</td>\n",
       "      <td>0.0</td>\n",
       "    </tr>\n",
       "    <tr>\n",
       "      <th>2019-01-01 00:10:00</th>\n",
       "      <td>20218</td>\n",
       "      <td>43.1626</td>\n",
       "      <td>-7.2826</td>\n",
       "      <td>9.2</td>\n",
       "      <td>0.0</td>\n",
       "    </tr>\n",
       "    <tr>\n",
       "      <th>2019-01-01 00:10:00</th>\n",
       "      <td>20217</td>\n",
       "      <td>42.7071</td>\n",
       "      <td>-7.0471</td>\n",
       "      <td>8.5</td>\n",
       "      <td>1.0</td>\n",
       "    </tr>\n",
       "    <tr>\n",
       "      <th>2019-01-01 00:10:00</th>\n",
       "      <td>20221</td>\n",
       "      <td>43.5407</td>\n",
       "      <td>-7.0830</td>\n",
       "      <td>5.3</td>\n",
       "      <td>0.0</td>\n",
       "    </tr>\n",
       "    <tr>\n",
       "      <th>...</th>\n",
       "      <td>...</td>\n",
       "      <td>...</td>\n",
       "      <td>...</td>\n",
       "      <td>...</td>\n",
       "      <td>...</td>\n",
       "    </tr>\n",
       "    <tr>\n",
       "      <th>2019-06-01 19:40:00</th>\n",
       "      <td>20249</td>\n",
       "      <td>42.2987</td>\n",
       "      <td>-7.5907</td>\n",
       "      <td>25.0</td>\n",
       "      <td>402.0</td>\n",
       "    </tr>\n",
       "    <tr>\n",
       "      <th>2019-06-01 19:40:00</th>\n",
       "      <td>20259</td>\n",
       "      <td>42.1630</td>\n",
       "      <td>-7.0896</td>\n",
       "      <td>27.0</td>\n",
       "      <td>374.0</td>\n",
       "    </tr>\n",
       "    <tr>\n",
       "      <th>2019-06-01 19:40:00</th>\n",
       "      <td>20255</td>\n",
       "      <td>42.4631</td>\n",
       "      <td>-6.9295</td>\n",
       "      <td>30.0</td>\n",
       "      <td>378.0</td>\n",
       "    </tr>\n",
       "    <tr>\n",
       "      <th>2019-06-01 19:40:00</th>\n",
       "      <td>20187</td>\n",
       "      <td>42.8760</td>\n",
       "      <td>-8.5594</td>\n",
       "      <td>28.0</td>\n",
       "      <td>419.0</td>\n",
       "    </tr>\n",
       "    <tr>\n",
       "      <th>2019-06-01 19:40:00</th>\n",
       "      <td>20295</td>\n",
       "      <td>42.0786</td>\n",
       "      <td>-8.6794</td>\n",
       "      <td>25.0</td>\n",
       "      <td>26.0</td>\n",
       "    </tr>\n",
       "  </tbody>\n",
       "</table>\n",
       "<p>2496903 rows × 5 columns</p>\n",
       "</div>"
      ],
      "text/plain": [
       "                     estacionid      lat     lon  tamb    rad\n",
       "fecha                                                        \n",
       "2019-01-01 00:10:00       20284  42.4044 -8.6730   5.4    0.0\n",
       "2019-01-01 00:10:00       20233  42.3554 -7.0086   7.3    0.0\n",
       "2019-01-01 00:10:00       20218  43.1626 -7.2826   9.2    0.0\n",
       "2019-01-01 00:10:00       20217  42.7071 -7.0471   8.5    1.0\n",
       "2019-01-01 00:10:00       20221  43.5407 -7.0830   5.3    0.0\n",
       "...                         ...      ...     ...   ...    ...\n",
       "2019-06-01 19:40:00       20249  42.2987 -7.5907  25.0  402.0\n",
       "2019-06-01 19:40:00       20259  42.1630 -7.0896  27.0  374.0\n",
       "2019-06-01 19:40:00       20255  42.4631 -6.9295  30.0  378.0\n",
       "2019-06-01 19:40:00       20187  42.8760 -8.5594  28.0  419.0\n",
       "2019-06-01 19:40:00       20295  42.0786 -8.6794  25.0   26.0\n",
       "\n",
       "[2496903 rows x 5 columns]"
      ]
     },
     "execution_count": 12,
     "metadata": {},
     "output_type": "execute_result"
    }
   ],
   "source": [
    "data"
   ]
  },
  {
   "cell_type": "code",
   "execution_count": 13,
   "metadata": {
    "colab": {},
    "colab_type": "code",
    "id": "Y_LoelmgcPDV"
   },
   "outputs": [],
   "source": [
    "estaciones = [s for s in set(data['estacionid'])]"
   ]
  },
  {
   "cell_type": "code",
   "execution_count": 14,
   "metadata": {
    "colab": {
     "base_uri": "https://localhost:8080/",
     "height": 34
    },
    "colab_type": "code",
    "id": "dSlwfD8GcPDc",
    "outputId": "b18d9a7b-deb7-4e85-b151-b6e4512003b7"
   },
   "outputs": [
    {
     "data": {
      "text/plain": [
       "142"
      ]
     },
     "execution_count": 14,
     "metadata": {},
     "output_type": "execute_result"
    }
   ],
   "source": [
    "len(estaciones)"
   ]
  },
  {
   "cell_type": "code",
   "execution_count": 15,
   "metadata": {
    "colab": {
     "base_uri": "https://localhost:8080/",
     "height": 51
    },
    "colab_type": "code",
    "id": "2t9H-evQcPDh",
    "outputId": "cd1ade07-bbba-4f07-b568-878e8ae06b60"
   },
   "outputs": [
    {
     "name": "stdout",
     "output_type": "stream",
     "text": [
      "CPU times: user 2.54 s, sys: 6.36 ms, total: 2.55 s\n",
      "Wall time: 2.56 s\n"
     ]
    }
   ],
   "source": [
    "%%time\n",
    "data_by_station = []\n",
    "\n",
    "for s in estaciones:\n",
    "    filter_station = data['estacionid'] == s\n",
    "    data_station = data[filter_station].drop(columns=['estacionid'])\n",
    "    d = data_station.describe()\n",
    "    if d.rad['max'] != 0:\n",
    "        data_by_station.append(data_station)"
   ]
  },
  {
   "cell_type": "code",
   "execution_count": 16,
   "metadata": {
    "colab": {
     "base_uri": "https://localhost:8080/",
     "height": 34
    },
    "colab_type": "code",
    "id": "v08rvKT8cPDm",
    "outputId": "48ccefc0-26b0-4533-fb95-9e3d61e92c62"
   },
   "outputs": [
    {
     "data": {
      "text/plain": [
       "111"
      ]
     },
     "execution_count": 16,
     "metadata": {},
     "output_type": "execute_result"
    }
   ],
   "source": [
    "len(data_by_station)"
   ]
  },
  {
   "cell_type": "code",
   "execution_count": 17,
   "metadata": {
    "colab": {
     "base_uri": "https://localhost:8080/",
     "height": 0
    },
    "colab_type": "code",
    "id": "NsyRqbMIcPDs",
    "outputId": "8b4525e9-957e-4e87-a6c2-6c5adc5c5bf3"
   },
   "outputs": [],
   "source": [
    "import matplotlib.pyplot as plt\n",
    "import seaborn as sns\n",
    "\n",
    "sns.set(rc={'figure.figsize': (16, 6)})"
   ]
  },
  {
   "cell_type": "code",
   "execution_count": 18,
   "metadata": {
    "colab": {},
    "colab_type": "code",
    "id": "p1zSLOclcPDx"
   },
   "outputs": [
    {
     "data": {
      "text/html": [
       "<div>\n",
       "<style scoped>\n",
       "    .dataframe tbody tr th:only-of-type {\n",
       "        vertical-align: middle;\n",
       "    }\n",
       "\n",
       "    .dataframe tbody tr th {\n",
       "        vertical-align: top;\n",
       "    }\n",
       "\n",
       "    .dataframe thead th {\n",
       "        text-align: right;\n",
       "    }\n",
       "</style>\n",
       "<table border=\"1\" class=\"dataframe\">\n",
       "  <thead>\n",
       "    <tr style=\"text-align: right;\">\n",
       "      <th></th>\n",
       "      <th>lat</th>\n",
       "      <th>lon</th>\n",
       "      <th>tamb</th>\n",
       "      <th>rad</th>\n",
       "    </tr>\n",
       "    <tr>\n",
       "      <th>fecha</th>\n",
       "      <th></th>\n",
       "      <th></th>\n",
       "      <th></th>\n",
       "      <th></th>\n",
       "    </tr>\n",
       "  </thead>\n",
       "  <tbody>\n",
       "    <tr>\n",
       "      <th>2019-01-01 01:00:00</th>\n",
       "      <td>43.3634</td>\n",
       "      <td>-8.4419</td>\n",
       "      <td>11.6</td>\n",
       "      <td>0.0</td>\n",
       "    </tr>\n",
       "    <tr>\n",
       "      <th>2019-01-01 01:10:00</th>\n",
       "      <td>43.3634</td>\n",
       "      <td>-8.4419</td>\n",
       "      <td>10.9</td>\n",
       "      <td>0.0</td>\n",
       "    </tr>\n",
       "    <tr>\n",
       "      <th>2019-01-01 01:30:00</th>\n",
       "      <td>43.3634</td>\n",
       "      <td>-8.4419</td>\n",
       "      <td>10.3</td>\n",
       "      <td>0.0</td>\n",
       "    </tr>\n",
       "    <tr>\n",
       "      <th>2019-01-01 01:40:00</th>\n",
       "      <td>43.3634</td>\n",
       "      <td>-8.4419</td>\n",
       "      <td>10.0</td>\n",
       "      <td>0.0</td>\n",
       "    </tr>\n",
       "    <tr>\n",
       "      <th>2019-01-01 02:00:00</th>\n",
       "      <td>43.3634</td>\n",
       "      <td>-8.4419</td>\n",
       "      <td>10.2</td>\n",
       "      <td>0.0</td>\n",
       "    </tr>\n",
       "    <tr>\n",
       "      <th>...</th>\n",
       "      <td>...</td>\n",
       "      <td>...</td>\n",
       "      <td>...</td>\n",
       "      <td>...</td>\n",
       "    </tr>\n",
       "    <tr>\n",
       "      <th>2019-06-01 18:30:00</th>\n",
       "      <td>43.3634</td>\n",
       "      <td>-8.4419</td>\n",
       "      <td>27.0</td>\n",
       "      <td>578.0</td>\n",
       "    </tr>\n",
       "    <tr>\n",
       "      <th>2019-06-01 18:40:00</th>\n",
       "      <td>43.3634</td>\n",
       "      <td>-8.4419</td>\n",
       "      <td>26.0</td>\n",
       "      <td>544.0</td>\n",
       "    </tr>\n",
       "    <tr>\n",
       "      <th>2019-06-01 19:00:00</th>\n",
       "      <td>43.3634</td>\n",
       "      <td>-8.4419</td>\n",
       "      <td>26.0</td>\n",
       "      <td>471.0</td>\n",
       "    </tr>\n",
       "    <tr>\n",
       "      <th>2019-06-01 19:10:00</th>\n",
       "      <td>43.3634</td>\n",
       "      <td>-8.4419</td>\n",
       "      <td>25.0</td>\n",
       "      <td>402.0</td>\n",
       "    </tr>\n",
       "    <tr>\n",
       "      <th>2019-06-01 19:30:00</th>\n",
       "      <td>43.3634</td>\n",
       "      <td>-8.4419</td>\n",
       "      <td>21.0</td>\n",
       "      <td>254.0</td>\n",
       "    </tr>\n",
       "  </tbody>\n",
       "</table>\n",
       "<p>11528 rows × 4 columns</p>\n",
       "</div>"
      ],
      "text/plain": [
       "                         lat     lon  tamb    rad\n",
       "fecha                                            \n",
       "2019-01-01 01:00:00  43.3634 -8.4419  11.6    0.0\n",
       "2019-01-01 01:10:00  43.3634 -8.4419  10.9    0.0\n",
       "2019-01-01 01:30:00  43.3634 -8.4419  10.3    0.0\n",
       "2019-01-01 01:40:00  43.3634 -8.4419  10.0    0.0\n",
       "2019-01-01 02:00:00  43.3634 -8.4419  10.2    0.0\n",
       "...                      ...     ...   ...    ...\n",
       "2019-06-01 18:30:00  43.3634 -8.4419  27.0  578.0\n",
       "2019-06-01 18:40:00  43.3634 -8.4419  26.0  544.0\n",
       "2019-06-01 19:00:00  43.3634 -8.4419  26.0  471.0\n",
       "2019-06-01 19:10:00  43.3634 -8.4419  25.0  402.0\n",
       "2019-06-01 19:30:00  43.3634 -8.4419  21.0  254.0\n",
       "\n",
       "[11528 rows x 4 columns]"
      ]
     },
     "execution_count": 18,
     "metadata": {},
     "output_type": "execute_result"
    }
   ],
   "source": [
    "data_by_station[0]"
   ]
  },
  {
   "cell_type": "code",
   "execution_count": 19,
   "metadata": {
    "colab": {},
    "colab_type": "code",
    "id": "4XriK_hZcPD8"
   },
   "outputs": [
    {
     "name": "stdout",
     "output_type": "stream",
     "text": [
      "CPU times: user 290 ms, sys: 10.1 ms, total: 300 ms\n",
      "Wall time: 300 ms\n"
     ]
    }
   ],
   "source": [
    "%%time\n",
    "data_by_station = [s.resample('1H').mean().ffill().bfill() for s in data_by_station]"
   ]
  },
  {
   "cell_type": "code",
   "execution_count": 20,
   "metadata": {
    "colab": {},
    "colab_type": "code",
    "id": "JED6zkzjcPEy"
   },
   "outputs": [
    {
     "data": {
      "text/html": [
       "<div>\n",
       "<style scoped>\n",
       "    .dataframe tbody tr th:only-of-type {\n",
       "        vertical-align: middle;\n",
       "    }\n",
       "\n",
       "    .dataframe tbody tr th {\n",
       "        vertical-align: top;\n",
       "    }\n",
       "\n",
       "    .dataframe thead th {\n",
       "        text-align: right;\n",
       "    }\n",
       "</style>\n",
       "<table border=\"1\" class=\"dataframe\">\n",
       "  <thead>\n",
       "    <tr style=\"text-align: right;\">\n",
       "      <th></th>\n",
       "      <th>lat</th>\n",
       "      <th>lon</th>\n",
       "      <th>tamb</th>\n",
       "      <th>rad</th>\n",
       "    </tr>\n",
       "    <tr>\n",
       "      <th>fecha</th>\n",
       "      <th></th>\n",
       "      <th></th>\n",
       "      <th></th>\n",
       "      <th></th>\n",
       "    </tr>\n",
       "  </thead>\n",
       "  <tbody>\n",
       "    <tr>\n",
       "      <th>2019-01-01 01:00:00</th>\n",
       "      <td>43.3634</td>\n",
       "      <td>-8.4419</td>\n",
       "      <td>10.700</td>\n",
       "      <td>0.000000</td>\n",
       "    </tr>\n",
       "    <tr>\n",
       "      <th>2019-01-01 02:00:00</th>\n",
       "      <td>43.3634</td>\n",
       "      <td>-8.4419</td>\n",
       "      <td>10.350</td>\n",
       "      <td>0.000000</td>\n",
       "    </tr>\n",
       "    <tr>\n",
       "      <th>2019-01-01 03:00:00</th>\n",
       "      <td>43.3634</td>\n",
       "      <td>-8.4419</td>\n",
       "      <td>9.800</td>\n",
       "      <td>0.000000</td>\n",
       "    </tr>\n",
       "    <tr>\n",
       "      <th>2019-01-01 04:00:00</th>\n",
       "      <td>43.3634</td>\n",
       "      <td>-8.4419</td>\n",
       "      <td>11.125</td>\n",
       "      <td>0.000000</td>\n",
       "    </tr>\n",
       "    <tr>\n",
       "      <th>2019-01-01 05:00:00</th>\n",
       "      <td>43.3634</td>\n",
       "      <td>-8.4419</td>\n",
       "      <td>11.675</td>\n",
       "      <td>0.000000</td>\n",
       "    </tr>\n",
       "    <tr>\n",
       "      <th>...</th>\n",
       "      <td>...</td>\n",
       "      <td>...</td>\n",
       "      <td>...</td>\n",
       "      <td>...</td>\n",
       "    </tr>\n",
       "    <tr>\n",
       "      <th>2019-06-01 15:00:00</th>\n",
       "      <td>43.3634</td>\n",
       "      <td>-8.4419</td>\n",
       "      <td>22.750</td>\n",
       "      <td>851.000000</td>\n",
       "    </tr>\n",
       "    <tr>\n",
       "      <th>2019-06-01 16:00:00</th>\n",
       "      <td>43.3634</td>\n",
       "      <td>-8.4419</td>\n",
       "      <td>22.500</td>\n",
       "      <td>800.500000</td>\n",
       "    </tr>\n",
       "    <tr>\n",
       "      <th>2019-06-01 17:00:00</th>\n",
       "      <td>43.3634</td>\n",
       "      <td>-8.4419</td>\n",
       "      <td>24.750</td>\n",
       "      <td>693.750000</td>\n",
       "    </tr>\n",
       "    <tr>\n",
       "      <th>2019-06-01 18:00:00</th>\n",
       "      <td>43.3634</td>\n",
       "      <td>-8.4419</td>\n",
       "      <td>26.250</td>\n",
       "      <td>596.500000</td>\n",
       "    </tr>\n",
       "    <tr>\n",
       "      <th>2019-06-01 19:00:00</th>\n",
       "      <td>43.3634</td>\n",
       "      <td>-8.4419</td>\n",
       "      <td>24.000</td>\n",
       "      <td>375.666667</td>\n",
       "    </tr>\n",
       "  </tbody>\n",
       "</table>\n",
       "<p>3643 rows × 4 columns</p>\n",
       "</div>"
      ],
      "text/plain": [
       "                         lat     lon    tamb         rad\n",
       "fecha                                                   \n",
       "2019-01-01 01:00:00  43.3634 -8.4419  10.700    0.000000\n",
       "2019-01-01 02:00:00  43.3634 -8.4419  10.350    0.000000\n",
       "2019-01-01 03:00:00  43.3634 -8.4419   9.800    0.000000\n",
       "2019-01-01 04:00:00  43.3634 -8.4419  11.125    0.000000\n",
       "2019-01-01 05:00:00  43.3634 -8.4419  11.675    0.000000\n",
       "...                      ...     ...     ...         ...\n",
       "2019-06-01 15:00:00  43.3634 -8.4419  22.750  851.000000\n",
       "2019-06-01 16:00:00  43.3634 -8.4419  22.500  800.500000\n",
       "2019-06-01 17:00:00  43.3634 -8.4419  24.750  693.750000\n",
       "2019-06-01 18:00:00  43.3634 -8.4419  26.250  596.500000\n",
       "2019-06-01 19:00:00  43.3634 -8.4419  24.000  375.666667\n",
       "\n",
       "[3643 rows x 4 columns]"
      ]
     },
     "execution_count": 20,
     "metadata": {},
     "output_type": "execute_result"
    }
   ],
   "source": [
    "data_by_station[0]"
   ]
  },
  {
   "cell_type": "code",
   "execution_count": 21,
   "metadata": {},
   "outputs": [],
   "source": [
    "for d in data_by_station:\n",
    "    d['day']=[x.day for x in d.index]\n",
    "    d['month']=[x.month for x in d.index]\n",
    "    d['hour']=[x.hour for x in d.index]"
   ]
  },
  {
   "cell_type": "code",
   "execution_count": 22,
   "metadata": {},
   "outputs": [
    {
     "data": {
      "text/html": [
       "<div>\n",
       "<style scoped>\n",
       "    .dataframe tbody tr th:only-of-type {\n",
       "        vertical-align: middle;\n",
       "    }\n",
       "\n",
       "    .dataframe tbody tr th {\n",
       "        vertical-align: top;\n",
       "    }\n",
       "\n",
       "    .dataframe thead th {\n",
       "        text-align: right;\n",
       "    }\n",
       "</style>\n",
       "<table border=\"1\" class=\"dataframe\">\n",
       "  <thead>\n",
       "    <tr style=\"text-align: right;\">\n",
       "      <th></th>\n",
       "      <th>lat</th>\n",
       "      <th>lon</th>\n",
       "      <th>tamb</th>\n",
       "      <th>rad</th>\n",
       "      <th>day</th>\n",
       "      <th>month</th>\n",
       "      <th>hour</th>\n",
       "    </tr>\n",
       "    <tr>\n",
       "      <th>fecha</th>\n",
       "      <th></th>\n",
       "      <th></th>\n",
       "      <th></th>\n",
       "      <th></th>\n",
       "      <th></th>\n",
       "      <th></th>\n",
       "      <th></th>\n",
       "    </tr>\n",
       "  </thead>\n",
       "  <tbody>\n",
       "    <tr>\n",
       "      <th>2019-01-01 01:00:00</th>\n",
       "      <td>43.3634</td>\n",
       "      <td>-8.4419</td>\n",
       "      <td>10.700</td>\n",
       "      <td>0.000000</td>\n",
       "      <td>1</td>\n",
       "      <td>1</td>\n",
       "      <td>1</td>\n",
       "    </tr>\n",
       "    <tr>\n",
       "      <th>2019-01-01 02:00:00</th>\n",
       "      <td>43.3634</td>\n",
       "      <td>-8.4419</td>\n",
       "      <td>10.350</td>\n",
       "      <td>0.000000</td>\n",
       "      <td>1</td>\n",
       "      <td>1</td>\n",
       "      <td>2</td>\n",
       "    </tr>\n",
       "    <tr>\n",
       "      <th>2019-01-01 03:00:00</th>\n",
       "      <td>43.3634</td>\n",
       "      <td>-8.4419</td>\n",
       "      <td>9.800</td>\n",
       "      <td>0.000000</td>\n",
       "      <td>1</td>\n",
       "      <td>1</td>\n",
       "      <td>3</td>\n",
       "    </tr>\n",
       "    <tr>\n",
       "      <th>2019-01-01 04:00:00</th>\n",
       "      <td>43.3634</td>\n",
       "      <td>-8.4419</td>\n",
       "      <td>11.125</td>\n",
       "      <td>0.000000</td>\n",
       "      <td>1</td>\n",
       "      <td>1</td>\n",
       "      <td>4</td>\n",
       "    </tr>\n",
       "    <tr>\n",
       "      <th>2019-01-01 05:00:00</th>\n",
       "      <td>43.3634</td>\n",
       "      <td>-8.4419</td>\n",
       "      <td>11.675</td>\n",
       "      <td>0.000000</td>\n",
       "      <td>1</td>\n",
       "      <td>1</td>\n",
       "      <td>5</td>\n",
       "    </tr>\n",
       "    <tr>\n",
       "      <th>...</th>\n",
       "      <td>...</td>\n",
       "      <td>...</td>\n",
       "      <td>...</td>\n",
       "      <td>...</td>\n",
       "      <td>...</td>\n",
       "      <td>...</td>\n",
       "      <td>...</td>\n",
       "    </tr>\n",
       "    <tr>\n",
       "      <th>2019-06-01 15:00:00</th>\n",
       "      <td>43.3634</td>\n",
       "      <td>-8.4419</td>\n",
       "      <td>22.750</td>\n",
       "      <td>851.000000</td>\n",
       "      <td>1</td>\n",
       "      <td>6</td>\n",
       "      <td>15</td>\n",
       "    </tr>\n",
       "    <tr>\n",
       "      <th>2019-06-01 16:00:00</th>\n",
       "      <td>43.3634</td>\n",
       "      <td>-8.4419</td>\n",
       "      <td>22.500</td>\n",
       "      <td>800.500000</td>\n",
       "      <td>1</td>\n",
       "      <td>6</td>\n",
       "      <td>16</td>\n",
       "    </tr>\n",
       "    <tr>\n",
       "      <th>2019-06-01 17:00:00</th>\n",
       "      <td>43.3634</td>\n",
       "      <td>-8.4419</td>\n",
       "      <td>24.750</td>\n",
       "      <td>693.750000</td>\n",
       "      <td>1</td>\n",
       "      <td>6</td>\n",
       "      <td>17</td>\n",
       "    </tr>\n",
       "    <tr>\n",
       "      <th>2019-06-01 18:00:00</th>\n",
       "      <td>43.3634</td>\n",
       "      <td>-8.4419</td>\n",
       "      <td>26.250</td>\n",
       "      <td>596.500000</td>\n",
       "      <td>1</td>\n",
       "      <td>6</td>\n",
       "      <td>18</td>\n",
       "    </tr>\n",
       "    <tr>\n",
       "      <th>2019-06-01 19:00:00</th>\n",
       "      <td>43.3634</td>\n",
       "      <td>-8.4419</td>\n",
       "      <td>24.000</td>\n",
       "      <td>375.666667</td>\n",
       "      <td>1</td>\n",
       "      <td>6</td>\n",
       "      <td>19</td>\n",
       "    </tr>\n",
       "  </tbody>\n",
       "</table>\n",
       "<p>3643 rows × 7 columns</p>\n",
       "</div>"
      ],
      "text/plain": [
       "                         lat     lon    tamb         rad  day  month  hour\n",
       "fecha                                                                     \n",
       "2019-01-01 01:00:00  43.3634 -8.4419  10.700    0.000000    1      1     1\n",
       "2019-01-01 02:00:00  43.3634 -8.4419  10.350    0.000000    1      1     2\n",
       "2019-01-01 03:00:00  43.3634 -8.4419   9.800    0.000000    1      1     3\n",
       "2019-01-01 04:00:00  43.3634 -8.4419  11.125    0.000000    1      1     4\n",
       "2019-01-01 05:00:00  43.3634 -8.4419  11.675    0.000000    1      1     5\n",
       "...                      ...     ...     ...         ...  ...    ...   ...\n",
       "2019-06-01 15:00:00  43.3634 -8.4419  22.750  851.000000    1      6    15\n",
       "2019-06-01 16:00:00  43.3634 -8.4419  22.500  800.500000    1      6    16\n",
       "2019-06-01 17:00:00  43.3634 -8.4419  24.750  693.750000    1      6    17\n",
       "2019-06-01 18:00:00  43.3634 -8.4419  26.250  596.500000    1      6    18\n",
       "2019-06-01 19:00:00  43.3634 -8.4419  24.000  375.666667    1      6    19\n",
       "\n",
       "[3643 rows x 7 columns]"
      ]
     },
     "execution_count": 22,
     "metadata": {},
     "output_type": "execute_result"
    }
   ],
   "source": [
    "data_by_station[0]"
   ]
  },
  {
   "cell_type": "code",
   "execution_count": 23,
   "metadata": {
    "colab": {},
    "colab_type": "code",
    "id": "zPOV0Z_JcPFD"
   },
   "outputs": [],
   "source": [
    "import numpy as np\n",
    "import tensorflow as tf\n",
    "\n",
    "np.random.seed(1)\n",
    "tf.random.set_seed(1)"
   ]
  },
  {
   "cell_type": "code",
   "execution_count": 24,
   "metadata": {
    "colab": {},
    "colab_type": "code",
    "id": "MTJSDLDZcPFI"
   },
   "outputs": [],
   "source": [
    "def series_to_supervised(data, n_in=1, n_out=1, dropnan=True):\n",
    "    n_vars = 1 if type(data) is list else data.shape[1]\n",
    "    dff = pd.DataFrame(data)\n",
    "    cols, names = list(), list()\n",
    "    \n",
    "    # input sequence (t-n, ... t-1)\n",
    "    for i in range(n_in, 0, -1):\n",
    "        cols.append(dff.shift(i))\n",
    "        names += [('var%d(t-%d)' % (j+1, i)) for j in range(n_vars)]\n",
    "    \n",
    "    # forecast sequence (t, t+1, ... t+n)\n",
    "    for i in range(0, n_out):\n",
    "        cols.append(dff.shift(-i))\n",
    "        if i == 0:\n",
    "            names += [('var%d(t)' % (j+1)) for j in range(n_vars)]\n",
    "        else:\n",
    "            names += [('var%d(t+%d)' % (j+1, i)) for j in range(n_vars)]\n",
    "\n",
    "    # put it all together\n",
    "    agg = pd.concat(cols, axis=1)\n",
    "    agg.columns = names\n",
    "    # drop rows with NaN values\n",
    "    if dropnan:\n",
    "        agg.dropna(inplace=True)\n",
    "    \n",
    "    return agg\n",
    "\n",
    "def get_rnn_dataset(data, past_history=10, forecast_horizon=1):\n",
    "    n_vars = data.shape[1]\n",
    "    values = series_to_supervised(data, past_history, forecast_horizon).values\n",
    "    train_X, train_y = values[:, :-1*n_vars*forecast_horizon], values[:, n_vars*past_history+2::n_vars]\n",
    "    \n",
    "    return train_X, train_y"
   ]
  },
  {
   "cell_type": "code",
   "execution_count": 25,
   "metadata": {
    "colab": {
     "base_uri": "https://localhost:8080/",
     "height": 0
    },
    "colab_type": "code",
    "id": "dQAfo0r3cPFL",
    "outputId": "b2384ef5-1178-4df4-d320-10fe128c804a"
   },
   "outputs": [],
   "source": [
    "past_history = 23\n",
    "forecast_horizon = 1"
   ]
  },
  {
   "cell_type": "code",
   "execution_count": 26,
   "metadata": {},
   "outputs": [
    {
     "name": "stdout",
     "output_type": "stream",
     "text": [
      "CPU times: user 2.57 s, sys: 126 ms, total: 2.69 s\n",
      "Wall time: 2.7 s\n"
     ]
    }
   ],
   "source": [
    "%%time\n",
    "data_by_station_series = [series_to_supervised(d, past_history, forecast_horizon) for d in data_by_station]"
   ]
  },
  {
   "cell_type": "code",
   "execution_count": 27,
   "metadata": {},
   "outputs": [
    {
     "data": {
      "text/html": [
       "<div>\n",
       "<style scoped>\n",
       "    .dataframe tbody tr th:only-of-type {\n",
       "        vertical-align: middle;\n",
       "    }\n",
       "\n",
       "    .dataframe tbody tr th {\n",
       "        vertical-align: top;\n",
       "    }\n",
       "\n",
       "    .dataframe thead th {\n",
       "        text-align: right;\n",
       "    }\n",
       "</style>\n",
       "<table border=\"1\" class=\"dataframe\">\n",
       "  <thead>\n",
       "    <tr style=\"text-align: right;\">\n",
       "      <th></th>\n",
       "      <th>var1(t-23)</th>\n",
       "      <th>var2(t-23)</th>\n",
       "      <th>var3(t-23)</th>\n",
       "      <th>var4(t-23)</th>\n",
       "      <th>var5(t-23)</th>\n",
       "      <th>var6(t-23)</th>\n",
       "      <th>var7(t-23)</th>\n",
       "      <th>var1(t-22)</th>\n",
       "      <th>var2(t-22)</th>\n",
       "      <th>var3(t-22)</th>\n",
       "      <th>...</th>\n",
       "      <th>var5(t-1)</th>\n",
       "      <th>var6(t-1)</th>\n",
       "      <th>var7(t-1)</th>\n",
       "      <th>var1(t)</th>\n",
       "      <th>var2(t)</th>\n",
       "      <th>var3(t)</th>\n",
       "      <th>var4(t)</th>\n",
       "      <th>var5(t)</th>\n",
       "      <th>var6(t)</th>\n",
       "      <th>var7(t)</th>\n",
       "    </tr>\n",
       "    <tr>\n",
       "      <th>fecha</th>\n",
       "      <th></th>\n",
       "      <th></th>\n",
       "      <th></th>\n",
       "      <th></th>\n",
       "      <th></th>\n",
       "      <th></th>\n",
       "      <th></th>\n",
       "      <th></th>\n",
       "      <th></th>\n",
       "      <th></th>\n",
       "      <th></th>\n",
       "      <th></th>\n",
       "      <th></th>\n",
       "      <th></th>\n",
       "      <th></th>\n",
       "      <th></th>\n",
       "      <th></th>\n",
       "      <th></th>\n",
       "      <th></th>\n",
       "      <th></th>\n",
       "      <th></th>\n",
       "    </tr>\n",
       "  </thead>\n",
       "  <tbody>\n",
       "    <tr>\n",
       "      <th>2019-01-02 00:00:00</th>\n",
       "      <td>43.3634</td>\n",
       "      <td>-8.4419</td>\n",
       "      <td>10.700</td>\n",
       "      <td>0.00</td>\n",
       "      <td>1.0</td>\n",
       "      <td>1.0</td>\n",
       "      <td>1.0</td>\n",
       "      <td>43.3634</td>\n",
       "      <td>-8.4419</td>\n",
       "      <td>10.350</td>\n",
       "      <td>...</td>\n",
       "      <td>1.0</td>\n",
       "      <td>1.0</td>\n",
       "      <td>23.0</td>\n",
       "      <td>43.3634</td>\n",
       "      <td>-8.4419</td>\n",
       "      <td>8.550</td>\n",
       "      <td>0.000000</td>\n",
       "      <td>2</td>\n",
       "      <td>1</td>\n",
       "      <td>0</td>\n",
       "    </tr>\n",
       "    <tr>\n",
       "      <th>2019-01-02 01:00:00</th>\n",
       "      <td>43.3634</td>\n",
       "      <td>-8.4419</td>\n",
       "      <td>10.350</td>\n",
       "      <td>0.00</td>\n",
       "      <td>1.0</td>\n",
       "      <td>1.0</td>\n",
       "      <td>2.0</td>\n",
       "      <td>43.3634</td>\n",
       "      <td>-8.4419</td>\n",
       "      <td>9.800</td>\n",
       "      <td>...</td>\n",
       "      <td>2.0</td>\n",
       "      <td>1.0</td>\n",
       "      <td>0.0</td>\n",
       "      <td>43.3634</td>\n",
       "      <td>-8.4419</td>\n",
       "      <td>7.775</td>\n",
       "      <td>0.000000</td>\n",
       "      <td>2</td>\n",
       "      <td>1</td>\n",
       "      <td>1</td>\n",
       "    </tr>\n",
       "    <tr>\n",
       "      <th>2019-01-02 02:00:00</th>\n",
       "      <td>43.3634</td>\n",
       "      <td>-8.4419</td>\n",
       "      <td>9.800</td>\n",
       "      <td>0.00</td>\n",
       "      <td>1.0</td>\n",
       "      <td>1.0</td>\n",
       "      <td>3.0</td>\n",
       "      <td>43.3634</td>\n",
       "      <td>-8.4419</td>\n",
       "      <td>11.125</td>\n",
       "      <td>...</td>\n",
       "      <td>2.0</td>\n",
       "      <td>1.0</td>\n",
       "      <td>1.0</td>\n",
       "      <td>43.3634</td>\n",
       "      <td>-8.4419</td>\n",
       "      <td>7.250</td>\n",
       "      <td>0.000000</td>\n",
       "      <td>2</td>\n",
       "      <td>1</td>\n",
       "      <td>2</td>\n",
       "    </tr>\n",
       "    <tr>\n",
       "      <th>2019-01-02 03:00:00</th>\n",
       "      <td>43.3634</td>\n",
       "      <td>-8.4419</td>\n",
       "      <td>11.125</td>\n",
       "      <td>0.00</td>\n",
       "      <td>1.0</td>\n",
       "      <td>1.0</td>\n",
       "      <td>4.0</td>\n",
       "      <td>43.3634</td>\n",
       "      <td>-8.4419</td>\n",
       "      <td>11.675</td>\n",
       "      <td>...</td>\n",
       "      <td>2.0</td>\n",
       "      <td>1.0</td>\n",
       "      <td>2.0</td>\n",
       "      <td>43.3634</td>\n",
       "      <td>-8.4419</td>\n",
       "      <td>7.050</td>\n",
       "      <td>0.000000</td>\n",
       "      <td>2</td>\n",
       "      <td>1</td>\n",
       "      <td>3</td>\n",
       "    </tr>\n",
       "    <tr>\n",
       "      <th>2019-01-02 04:00:00</th>\n",
       "      <td>43.3634</td>\n",
       "      <td>-8.4419</td>\n",
       "      <td>11.675</td>\n",
       "      <td>0.00</td>\n",
       "      <td>1.0</td>\n",
       "      <td>1.0</td>\n",
       "      <td>5.0</td>\n",
       "      <td>43.3634</td>\n",
       "      <td>-8.4419</td>\n",
       "      <td>11.750</td>\n",
       "      <td>...</td>\n",
       "      <td>2.0</td>\n",
       "      <td>1.0</td>\n",
       "      <td>3.0</td>\n",
       "      <td>43.3634</td>\n",
       "      <td>-8.4419</td>\n",
       "      <td>7.350</td>\n",
       "      <td>0.000000</td>\n",
       "      <td>2</td>\n",
       "      <td>1</td>\n",
       "      <td>4</td>\n",
       "    </tr>\n",
       "    <tr>\n",
       "      <th>...</th>\n",
       "      <td>...</td>\n",
       "      <td>...</td>\n",
       "      <td>...</td>\n",
       "      <td>...</td>\n",
       "      <td>...</td>\n",
       "      <td>...</td>\n",
       "      <td>...</td>\n",
       "      <td>...</td>\n",
       "      <td>...</td>\n",
       "      <td>...</td>\n",
       "      <td>...</td>\n",
       "      <td>...</td>\n",
       "      <td>...</td>\n",
       "      <td>...</td>\n",
       "      <td>...</td>\n",
       "      <td>...</td>\n",
       "      <td>...</td>\n",
       "      <td>...</td>\n",
       "      <td>...</td>\n",
       "      <td>...</td>\n",
       "      <td>...</td>\n",
       "    </tr>\n",
       "    <tr>\n",
       "      <th>2019-06-01 15:00:00</th>\n",
       "      <td>43.3634</td>\n",
       "      <td>-8.4419</td>\n",
       "      <td>28.000</td>\n",
       "      <td>799.00</td>\n",
       "      <td>31.0</td>\n",
       "      <td>5.0</td>\n",
       "      <td>16.0</td>\n",
       "      <td>43.3634</td>\n",
       "      <td>-8.4419</td>\n",
       "      <td>28.000</td>\n",
       "      <td>...</td>\n",
       "      <td>1.0</td>\n",
       "      <td>6.0</td>\n",
       "      <td>14.0</td>\n",
       "      <td>43.3634</td>\n",
       "      <td>-8.4419</td>\n",
       "      <td>22.750</td>\n",
       "      <td>851.000000</td>\n",
       "      <td>1</td>\n",
       "      <td>6</td>\n",
       "      <td>15</td>\n",
       "    </tr>\n",
       "    <tr>\n",
       "      <th>2019-06-01 16:00:00</th>\n",
       "      <td>43.3634</td>\n",
       "      <td>-8.4419</td>\n",
       "      <td>28.000</td>\n",
       "      <td>688.75</td>\n",
       "      <td>31.0</td>\n",
       "      <td>5.0</td>\n",
       "      <td>17.0</td>\n",
       "      <td>43.3634</td>\n",
       "      <td>-8.4419</td>\n",
       "      <td>27.500</td>\n",
       "      <td>...</td>\n",
       "      <td>1.0</td>\n",
       "      <td>6.0</td>\n",
       "      <td>15.0</td>\n",
       "      <td>43.3634</td>\n",
       "      <td>-8.4419</td>\n",
       "      <td>22.500</td>\n",
       "      <td>800.500000</td>\n",
       "      <td>1</td>\n",
       "      <td>6</td>\n",
       "      <td>16</td>\n",
       "    </tr>\n",
       "    <tr>\n",
       "      <th>2019-06-01 17:00:00</th>\n",
       "      <td>43.3634</td>\n",
       "      <td>-8.4419</td>\n",
       "      <td>27.500</td>\n",
       "      <td>566.50</td>\n",
       "      <td>31.0</td>\n",
       "      <td>5.0</td>\n",
       "      <td>18.0</td>\n",
       "      <td>43.3634</td>\n",
       "      <td>-8.4419</td>\n",
       "      <td>26.000</td>\n",
       "      <td>...</td>\n",
       "      <td>1.0</td>\n",
       "      <td>6.0</td>\n",
       "      <td>16.0</td>\n",
       "      <td>43.3634</td>\n",
       "      <td>-8.4419</td>\n",
       "      <td>24.750</td>\n",
       "      <td>693.750000</td>\n",
       "      <td>1</td>\n",
       "      <td>6</td>\n",
       "      <td>17</td>\n",
       "    </tr>\n",
       "    <tr>\n",
       "      <th>2019-06-01 18:00:00</th>\n",
       "      <td>43.3634</td>\n",
       "      <td>-8.4419</td>\n",
       "      <td>26.000</td>\n",
       "      <td>419.25</td>\n",
       "      <td>31.0</td>\n",
       "      <td>5.0</td>\n",
       "      <td>19.0</td>\n",
       "      <td>43.3634</td>\n",
       "      <td>-8.4419</td>\n",
       "      <td>26.000</td>\n",
       "      <td>...</td>\n",
       "      <td>1.0</td>\n",
       "      <td>6.0</td>\n",
       "      <td>17.0</td>\n",
       "      <td>43.3634</td>\n",
       "      <td>-8.4419</td>\n",
       "      <td>26.250</td>\n",
       "      <td>596.500000</td>\n",
       "      <td>1</td>\n",
       "      <td>6</td>\n",
       "      <td>18</td>\n",
       "    </tr>\n",
       "    <tr>\n",
       "      <th>2019-06-01 19:00:00</th>\n",
       "      <td>43.3634</td>\n",
       "      <td>-8.4419</td>\n",
       "      <td>26.000</td>\n",
       "      <td>254.75</td>\n",
       "      <td>31.0</td>\n",
       "      <td>5.0</td>\n",
       "      <td>20.0</td>\n",
       "      <td>43.3634</td>\n",
       "      <td>-8.4419</td>\n",
       "      <td>25.250</td>\n",
       "      <td>...</td>\n",
       "      <td>1.0</td>\n",
       "      <td>6.0</td>\n",
       "      <td>18.0</td>\n",
       "      <td>43.3634</td>\n",
       "      <td>-8.4419</td>\n",
       "      <td>24.000</td>\n",
       "      <td>375.666667</td>\n",
       "      <td>1</td>\n",
       "      <td>6</td>\n",
       "      <td>19</td>\n",
       "    </tr>\n",
       "  </tbody>\n",
       "</table>\n",
       "<p>3620 rows × 168 columns</p>\n",
       "</div>"
      ],
      "text/plain": [
       "                     var1(t-23)  var2(t-23)  var3(t-23)  var4(t-23)  \\\n",
       "fecha                                                                 \n",
       "2019-01-02 00:00:00     43.3634     -8.4419      10.700        0.00   \n",
       "2019-01-02 01:00:00     43.3634     -8.4419      10.350        0.00   \n",
       "2019-01-02 02:00:00     43.3634     -8.4419       9.800        0.00   \n",
       "2019-01-02 03:00:00     43.3634     -8.4419      11.125        0.00   \n",
       "2019-01-02 04:00:00     43.3634     -8.4419      11.675        0.00   \n",
       "...                         ...         ...         ...         ...   \n",
       "2019-06-01 15:00:00     43.3634     -8.4419      28.000      799.00   \n",
       "2019-06-01 16:00:00     43.3634     -8.4419      28.000      688.75   \n",
       "2019-06-01 17:00:00     43.3634     -8.4419      27.500      566.50   \n",
       "2019-06-01 18:00:00     43.3634     -8.4419      26.000      419.25   \n",
       "2019-06-01 19:00:00     43.3634     -8.4419      26.000      254.75   \n",
       "\n",
       "                     var5(t-23)  var6(t-23)  var7(t-23)  var1(t-22)  \\\n",
       "fecha                                                                 \n",
       "2019-01-02 00:00:00         1.0         1.0         1.0     43.3634   \n",
       "2019-01-02 01:00:00         1.0         1.0         2.0     43.3634   \n",
       "2019-01-02 02:00:00         1.0         1.0         3.0     43.3634   \n",
       "2019-01-02 03:00:00         1.0         1.0         4.0     43.3634   \n",
       "2019-01-02 04:00:00         1.0         1.0         5.0     43.3634   \n",
       "...                         ...         ...         ...         ...   \n",
       "2019-06-01 15:00:00        31.0         5.0        16.0     43.3634   \n",
       "2019-06-01 16:00:00        31.0         5.0        17.0     43.3634   \n",
       "2019-06-01 17:00:00        31.0         5.0        18.0     43.3634   \n",
       "2019-06-01 18:00:00        31.0         5.0        19.0     43.3634   \n",
       "2019-06-01 19:00:00        31.0         5.0        20.0     43.3634   \n",
       "\n",
       "                     var2(t-22)  var3(t-22)  ...  var5(t-1)  var6(t-1)  \\\n",
       "fecha                                        ...                         \n",
       "2019-01-02 00:00:00     -8.4419      10.350  ...        1.0        1.0   \n",
       "2019-01-02 01:00:00     -8.4419       9.800  ...        2.0        1.0   \n",
       "2019-01-02 02:00:00     -8.4419      11.125  ...        2.0        1.0   \n",
       "2019-01-02 03:00:00     -8.4419      11.675  ...        2.0        1.0   \n",
       "2019-01-02 04:00:00     -8.4419      11.750  ...        2.0        1.0   \n",
       "...                         ...         ...  ...        ...        ...   \n",
       "2019-06-01 15:00:00     -8.4419      28.000  ...        1.0        6.0   \n",
       "2019-06-01 16:00:00     -8.4419      27.500  ...        1.0        6.0   \n",
       "2019-06-01 17:00:00     -8.4419      26.000  ...        1.0        6.0   \n",
       "2019-06-01 18:00:00     -8.4419      26.000  ...        1.0        6.0   \n",
       "2019-06-01 19:00:00     -8.4419      25.250  ...        1.0        6.0   \n",
       "\n",
       "                     var7(t-1)  var1(t)  var2(t)  var3(t)     var4(t)  \\\n",
       "fecha                                                                   \n",
       "2019-01-02 00:00:00       23.0  43.3634  -8.4419    8.550    0.000000   \n",
       "2019-01-02 01:00:00        0.0  43.3634  -8.4419    7.775    0.000000   \n",
       "2019-01-02 02:00:00        1.0  43.3634  -8.4419    7.250    0.000000   \n",
       "2019-01-02 03:00:00        2.0  43.3634  -8.4419    7.050    0.000000   \n",
       "2019-01-02 04:00:00        3.0  43.3634  -8.4419    7.350    0.000000   \n",
       "...                        ...      ...      ...      ...         ...   \n",
       "2019-06-01 15:00:00       14.0  43.3634  -8.4419   22.750  851.000000   \n",
       "2019-06-01 16:00:00       15.0  43.3634  -8.4419   22.500  800.500000   \n",
       "2019-06-01 17:00:00       16.0  43.3634  -8.4419   24.750  693.750000   \n",
       "2019-06-01 18:00:00       17.0  43.3634  -8.4419   26.250  596.500000   \n",
       "2019-06-01 19:00:00       18.0  43.3634  -8.4419   24.000  375.666667   \n",
       "\n",
       "                     var5(t)  var6(t)  var7(t)  \n",
       "fecha                                           \n",
       "2019-01-02 00:00:00        2        1        0  \n",
       "2019-01-02 01:00:00        2        1        1  \n",
       "2019-01-02 02:00:00        2        1        2  \n",
       "2019-01-02 03:00:00        2        1        3  \n",
       "2019-01-02 04:00:00        2        1        4  \n",
       "...                      ...      ...      ...  \n",
       "2019-06-01 15:00:00        1        6       15  \n",
       "2019-06-01 16:00:00        1        6       16  \n",
       "2019-06-01 17:00:00        1        6       17  \n",
       "2019-06-01 18:00:00        1        6       18  \n",
       "2019-06-01 19:00:00        1        6       19  \n",
       "\n",
       "[3620 rows x 168 columns]"
      ]
     },
     "execution_count": 27,
     "metadata": {},
     "output_type": "execute_result"
    }
   ],
   "source": [
    "data_by_station_series[0]"
   ]
  },
  {
   "cell_type": "code",
   "execution_count": 28,
   "metadata": {},
   "outputs": [],
   "source": [
    "in_vars = []\n",
    "\n",
    "for i in range(past_history, 0, -1):\n",
    "    for v in [1, 2, 3, 4, 5, 6, 7]:\n",
    "        in_vars.append(('var%d(t-%d)' % (v,i)))\n",
    "\n",
    "\n",
    "rad_var = []\n",
    "\n",
    "for i in range(past_history, 0, -1):\n",
    "    rad_var.append(('var4(t-%d)' % i))\n",
    "        \n",
    "day_var = []\n",
    "\n",
    "for i in range(past_history, 0, -1):\n",
    "    day_var.append(('var5(t-%d)' % i))\n",
    "        \n",
    "month_var = []\n",
    "\n",
    "for i in range(past_history, 0, -1):\n",
    "    month_var.append(('var6(t-%d)' % i))\n",
    "\n",
    "target_var = []\n",
    "\n",
    "for i in range(0, forecast_horizon):\n",
    "    if i == 0:\n",
    "        target_var.append('var4(t)')\n",
    "    else:\n",
    "        target_var.append(('var4(t+%d)' % i))"
   ]
  },
  {
   "cell_type": "markdown",
   "metadata": {},
   "source": [
    "#### CONCAT"
   ]
  },
  {
   "cell_type": "code",
   "execution_count": 29,
   "metadata": {},
   "outputs": [
    {
     "data": {
      "text/html": [
       "<div>\n",
       "<style scoped>\n",
       "    .dataframe tbody tr th:only-of-type {\n",
       "        vertical-align: middle;\n",
       "    }\n",
       "\n",
       "    .dataframe tbody tr th {\n",
       "        vertical-align: top;\n",
       "    }\n",
       "\n",
       "    .dataframe thead th {\n",
       "        text-align: right;\n",
       "    }\n",
       "</style>\n",
       "<table border=\"1\" class=\"dataframe\">\n",
       "  <thead>\n",
       "    <tr style=\"text-align: right;\">\n",
       "      <th></th>\n",
       "      <th>var1(t-23)</th>\n",
       "      <th>var2(t-23)</th>\n",
       "      <th>var3(t-23)</th>\n",
       "      <th>var4(t-23)</th>\n",
       "      <th>var5(t-23)</th>\n",
       "      <th>var6(t-23)</th>\n",
       "      <th>var7(t-23)</th>\n",
       "      <th>var1(t-22)</th>\n",
       "      <th>var2(t-22)</th>\n",
       "      <th>var3(t-22)</th>\n",
       "      <th>...</th>\n",
       "      <th>var5(t-1)</th>\n",
       "      <th>var6(t-1)</th>\n",
       "      <th>var7(t-1)</th>\n",
       "      <th>var1(t)</th>\n",
       "      <th>var2(t)</th>\n",
       "      <th>var3(t)</th>\n",
       "      <th>var4(t)</th>\n",
       "      <th>var5(t)</th>\n",
       "      <th>var6(t)</th>\n",
       "      <th>var7(t)</th>\n",
       "    </tr>\n",
       "    <tr>\n",
       "      <th>fecha</th>\n",
       "      <th></th>\n",
       "      <th></th>\n",
       "      <th></th>\n",
       "      <th></th>\n",
       "      <th></th>\n",
       "      <th></th>\n",
       "      <th></th>\n",
       "      <th></th>\n",
       "      <th></th>\n",
       "      <th></th>\n",
       "      <th></th>\n",
       "      <th></th>\n",
       "      <th></th>\n",
       "      <th></th>\n",
       "      <th></th>\n",
       "      <th></th>\n",
       "      <th></th>\n",
       "      <th></th>\n",
       "      <th></th>\n",
       "      <th></th>\n",
       "      <th></th>\n",
       "    </tr>\n",
       "  </thead>\n",
       "  <tbody>\n",
       "    <tr>\n",
       "      <th>2019-01-02 00:00:00</th>\n",
       "      <td>43.3634</td>\n",
       "      <td>-8.4419</td>\n",
       "      <td>10.700000</td>\n",
       "      <td>0.000000</td>\n",
       "      <td>1.0</td>\n",
       "      <td>1.0</td>\n",
       "      <td>1.0</td>\n",
       "      <td>43.3634</td>\n",
       "      <td>-8.4419</td>\n",
       "      <td>10.350000</td>\n",
       "      <td>...</td>\n",
       "      <td>1.0</td>\n",
       "      <td>1.0</td>\n",
       "      <td>23.0</td>\n",
       "      <td>43.3634</td>\n",
       "      <td>-8.4419</td>\n",
       "      <td>8.550000</td>\n",
       "      <td>0.000000</td>\n",
       "      <td>2</td>\n",
       "      <td>1</td>\n",
       "      <td>0</td>\n",
       "    </tr>\n",
       "    <tr>\n",
       "      <th>2019-01-02 01:00:00</th>\n",
       "      <td>43.3634</td>\n",
       "      <td>-8.4419</td>\n",
       "      <td>10.350000</td>\n",
       "      <td>0.000000</td>\n",
       "      <td>1.0</td>\n",
       "      <td>1.0</td>\n",
       "      <td>2.0</td>\n",
       "      <td>43.3634</td>\n",
       "      <td>-8.4419</td>\n",
       "      <td>9.800000</td>\n",
       "      <td>...</td>\n",
       "      <td>2.0</td>\n",
       "      <td>1.0</td>\n",
       "      <td>0.0</td>\n",
       "      <td>43.3634</td>\n",
       "      <td>-8.4419</td>\n",
       "      <td>7.775000</td>\n",
       "      <td>0.000000</td>\n",
       "      <td>2</td>\n",
       "      <td>1</td>\n",
       "      <td>1</td>\n",
       "    </tr>\n",
       "    <tr>\n",
       "      <th>2019-01-02 02:00:00</th>\n",
       "      <td>43.3634</td>\n",
       "      <td>-8.4419</td>\n",
       "      <td>9.800000</td>\n",
       "      <td>0.000000</td>\n",
       "      <td>1.0</td>\n",
       "      <td>1.0</td>\n",
       "      <td>3.0</td>\n",
       "      <td>43.3634</td>\n",
       "      <td>-8.4419</td>\n",
       "      <td>11.125000</td>\n",
       "      <td>...</td>\n",
       "      <td>2.0</td>\n",
       "      <td>1.0</td>\n",
       "      <td>1.0</td>\n",
       "      <td>43.3634</td>\n",
       "      <td>-8.4419</td>\n",
       "      <td>7.250000</td>\n",
       "      <td>0.000000</td>\n",
       "      <td>2</td>\n",
       "      <td>1</td>\n",
       "      <td>2</td>\n",
       "    </tr>\n",
       "    <tr>\n",
       "      <th>2019-01-02 03:00:00</th>\n",
       "      <td>43.3634</td>\n",
       "      <td>-8.4419</td>\n",
       "      <td>11.125000</td>\n",
       "      <td>0.000000</td>\n",
       "      <td>1.0</td>\n",
       "      <td>1.0</td>\n",
       "      <td>4.0</td>\n",
       "      <td>43.3634</td>\n",
       "      <td>-8.4419</td>\n",
       "      <td>11.675000</td>\n",
       "      <td>...</td>\n",
       "      <td>2.0</td>\n",
       "      <td>1.0</td>\n",
       "      <td>2.0</td>\n",
       "      <td>43.3634</td>\n",
       "      <td>-8.4419</td>\n",
       "      <td>7.050000</td>\n",
       "      <td>0.000000</td>\n",
       "      <td>2</td>\n",
       "      <td>1</td>\n",
       "      <td>3</td>\n",
       "    </tr>\n",
       "    <tr>\n",
       "      <th>2019-01-02 04:00:00</th>\n",
       "      <td>43.3634</td>\n",
       "      <td>-8.4419</td>\n",
       "      <td>11.675000</td>\n",
       "      <td>0.000000</td>\n",
       "      <td>1.0</td>\n",
       "      <td>1.0</td>\n",
       "      <td>5.0</td>\n",
       "      <td>43.3634</td>\n",
       "      <td>-8.4419</td>\n",
       "      <td>11.750000</td>\n",
       "      <td>...</td>\n",
       "      <td>2.0</td>\n",
       "      <td>1.0</td>\n",
       "      <td>3.0</td>\n",
       "      <td>43.3634</td>\n",
       "      <td>-8.4419</td>\n",
       "      <td>7.350000</td>\n",
       "      <td>0.000000</td>\n",
       "      <td>2</td>\n",
       "      <td>1</td>\n",
       "      <td>4</td>\n",
       "    </tr>\n",
       "    <tr>\n",
       "      <th>...</th>\n",
       "      <td>...</td>\n",
       "      <td>...</td>\n",
       "      <td>...</td>\n",
       "      <td>...</td>\n",
       "      <td>...</td>\n",
       "      <td>...</td>\n",
       "      <td>...</td>\n",
       "      <td>...</td>\n",
       "      <td>...</td>\n",
       "      <td>...</td>\n",
       "      <td>...</td>\n",
       "      <td>...</td>\n",
       "      <td>...</td>\n",
       "      <td>...</td>\n",
       "      <td>...</td>\n",
       "      <td>...</td>\n",
       "      <td>...</td>\n",
       "      <td>...</td>\n",
       "      <td>...</td>\n",
       "      <td>...</td>\n",
       "      <td>...</td>\n",
       "    </tr>\n",
       "    <tr>\n",
       "      <th>2019-06-01 15:00:00</th>\n",
       "      <td>42.5801</td>\n",
       "      <td>-8.8047</td>\n",
       "      <td>27.000000</td>\n",
       "      <td>938.000000</td>\n",
       "      <td>31.0</td>\n",
       "      <td>5.0</td>\n",
       "      <td>16.0</td>\n",
       "      <td>42.5801</td>\n",
       "      <td>-8.8047</td>\n",
       "      <td>26.000000</td>\n",
       "      <td>...</td>\n",
       "      <td>1.0</td>\n",
       "      <td>6.0</td>\n",
       "      <td>14.0</td>\n",
       "      <td>42.5801</td>\n",
       "      <td>-8.8047</td>\n",
       "      <td>24.000000</td>\n",
       "      <td>993.333333</td>\n",
       "      <td>1</td>\n",
       "      <td>6</td>\n",
       "      <td>15</td>\n",
       "    </tr>\n",
       "    <tr>\n",
       "      <th>2019-06-01 16:00:00</th>\n",
       "      <td>42.5801</td>\n",
       "      <td>-8.8047</td>\n",
       "      <td>26.000000</td>\n",
       "      <td>790.166667</td>\n",
       "      <td>31.0</td>\n",
       "      <td>5.0</td>\n",
       "      <td>17.0</td>\n",
       "      <td>42.5801</td>\n",
       "      <td>-8.8047</td>\n",
       "      <td>26.166667</td>\n",
       "      <td>...</td>\n",
       "      <td>1.0</td>\n",
       "      <td>6.0</td>\n",
       "      <td>15.0</td>\n",
       "      <td>42.5801</td>\n",
       "      <td>-8.8047</td>\n",
       "      <td>24.500000</td>\n",
       "      <td>925.666667</td>\n",
       "      <td>1</td>\n",
       "      <td>6</td>\n",
       "      <td>16</td>\n",
       "    </tr>\n",
       "    <tr>\n",
       "      <th>2019-06-01 17:00:00</th>\n",
       "      <td>42.5801</td>\n",
       "      <td>-8.8047</td>\n",
       "      <td>26.166667</td>\n",
       "      <td>627.000000</td>\n",
       "      <td>31.0</td>\n",
       "      <td>5.0</td>\n",
       "      <td>18.0</td>\n",
       "      <td>42.5801</td>\n",
       "      <td>-8.8047</td>\n",
       "      <td>25.666667</td>\n",
       "      <td>...</td>\n",
       "      <td>1.0</td>\n",
       "      <td>6.0</td>\n",
       "      <td>16.0</td>\n",
       "      <td>42.5801</td>\n",
       "      <td>-8.8047</td>\n",
       "      <td>24.833333</td>\n",
       "      <td>804.666667</td>\n",
       "      <td>1</td>\n",
       "      <td>6</td>\n",
       "      <td>17</td>\n",
       "    </tr>\n",
       "    <tr>\n",
       "      <th>2019-06-01 18:00:00</th>\n",
       "      <td>42.5801</td>\n",
       "      <td>-8.8047</td>\n",
       "      <td>25.666667</td>\n",
       "      <td>444.833333</td>\n",
       "      <td>31.0</td>\n",
       "      <td>5.0</td>\n",
       "      <td>19.0</td>\n",
       "      <td>42.5801</td>\n",
       "      <td>-8.8047</td>\n",
       "      <td>20.400000</td>\n",
       "      <td>...</td>\n",
       "      <td>1.0</td>\n",
       "      <td>6.0</td>\n",
       "      <td>17.0</td>\n",
       "      <td>42.5801</td>\n",
       "      <td>-8.8047</td>\n",
       "      <td>25.000000</td>\n",
       "      <td>630.333333</td>\n",
       "      <td>1</td>\n",
       "      <td>6</td>\n",
       "      <td>18</td>\n",
       "    </tr>\n",
       "    <tr>\n",
       "      <th>2019-06-01 19:00:00</th>\n",
       "      <td>42.5801</td>\n",
       "      <td>-8.8047</td>\n",
       "      <td>20.400000</td>\n",
       "      <td>234.600000</td>\n",
       "      <td>31.0</td>\n",
       "      <td>5.0</td>\n",
       "      <td>20.0</td>\n",
       "      <td>42.5801</td>\n",
       "      <td>-8.8047</td>\n",
       "      <td>20.166667</td>\n",
       "      <td>...</td>\n",
       "      <td>1.0</td>\n",
       "      <td>6.0</td>\n",
       "      <td>18.0</td>\n",
       "      <td>42.5801</td>\n",
       "      <td>-8.8047</td>\n",
       "      <td>24.400000</td>\n",
       "      <td>456.200000</td>\n",
       "      <td>1</td>\n",
       "      <td>6</td>\n",
       "      <td>19</td>\n",
       "    </tr>\n",
       "  </tbody>\n",
       "</table>\n",
       "<p>401446 rows × 168 columns</p>\n",
       "</div>"
      ],
      "text/plain": [
       "                     var1(t-23)  var2(t-23)  var3(t-23)  var4(t-23)  \\\n",
       "fecha                                                                 \n",
       "2019-01-02 00:00:00     43.3634     -8.4419   10.700000    0.000000   \n",
       "2019-01-02 01:00:00     43.3634     -8.4419   10.350000    0.000000   \n",
       "2019-01-02 02:00:00     43.3634     -8.4419    9.800000    0.000000   \n",
       "2019-01-02 03:00:00     43.3634     -8.4419   11.125000    0.000000   \n",
       "2019-01-02 04:00:00     43.3634     -8.4419   11.675000    0.000000   \n",
       "...                         ...         ...         ...         ...   \n",
       "2019-06-01 15:00:00     42.5801     -8.8047   27.000000  938.000000   \n",
       "2019-06-01 16:00:00     42.5801     -8.8047   26.000000  790.166667   \n",
       "2019-06-01 17:00:00     42.5801     -8.8047   26.166667  627.000000   \n",
       "2019-06-01 18:00:00     42.5801     -8.8047   25.666667  444.833333   \n",
       "2019-06-01 19:00:00     42.5801     -8.8047   20.400000  234.600000   \n",
       "\n",
       "                     var5(t-23)  var6(t-23)  var7(t-23)  var1(t-22)  \\\n",
       "fecha                                                                 \n",
       "2019-01-02 00:00:00         1.0         1.0         1.0     43.3634   \n",
       "2019-01-02 01:00:00         1.0         1.0         2.0     43.3634   \n",
       "2019-01-02 02:00:00         1.0         1.0         3.0     43.3634   \n",
       "2019-01-02 03:00:00         1.0         1.0         4.0     43.3634   \n",
       "2019-01-02 04:00:00         1.0         1.0         5.0     43.3634   \n",
       "...                         ...         ...         ...         ...   \n",
       "2019-06-01 15:00:00        31.0         5.0        16.0     42.5801   \n",
       "2019-06-01 16:00:00        31.0         5.0        17.0     42.5801   \n",
       "2019-06-01 17:00:00        31.0         5.0        18.0     42.5801   \n",
       "2019-06-01 18:00:00        31.0         5.0        19.0     42.5801   \n",
       "2019-06-01 19:00:00        31.0         5.0        20.0     42.5801   \n",
       "\n",
       "                     var2(t-22)  var3(t-22)  ...  var5(t-1)  var6(t-1)  \\\n",
       "fecha                                        ...                         \n",
       "2019-01-02 00:00:00     -8.4419   10.350000  ...        1.0        1.0   \n",
       "2019-01-02 01:00:00     -8.4419    9.800000  ...        2.0        1.0   \n",
       "2019-01-02 02:00:00     -8.4419   11.125000  ...        2.0        1.0   \n",
       "2019-01-02 03:00:00     -8.4419   11.675000  ...        2.0        1.0   \n",
       "2019-01-02 04:00:00     -8.4419   11.750000  ...        2.0        1.0   \n",
       "...                         ...         ...  ...        ...        ...   \n",
       "2019-06-01 15:00:00     -8.8047   26.000000  ...        1.0        6.0   \n",
       "2019-06-01 16:00:00     -8.8047   26.166667  ...        1.0        6.0   \n",
       "2019-06-01 17:00:00     -8.8047   25.666667  ...        1.0        6.0   \n",
       "2019-06-01 18:00:00     -8.8047   20.400000  ...        1.0        6.0   \n",
       "2019-06-01 19:00:00     -8.8047   20.166667  ...        1.0        6.0   \n",
       "\n",
       "                     var7(t-1)  var1(t)  var2(t)    var3(t)     var4(t)  \\\n",
       "fecha                                                                     \n",
       "2019-01-02 00:00:00       23.0  43.3634  -8.4419   8.550000    0.000000   \n",
       "2019-01-02 01:00:00        0.0  43.3634  -8.4419   7.775000    0.000000   \n",
       "2019-01-02 02:00:00        1.0  43.3634  -8.4419   7.250000    0.000000   \n",
       "2019-01-02 03:00:00        2.0  43.3634  -8.4419   7.050000    0.000000   \n",
       "2019-01-02 04:00:00        3.0  43.3634  -8.4419   7.350000    0.000000   \n",
       "...                        ...      ...      ...        ...         ...   \n",
       "2019-06-01 15:00:00       14.0  42.5801  -8.8047  24.000000  993.333333   \n",
       "2019-06-01 16:00:00       15.0  42.5801  -8.8047  24.500000  925.666667   \n",
       "2019-06-01 17:00:00       16.0  42.5801  -8.8047  24.833333  804.666667   \n",
       "2019-06-01 18:00:00       17.0  42.5801  -8.8047  25.000000  630.333333   \n",
       "2019-06-01 19:00:00       18.0  42.5801  -8.8047  24.400000  456.200000   \n",
       "\n",
       "                     var5(t)  var6(t)  var7(t)  \n",
       "fecha                                           \n",
       "2019-01-02 00:00:00        2        1        0  \n",
       "2019-01-02 01:00:00        2        1        1  \n",
       "2019-01-02 02:00:00        2        1        2  \n",
       "2019-01-02 03:00:00        2        1        3  \n",
       "2019-01-02 04:00:00        2        1        4  \n",
       "...                      ...      ...      ...  \n",
       "2019-06-01 15:00:00        1        6       15  \n",
       "2019-06-01 16:00:00        1        6       16  \n",
       "2019-06-01 17:00:00        1        6       17  \n",
       "2019-06-01 18:00:00        1        6       18  \n",
       "2019-06-01 19:00:00        1        6       19  \n",
       "\n",
       "[401446 rows x 168 columns]"
      ]
     },
     "execution_count": 29,
     "metadata": {},
     "output_type": "execute_result"
    }
   ],
   "source": [
    "data_all = pd.concat(data_by_station_series)\n",
    "\n",
    "data_all"
   ]
  },
  {
   "cell_type": "code",
   "execution_count": 30,
   "metadata": {},
   "outputs": [
    {
     "data": {
      "text/plain": [
       "401446"
      ]
     },
     "execution_count": 30,
     "metadata": {},
     "output_type": "execute_result"
    }
   ],
   "source": [
    "len(data_all)"
   ]
  },
  {
   "cell_type": "code",
   "execution_count": 31,
   "metadata": {},
   "outputs": [
    {
     "data": {
      "text/plain": [
       "var1(t-23)    0\n",
       "var2(t-23)    0\n",
       "var3(t-23)    0\n",
       "var4(t-23)    0\n",
       "var5(t-23)    0\n",
       "             ..\n",
       "var3(t)       0\n",
       "var4(t)       0\n",
       "var5(t)       0\n",
       "var6(t)       0\n",
       "var7(t)       0\n",
       "Length: 168, dtype: int64"
      ]
     },
     "execution_count": 31,
     "metadata": {},
     "output_type": "execute_result"
    }
   ],
   "source": [
    "data_all.isnull().sum()"
   ]
  },
  {
   "cell_type": "code",
   "execution_count": 32,
   "metadata": {},
   "outputs": [
    {
     "data": {
      "text/plain": [
       "Index(['var1(t-23)', 'var2(t-23)', 'var3(t-23)', 'var4(t-23)', 'var5(t-23)',\n",
       "       'var6(t-23)', 'var7(t-23)', 'var1(t-22)', 'var2(t-22)', 'var3(t-22)',\n",
       "       ...\n",
       "       'var5(t-2)', 'var6(t-2)', 'var7(t-2)', 'var1(t-1)', 'var2(t-1)',\n",
       "       'var3(t-1)', 'var4(t-1)', 'var5(t-1)', 'var6(t-1)', 'var7(t-1)'],\n",
       "      dtype='object', length=161)"
      ]
     },
     "execution_count": 32,
     "metadata": {},
     "output_type": "execute_result"
    }
   ],
   "source": [
    "data_input = data_all[in_vars]\n",
    "data_input.columns"
   ]
  },
  {
   "cell_type": "code",
   "execution_count": 33,
   "metadata": {},
   "outputs": [
    {
     "data": {
      "text/plain": [
       "[<matplotlib.lines.Line2D at 0x7efc713b8dc0>]"
      ]
     },
     "execution_count": 33,
     "metadata": {},
     "output_type": "execute_result"
    },
    {
     "data": {
      "image/png": "[encoded data removed]",
      "text/plain": [
       "<Figure size 1152x432 with 1 Axes>"
      ]
     },
     "metadata": {},
     "output_type": "display_data"
    }
   ],
   "source": [
    "plt.plot(data_input.values[0])"
   ]
  },
  {
   "cell_type": "code",
   "execution_count": 34,
   "metadata": {},
   "outputs": [],
   "source": [
    "from sklearn.preprocessing import MinMaxScaler"
   ]
  },
  {
   "cell_type": "code",
   "execution_count": 35,
   "metadata": {},
   "outputs": [],
   "source": [
    "scaler = MinMaxScaler(feature_range=(-1, 1))"
   ]
  },
  {
   "cell_type": "code",
   "execution_count": 36,
   "metadata": {},
   "outputs": [
    {
     "name": "stdout",
     "output_type": "stream",
     "text": [
      "CPU times: user 535 ms, sys: 50.1 ms, total: 585 ms\n",
      "Wall time: 585 ms\n"
     ]
    },
    {
     "data": {
      "text/plain": [
       "[<matplotlib.lines.Line2D at 0x7efc70feb100>]"
      ]
     },
     "execution_count": 36,
     "metadata": {},
     "output_type": "execute_result"
    },
    {
     "data": {
      "image/png": "[encoded data removed]",
      "text/plain": [
       "<Figure size 1152x432 with 1 Axes>"
      ]
     },
     "metadata": {},
     "output_type": "display_data"
    }
   ],
   "source": [
    "%%time\n",
    "data_input = scaler.fit_transform(data_input.values)\n",
    "\n",
    "plt.plot(data_input[0])"
   ]
  },
  {
   "cell_type": "code",
   "execution_count": 37,
   "metadata": {},
   "outputs": [
    {
     "data": {
      "text/plain": [
       "[0, 100, 200, 300, 400, 500, 600, 700, 800, 900, 1000]"
      ]
     },
     "execution_count": 37,
     "metadata": {},
     "output_type": "execute_result"
    }
   ],
   "source": [
    "[i for i in range(0, 1100, 100)]"
   ]
  },
  {
   "cell_type": "code",
   "execution_count": 38,
   "metadata": {},
   "outputs": [
    {
     "data": {
      "text/plain": [
       "['0-100',\n",
       " '100-200',\n",
       " '200-300',\n",
       " '300-400',\n",
       " '400-500',\n",
       " '500-600',\n",
       " '600-700',\n",
       " '700-800',\n",
       " '800-900',\n",
       " '900-1000',\n",
       " '1000-1100']"
      ]
     },
     "execution_count": 38,
     "metadata": {},
     "output_type": "execute_result"
    }
   ],
   "source": [
    "rad_range = ['{0}-{1}'.format(i, i+100) for i in range(0, 1100, 100)]\n",
    "\n",
    "rad_range"
   ]
  },
  {
   "cell_type": "code",
   "execution_count": 39,
   "metadata": {},
   "outputs": [
    {
     "data": {
      "text/plain": [
       "array([[  0.        ],\n",
       "       [  0.        ],\n",
       "       [  0.        ],\n",
       "       ...,\n",
       "       [804.66666667],\n",
       "       [630.33333333],\n",
       "       [456.2       ]])"
      ]
     },
     "execution_count": 39,
     "metadata": {},
     "output_type": "execute_result"
    }
   ],
   "source": [
    "data_all[target_var].values"
   ]
  },
  {
   "cell_type": "code",
   "execution_count": 40,
   "metadata": {},
   "outputs": [],
   "source": [
    "def get_range_category(v):\n",
    "    if v < 100:\n",
    "        return 0\n",
    "    if v < 200:\n",
    "        return 1\n",
    "    if v < 300:\n",
    "        return 2\n",
    "    if v < 400:\n",
    "        return 3\n",
    "    if v < 500:\n",
    "        return 4\n",
    "    if v < 600:\n",
    "        return 5\n",
    "    if v < 700:\n",
    "        return 6\n",
    "    if v < 800:\n",
    "        return 7\n",
    "    if v < 900:\n",
    "        return 8\n",
    "    if v < 1000:\n",
    "        return 9\n",
    "    if v >= 1000:\n",
    "        return 10\n",
    "\n",
    "labels = [get_range_category(x) for x in data_all[target_var].values]"
   ]
  },
  {
   "cell_type": "code",
   "execution_count": 41,
   "metadata": {},
   "outputs": [],
   "source": [
    "from tensorflow.keras.utils import to_categorical"
   ]
  },
  {
   "cell_type": "code",
   "execution_count": 42,
   "metadata": {},
   "outputs": [],
   "source": [
    "data_target = to_categorical(labels, 11)"
   ]
  },
  {
   "cell_type": "code",
   "execution_count": 43,
   "metadata": {},
   "outputs": [
    {
     "data": {
      "text/plain": [
       "(401446, 161)"
      ]
     },
     "execution_count": 43,
     "metadata": {},
     "output_type": "execute_result"
    }
   ],
   "source": [
    "data_input.shape"
   ]
  },
  {
   "cell_type": "code",
   "execution_count": 44,
   "metadata": {},
   "outputs": [
    {
     "data": {
      "text/plain": [
       "(401446, 11)"
      ]
     },
     "execution_count": 44,
     "metadata": {},
     "output_type": "execute_result"
    }
   ],
   "source": [
    "data_target.shape"
   ]
  },
  {
   "cell_type": "markdown",
   "metadata": {
    "colab_type": "text",
    "id": "-e43OEMNcPGA"
   },
   "source": [
    "### MODELO"
   ]
  },
  {
   "cell_type": "code",
   "execution_count": 45,
   "metadata": {},
   "outputs": [],
   "source": [
    "from sklearn.model_selection import train_test_split"
   ]
  },
  {
   "cell_type": "code",
   "execution_count": 46,
   "metadata": {},
   "outputs": [
    {
     "name": "stdout",
     "output_type": "stream",
     "text": [
      "CPU times: user 710 ms, sys: 89.7 ms, total: 799 ms\n",
      "Wall time: 800 ms\n"
     ]
    }
   ],
   "source": [
    "%%time\n",
    "X_train, X_test, y_train, y_test = train_test_split(data_input, data_target, train_size=0.8)"
   ]
  },
  {
   "cell_type": "code",
   "execution_count": 47,
   "metadata": {
    "colab": {},
    "colab_type": "code",
    "id": "G0fbXz3hcPGD"
   },
   "outputs": [],
   "source": [
    "import datetime\n",
    "from tensorflow.keras.models import Sequential\n",
    "from tensorflow.keras.layers import Dense\n",
    "from tensorflow.keras.losses import categorical_crossentropy\n",
    "from tensorflow.keras.callbacks import EarlyStopping"
   ]
  },
  {
   "cell_type": "code",
   "execution_count": 48,
   "metadata": {},
   "outputs": [],
   "source": [
    "earlyStopping = EarlyStopping(monitor='val_loss', mode='min', patience=10, restore_best_weights=True)"
   ]
  },
  {
   "cell_type": "code",
   "execution_count": 49,
   "metadata": {},
   "outputs": [
    {
     "name": "stdout",
     "output_type": "stream",
     "text": [
      "Model: \"sequential\"\n",
      "_________________________________________________________________\n",
      "Layer (type)                 Output Shape              Param #   \n",
      "=================================================================\n",
      "dense (Dense)                (None, 500)               81000     \n",
      "_________________________________________________________________\n",
      "dense_1 (Dense)              (None, 11)                5511      \n",
      "=================================================================\n",
      "Total params: 86,511\n",
      "Trainable params: 86,511\n",
      "Non-trainable params: 0\n",
      "_________________________________________________________________\n"
     ]
    }
   ],
   "source": [
    "model = Sequential([\n",
    "    Dense(500, input_dim=X_train.shape[1], activation='tanh'),\n",
    "    Dense(11, activation='softmax')\n",
    "])\n",
    "\n",
    "model.compile(loss=categorical_crossentropy, optimizer='adam', metrics=['accuracy'])\n",
    "\n",
    "model.summary()"
   ]
  },
  {
   "cell_type": "code",
   "execution_count": 50,
   "metadata": {
    "colab": {
     "base_uri": "https://localhost:8080/",
     "height": 731
    },
    "colab_type": "code",
    "id": "YGYLZniucPGW",
    "outputId": "40bdce69-977e-4bcf-a460-52ee8d5339f5"
   },
   "outputs": [
    {
     "name": "stdout",
     "output_type": "stream",
     "text": [
      "Epoch 1/10\n",
      "1004/1004 [==============================] - 11s 11ms/step - loss: 0.5735 - accuracy: 0.7809 - val_loss: 0.4807 - val_accuracy: 0.8049\n",
      "Epoch 2/10\n",
      "1004/1004 [==============================] - 10s 10ms/step - loss: 0.4603 - accuracy: 0.8197 - val_loss: 0.4502 - val_accuracy: 0.8241\n",
      "Epoch 3/10\n",
      "1004/1004 [==============================] - 11s 11ms/step - loss: 0.4335 - accuracy: 0.8312 - val_loss: 0.4176 - val_accuracy: 0.8353\n",
      "Epoch 4/10\n",
      "1004/1004 [==============================] - 10s 10ms/step - loss: 0.4177 - accuracy: 0.8366 - val_loss: 0.4067 - val_accuracy: 0.8427\n",
      "Epoch 5/10\n",
      "1004/1004 [==============================] - 10s 10ms/step - loss: 0.4062 - accuracy: 0.8409 - val_loss: 0.3991 - val_accuracy: 0.8417\n",
      "Epoch 6/10\n",
      "1004/1004 [==============================] - 10s 10ms/step - loss: 0.3985 - accuracy: 0.8434 - val_loss: 0.3867 - val_accuracy: 0.8473\n",
      "Epoch 7/10\n",
      "1004/1004 [==============================] - 11s 11ms/step - loss: 0.3924 - accuracy: 0.8453 - val_loss: 0.3823 - val_accuracy: 0.8492\n",
      "Epoch 8/10\n",
      "1004/1004 [==============================] - 10s 10ms/step - loss: 0.3872 - accuracy: 0.8476 - val_loss: 0.3787 - val_accuracy: 0.8493\n",
      "Epoch 9/10\n",
      "1004/1004 [==============================] - 12s 12ms/step - loss: 0.3825 - accuracy: 0.8492 - val_loss: 0.3812 - val_accuracy: 0.8499\n",
      "Epoch 10/10\n",
      "1004/1004 [==============================] - 11s 11ms/step - loss: 0.3786 - accuracy: 0.8503 - val_loss: 0.3744 - val_accuracy: 0.8512\n",
      "CPU times: user 3min 20s, sys: 2min 35s, total: 5min 55s\n",
      "Wall time: 1min 46s\n"
     ]
    }
   ],
   "source": [
    "%%time\n",
    "history = model.fit(X_train, y_train, epochs=10, validation_split=0.2, batch_size=256, callbacks=[earlyStopping], verbose=1)"
   ]
  },
  {
   "cell_type": "code",
   "execution_count": 51,
   "metadata": {},
   "outputs": [
    {
     "data": {
      "image/png": "[encoded data removed]",
      "text/plain": [
       "<Figure size 1152x432 with 1 Axes>"
      ]
     },
     "metadata": {},
     "output_type": "display_data"
    }
   ],
   "source": [
    "plt.plot(history.history['loss'], label='loss')\n",
    "plt.plot(history.history['val_loss'], label='val_loss')\n",
    "plt.legend()\n",
    "plt.show()"
   ]
  },
  {
   "cell_type": "code",
   "execution_count": 52,
   "metadata": {},
   "outputs": [
    {
     "name": "stdout",
     "output_type": "stream",
     "text": [
      "2510/2510 [==============================] - 8s 3ms/step - loss: 0.3745 - accuracy: 0.8520\n",
      "CPU times: user 12.8 s, sys: 12.4 s, total: 25.1 s\n",
      "Wall time: 7.65 s\n"
     ]
    },
    {
     "data": {
      "text/plain": [
       "[0.37446466088294983, 0.8520114421844482]"
      ]
     },
     "execution_count": 52,
     "metadata": {},
     "output_type": "execute_result"
    }
   ],
   "source": [
    "%%time\n",
    "model.evaluate(X_test, y_test)"
   ]
  },
  {
   "cell_type": "code",
   "execution_count": 53,
   "metadata": {},
   "outputs": [
    {
     "name": "stdout",
     "output_type": "stream",
     "text": [
      "CPU times: user 6.84 s, sys: 5.79 s, total: 12.6 s\n",
      "Wall time: 3.43 s\n"
     ]
    }
   ],
   "source": [
    "%%time\n",
    "y_predicted = model.predict(X_test)"
   ]
  },
  {
   "cell_type": "code",
   "execution_count": 54,
   "metadata": {},
   "outputs": [],
   "source": [
    "YP = np.array([x.tolist().index(max(x)) for x in y_predicted])\n",
    "YT = np.array([x.tolist().index(max(x)) for x in y_test])"
   ]
  },
  {
   "cell_type": "code",
   "execution_count": 55,
   "metadata": {},
   "outputs": [
    {
     "data": {
      "image/png": "[encoded data removed]",
      "text/plain": [
       "<Figure size 1152x432 with 1 Axes>"
      ]
     },
     "metadata": {},
     "output_type": "display_data"
    }
   ],
   "source": [
    "error = YT - YP\n",
    "plt.plot(error)\n",
    "plt.show()"
   ]
  },
  {
   "cell_type": "code",
   "execution_count": null,
   "metadata": {},
   "outputs": [],
   "source": []
  }
 ],
 "metadata": {
  "accelerator": "GPU",
  "colab": {
   "collapsed_sections": [
    "PF4RcIAUcPC0",
    "052CIIzBcPDr",
    "TDG-dQYqcPEL",
    "BI-jnOpkcPES",
    "hyVUqdUAcPEZ",
    "saTPK1ZAcPEe",
    "CFZ7ChKkcPFD"
   ],
   "name": "00.ipynb",
   "provenance": []
  },
  "kernelspec": {
   "display_name": "Python 3",
   "language": "python",
   "name": "python3"
  },
  "language_info": {
   "codemirror_mode": {
    "name": "ipython",
    "version": 3
   },
   "file_extension": ".py",
   "mimetype": "text/x-python",
   "name": "python",
   "nbconvert_exporter": "python",
   "pygments_lexer": "ipython3",
   "version": "3.8.5"
  }
 },
 "nbformat": 4,
 "nbformat_minor": 4
}
