{
  "nbformat": 4,
  "nbformat_minor": 0,
  "metadata": {
    "kernelspec": {
      "display_name": "Python 3",
      "language": "python",
      "name": "python3"
    },
    "language_info": {
      "codemirror_mode": {
        "name": "ipython",
        "version": 3
      },
      "file_extension": ".py",
      "mimetype": "text/x-python",
      "name": "python",
      "nbconvert_exporter": "python",
      "pygments_lexer": "ipython3",
      "version": "3.8.5"
    },
    "colab": {
      "name": "08.3.ipynb",
      "provenance": [],
      "collapsed_sections": []
    },
    "accelerator": "GPU"
  },
  "cells": [
    {
      "cell_type": "code",
      "metadata": {
        "id": "8msNpzUs7dnl",
        "outputId": "7ed95889-4691-4600-8053-d4788e58228d",
        "colab": {
          "base_uri": "https://localhost:8080/",
          "height": 34
        }
      },
      "source": [
        "from google.colab import drive\n",
        "drive.mount('/content/drive')"
      ],
      "execution_count": 1,
      "outputs": [
        {
          "output_type": "stream",
          "text": [
            "Drive already mounted at /content/drive; to attempt to forcibly remount, call drive.mount(\"/content/drive\", force_remount=True).\n"
          ],
          "name": "stdout"
        }
      ]
    },
    {
      "cell_type": "code",
      "metadata": {
        "id": "m3p1KvXH7dns"
      },
      "source": [
        "import pandas as pd"
      ],
      "execution_count": 2,
      "outputs": []
    },
    {
      "cell_type": "code",
      "metadata": {
        "id": "_RIvebMB7dnx"
      },
      "source": [
        "data = pd.read_csv('/content/drive/My Drive/solar-forecasting/data/meteo_galicia.csv', sep=';', parse_dates=['fecha'], decimal=',',\n",
        "                 infer_datetime_format=True, low_memory=False, index_col='fecha').sort_index()"
      ],
      "execution_count": 3,
      "outputs": []
    },
    {
      "cell_type": "markdown",
      "metadata": {
        "id": "MInlt60B7dn1"
      },
      "source": [
        "### Cargar datos"
      ]
    },
    {
      "cell_type": "code",
      "metadata": {
        "id": "O8VbYo3_7dn2"
      },
      "source": [
        "#data = pd.read_csv('./data/meteo_galicia.csv', sep=';', parse_dates=['fecha'], decimal=',',\n",
        "#                 infer_datetime_format=True, low_memory=False, index_col='fecha').sort_index()"
      ],
      "execution_count": 4,
      "outputs": []
    },
    {
      "cell_type": "code",
      "metadata": {
        "id": "4MqWPWAz7dn7",
        "outputId": "7c2dc150-ca89-4fc7-ac1f-5dced856d14d",
        "colab": {
          "base_uri": "https://localhost:8080/",
          "height": 450
        }
      },
      "source": [
        "data"
      ],
      "execution_count": 5,
      "outputs": [
        {
          "output_type": "execute_result",
          "data": {
            "text/html": [
              "<div>\n",
              "<style scoped>\n",
              "    .dataframe tbody tr th:only-of-type {\n",
              "        vertical-align: middle;\n",
              "    }\n",
              "\n",
              "    .dataframe tbody tr th {\n",
              "        vertical-align: top;\n",
              "    }\n",
              "\n",
              "    .dataframe thead th {\n",
              "        text-align: right;\n",
              "    }\n",
              "</style>\n",
              "<table border=\"1\" class=\"dataframe\">\n",
              "  <thead>\n",
              "    <tr style=\"text-align: right;\">\n",
              "      <th></th>\n",
              "      <th>estacionid</th>\n",
              "      <th>lat</th>\n",
              "      <th>lon</th>\n",
              "      <th>tamb</th>\n",
              "      <th>hum</th>\n",
              "      <th>pres</th>\n",
              "      <th>prec</th>\n",
              "      <th>rad</th>\n",
              "      <th>vvien</th>\n",
              "      <th>tipodered</th>\n",
              "    </tr>\n",
              "    <tr>\n",
              "      <th>fecha</th>\n",
              "      <th></th>\n",
              "      <th></th>\n",
              "      <th></th>\n",
              "      <th></th>\n",
              "      <th></th>\n",
              "      <th></th>\n",
              "      <th></th>\n",
              "      <th></th>\n",
              "      <th></th>\n",
              "      <th></th>\n",
              "    </tr>\n",
              "  </thead>\n",
              "  <tbody>\n",
              "    <tr>\n",
              "      <th>2019-01-01 00:10:00</th>\n",
              "      <td>20284</td>\n",
              "      <td>42.4044</td>\n",
              "      <td>-8.6730</td>\n",
              "      <td>5.4</td>\n",
              "      <td>0</td>\n",
              "      <td>1022.0</td>\n",
              "      <td>0.0</td>\n",
              "      <td>0.0</td>\n",
              "      <td>0.7</td>\n",
              "      <td>OFICIAL</td>\n",
              "    </tr>\n",
              "    <tr>\n",
              "      <th>2019-01-01 00:10:00</th>\n",
              "      <td>20233</td>\n",
              "      <td>42.3554</td>\n",
              "      <td>-7.0086</td>\n",
              "      <td>7.3</td>\n",
              "      <td>0</td>\n",
              "      <td>892.1</td>\n",
              "      <td>0.0</td>\n",
              "      <td>0.0</td>\n",
              "      <td>3.5</td>\n",
              "      <td>OFICIAL</td>\n",
              "    </tr>\n",
              "    <tr>\n",
              "      <th>2019-01-01 00:10:00</th>\n",
              "      <td>20218</td>\n",
              "      <td>43.1626</td>\n",
              "      <td>-7.2826</td>\n",
              "      <td>9.2</td>\n",
              "      <td>0</td>\n",
              "      <td>955.0</td>\n",
              "      <td>0.0</td>\n",
              "      <td>0.0</td>\n",
              "      <td>0.0</td>\n",
              "      <td>OFICIAL</td>\n",
              "    </tr>\n",
              "    <tr>\n",
              "      <th>2019-01-01 00:10:00</th>\n",
              "      <td>20217</td>\n",
              "      <td>42.7071</td>\n",
              "      <td>-7.0471</td>\n",
              "      <td>8.5</td>\n",
              "      <td>0</td>\n",
              "      <td>882.5</td>\n",
              "      <td>0.0</td>\n",
              "      <td>1.0</td>\n",
              "      <td>6.3</td>\n",
              "      <td>OFICIAL</td>\n",
              "    </tr>\n",
              "    <tr>\n",
              "      <th>2019-01-01 00:10:00</th>\n",
              "      <td>20221</td>\n",
              "      <td>43.5407</td>\n",
              "      <td>-7.0830</td>\n",
              "      <td>5.3</td>\n",
              "      <td>0</td>\n",
              "      <td>1027.0</td>\n",
              "      <td>0.0</td>\n",
              "      <td>0.0</td>\n",
              "      <td>2.8</td>\n",
              "      <td>OFICIAL</td>\n",
              "    </tr>\n",
              "    <tr>\n",
              "      <th>...</th>\n",
              "      <td>...</td>\n",
              "      <td>...</td>\n",
              "      <td>...</td>\n",
              "      <td>...</td>\n",
              "      <td>...</td>\n",
              "      <td>...</td>\n",
              "      <td>...</td>\n",
              "      <td>...</td>\n",
              "      <td>...</td>\n",
              "      <td>...</td>\n",
              "    </tr>\n",
              "    <tr>\n",
              "      <th>2019-06-01 19:40:00</th>\n",
              "      <td>20249</td>\n",
              "      <td>42.2987</td>\n",
              "      <td>-7.5907</td>\n",
              "      <td>25.0</td>\n",
              "      <td>0</td>\n",
              "      <td>909.0</td>\n",
              "      <td>0.0</td>\n",
              "      <td>402.0</td>\n",
              "      <td>2.0</td>\n",
              "      <td>OFICIAL</td>\n",
              "    </tr>\n",
              "    <tr>\n",
              "      <th>2019-06-01 19:40:00</th>\n",
              "      <td>20259</td>\n",
              "      <td>42.1630</td>\n",
              "      <td>-7.0896</td>\n",
              "      <td>27.0</td>\n",
              "      <td>0</td>\n",
              "      <td>922.0</td>\n",
              "      <td>0.0</td>\n",
              "      <td>374.0</td>\n",
              "      <td>3.0</td>\n",
              "      <td>OFICIAL</td>\n",
              "    </tr>\n",
              "    <tr>\n",
              "      <th>2019-06-01 19:40:00</th>\n",
              "      <td>20255</td>\n",
              "      <td>42.4631</td>\n",
              "      <td>-6.9295</td>\n",
              "      <td>30.0</td>\n",
              "      <td>0</td>\n",
              "      <td>NaN</td>\n",
              "      <td>0.0</td>\n",
              "      <td>378.0</td>\n",
              "      <td>0.0</td>\n",
              "      <td>OFICIAL</td>\n",
              "    </tr>\n",
              "    <tr>\n",
              "      <th>2019-06-01 19:40:00</th>\n",
              "      <td>20187</td>\n",
              "      <td>42.8760</td>\n",
              "      <td>-8.5594</td>\n",
              "      <td>28.0</td>\n",
              "      <td>0</td>\n",
              "      <td>988.0</td>\n",
              "      <td>0.0</td>\n",
              "      <td>419.0</td>\n",
              "      <td>3.0</td>\n",
              "      <td>OFICIAL</td>\n",
              "    </tr>\n",
              "    <tr>\n",
              "      <th>2019-06-01 19:40:00</th>\n",
              "      <td>20295</td>\n",
              "      <td>42.0786</td>\n",
              "      <td>-8.6794</td>\n",
              "      <td>25.0</td>\n",
              "      <td>0</td>\n",
              "      <td>963.0</td>\n",
              "      <td>0.0</td>\n",
              "      <td>26.0</td>\n",
              "      <td>0.0</td>\n",
              "      <td>OFICIAL</td>\n",
              "    </tr>\n",
              "  </tbody>\n",
              "</table>\n",
              "<p>2510008 rows × 10 columns</p>\n",
              "</div>"
            ],
            "text/plain": [
              "                     estacionid      lat     lon  ...    rad  vvien  tipodered\n",
              "fecha                                             ...                         \n",
              "2019-01-01 00:10:00       20284  42.4044 -8.6730  ...    0.0    0.7    OFICIAL\n",
              "2019-01-01 00:10:00       20233  42.3554 -7.0086  ...    0.0    3.5    OFICIAL\n",
              "2019-01-01 00:10:00       20218  43.1626 -7.2826  ...    0.0    0.0    OFICIAL\n",
              "2019-01-01 00:10:00       20217  42.7071 -7.0471  ...    1.0    6.3    OFICIAL\n",
              "2019-01-01 00:10:00       20221  43.5407 -7.0830  ...    0.0    2.8    OFICIAL\n",
              "...                         ...      ...     ...  ...    ...    ...        ...\n",
              "2019-06-01 19:40:00       20249  42.2987 -7.5907  ...  402.0    2.0    OFICIAL\n",
              "2019-06-01 19:40:00       20259  42.1630 -7.0896  ...  374.0    3.0    OFICIAL\n",
              "2019-06-01 19:40:00       20255  42.4631 -6.9295  ...  378.0    0.0    OFICIAL\n",
              "2019-06-01 19:40:00       20187  42.8760 -8.5594  ...  419.0    3.0    OFICIAL\n",
              "2019-06-01 19:40:00       20295  42.0786 -8.6794  ...   26.0    0.0    OFICIAL\n",
              "\n",
              "[2510008 rows x 10 columns]"
            ]
          },
          "metadata": {
            "tags": []
          },
          "execution_count": 5
        }
      ]
    },
    {
      "cell_type": "code",
      "metadata": {
        "id": "Uohd8Lxw7doB",
        "outputId": "ca438a95-867a-443b-fa95-a8439fe7dfbe",
        "colab": {
          "base_uri": "https://localhost:8080/",
          "height": 297
        }
      },
      "source": [
        "data.describe()"
      ],
      "execution_count": 6,
      "outputs": [
        {
          "output_type": "execute_result",
          "data": {
            "text/html": [
              "<div>\n",
              "<style scoped>\n",
              "    .dataframe tbody tr th:only-of-type {\n",
              "        vertical-align: middle;\n",
              "    }\n",
              "\n",
              "    .dataframe tbody tr th {\n",
              "        vertical-align: top;\n",
              "    }\n",
              "\n",
              "    .dataframe thead th {\n",
              "        text-align: right;\n",
              "    }\n",
              "</style>\n",
              "<table border=\"1\" class=\"dataframe\">\n",
              "  <thead>\n",
              "    <tr style=\"text-align: right;\">\n",
              "      <th></th>\n",
              "      <th>estacionid</th>\n",
              "      <th>lat</th>\n",
              "      <th>lon</th>\n",
              "      <th>tamb</th>\n",
              "      <th>hum</th>\n",
              "      <th>pres</th>\n",
              "      <th>prec</th>\n",
              "      <th>rad</th>\n",
              "      <th>vvien</th>\n",
              "    </tr>\n",
              "  </thead>\n",
              "  <tbody>\n",
              "    <tr>\n",
              "      <th>count</th>\n",
              "      <td>2.510008e+06</td>\n",
              "      <td>2.510008e+06</td>\n",
              "      <td>2.510008e+06</td>\n",
              "      <td>2.507533e+06</td>\n",
              "      <td>2510008.0</td>\n",
              "      <td>1.814653e+06</td>\n",
              "      <td>2.509794e+06</td>\n",
              "      <td>2.499161e+06</td>\n",
              "      <td>2.507539e+06</td>\n",
              "    </tr>\n",
              "    <tr>\n",
              "      <th>mean</th>\n",
              "      <td>2.023039e+04</td>\n",
              "      <td>4.266182e+01</td>\n",
              "      <td>-8.022871e+00</td>\n",
              "      <td>8.994252e+00</td>\n",
              "      <td>0.0</td>\n",
              "      <td>9.677706e+02</td>\n",
              "      <td>6.805140e-03</td>\n",
              "      <td>1.167266e+02</td>\n",
              "      <td>2.144441e+00</td>\n",
              "    </tr>\n",
              "    <tr>\n",
              "      <th>std</th>\n",
              "      <td>4.163865e+01</td>\n",
              "      <td>4.825840e-01</td>\n",
              "      <td>6.507180e-01</td>\n",
              "      <td>5.504882e+00</td>\n",
              "      <td>0.0</td>\n",
              "      <td>4.522947e+01</td>\n",
              "      <td>2.574166e-01</td>\n",
              "      <td>2.210808e+02</td>\n",
              "      <td>3.068800e+00</td>\n",
              "    </tr>\n",
              "    <tr>\n",
              "      <th>min</th>\n",
              "      <td>2.015800e+04</td>\n",
              "      <td>4.189820e+01</td>\n",
              "      <td>-9.178300e+00</td>\n",
              "      <td>-2.800000e+01</td>\n",
              "      <td>0.0</td>\n",
              "      <td>7.000000e+02</td>\n",
              "      <td>0.000000e+00</td>\n",
              "      <td>0.000000e+00</td>\n",
              "      <td>0.000000e+00</td>\n",
              "    </tr>\n",
              "    <tr>\n",
              "      <th>25%</th>\n",
              "      <td>2.019500e+04</td>\n",
              "      <td>4.231240e+01</td>\n",
              "      <td>-8.644000e+00</td>\n",
              "      <td>5.000000e+00</td>\n",
              "      <td>0.0</td>\n",
              "      <td>9.430000e+02</td>\n",
              "      <td>0.000000e+00</td>\n",
              "      <td>0.000000e+00</td>\n",
              "      <td>0.000000e+00</td>\n",
              "    </tr>\n",
              "    <tr>\n",
              "      <th>50%</th>\n",
              "      <td>2.023100e+04</td>\n",
              "      <td>4.255520e+01</td>\n",
              "      <td>-8.066800e+00</td>\n",
              "      <td>9.000000e+00</td>\n",
              "      <td>0.0</td>\n",
              "      <td>9.750000e+02</td>\n",
              "      <td>0.000000e+00</td>\n",
              "      <td>0.000000e+00</td>\n",
              "      <td>1.000000e+00</td>\n",
              "    </tr>\n",
              "    <tr>\n",
              "      <th>75%</th>\n",
              "      <td>2.026600e+04</td>\n",
              "      <td>4.303590e+01</td>\n",
              "      <td>-7.439200e+00</td>\n",
              "      <td>1.200000e+01</td>\n",
              "      <td>0.0</td>\n",
              "      <td>1.004000e+03</td>\n",
              "      <td>0.000000e+00</td>\n",
              "      <td>1.220000e+02</td>\n",
              "      <td>3.000000e+00</td>\n",
              "    </tr>\n",
              "    <tr>\n",
              "      <th>max</th>\n",
              "      <td>2.030200e+04</td>\n",
              "      <td>4.373400e+01</td>\n",
              "      <td>-6.765200e+00</td>\n",
              "      <td>4.800000e+01</td>\n",
              "      <td>0.0</td>\n",
              "      <td>1.061000e+03</td>\n",
              "      <td>1.190000e+02</td>\n",
              "      <td>1.265000e+03</td>\n",
              "      <td>1.500000e+02</td>\n",
              "    </tr>\n",
              "  </tbody>\n",
              "</table>\n",
              "</div>"
            ],
            "text/plain": [
              "         estacionid           lat  ...           rad         vvien\n",
              "count  2.510008e+06  2.510008e+06  ...  2.499161e+06  2.507539e+06\n",
              "mean   2.023039e+04  4.266182e+01  ...  1.167266e+02  2.144441e+00\n",
              "std    4.163865e+01  4.825840e-01  ...  2.210808e+02  3.068800e+00\n",
              "min    2.015800e+04  4.189820e+01  ...  0.000000e+00  0.000000e+00\n",
              "25%    2.019500e+04  4.231240e+01  ...  0.000000e+00  0.000000e+00\n",
              "50%    2.023100e+04  4.255520e+01  ...  0.000000e+00  1.000000e+00\n",
              "75%    2.026600e+04  4.303590e+01  ...  1.220000e+02  3.000000e+00\n",
              "max    2.030200e+04  4.373400e+01  ...  1.265000e+03  1.500000e+02\n",
              "\n",
              "[8 rows x 9 columns]"
            ]
          },
          "metadata": {
            "tags": []
          },
          "execution_count": 6
        }
      ]
    },
    {
      "cell_type": "markdown",
      "metadata": {
        "id": "eKWDWnpM7doF"
      },
      "source": [
        "### Eliminar columnas innecesarias"
      ]
    },
    {
      "cell_type": "code",
      "metadata": {
        "id": "_CMxwG6_7doG"
      },
      "source": [
        "data = data.drop(columns=['tipodered', 'hum', 'prec', 'vvien', 'pres'])"
      ],
      "execution_count": 7,
      "outputs": []
    },
    {
      "cell_type": "code",
      "metadata": {
        "id": "H_HAJhmv7doL",
        "outputId": "1334bc44-faf8-413c-ff3e-4cb83a5cf633",
        "colab": {
          "base_uri": "https://localhost:8080/",
          "height": 34
        }
      },
      "source": [
        "len(data)"
      ],
      "execution_count": 8,
      "outputs": [
        {
          "output_type": "execute_result",
          "data": {
            "text/plain": [
              "2510008"
            ]
          },
          "metadata": {
            "tags": []
          },
          "execution_count": 8
        }
      ]
    },
    {
      "cell_type": "code",
      "metadata": {
        "id": "1mqMLiPV7doQ",
        "outputId": "66bf88e2-c1ab-48dc-bb57-4dd67e6e46b8",
        "colab": {
          "base_uri": "https://localhost:8080/",
          "height": 119
        }
      },
      "source": [
        "data.isnull().sum()"
      ],
      "execution_count": 9,
      "outputs": [
        {
          "output_type": "execute_result",
          "data": {
            "text/plain": [
              "estacionid        0\n",
              "lat               0\n",
              "lon               0\n",
              "tamb           2475\n",
              "rad           10847\n",
              "dtype: int64"
            ]
          },
          "metadata": {
            "tags": []
          },
          "execution_count": 9
        }
      ]
    },
    {
      "cell_type": "code",
      "metadata": {
        "id": "BAUt5CxK7doU"
      },
      "source": [
        "data = data.dropna()"
      ],
      "execution_count": 10,
      "outputs": []
    },
    {
      "cell_type": "code",
      "metadata": {
        "id": "BKa9IQWj7doY",
        "outputId": "d8d56321-44a8-4bee-a8fa-5d9f6e3bcbf1",
        "colab": {
          "base_uri": "https://localhost:8080/",
          "height": 34
        }
      },
      "source": [
        "len(data)"
      ],
      "execution_count": 11,
      "outputs": [
        {
          "output_type": "execute_result",
          "data": {
            "text/plain": [
              "2496903"
            ]
          },
          "metadata": {
            "tags": []
          },
          "execution_count": 11
        }
      ]
    },
    {
      "cell_type": "code",
      "metadata": {
        "id": "3DrDtLqC7doc",
        "outputId": "071f8abd-077c-4d8d-966a-71892385e5cc",
        "colab": {
          "base_uri": "https://localhost:8080/",
          "height": 119
        }
      },
      "source": [
        "data.isnull().sum()"
      ],
      "execution_count": 12,
      "outputs": [
        {
          "output_type": "execute_result",
          "data": {
            "text/plain": [
              "estacionid    0\n",
              "lat           0\n",
              "lon           0\n",
              "tamb          0\n",
              "rad           0\n",
              "dtype: int64"
            ]
          },
          "metadata": {
            "tags": []
          },
          "execution_count": 12
        }
      ]
    },
    {
      "cell_type": "code",
      "metadata": {
        "id": "aNpuDQAu7dog",
        "outputId": "3e4e586f-2492-4c93-b8eb-85942cb635bb",
        "colab": {
          "base_uri": "https://localhost:8080/",
          "height": 450
        }
      },
      "source": [
        "data"
      ],
      "execution_count": 13,
      "outputs": [
        {
          "output_type": "execute_result",
          "data": {
            "text/html": [
              "<div>\n",
              "<style scoped>\n",
              "    .dataframe tbody tr th:only-of-type {\n",
              "        vertical-align: middle;\n",
              "    }\n",
              "\n",
              "    .dataframe tbody tr th {\n",
              "        vertical-align: top;\n",
              "    }\n",
              "\n",
              "    .dataframe thead th {\n",
              "        text-align: right;\n",
              "    }\n",
              "</style>\n",
              "<table border=\"1\" class=\"dataframe\">\n",
              "  <thead>\n",
              "    <tr style=\"text-align: right;\">\n",
              "      <th></th>\n",
              "      <th>estacionid</th>\n",
              "      <th>lat</th>\n",
              "      <th>lon</th>\n",
              "      <th>tamb</th>\n",
              "      <th>rad</th>\n",
              "    </tr>\n",
              "    <tr>\n",
              "      <th>fecha</th>\n",
              "      <th></th>\n",
              "      <th></th>\n",
              "      <th></th>\n",
              "      <th></th>\n",
              "      <th></th>\n",
              "    </tr>\n",
              "  </thead>\n",
              "  <tbody>\n",
              "    <tr>\n",
              "      <th>2019-01-01 00:10:00</th>\n",
              "      <td>20284</td>\n",
              "      <td>42.4044</td>\n",
              "      <td>-8.6730</td>\n",
              "      <td>5.4</td>\n",
              "      <td>0.0</td>\n",
              "    </tr>\n",
              "    <tr>\n",
              "      <th>2019-01-01 00:10:00</th>\n",
              "      <td>20233</td>\n",
              "      <td>42.3554</td>\n",
              "      <td>-7.0086</td>\n",
              "      <td>7.3</td>\n",
              "      <td>0.0</td>\n",
              "    </tr>\n",
              "    <tr>\n",
              "      <th>2019-01-01 00:10:00</th>\n",
              "      <td>20218</td>\n",
              "      <td>43.1626</td>\n",
              "      <td>-7.2826</td>\n",
              "      <td>9.2</td>\n",
              "      <td>0.0</td>\n",
              "    </tr>\n",
              "    <tr>\n",
              "      <th>2019-01-01 00:10:00</th>\n",
              "      <td>20217</td>\n",
              "      <td>42.7071</td>\n",
              "      <td>-7.0471</td>\n",
              "      <td>8.5</td>\n",
              "      <td>1.0</td>\n",
              "    </tr>\n",
              "    <tr>\n",
              "      <th>2019-01-01 00:10:00</th>\n",
              "      <td>20221</td>\n",
              "      <td>43.5407</td>\n",
              "      <td>-7.0830</td>\n",
              "      <td>5.3</td>\n",
              "      <td>0.0</td>\n",
              "    </tr>\n",
              "    <tr>\n",
              "      <th>...</th>\n",
              "      <td>...</td>\n",
              "      <td>...</td>\n",
              "      <td>...</td>\n",
              "      <td>...</td>\n",
              "      <td>...</td>\n",
              "    </tr>\n",
              "    <tr>\n",
              "      <th>2019-06-01 19:40:00</th>\n",
              "      <td>20249</td>\n",
              "      <td>42.2987</td>\n",
              "      <td>-7.5907</td>\n",
              "      <td>25.0</td>\n",
              "      <td>402.0</td>\n",
              "    </tr>\n",
              "    <tr>\n",
              "      <th>2019-06-01 19:40:00</th>\n",
              "      <td>20259</td>\n",
              "      <td>42.1630</td>\n",
              "      <td>-7.0896</td>\n",
              "      <td>27.0</td>\n",
              "      <td>374.0</td>\n",
              "    </tr>\n",
              "    <tr>\n",
              "      <th>2019-06-01 19:40:00</th>\n",
              "      <td>20255</td>\n",
              "      <td>42.4631</td>\n",
              "      <td>-6.9295</td>\n",
              "      <td>30.0</td>\n",
              "      <td>378.0</td>\n",
              "    </tr>\n",
              "    <tr>\n",
              "      <th>2019-06-01 19:40:00</th>\n",
              "      <td>20187</td>\n",
              "      <td>42.8760</td>\n",
              "      <td>-8.5594</td>\n",
              "      <td>28.0</td>\n",
              "      <td>419.0</td>\n",
              "    </tr>\n",
              "    <tr>\n",
              "      <th>2019-06-01 19:40:00</th>\n",
              "      <td>20295</td>\n",
              "      <td>42.0786</td>\n",
              "      <td>-8.6794</td>\n",
              "      <td>25.0</td>\n",
              "      <td>26.0</td>\n",
              "    </tr>\n",
              "  </tbody>\n",
              "</table>\n",
              "<p>2496903 rows × 5 columns</p>\n",
              "</div>"
            ],
            "text/plain": [
              "                     estacionid      lat     lon  tamb    rad\n",
              "fecha                                                        \n",
              "2019-01-01 00:10:00       20284  42.4044 -8.6730   5.4    0.0\n",
              "2019-01-01 00:10:00       20233  42.3554 -7.0086   7.3    0.0\n",
              "2019-01-01 00:10:00       20218  43.1626 -7.2826   9.2    0.0\n",
              "2019-01-01 00:10:00       20217  42.7071 -7.0471   8.5    1.0\n",
              "2019-01-01 00:10:00       20221  43.5407 -7.0830   5.3    0.0\n",
              "...                         ...      ...     ...   ...    ...\n",
              "2019-06-01 19:40:00       20249  42.2987 -7.5907  25.0  402.0\n",
              "2019-06-01 19:40:00       20259  42.1630 -7.0896  27.0  374.0\n",
              "2019-06-01 19:40:00       20255  42.4631 -6.9295  30.0  378.0\n",
              "2019-06-01 19:40:00       20187  42.8760 -8.5594  28.0  419.0\n",
              "2019-06-01 19:40:00       20295  42.0786 -8.6794  25.0   26.0\n",
              "\n",
              "[2496903 rows x 5 columns]"
            ]
          },
          "metadata": {
            "tags": []
          },
          "execution_count": 13
        }
      ]
    },
    {
      "cell_type": "markdown",
      "metadata": {
        "id": "8JDodDIL7dol"
      },
      "source": [
        "### Escalar"
      ]
    },
    {
      "cell_type": "code",
      "metadata": {
        "id": "CkohPC0I7dom"
      },
      "source": [
        "from sklearn.preprocessing import MinMaxScaler"
      ],
      "execution_count": 14,
      "outputs": []
    },
    {
      "cell_type": "markdown",
      "metadata": {
        "id": "f0Tb92Sx7doq"
      },
      "source": [
        "```python\n",
        "X_std = (X - X.min(axis=0)) / (X.max(axis=0) - X.min(axis=0))\n",
        "X_scaled = X_std * (max - min) + min\n",
        "```"
      ]
    },
    {
      "cell_type": "code",
      "metadata": {
        "id": "gAHvDB597doq"
      },
      "source": [
        "scaler = MinMaxScaler(feature_range=(-1, 1))"
      ],
      "execution_count": 15,
      "outputs": []
    },
    {
      "cell_type": "code",
      "metadata": {
        "id": "BU2cKziA7dou",
        "outputId": "8abcffb0-7458-4851-cbe9-1beb3e8c4920",
        "colab": {
          "base_uri": "https://localhost:8080/",
          "height": 34
        }
      },
      "source": [
        "scaler.fit(data.drop(columns=['estacionid']))"
      ],
      "execution_count": 16,
      "outputs": [
        {
          "output_type": "execute_result",
          "data": {
            "text/plain": [
              "MinMaxScaler(copy=True, feature_range=(-1, 1))"
            ]
          },
          "metadata": {
            "tags": []
          },
          "execution_count": 16
        }
      ]
    },
    {
      "cell_type": "code",
      "metadata": {
        "id": "rrsXCtDv7doy",
        "outputId": "0df063cd-5a62-4f5f-a16d-021d94b4f84d",
        "colab": {
          "base_uri": "https://localhost:8080/",
          "height": 34
        }
      },
      "source": [
        "scaler.data_min_"
      ],
      "execution_count": 17,
      "outputs": [
        {
          "output_type": "execute_result",
          "data": {
            "text/plain": [
              "array([ 41.8982,  -9.1783, -28.    ,   0.    ])"
            ]
          },
          "metadata": {
            "tags": []
          },
          "execution_count": 17
        }
      ]
    },
    {
      "cell_type": "code",
      "metadata": {
        "id": "VBmZ1mSk7do2",
        "outputId": "ceebda0b-b115-4940-eeec-7fdd82f375e1",
        "colab": {
          "base_uri": "https://localhost:8080/",
          "height": 34
        }
      },
      "source": [
        "scaler.data_max_"
      ],
      "execution_count": 18,
      "outputs": [
        {
          "output_type": "execute_result",
          "data": {
            "text/plain": [
              "array([  43.734 ,   -6.7652,   43.    , 1265.    ])"
            ]
          },
          "metadata": {
            "tags": []
          },
          "execution_count": 18
        }
      ]
    },
    {
      "cell_type": "markdown",
      "metadata": {
        "id": "rS7ccJWY7do7"
      },
      "source": [
        "### Obtener id de las estaciones"
      ]
    },
    {
      "cell_type": "code",
      "metadata": {
        "id": "OUJGGOhe7do8",
        "outputId": "e3f9c9f4-2c06-443c-eeb8-902f5d269161",
        "colab": {
          "base_uri": "https://localhost:8080/",
          "height": 34
        }
      },
      "source": [
        "estaciones = [s for s in set(data['estacionid'])]\n",
        "\n",
        "len(estaciones)"
      ],
      "execution_count": 19,
      "outputs": [
        {
          "output_type": "execute_result",
          "data": {
            "text/plain": [
              "142"
            ]
          },
          "metadata": {
            "tags": []
          },
          "execution_count": 19
        }
      ]
    },
    {
      "cell_type": "markdown",
      "metadata": {
        "id": "4vg83X2F7dpA"
      },
      "source": [
        "### Obtener datos de las estaciones\n",
        "\n",
        "**Las estaciones que no tienen registro de radiación son eliminadas**"
      ]
    },
    {
      "cell_type": "code",
      "metadata": {
        "id": "uP_mPx3D7dpB",
        "outputId": "42e19067-ec38-4b8e-b6ef-909e021b1d75",
        "colab": {
          "base_uri": "https://localhost:8080/",
          "height": 51
        }
      },
      "source": [
        "%%time\n",
        "data_by_station = []\n",
        "\n",
        "for s in estaciones:\n",
        "    filter_station = data['estacionid'] == s\n",
        "    data_station = data[filter_station].drop(columns=['estacionid'])\n",
        "    d = data_station.describe()\n",
        "    if d.rad['max'] != 0:\n",
        "        data_by_station.append(data_station)"
      ],
      "execution_count": 20,
      "outputs": [
        {
          "output_type": "stream",
          "text": [
            "CPU times: user 2.45 s, sys: 31.6 ms, total: 2.48 s\n",
            "Wall time: 2.24 s\n"
          ],
          "name": "stdout"
        }
      ]
    },
    {
      "cell_type": "code",
      "metadata": {
        "id": "5TEpasB87dpG",
        "outputId": "11dbbfec-674c-41e3-c253-7b91257717e9",
        "colab": {
          "base_uri": "https://localhost:8080/",
          "height": 34
        }
      },
      "source": [
        "len(data_by_station)"
      ],
      "execution_count": 21,
      "outputs": [
        {
          "output_type": "execute_result",
          "data": {
            "text/plain": [
              "111"
            ]
          },
          "metadata": {
            "tags": []
          },
          "execution_count": 21
        }
      ]
    },
    {
      "cell_type": "markdown",
      "metadata": {
        "id": "XjikvjIm7dpK"
      },
      "source": [
        "### Ajustar intervalos de tiempo\n",
        "\n",
        "**Ajuste de 1 hora**"
      ]
    },
    {
      "cell_type": "code",
      "metadata": {
        "id": "ORSA-EH67dpL",
        "outputId": "103cb8f2-5629-460c-d716-ee1d22f1181a",
        "colab": {
          "base_uri": "https://localhost:8080/",
          "height": 51
        }
      },
      "source": [
        "%%time\n",
        "data_by_station = [s.resample('1H').mean().ffill().bfill() for s in data_by_station]"
      ],
      "execution_count": 22,
      "outputs": [
        {
          "output_type": "stream",
          "text": [
            "CPU times: user 251 ms, sys: 3.94 ms, total: 255 ms\n",
            "Wall time: 257 ms\n"
          ],
          "name": "stdout"
        }
      ]
    },
    {
      "cell_type": "code",
      "metadata": {
        "id": "Ps5ttuJ17dpO",
        "outputId": "b532bccd-f2d2-46c8-eff5-d0d670053fd6",
        "colab": {
          "base_uri": "https://localhost:8080/",
          "height": 450
        }
      },
      "source": [
        "data_by_station[0]"
      ],
      "execution_count": 23,
      "outputs": [
        {
          "output_type": "execute_result",
          "data": {
            "text/html": [
              "<div>\n",
              "<style scoped>\n",
              "    .dataframe tbody tr th:only-of-type {\n",
              "        vertical-align: middle;\n",
              "    }\n",
              "\n",
              "    .dataframe tbody tr th {\n",
              "        vertical-align: top;\n",
              "    }\n",
              "\n",
              "    .dataframe thead th {\n",
              "        text-align: right;\n",
              "    }\n",
              "</style>\n",
              "<table border=\"1\" class=\"dataframe\">\n",
              "  <thead>\n",
              "    <tr style=\"text-align: right;\">\n",
              "      <th></th>\n",
              "      <th>lat</th>\n",
              "      <th>lon</th>\n",
              "      <th>tamb</th>\n",
              "      <th>rad</th>\n",
              "    </tr>\n",
              "    <tr>\n",
              "      <th>fecha</th>\n",
              "      <th></th>\n",
              "      <th></th>\n",
              "      <th></th>\n",
              "      <th></th>\n",
              "    </tr>\n",
              "  </thead>\n",
              "  <tbody>\n",
              "    <tr>\n",
              "      <th>2019-01-01 01:00:00</th>\n",
              "      <td>43.3634</td>\n",
              "      <td>-8.4419</td>\n",
              "      <td>10.700</td>\n",
              "      <td>0.000000</td>\n",
              "    </tr>\n",
              "    <tr>\n",
              "      <th>2019-01-01 02:00:00</th>\n",
              "      <td>43.3634</td>\n",
              "      <td>-8.4419</td>\n",
              "      <td>10.350</td>\n",
              "      <td>0.000000</td>\n",
              "    </tr>\n",
              "    <tr>\n",
              "      <th>2019-01-01 03:00:00</th>\n",
              "      <td>43.3634</td>\n",
              "      <td>-8.4419</td>\n",
              "      <td>9.800</td>\n",
              "      <td>0.000000</td>\n",
              "    </tr>\n",
              "    <tr>\n",
              "      <th>2019-01-01 04:00:00</th>\n",
              "      <td>43.3634</td>\n",
              "      <td>-8.4419</td>\n",
              "      <td>11.125</td>\n",
              "      <td>0.000000</td>\n",
              "    </tr>\n",
              "    <tr>\n",
              "      <th>2019-01-01 05:00:00</th>\n",
              "      <td>43.3634</td>\n",
              "      <td>-8.4419</td>\n",
              "      <td>11.675</td>\n",
              "      <td>0.000000</td>\n",
              "    </tr>\n",
              "    <tr>\n",
              "      <th>...</th>\n",
              "      <td>...</td>\n",
              "      <td>...</td>\n",
              "      <td>...</td>\n",
              "      <td>...</td>\n",
              "    </tr>\n",
              "    <tr>\n",
              "      <th>2019-06-01 15:00:00</th>\n",
              "      <td>43.3634</td>\n",
              "      <td>-8.4419</td>\n",
              "      <td>22.750</td>\n",
              "      <td>851.000000</td>\n",
              "    </tr>\n",
              "    <tr>\n",
              "      <th>2019-06-01 16:00:00</th>\n",
              "      <td>43.3634</td>\n",
              "      <td>-8.4419</td>\n",
              "      <td>22.500</td>\n",
              "      <td>800.500000</td>\n",
              "    </tr>\n",
              "    <tr>\n",
              "      <th>2019-06-01 17:00:00</th>\n",
              "      <td>43.3634</td>\n",
              "      <td>-8.4419</td>\n",
              "      <td>24.750</td>\n",
              "      <td>693.750000</td>\n",
              "    </tr>\n",
              "    <tr>\n",
              "      <th>2019-06-01 18:00:00</th>\n",
              "      <td>43.3634</td>\n",
              "      <td>-8.4419</td>\n",
              "      <td>26.250</td>\n",
              "      <td>596.500000</td>\n",
              "    </tr>\n",
              "    <tr>\n",
              "      <th>2019-06-01 19:00:00</th>\n",
              "      <td>43.3634</td>\n",
              "      <td>-8.4419</td>\n",
              "      <td>24.000</td>\n",
              "      <td>375.666667</td>\n",
              "    </tr>\n",
              "  </tbody>\n",
              "</table>\n",
              "<p>3643 rows × 4 columns</p>\n",
              "</div>"
            ],
            "text/plain": [
              "                         lat     lon    tamb         rad\n",
              "fecha                                                   \n",
              "2019-01-01 01:00:00  43.3634 -8.4419  10.700    0.000000\n",
              "2019-01-01 02:00:00  43.3634 -8.4419  10.350    0.000000\n",
              "2019-01-01 03:00:00  43.3634 -8.4419   9.800    0.000000\n",
              "2019-01-01 04:00:00  43.3634 -8.4419  11.125    0.000000\n",
              "2019-01-01 05:00:00  43.3634 -8.4419  11.675    0.000000\n",
              "...                      ...     ...     ...         ...\n",
              "2019-06-01 15:00:00  43.3634 -8.4419  22.750  851.000000\n",
              "2019-06-01 16:00:00  43.3634 -8.4419  22.500  800.500000\n",
              "2019-06-01 17:00:00  43.3634 -8.4419  24.750  693.750000\n",
              "2019-06-01 18:00:00  43.3634 -8.4419  26.250  596.500000\n",
              "2019-06-01 19:00:00  43.3634 -8.4419  24.000  375.666667\n",
              "\n",
              "[3643 rows x 4 columns]"
            ]
          },
          "metadata": {
            "tags": []
          },
          "execution_count": 23
        }
      ]
    },
    {
      "cell_type": "code",
      "metadata": {
        "id": "4w4d9lol7dpS"
      },
      "source": [
        "#for d in data_by_station:\n",
        "#    d['day']=[x.day for x in d.index]\n",
        "#    d['month']=[x.month for x in d.index]\n",
        "#    d['hour']=[x.hour for x in d.index]"
      ],
      "execution_count": 24,
      "outputs": []
    },
    {
      "cell_type": "code",
      "metadata": {
        "id": "uIFd2XdH7dpX"
      },
      "source": [
        "# data_by_station[0]"
      ],
      "execution_count": 25,
      "outputs": []
    },
    {
      "cell_type": "code",
      "metadata": {
        "id": "SrFE-AXw7dpb",
        "outputId": "b3329873-eb43-424c-efd7-e544a951d5d2",
        "colab": {
          "base_uri": "https://localhost:8080/",
          "height": 51
        }
      },
      "source": [
        "### rad\n",
        "data_by_station[0].values[:, -1]"
      ],
      "execution_count": 26,
      "outputs": [
        {
          "output_type": "execute_result",
          "data": {
            "text/plain": [
              "array([  0.        ,   0.        ,   0.        , ..., 693.75      ,\n",
              "       596.5       , 375.66666667])"
            ]
          },
          "metadata": {
            "tags": []
          },
          "execution_count": 26
        }
      ]
    },
    {
      "cell_type": "markdown",
      "metadata": {
        "id": "bSmEyiho7dpi"
      },
      "source": [
        "### Visualización"
      ]
    },
    {
      "cell_type": "code",
      "metadata": {
        "id": "YmMJTg4i7dpj"
      },
      "source": [
        "import matplotlib.pyplot as plt\n",
        "import seaborn as sns\n",
        "\n",
        "sns.set(rc={'figure.figsize': (16, 6)})"
      ],
      "execution_count": 27,
      "outputs": []
    },
    {
      "cell_type": "markdown",
      "metadata": {
        "id": "FEas9tMs7dpm"
      },
      "source": [
        "### Preparación de los datos para el entrenamiento de la red"
      ]
    },
    {
      "cell_type": "code",
      "metadata": {
        "id": "Qa0IE1vW7dpn"
      },
      "source": [
        "import numpy as np\n",
        "import tensorflow as tf\n",
        "\n",
        "# Se fija la semilla para generar valores aleatorios\n",
        "np.random.seed(1)\n",
        "tf.random.set_seed(1)"
      ],
      "execution_count": 28,
      "outputs": []
    },
    {
      "cell_type": "markdown",
      "metadata": {
        "id": "LUR2zkEO7dpq"
      },
      "source": [
        "#### Función para preparar los datos para una RNN"
      ]
    },
    {
      "cell_type": "code",
      "metadata": {
        "id": "QDzhX5627dpr"
      },
      "source": [
        "def get_rnn_data(dataset, history_size=30, target_size=7):\n",
        "    start_index = history_size\n",
        "    end_index = len(dataset) - target_size\n",
        "    \n",
        "    data = []\n",
        "    labels = []\n",
        "    \n",
        "    for i in range(start_index, end_index):\n",
        "        indices = range(i - history_size, i, 1)\n",
        "        data.append(dataset[indices])\n",
        "        labels.append(dataset[i:i+target_size, -1])\n",
        "        \n",
        "    data = np.array(data)\n",
        "    labels = np.array(labels)\n",
        "    \n",
        "    return data, labels"
      ],
      "execution_count": 29,
      "outputs": []
    },
    {
      "cell_type": "code",
      "metadata": {
        "id": "5Lq5yWhp7dpw"
      },
      "source": [
        "past_history = 23 # Pasar información de 23 horas anteriores\n",
        "forecast_horizon = 1 # Obtener nivel de radiacion para la siguiente hora"
      ],
      "execution_count": 30,
      "outputs": []
    },
    {
      "cell_type": "code",
      "metadata": {
        "id": "vrwsRsVA7dp0",
        "outputId": "bf92c7bb-c611-431c-ca1d-11bf114c8605",
        "colab": {
          "base_uri": "https://localhost:8080/",
          "height": 136
        }
      },
      "source": [
        "data_by_station = [scaler.transform(x) for x in data_by_station]\n",
        "\n",
        "data_by_station[0]"
      ],
      "execution_count": 31,
      "outputs": [
        {
          "output_type": "execute_result",
          "data": {
            "text/plain": [
              "array([[ 0.59625232, -0.38966475,  0.09014085, -1.        ],\n",
              "       [ 0.59625232, -0.38966475,  0.08028169, -1.        ],\n",
              "       [ 0.59625232, -0.38966475,  0.06478873, -1.        ],\n",
              "       ...,\n",
              "       [ 0.59625232, -0.38966475,  0.48591549,  0.09683794],\n",
              "       [ 0.59625232, -0.38966475,  0.52816901, -0.056917  ],\n",
              "       [ 0.59625232, -0.38966475,  0.46478873, -0.40606061]])"
            ]
          },
          "metadata": {
            "tags": []
          },
          "execution_count": 31
        }
      ]
    },
    {
      "cell_type": "code",
      "metadata": {
        "id": "cc0XIHLr7dp4",
        "outputId": "8b0bc867-e506-48ee-deee-e2430fa5f252",
        "colab": {
          "base_uri": "https://localhost:8080/",
          "height": 51
        }
      },
      "source": [
        "%%time\n",
        "data = [get_rnn_data(d, past_history, forecast_horizon) for d in data_by_station]"
      ],
      "execution_count": 32,
      "outputs": [
        {
          "output_type": "stream",
          "text": [
            "CPU times: user 5 s, sys: 27.2 ms, total: 5.03 s\n",
            "Wall time: 5.03 s\n"
          ],
          "name": "stdout"
        }
      ]
    },
    {
      "cell_type": "code",
      "metadata": {
        "id": "rlHru8Mh7dp8",
        "outputId": "7f88253a-3bfe-4265-c5dd-e67c640d2ea0",
        "colab": {
          "base_uri": "https://localhost:8080/",
          "height": 34
        }
      },
      "source": [
        "len(data)"
      ],
      "execution_count": 33,
      "outputs": [
        {
          "output_type": "execute_result",
          "data": {
            "text/plain": [
              "111"
            ]
          },
          "metadata": {
            "tags": []
          },
          "execution_count": 33
        }
      ]
    },
    {
      "cell_type": "code",
      "metadata": {
        "id": "xtyDneJx7dp_"
      },
      "source": [
        "data_input = data[0][0]\n",
        "data_target = data[0][1]"
      ],
      "execution_count": 34,
      "outputs": []
    },
    {
      "cell_type": "code",
      "metadata": {
        "id": "7bIav80O7dqF",
        "outputId": "f51ec5f1-fa80-4e3a-d137-dc6ba2762625",
        "colab": {
          "base_uri": "https://localhost:8080/",
          "height": 34
        }
      },
      "source": [
        "data_input.shape"
      ],
      "execution_count": 35,
      "outputs": [
        {
          "output_type": "execute_result",
          "data": {
            "text/plain": [
              "(3619, 23, 4)"
            ]
          },
          "metadata": {
            "tags": []
          },
          "execution_count": 35
        }
      ]
    },
    {
      "cell_type": "code",
      "metadata": {
        "id": "PAjzL6vq7dqK",
        "outputId": "af04023a-adba-4981-8b67-9f9dd4501965",
        "colab": {
          "base_uri": "https://localhost:8080/",
          "height": 34
        }
      },
      "source": [
        "data_target.shape"
      ],
      "execution_count": 36,
      "outputs": [
        {
          "output_type": "execute_result",
          "data": {
            "text/plain": [
              "(3619, 1)"
            ]
          },
          "metadata": {
            "tags": []
          },
          "execution_count": 36
        }
      ]
    },
    {
      "cell_type": "code",
      "metadata": {
        "id": "hJr47Dd47dqN",
        "outputId": "4cee3bef-968d-4b45-a483-707eceeb3bfe",
        "colab": {
          "base_uri": "https://localhost:8080/",
          "height": 51
        }
      },
      "source": [
        "%%time\n",
        "for i in range(1, len(data)):\n",
        "    data_input = np.concatenate((data_input, data[i][0]))\n",
        "    data_target = np.concatenate((data_target, data[i][1]))"
      ],
      "execution_count": 37,
      "outputs": [
        {
          "output_type": "stream",
          "text": [
            "CPU times: user 4.54 s, sys: 328 ms, total: 4.87 s\n",
            "Wall time: 4.88 s\n"
          ],
          "name": "stdout"
        }
      ]
    },
    {
      "cell_type": "code",
      "metadata": {
        "id": "pEaIDWo87dqR",
        "outputId": "64271188-590c-406c-e94c-7ca2660ae9bc",
        "colab": {
          "base_uri": "https://localhost:8080/",
          "height": 34
        }
      },
      "source": [
        "data_input.shape"
      ],
      "execution_count": 38,
      "outputs": [
        {
          "output_type": "execute_result",
          "data": {
            "text/plain": [
              "(401335, 23, 4)"
            ]
          },
          "metadata": {
            "tags": []
          },
          "execution_count": 38
        }
      ]
    },
    {
      "cell_type": "code",
      "metadata": {
        "id": "Gbs9ujDA7dqU",
        "outputId": "23d9d4ac-2336-4522-9af0-ae2e3dadac05",
        "colab": {
          "base_uri": "https://localhost:8080/",
          "height": 204
        }
      },
      "source": [
        "rad_range = ['{0}-{1}'.format(i, i+100) for i in range(0, 1100, 100)]\n",
        "\n",
        "rad_range"
      ],
      "execution_count": 39,
      "outputs": [
        {
          "output_type": "execute_result",
          "data": {
            "text/plain": [
              "['0-100',\n",
              " '100-200',\n",
              " '200-300',\n",
              " '300-400',\n",
              " '400-500',\n",
              " '500-600',\n",
              " '600-700',\n",
              " '700-800',\n",
              " '800-900',\n",
              " '900-1000',\n",
              " '1000-1100']"
            ]
          },
          "metadata": {
            "tags": []
          },
          "execution_count": 39
        }
      ]
    },
    {
      "cell_type": "code",
      "metadata": {
        "id": "-qsZ_MF_7dqa",
        "outputId": "f2f9e575-933b-4c90-eb25-20098e23b130",
        "colab": {
          "base_uri": "https://localhost:8080/",
          "height": 34
        }
      },
      "source": [
        "z = np.zeros(shape=(data_target.shape[0], 3))\n",
        "\n",
        "z2 = np.concatenate((z, data_target), axis=1)\n",
        "\n",
        "rad = scaler.inverse_transform(z2)[:,-1]\n",
        "\n",
        "rad.max()"
      ],
      "execution_count": 40,
      "outputs": [
        {
          "output_type": "execute_result",
          "data": {
            "text/plain": [
              "1138.5"
            ]
          },
          "metadata": {
            "tags": []
          },
          "execution_count": 40
        }
      ]
    },
    {
      "cell_type": "code",
      "metadata": {
        "id": "EnEUEFEi7dqe",
        "outputId": "665c8545-1013-4999-8c7c-ee0f5252f1be",
        "colab": {
          "base_uri": "https://localhost:8080/",
          "height": 34
        }
      },
      "source": [
        "rad.min()"
      ],
      "execution_count": 41,
      "outputs": [
        {
          "output_type": "execute_result",
          "data": {
            "text/plain": [
              "0.0"
            ]
          },
          "metadata": {
            "tags": []
          },
          "execution_count": 41
        }
      ]
    },
    {
      "cell_type": "code",
      "metadata": {
        "id": "F8UIClQp7dqi"
      },
      "source": [
        "def get_range_category(v):\n",
        "    if v < 100:\n",
        "        return 0\n",
        "    if v < 200:\n",
        "        return 1\n",
        "    if v < 300:\n",
        "        return 2\n",
        "    if v < 400:\n",
        "        return 3\n",
        "    if v < 500:\n",
        "        return 4\n",
        "    if v < 600:\n",
        "        return 5\n",
        "    if v < 700:\n",
        "        return 6\n",
        "    if v < 800:\n",
        "        return 7\n",
        "    if v < 900:\n",
        "        return 8\n",
        "    if v < 1000:\n",
        "        return 9\n",
        "    if v >= 1000:\n",
        "        return 10\n",
        "\n",
        "labels = [get_range_category(x) for x in rad]"
      ],
      "execution_count": 42,
      "outputs": []
    },
    {
      "cell_type": "code",
      "metadata": {
        "id": "3T8VER6p7dqm",
        "outputId": "9e50956e-b6f2-4a21-eca5-c3223ce6efdc",
        "colab": {
          "base_uri": "https://localhost:8080/",
          "height": 34
        }
      },
      "source": [
        "labels[100:120]"
      ],
      "execution_count": 43,
      "outputs": [
        {
          "output_type": "execute_result",
          "data": {
            "text/plain": [
              "[0, 0, 0, 0, 0, 0, 1, 2, 3, 4, 4, 3, 2, 1, 0, 0, 0, 0, 0, 0]"
            ]
          },
          "metadata": {
            "tags": []
          },
          "execution_count": 43
        }
      ]
    },
    {
      "cell_type": "code",
      "metadata": {
        "id": "TdGyWvWj7dqq",
        "outputId": "678d32d8-b1fc-4ae4-bc14-f2d87145b07e",
        "colab": {
          "base_uri": "https://localhost:8080/",
          "height": 377
        }
      },
      "source": [
        "histogram = np.zeros(11)\n",
        "\n",
        "for i in labels:\n",
        "    histogram[i] = histogram[i] + 1\n",
        "    \n",
        "plt.plot(histogram)\n",
        "plt.show()"
      ],
      "execution_count": 44,
      "outputs": [
        {
          "output_type": "display_data",
          "data": {
            "image/png": "[encoded data removed]",
            "text/plain": [
              "<Figure size 1152x432 with 1 Axes>"
            ]
          },
          "metadata": {
            "tags": []
          }
        }
      ]
    },
    {
      "cell_type": "code",
      "metadata": {
        "id": "xN4bDxhf7dqv"
      },
      "source": [
        "from tensorflow.keras.utils import to_categorical"
      ],
      "execution_count": 45,
      "outputs": []
    },
    {
      "cell_type": "code",
      "metadata": {
        "id": "SdgYUfvy7dqz"
      },
      "source": [
        "data_target_output = to_categorical(labels, 11)"
      ],
      "execution_count": 46,
      "outputs": []
    },
    {
      "cell_type": "markdown",
      "metadata": {
        "id": "iy28yy_e7dq2"
      },
      "source": [
        "#### GRU"
      ]
    },
    {
      "cell_type": "code",
      "metadata": {
        "id": "Fvwswtbn7dq2"
      },
      "source": [
        "from tensorflow.keras.models import Sequential\n",
        "from tensorflow.keras.layers import GRU, Dense, Reshape, Conv2D\n",
        "from tensorflow.keras.callbacks import EarlyStopping"
      ],
      "execution_count": 47,
      "outputs": []
    },
    {
      "cell_type": "code",
      "metadata": {
        "id": "iz118MGg7dq5"
      },
      "source": [
        "earlyStopping = EarlyStopping(monitor='val_loss', mode='min', patience=10, restore_best_weights=True)"
      ],
      "execution_count": 48,
      "outputs": []
    },
    {
      "cell_type": "code",
      "metadata": {
        "id": "xauerIiz7dq-"
      },
      "source": [
        "from sklearn.model_selection import train_test_split"
      ],
      "execution_count": 49,
      "outputs": []
    },
    {
      "cell_type": "code",
      "metadata": {
        "id": "GH7SnRIE7drC",
        "outputId": "c61347a3-9614-480c-f0f3-17422bcd5caa",
        "colab": {
          "base_uri": "https://localhost:8080/",
          "height": 51
        }
      },
      "source": [
        "%%time\n",
        "X_train, X_test, y_train, y_test = train_test_split(data_input, data_target_output, train_size=0.8)"
      ],
      "execution_count": 50,
      "outputs": [
        {
          "output_type": "stream",
          "text": [
            "CPU times: user 127 ms, sys: 11 ms, total: 138 ms\n",
            "Wall time: 138 ms\n"
          ],
          "name": "stdout"
        }
      ]
    },
    {
      "cell_type": "code",
      "metadata": {
        "id": "lyjWduWy7drK",
        "outputId": "4eb460d3-b585-44a4-cb55-3c30adcaa255",
        "colab": {
          "base_uri": "https://localhost:8080/",
          "height": 323
        }
      },
      "source": [
        "model = Sequential([\n",
        "    Reshape(\n",
        "        input_shape=(X_train.shape[1], X_train.shape[2]), \n",
        "        target_shape=(X_train.shape[1], X_train.shape[2], 1)\n",
        "    ),\n",
        "    Conv2D(64, kernel_size=(3, 1), padding='same', activation='relu'),\n",
        "    Reshape(target_shape=(X_train.shape[1], 64*X_train.shape[2])),\n",
        "    GRU(64, activation='tanh'),\n",
        "    Dense(11, activation='softmax')\n",
        "])\n",
        "\n",
        "model.compile(loss='categorical_crossentropy', optimizer='adam', metrics=['accuracy'])\n",
        "\n",
        "model.summary()"
      ],
      "execution_count": 51,
      "outputs": [
        {
          "output_type": "stream",
          "text": [
            "Model: \"sequential\"\n",
            "_________________________________________________________________\n",
            "Layer (type)                 Output Shape              Param #   \n",
            "=================================================================\n",
            "reshape (Reshape)            (None, 23, 4, 1)          0         \n",
            "_________________________________________________________________\n",
            "conv2d (Conv2D)              (None, 23, 4, 64)         256       \n",
            "_________________________________________________________________\n",
            "reshape_1 (Reshape)          (None, 23, 256)           0         \n",
            "_________________________________________________________________\n",
            "gru (GRU)                    (None, 64)                61824     \n",
            "_________________________________________________________________\n",
            "dense (Dense)                (None, 11)                715       \n",
            "=================================================================\n",
            "Total params: 62,795\n",
            "Trainable params: 62,795\n",
            "Non-trainable params: 0\n",
            "_________________________________________________________________\n"
          ],
          "name": "stdout"
        }
      ]
    },
    {
      "cell_type": "code",
      "metadata": {
        "id": "Fl_b5tKl7drO",
        "outputId": "c3baead6-723d-4e94-889b-1a100f3fb28b",
        "colab": {
          "base_uri": "https://localhost:8080/",
          "height": 1000
        }
      },
      "source": [
        "%%time\n",
        "history = model.fit(X_train, y_train, epochs=50, batch_size=64, validation_split=0.2, callbacks=[earlyStopping])"
      ],
      "execution_count": 52,
      "outputs": [
        {
          "output_type": "stream",
          "text": [
            "Epoch 1/50\n",
            "4014/4014 [==============================] - 17s 4ms/step - loss: 0.5100 - accuracy: 0.8120 - val_loss: 0.4411 - val_accuracy: 0.8351\n",
            "Epoch 2/50\n",
            "4014/4014 [==============================] - 16s 4ms/step - loss: 0.4218 - accuracy: 0.8417 - val_loss: 0.4163 - val_accuracy: 0.8382\n",
            "Epoch 3/50\n",
            "4014/4014 [==============================] - 16s 4ms/step - loss: 0.4003 - accuracy: 0.8473 - val_loss: 0.3952 - val_accuracy: 0.8487\n",
            "Epoch 4/50\n",
            "4014/4014 [==============================] - 17s 4ms/step - loss: 0.3890 - accuracy: 0.8496 - val_loss: 0.3916 - val_accuracy: 0.8492\n",
            "Epoch 5/50\n",
            "4014/4014 [==============================] - 16s 4ms/step - loss: 0.3814 - accuracy: 0.8516 - val_loss: 0.3835 - val_accuracy: 0.8507\n",
            "Epoch 6/50\n",
            "4014/4014 [==============================] - 16s 4ms/step - loss: 0.3761 - accuracy: 0.8542 - val_loss: 0.3809 - val_accuracy: 0.8513\n",
            "Epoch 7/50\n",
            "4014/4014 [==============================] - 16s 4ms/step - loss: 0.3717 - accuracy: 0.8555 - val_loss: 0.3772 - val_accuracy: 0.8522\n",
            "Epoch 8/50\n",
            "4014/4014 [==============================] - 16s 4ms/step - loss: 0.3687 - accuracy: 0.8565 - val_loss: 0.3722 - val_accuracy: 0.8553\n",
            "Epoch 9/50\n",
            "4014/4014 [==============================] - 16s 4ms/step - loss: 0.3652 - accuracy: 0.8575 - val_loss: 0.3721 - val_accuracy: 0.8546\n",
            "Epoch 10/50\n",
            "4014/4014 [==============================] - 16s 4ms/step - loss: 0.3624 - accuracy: 0.8585 - val_loss: 0.3677 - val_accuracy: 0.8559\n",
            "Epoch 11/50\n",
            "4014/4014 [==============================] - 16s 4ms/step - loss: 0.3606 - accuracy: 0.8585 - val_loss: 0.3721 - val_accuracy: 0.8538\n",
            "Epoch 12/50\n",
            "4014/4014 [==============================] - 16s 4ms/step - loss: 0.3582 - accuracy: 0.8598 - val_loss: 0.3677 - val_accuracy: 0.8564\n",
            "Epoch 13/50\n",
            "4014/4014 [==============================] - 16s 4ms/step - loss: 0.3560 - accuracy: 0.8602 - val_loss: 0.3643 - val_accuracy: 0.8587\n",
            "Epoch 14/50\n",
            "4014/4014 [==============================] - 16s 4ms/step - loss: 0.3545 - accuracy: 0.8609 - val_loss: 0.3638 - val_accuracy: 0.8582\n",
            "Epoch 15/50\n",
            "4014/4014 [==============================] - 16s 4ms/step - loss: 0.3527 - accuracy: 0.8620 - val_loss: 0.3694 - val_accuracy: 0.8557\n",
            "Epoch 16/50\n",
            "4014/4014 [==============================] - 16s 4ms/step - loss: 0.3512 - accuracy: 0.8622 - val_loss: 0.3643 - val_accuracy: 0.8586\n",
            "Epoch 17/50\n",
            "4014/4014 [==============================] - 16s 4ms/step - loss: 0.3498 - accuracy: 0.8627 - val_loss: 0.3659 - val_accuracy: 0.8559\n",
            "Epoch 18/50\n",
            "4014/4014 [==============================] - 16s 4ms/step - loss: 0.3485 - accuracy: 0.8631 - val_loss: 0.3665 - val_accuracy: 0.8581\n",
            "Epoch 19/50\n",
            "4014/4014 [==============================] - 17s 4ms/step - loss: 0.3472 - accuracy: 0.8642 - val_loss: 0.3701 - val_accuracy: 0.8550\n",
            "Epoch 20/50\n",
            "4014/4014 [==============================] - 16s 4ms/step - loss: 0.3458 - accuracy: 0.8642 - val_loss: 0.3604 - val_accuracy: 0.8589\n",
            "Epoch 21/50\n",
            "4014/4014 [==============================] - 16s 4ms/step - loss: 0.3443 - accuracy: 0.8649 - val_loss: 0.3649 - val_accuracy: 0.8583\n",
            "Epoch 22/50\n",
            "4014/4014 [==============================] - 16s 4ms/step - loss: 0.3427 - accuracy: 0.8656 - val_loss: 0.3607 - val_accuracy: 0.8585\n",
            "Epoch 23/50\n",
            "4014/4014 [==============================] - 16s 4ms/step - loss: 0.3423 - accuracy: 0.8652 - val_loss: 0.3638 - val_accuracy: 0.8584\n",
            "Epoch 24/50\n",
            "4014/4014 [==============================] - 16s 4ms/step - loss: 0.3404 - accuracy: 0.8663 - val_loss: 0.3677 - val_accuracy: 0.8571\n",
            "Epoch 25/50\n",
            "4014/4014 [==============================] - 16s 4ms/step - loss: 0.3397 - accuracy: 0.8665 - val_loss: 0.3612 - val_accuracy: 0.8585\n",
            "Epoch 26/50\n",
            "4014/4014 [==============================] - 16s 4ms/step - loss: 0.3383 - accuracy: 0.8668 - val_loss: 0.3604 - val_accuracy: 0.8596\n",
            "Epoch 27/50\n",
            "4014/4014 [==============================] - 16s 4ms/step - loss: 0.3375 - accuracy: 0.8676 - val_loss: 0.3605 - val_accuracy: 0.8597\n",
            "Epoch 28/50\n",
            "4014/4014 [==============================] - 16s 4ms/step - loss: 0.3363 - accuracy: 0.8677 - val_loss: 0.3679 - val_accuracy: 0.8555\n",
            "Epoch 29/50\n",
            "4014/4014 [==============================] - 16s 4ms/step - loss: 0.3352 - accuracy: 0.8685 - val_loss: 0.3651 - val_accuracy: 0.8587\n",
            "Epoch 30/50\n",
            "4014/4014 [==============================] - 16s 4ms/step - loss: 0.3342 - accuracy: 0.8683 - val_loss: 0.3618 - val_accuracy: 0.8586\n",
            "Epoch 31/50\n",
            "4014/4014 [==============================] - 16s 4ms/step - loss: 0.3333 - accuracy: 0.8691 - val_loss: 0.3669 - val_accuracy: 0.8558\n",
            "Epoch 32/50\n",
            "4014/4014 [==============================] - 16s 4ms/step - loss: 0.3327 - accuracy: 0.8698 - val_loss: 0.3605 - val_accuracy: 0.8593\n",
            "Epoch 33/50\n",
            "4014/4014 [==============================] - 16s 4ms/step - loss: 0.3316 - accuracy: 0.8695 - val_loss: 0.3644 - val_accuracy: 0.8585\n",
            "Epoch 34/50\n",
            "4014/4014 [==============================] - 16s 4ms/step - loss: 0.3308 - accuracy: 0.8707 - val_loss: 0.3664 - val_accuracy: 0.8574\n",
            "Epoch 35/50\n",
            "4014/4014 [==============================] - 16s 4ms/step - loss: 0.3297 - accuracy: 0.8705 - val_loss: 0.3648 - val_accuracy: 0.8593\n",
            "Epoch 36/50\n",
            "4014/4014 [==============================] - 16s 4ms/step - loss: 0.3289 - accuracy: 0.8711 - val_loss: 0.3618 - val_accuracy: 0.8593\n",
            "CPU times: user 11min 13s, sys: 1min 28s, total: 12min 42s\n",
            "Wall time: 9min 42s\n"
          ],
          "name": "stdout"
        }
      ]
    },
    {
      "cell_type": "code",
      "metadata": {
        "id": "1UN9g0j37drS",
        "outputId": "139819ca-f3a3-422c-b2f5-c20815cb796e",
        "colab": {
          "base_uri": "https://localhost:8080/",
          "height": 377
        }
      },
      "source": [
        "plt.plot(history.history['loss'], label='loss')\n",
        "plt.plot(history.history['val_loss'], label='val_loss')\n",
        "plt.legend()\n",
        "plt.show()"
      ],
      "execution_count": 53,
      "outputs": [
        {
          "output_type": "display_data",
          "data": {
            "image/png": "[encoded data removed]",
            "text/plain": [
              "<Figure size 1152x432 with 1 Axes>"
            ]
          },
          "metadata": {
            "tags": []
          }
        }
      ]
    },
    {
      "cell_type": "code",
      "metadata": {
        "id": "5hDmSrym7drZ",
        "outputId": "d7da5968-1a96-4338-e455-c6004c171549",
        "colab": {
          "base_uri": "https://localhost:8080/",
          "height": 377
        }
      },
      "source": [
        "plt.plot(history.history['accuracy'], label='accuracy')\n",
        "plt.plot(history.history['val_accuracy'], label='val_accuracy')\n",
        "plt.legend()\n",
        "plt.show()"
      ],
      "execution_count": 54,
      "outputs": [
        {
          "output_type": "display_data",
          "data": {
            "image/png": "[encoded data removed]",
            "text/plain": [
              "<Figure size 1152x432 with 1 Axes>"
            ]
          },
          "metadata": {
            "tags": []
          }
        }
      ]
    },
    {
      "cell_type": "code",
      "metadata": {
        "id": "OUvjq6fe7drd",
        "outputId": "74325fd4-f1b1-40b7-d224-f3003066c7b7",
        "colab": {
          "base_uri": "https://localhost:8080/",
          "height": 85
        }
      },
      "source": [
        "%%time\n",
        "model.evaluate(X_test, y_test)"
      ],
      "execution_count": 55,
      "outputs": [
        {
          "output_type": "stream",
          "text": [
            "2509/2509 [==============================] - 6s 2ms/step - loss: 0.3508 - accuracy: 0.8623\n",
            "CPU times: user 6.71 s, sys: 971 ms, total: 7.68 s\n",
            "Wall time: 6.06 s\n"
          ],
          "name": "stdout"
        },
        {
          "output_type": "execute_result",
          "data": {
            "text/plain": [
              "[0.35076677799224854, 0.8623219728469849]"
            ]
          },
          "metadata": {
            "tags": []
          },
          "execution_count": 55
        }
      ]
    },
    {
      "cell_type": "code",
      "metadata": {
        "id": "rmb07CSh7dri",
        "outputId": "e0f61be0-8ccd-4db7-80f8-9f69a5083bc9",
        "colab": {
          "base_uri": "https://localhost:8080/",
          "height": 34
        }
      },
      "source": [
        "y_test.shape"
      ],
      "execution_count": 56,
      "outputs": [
        {
          "output_type": "execute_result",
          "data": {
            "text/plain": [
              "(80267, 11)"
            ]
          },
          "metadata": {
            "tags": []
          },
          "execution_count": 56
        }
      ]
    },
    {
      "cell_type": "code",
      "metadata": {
        "id": "7zY4L3QX7drm",
        "outputId": "b40d3e19-9a2a-40a3-b96e-7901653d9432",
        "colab": {
          "base_uri": "https://localhost:8080/",
          "height": 51
        }
      },
      "source": [
        "%%time\n",
        "y_predicted = model.predict(X_test)"
      ],
      "execution_count": 57,
      "outputs": [
        {
          "output_type": "stream",
          "text": [
            "CPU times: user 3.97 s, sys: 308 ms, total: 4.27 s\n",
            "Wall time: 3.36 s\n"
          ],
          "name": "stdout"
        }
      ]
    },
    {
      "cell_type": "code",
      "metadata": {
        "id": "4zxMbRHr7drs"
      },
      "source": [
        "YP = np.array([x.tolist().index(max(x)) for x in y_predicted])\n",
        "YT = np.array([x.tolist().index(max(x)) for x in y_test])"
      ],
      "execution_count": 58,
      "outputs": []
    },
    {
      "cell_type": "code",
      "metadata": {
        "id": "b8CIXH0z7drv",
        "outputId": "88b49e9c-d0f4-4f24-869c-dfe94d9d55b5",
        "colab": {
          "base_uri": "https://localhost:8080/",
          "height": 377
        }
      },
      "source": [
        "error = YT - YP\n",
        "plt.plot(error)\n",
        "plt.show()"
      ],
      "execution_count": 59,
      "outputs": [
        {
          "output_type": "display_data",
          "data": {
            "image/png": "[encoded data removed]",
            "text/plain": [
              "<Figure size 1152x432 with 1 Axes>"
            ]
          },
          "metadata": {
            "tags": []
          }
        }
      ]
    },
    {
      "cell_type": "code",
      "metadata": {
        "id": "sBSnkXID7drz"
      },
      "source": [
        ""
      ],
      "execution_count": 59,
      "outputs": []
    }
  ]
}