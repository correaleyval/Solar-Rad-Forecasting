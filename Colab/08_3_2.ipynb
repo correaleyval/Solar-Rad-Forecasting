{
 "cells": [
  {
   "cell_type": "markdown",
   "metadata": {
    "colab": {
     "base_uri": "https://localhost:8080/"
    },
    "id": "YYUUgBxD7ayk",
    "outputId": "4cd51b8d-95c0-4599-fcf0-630c06c07408"
   },
   "source": [
    "## from google.colab import drive\n",
    "drive.mount('/content/drive')"
   ]
  },
  {
   "cell_type": "code",
   "execution_count": 2,
   "metadata": {
    "id": "hikR1uHg7ayr"
   },
   "outputs": [],
   "source": [
    "import pandas as pd"
   ]
  },
  {
   "cell_type": "code",
   "execution_count": 3,
   "metadata": {
    "id": "2dnVWLfu7ayx"
   },
   "outputs": [],
   "source": [
    "data = pd.read_csv('/content/drive/My Drive/solar-forecasting/data/meteo_galicia.csv', sep=';', parse_dates=['fecha'], decimal=',',\n",
    "                 infer_datetime_format=True, low_memory=False, index_col='fecha').sort_index()"
   ]
  },
  {
   "cell_type": "markdown",
   "metadata": {
    "id": "iMu-fzrw7ay1"
   },
   "source": [
    "### Cargar datos"
   ]
  },
  {
   "cell_type": "code",
   "execution_count": 4,
   "metadata": {
    "id": "evs0G5h47ay2"
   },
   "outputs": [],
   "source": [
    "#data = pd.read_csv('./data/meteo_galicia.csv', sep=';', parse_dates=['fecha'], decimal=',',\n",
    "#                 infer_datetime_format=True, low_memory=False, index_col='fecha').sort_index()"
   ]
  },
  {
   "cell_type": "code",
   "execution_count": 5,
   "metadata": {
    "colab": {
     "base_uri": "https://localhost:8080/",
     "height": 450
    },
    "id": "V2A3ZImv7ay7",
    "outputId": "c1df304f-7dc0-4d75-ebf8-46d7665d598f"
   },
   "outputs": [
    {
     "data": {
      "text/html": [
       "<div>\n",
       "<style scoped>\n",
       "    .dataframe tbody tr th:only-of-type {\n",
       "        vertical-align: middle;\n",
       "    }\n",
       "\n",
       "    .dataframe tbody tr th {\n",
       "        vertical-align: top;\n",
       "    }\n",
       "\n",
       "    .dataframe thead th {\n",
       "        text-align: right;\n",
       "    }\n",
       "</style>\n",
       "<table border=\"1\" class=\"dataframe\">\n",
       "  <thead>\n",
       "    <tr style=\"text-align: right;\">\n",
       "      <th></th>\n",
       "      <th>estacionid</th>\n",
       "      <th>lat</th>\n",
       "      <th>lon</th>\n",
       "      <th>tamb</th>\n",
       "      <th>hum</th>\n",
       "      <th>pres</th>\n",
       "      <th>prec</th>\n",
       "      <th>rad</th>\n",
       "      <th>vvien</th>\n",
       "      <th>tipodered</th>\n",
       "    </tr>\n",
       "    <tr>\n",
       "      <th>fecha</th>\n",
       "      <th></th>\n",
       "      <th></th>\n",
       "      <th></th>\n",
       "      <th></th>\n",
       "      <th></th>\n",
       "      <th></th>\n",
       "      <th></th>\n",
       "      <th></th>\n",
       "      <th></th>\n",
       "      <th></th>\n",
       "    </tr>\n",
       "  </thead>\n",
       "  <tbody>\n",
       "    <tr>\n",
       "      <th>2019-01-01 00:10:00</th>\n",
       "      <td>20284</td>\n",
       "      <td>42.4044</td>\n",
       "      <td>-8.6730</td>\n",
       "      <td>5.4</td>\n",
       "      <td>0</td>\n",
       "      <td>1022.0</td>\n",
       "      <td>0.0</td>\n",
       "      <td>0.0</td>\n",
       "      <td>0.7</td>\n",
       "      <td>OFICIAL</td>\n",
       "    </tr>\n",
       "    <tr>\n",
       "      <th>2019-01-01 00:10:00</th>\n",
       "      <td>20233</td>\n",
       "      <td>42.3554</td>\n",
       "      <td>-7.0086</td>\n",
       "      <td>7.3</td>\n",
       "      <td>0</td>\n",
       "      <td>892.1</td>\n",
       "      <td>0.0</td>\n",
       "      <td>0.0</td>\n",
       "      <td>3.5</td>\n",
       "      <td>OFICIAL</td>\n",
       "    </tr>\n",
       "    <tr>\n",
       "      <th>2019-01-01 00:10:00</th>\n",
       "      <td>20218</td>\n",
       "      <td>43.1626</td>\n",
       "      <td>-7.2826</td>\n",
       "      <td>9.2</td>\n",
       "      <td>0</td>\n",
       "      <td>955.0</td>\n",
       "      <td>0.0</td>\n",
       "      <td>0.0</td>\n",
       "      <td>0.0</td>\n",
       "      <td>OFICIAL</td>\n",
       "    </tr>\n",
       "    <tr>\n",
       "      <th>2019-01-01 00:10:00</th>\n",
       "      <td>20217</td>\n",
       "      <td>42.7071</td>\n",
       "      <td>-7.0471</td>\n",
       "      <td>8.5</td>\n",
       "      <td>0</td>\n",
       "      <td>882.5</td>\n",
       "      <td>0.0</td>\n",
       "      <td>1.0</td>\n",
       "      <td>6.3</td>\n",
       "      <td>OFICIAL</td>\n",
       "    </tr>\n",
       "    <tr>\n",
       "      <th>2019-01-01 00:10:00</th>\n",
       "      <td>20221</td>\n",
       "      <td>43.5407</td>\n",
       "      <td>-7.0830</td>\n",
       "      <td>5.3</td>\n",
       "      <td>0</td>\n",
       "      <td>1027.0</td>\n",
       "      <td>0.0</td>\n",
       "      <td>0.0</td>\n",
       "      <td>2.8</td>\n",
       "      <td>OFICIAL</td>\n",
       "    </tr>\n",
       "    <tr>\n",
       "      <th>...</th>\n",
       "      <td>...</td>\n",
       "      <td>...</td>\n",
       "      <td>...</td>\n",
       "      <td>...</td>\n",
       "      <td>...</td>\n",
       "      <td>...</td>\n",
       "      <td>...</td>\n",
       "      <td>...</td>\n",
       "      <td>...</td>\n",
       "      <td>...</td>\n",
       "    </tr>\n",
       "    <tr>\n",
       "      <th>2019-06-01 19:40:00</th>\n",
       "      <td>20249</td>\n",
       "      <td>42.2987</td>\n",
       "      <td>-7.5907</td>\n",
       "      <td>25.0</td>\n",
       "      <td>0</td>\n",
       "      <td>909.0</td>\n",
       "      <td>0.0</td>\n",
       "      <td>402.0</td>\n",
       "      <td>2.0</td>\n",
       "      <td>OFICIAL</td>\n",
       "    </tr>\n",
       "    <tr>\n",
       "      <th>2019-06-01 19:40:00</th>\n",
       "      <td>20259</td>\n",
       "      <td>42.1630</td>\n",
       "      <td>-7.0896</td>\n",
       "      <td>27.0</td>\n",
       "      <td>0</td>\n",
       "      <td>922.0</td>\n",
       "      <td>0.0</td>\n",
       "      <td>374.0</td>\n",
       "      <td>3.0</td>\n",
       "      <td>OFICIAL</td>\n",
       "    </tr>\n",
       "    <tr>\n",
       "      <th>2019-06-01 19:40:00</th>\n",
       "      <td>20255</td>\n",
       "      <td>42.4631</td>\n",
       "      <td>-6.9295</td>\n",
       "      <td>30.0</td>\n",
       "      <td>0</td>\n",
       "      <td>NaN</td>\n",
       "      <td>0.0</td>\n",
       "      <td>378.0</td>\n",
       "      <td>0.0</td>\n",
       "      <td>OFICIAL</td>\n",
       "    </tr>\n",
       "    <tr>\n",
       "      <th>2019-06-01 19:40:00</th>\n",
       "      <td>20187</td>\n",
       "      <td>42.8760</td>\n",
       "      <td>-8.5594</td>\n",
       "      <td>28.0</td>\n",
       "      <td>0</td>\n",
       "      <td>988.0</td>\n",
       "      <td>0.0</td>\n",
       "      <td>419.0</td>\n",
       "      <td>3.0</td>\n",
       "      <td>OFICIAL</td>\n",
       "    </tr>\n",
       "    <tr>\n",
       "      <th>2019-06-01 19:40:00</th>\n",
       "      <td>20295</td>\n",
       "      <td>42.0786</td>\n",
       "      <td>-8.6794</td>\n",
       "      <td>25.0</td>\n",
       "      <td>0</td>\n",
       "      <td>963.0</td>\n",
       "      <td>0.0</td>\n",
       "      <td>26.0</td>\n",
       "      <td>0.0</td>\n",
       "      <td>OFICIAL</td>\n",
       "    </tr>\n",
       "  </tbody>\n",
       "</table>\n",
       "<p>2510008 rows × 10 columns</p>\n",
       "</div>"
      ],
      "text/plain": [
       "                     estacionid      lat     lon  ...    rad  vvien  tipodered\n",
       "fecha                                             ...                         \n",
       "2019-01-01 00:10:00       20284  42.4044 -8.6730  ...    0.0    0.7    OFICIAL\n",
       "2019-01-01 00:10:00       20233  42.3554 -7.0086  ...    0.0    3.5    OFICIAL\n",
       "2019-01-01 00:10:00       20218  43.1626 -7.2826  ...    0.0    0.0    OFICIAL\n",
       "2019-01-01 00:10:00       20217  42.7071 -7.0471  ...    1.0    6.3    OFICIAL\n",
       "2019-01-01 00:10:00       20221  43.5407 -7.0830  ...    0.0    2.8    OFICIAL\n",
       "...                         ...      ...     ...  ...    ...    ...        ...\n",
       "2019-06-01 19:40:00       20249  42.2987 -7.5907  ...  402.0    2.0    OFICIAL\n",
       "2019-06-01 19:40:00       20259  42.1630 -7.0896  ...  374.0    3.0    OFICIAL\n",
       "2019-06-01 19:40:00       20255  42.4631 -6.9295  ...  378.0    0.0    OFICIAL\n",
       "2019-06-01 19:40:00       20187  42.8760 -8.5594  ...  419.0    3.0    OFICIAL\n",
       "2019-06-01 19:40:00       20295  42.0786 -8.6794  ...   26.0    0.0    OFICIAL\n",
       "\n",
       "[2510008 rows x 10 columns]"
      ]
     },
     "execution_count": 5,
     "metadata": {
      "tags": []
     },
     "output_type": "execute_result"
    }
   ],
   "source": [
    "data"
   ]
  },
  {
   "cell_type": "code",
   "execution_count": 6,
   "metadata": {
    "colab": {
     "base_uri": "https://localhost:8080/",
     "height": 297
    },
    "id": "dwLXWgGc7azF",
    "outputId": "6621df8c-bc44-48e8-85d2-3b67cfda3e03"
   },
   "outputs": [
    {
     "data": {
      "text/html": [
       "<div>\n",
       "<style scoped>\n",
       "    .dataframe tbody tr th:only-of-type {\n",
       "        vertical-align: middle;\n",
       "    }\n",
       "\n",
       "    .dataframe tbody tr th {\n",
       "        vertical-align: top;\n",
       "    }\n",
       "\n",
       "    .dataframe thead th {\n",
       "        text-align: right;\n",
       "    }\n",
       "</style>\n",
       "<table border=\"1\" class=\"dataframe\">\n",
       "  <thead>\n",
       "    <tr style=\"text-align: right;\">\n",
       "      <th></th>\n",
       "      <th>estacionid</th>\n",
       "      <th>lat</th>\n",
       "      <th>lon</th>\n",
       "      <th>tamb</th>\n",
       "      <th>hum</th>\n",
       "      <th>pres</th>\n",
       "      <th>prec</th>\n",
       "      <th>rad</th>\n",
       "      <th>vvien</th>\n",
       "    </tr>\n",
       "  </thead>\n",
       "  <tbody>\n",
       "    <tr>\n",
       "      <th>count</th>\n",
       "      <td>2.510008e+06</td>\n",
       "      <td>2.510008e+06</td>\n",
       "      <td>2.510008e+06</td>\n",
       "      <td>2.507533e+06</td>\n",
       "      <td>2510008.0</td>\n",
       "      <td>1.814653e+06</td>\n",
       "      <td>2.509794e+06</td>\n",
       "      <td>2.499161e+06</td>\n",
       "      <td>2.507539e+06</td>\n",
       "    </tr>\n",
       "    <tr>\n",
       "      <th>mean</th>\n",
       "      <td>2.023039e+04</td>\n",
       "      <td>4.266182e+01</td>\n",
       "      <td>-8.022871e+00</td>\n",
       "      <td>8.994252e+00</td>\n",
       "      <td>0.0</td>\n",
       "      <td>9.677706e+02</td>\n",
       "      <td>6.805140e-03</td>\n",
       "      <td>1.167266e+02</td>\n",
       "      <td>2.144441e+00</td>\n",
       "    </tr>\n",
       "    <tr>\n",
       "      <th>std</th>\n",
       "      <td>4.163865e+01</td>\n",
       "      <td>4.825840e-01</td>\n",
       "      <td>6.507180e-01</td>\n",
       "      <td>5.504882e+00</td>\n",
       "      <td>0.0</td>\n",
       "      <td>4.522947e+01</td>\n",
       "      <td>2.574166e-01</td>\n",
       "      <td>2.210808e+02</td>\n",
       "      <td>3.068800e+00</td>\n",
       "    </tr>\n",
       "    <tr>\n",
       "      <th>min</th>\n",
       "      <td>2.015800e+04</td>\n",
       "      <td>4.189820e+01</td>\n",
       "      <td>-9.178300e+00</td>\n",
       "      <td>-2.800000e+01</td>\n",
       "      <td>0.0</td>\n",
       "      <td>7.000000e+02</td>\n",
       "      <td>0.000000e+00</td>\n",
       "      <td>0.000000e+00</td>\n",
       "      <td>0.000000e+00</td>\n",
       "    </tr>\n",
       "    <tr>\n",
       "      <th>25%</th>\n",
       "      <td>2.019500e+04</td>\n",
       "      <td>4.231240e+01</td>\n",
       "      <td>-8.644000e+00</td>\n",
       "      <td>5.000000e+00</td>\n",
       "      <td>0.0</td>\n",
       "      <td>9.430000e+02</td>\n",
       "      <td>0.000000e+00</td>\n",
       "      <td>0.000000e+00</td>\n",
       "      <td>0.000000e+00</td>\n",
       "    </tr>\n",
       "    <tr>\n",
       "      <th>50%</th>\n",
       "      <td>2.023100e+04</td>\n",
       "      <td>4.255520e+01</td>\n",
       "      <td>-8.066800e+00</td>\n",
       "      <td>9.000000e+00</td>\n",
       "      <td>0.0</td>\n",
       "      <td>9.750000e+02</td>\n",
       "      <td>0.000000e+00</td>\n",
       "      <td>0.000000e+00</td>\n",
       "      <td>1.000000e+00</td>\n",
       "    </tr>\n",
       "    <tr>\n",
       "      <th>75%</th>\n",
       "      <td>2.026600e+04</td>\n",
       "      <td>4.303590e+01</td>\n",
       "      <td>-7.439200e+00</td>\n",
       "      <td>1.200000e+01</td>\n",
       "      <td>0.0</td>\n",
       "      <td>1.004000e+03</td>\n",
       "      <td>0.000000e+00</td>\n",
       "      <td>1.220000e+02</td>\n",
       "      <td>3.000000e+00</td>\n",
       "    </tr>\n",
       "    <tr>\n",
       "      <th>max</th>\n",
       "      <td>2.030200e+04</td>\n",
       "      <td>4.373400e+01</td>\n",
       "      <td>-6.765200e+00</td>\n",
       "      <td>4.800000e+01</td>\n",
       "      <td>0.0</td>\n",
       "      <td>1.061000e+03</td>\n",
       "      <td>1.190000e+02</td>\n",
       "      <td>1.265000e+03</td>\n",
       "      <td>1.500000e+02</td>\n",
       "    </tr>\n",
       "  </tbody>\n",
       "</table>\n",
       "</div>"
      ],
      "text/plain": [
       "         estacionid           lat  ...           rad         vvien\n",
       "count  2.510008e+06  2.510008e+06  ...  2.499161e+06  2.507539e+06\n",
       "mean   2.023039e+04  4.266182e+01  ...  1.167266e+02  2.144441e+00\n",
       "std    4.163865e+01  4.825840e-01  ...  2.210808e+02  3.068800e+00\n",
       "min    2.015800e+04  4.189820e+01  ...  0.000000e+00  0.000000e+00\n",
       "25%    2.019500e+04  4.231240e+01  ...  0.000000e+00  0.000000e+00\n",
       "50%    2.023100e+04  4.255520e+01  ...  0.000000e+00  1.000000e+00\n",
       "75%    2.026600e+04  4.303590e+01  ...  1.220000e+02  3.000000e+00\n",
       "max    2.030200e+04  4.373400e+01  ...  1.265000e+03  1.500000e+02\n",
       "\n",
       "[8 rows x 9 columns]"
      ]
     },
     "execution_count": 6,
     "metadata": {
      "tags": []
     },
     "output_type": "execute_result"
    }
   ],
   "source": [
    "data.describe()"
   ]
  },
  {
   "cell_type": "markdown",
   "metadata": {
    "id": "3zd1OqV47azK"
   },
   "source": [
    "### Eliminar columnas innecesarias"
   ]
  },
  {
   "cell_type": "code",
   "execution_count": 7,
   "metadata": {
    "id": "_vzizATn7azL"
   },
   "outputs": [],
   "source": [
    "data = data.drop(columns=['tipodered', 'hum', 'prec', 'vvien', 'pres'])"
   ]
  },
  {
   "cell_type": "code",
   "execution_count": 8,
   "metadata": {
    "colab": {
     "base_uri": "https://localhost:8080/"
    },
    "id": "DhSHtrbd7azR",
    "outputId": "682ff366-8391-4e44-f35e-c373271b26fd"
   },
   "outputs": [
    {
     "data": {
      "text/plain": [
       "2510008"
      ]
     },
     "execution_count": 8,
     "metadata": {
      "tags": []
     },
     "output_type": "execute_result"
    }
   ],
   "source": [
    "len(data)"
   ]
  },
  {
   "cell_type": "code",
   "execution_count": 9,
   "metadata": {
    "colab": {
     "base_uri": "https://localhost:8080/"
    },
    "id": "4DQIOEe27azV",
    "outputId": "13d4deb7-f82f-4785-b368-837ece86cdd7"
   },
   "outputs": [
    {
     "data": {
      "text/plain": [
       "estacionid        0\n",
       "lat               0\n",
       "lon               0\n",
       "tamb           2475\n",
       "rad           10847\n",
       "dtype: int64"
      ]
     },
     "execution_count": 9,
     "metadata": {
      "tags": []
     },
     "output_type": "execute_result"
    }
   ],
   "source": [
    "data.isnull().sum()"
   ]
  },
  {
   "cell_type": "code",
   "execution_count": 10,
   "metadata": {
    "id": "lWVPgJ0p7azZ"
   },
   "outputs": [],
   "source": [
    "data = data.dropna()"
   ]
  },
  {
   "cell_type": "code",
   "execution_count": 11,
   "metadata": {
    "colab": {
     "base_uri": "https://localhost:8080/"
    },
    "id": "TPNjRtzl7azh",
    "outputId": "a3d7cdcc-82ec-4dda-af74-7791f17760d6"
   },
   "outputs": [
    {
     "data": {
      "text/plain": [
       "2496903"
      ]
     },
     "execution_count": 11,
     "metadata": {
      "tags": []
     },
     "output_type": "execute_result"
    }
   ],
   "source": [
    "len(data)"
   ]
  },
  {
   "cell_type": "code",
   "execution_count": 12,
   "metadata": {
    "colab": {
     "base_uri": "https://localhost:8080/"
    },
    "id": "qf2_XNKp7azl",
    "outputId": "e984d6a4-f63d-4d70-8687-2b62fc82fa60"
   },
   "outputs": [
    {
     "data": {
      "text/plain": [
       "estacionid    0\n",
       "lat           0\n",
       "lon           0\n",
       "tamb          0\n",
       "rad           0\n",
       "dtype: int64"
      ]
     },
     "execution_count": 12,
     "metadata": {
      "tags": []
     },
     "output_type": "execute_result"
    }
   ],
   "source": [
    "data.isnull().sum()"
   ]
  },
  {
   "cell_type": "code",
   "execution_count": 13,
   "metadata": {
    "colab": {
     "base_uri": "https://localhost:8080/",
     "height": 450
    },
    "id": "G4uGk8Iw7azq",
    "outputId": "f5d35d63-9806-4939-dd92-6c2b1d450651"
   },
   "outputs": [
    {
     "data": {
      "text/html": [
       "<div>\n",
       "<style scoped>\n",
       "    .dataframe tbody tr th:only-of-type {\n",
       "        vertical-align: middle;\n",
       "    }\n",
       "\n",
       "    .dataframe tbody tr th {\n",
       "        vertical-align: top;\n",
       "    }\n",
       "\n",
       "    .dataframe thead th {\n",
       "        text-align: right;\n",
       "    }\n",
       "</style>\n",
       "<table border=\"1\" class=\"dataframe\">\n",
       "  <thead>\n",
       "    <tr style=\"text-align: right;\">\n",
       "      <th></th>\n",
       "      <th>estacionid</th>\n",
       "      <th>lat</th>\n",
       "      <th>lon</th>\n",
       "      <th>tamb</th>\n",
       "      <th>rad</th>\n",
       "    </tr>\n",
       "    <tr>\n",
       "      <th>fecha</th>\n",
       "      <th></th>\n",
       "      <th></th>\n",
       "      <th></th>\n",
       "      <th></th>\n",
       "      <th></th>\n",
       "    </tr>\n",
       "  </thead>\n",
       "  <tbody>\n",
       "    <tr>\n",
       "      <th>2019-01-01 00:10:00</th>\n",
       "      <td>20284</td>\n",
       "      <td>42.4044</td>\n",
       "      <td>-8.6730</td>\n",
       "      <td>5.4</td>\n",
       "      <td>0.0</td>\n",
       "    </tr>\n",
       "    <tr>\n",
       "      <th>2019-01-01 00:10:00</th>\n",
       "      <td>20233</td>\n",
       "      <td>42.3554</td>\n",
       "      <td>-7.0086</td>\n",
       "      <td>7.3</td>\n",
       "      <td>0.0</td>\n",
       "    </tr>\n",
       "    <tr>\n",
       "      <th>2019-01-01 00:10:00</th>\n",
       "      <td>20218</td>\n",
       "      <td>43.1626</td>\n",
       "      <td>-7.2826</td>\n",
       "      <td>9.2</td>\n",
       "      <td>0.0</td>\n",
       "    </tr>\n",
       "    <tr>\n",
       "      <th>2019-01-01 00:10:00</th>\n",
       "      <td>20217</td>\n",
       "      <td>42.7071</td>\n",
       "      <td>-7.0471</td>\n",
       "      <td>8.5</td>\n",
       "      <td>1.0</td>\n",
       "    </tr>\n",
       "    <tr>\n",
       "      <th>2019-01-01 00:10:00</th>\n",
       "      <td>20221</td>\n",
       "      <td>43.5407</td>\n",
       "      <td>-7.0830</td>\n",
       "      <td>5.3</td>\n",
       "      <td>0.0</td>\n",
       "    </tr>\n",
       "    <tr>\n",
       "      <th>...</th>\n",
       "      <td>...</td>\n",
       "      <td>...</td>\n",
       "      <td>...</td>\n",
       "      <td>...</td>\n",
       "      <td>...</td>\n",
       "    </tr>\n",
       "    <tr>\n",
       "      <th>2019-06-01 19:40:00</th>\n",
       "      <td>20249</td>\n",
       "      <td>42.2987</td>\n",
       "      <td>-7.5907</td>\n",
       "      <td>25.0</td>\n",
       "      <td>402.0</td>\n",
       "    </tr>\n",
       "    <tr>\n",
       "      <th>2019-06-01 19:40:00</th>\n",
       "      <td>20259</td>\n",
       "      <td>42.1630</td>\n",
       "      <td>-7.0896</td>\n",
       "      <td>27.0</td>\n",
       "      <td>374.0</td>\n",
       "    </tr>\n",
       "    <tr>\n",
       "      <th>2019-06-01 19:40:00</th>\n",
       "      <td>20255</td>\n",
       "      <td>42.4631</td>\n",
       "      <td>-6.9295</td>\n",
       "      <td>30.0</td>\n",
       "      <td>378.0</td>\n",
       "    </tr>\n",
       "    <tr>\n",
       "      <th>2019-06-01 19:40:00</th>\n",
       "      <td>20187</td>\n",
       "      <td>42.8760</td>\n",
       "      <td>-8.5594</td>\n",
       "      <td>28.0</td>\n",
       "      <td>419.0</td>\n",
       "    </tr>\n",
       "    <tr>\n",
       "      <th>2019-06-01 19:40:00</th>\n",
       "      <td>20295</td>\n",
       "      <td>42.0786</td>\n",
       "      <td>-8.6794</td>\n",
       "      <td>25.0</td>\n",
       "      <td>26.0</td>\n",
       "    </tr>\n",
       "  </tbody>\n",
       "</table>\n",
       "<p>2496903 rows × 5 columns</p>\n",
       "</div>"
      ],
      "text/plain": [
       "                     estacionid      lat     lon  tamb    rad\n",
       "fecha                                                        \n",
       "2019-01-01 00:10:00       20284  42.4044 -8.6730   5.4    0.0\n",
       "2019-01-01 00:10:00       20233  42.3554 -7.0086   7.3    0.0\n",
       "2019-01-01 00:10:00       20218  43.1626 -7.2826   9.2    0.0\n",
       "2019-01-01 00:10:00       20217  42.7071 -7.0471   8.5    1.0\n",
       "2019-01-01 00:10:00       20221  43.5407 -7.0830   5.3    0.0\n",
       "...                         ...      ...     ...   ...    ...\n",
       "2019-06-01 19:40:00       20249  42.2987 -7.5907  25.0  402.0\n",
       "2019-06-01 19:40:00       20259  42.1630 -7.0896  27.0  374.0\n",
       "2019-06-01 19:40:00       20255  42.4631 -6.9295  30.0  378.0\n",
       "2019-06-01 19:40:00       20187  42.8760 -8.5594  28.0  419.0\n",
       "2019-06-01 19:40:00       20295  42.0786 -8.6794  25.0   26.0\n",
       "\n",
       "[2496903 rows x 5 columns]"
      ]
     },
     "execution_count": 13,
     "metadata": {
      "tags": []
     },
     "output_type": "execute_result"
    }
   ],
   "source": [
    "data"
   ]
  },
  {
   "cell_type": "markdown",
   "metadata": {
    "id": "Np2hdBQ97azx"
   },
   "source": [
    "### Escalar"
   ]
  },
  {
   "cell_type": "code",
   "execution_count": 14,
   "metadata": {
    "id": "Mu1Lxd3F7azy"
   },
   "outputs": [],
   "source": [
    "from sklearn.preprocessing import MinMaxScaler"
   ]
  },
  {
   "cell_type": "markdown",
   "metadata": {
    "id": "OC-Zb_lx7az2"
   },
   "source": [
    "```python\n",
    "X_std = (X - X.min(axis=0)) / (X.max(axis=0) - X.min(axis=0))\n",
    "X_scaled = X_std * (max - min) + min\n",
    "```"
   ]
  },
  {
   "cell_type": "code",
   "execution_count": 15,
   "metadata": {
    "id": "bEmSZRyd7az3"
   },
   "outputs": [],
   "source": [
    "scaler = MinMaxScaler(feature_range=(-1, 1))"
   ]
  },
  {
   "cell_type": "code",
   "execution_count": 16,
   "metadata": {
    "colab": {
     "base_uri": "https://localhost:8080/"
    },
    "id": "sTBTRTCU7az7",
    "outputId": "c17991e4-0a58-4842-a921-ea56d292fd02"
   },
   "outputs": [
    {
     "data": {
      "text/plain": [
       "MinMaxScaler(copy=True, feature_range=(-1, 1))"
      ]
     },
     "execution_count": 16,
     "metadata": {
      "tags": []
     },
     "output_type": "execute_result"
    }
   ],
   "source": [
    "scaler.fit(data.drop(columns=['estacionid']))"
   ]
  },
  {
   "cell_type": "code",
   "execution_count": 17,
   "metadata": {
    "colab": {
     "base_uri": "https://localhost:8080/"
    },
    "id": "DOgPhIrf7az_",
    "outputId": "511cf0ad-6a88-466f-f88f-e63058f60059"
   },
   "outputs": [
    {
     "data": {
      "text/plain": [
       "array([ 41.8982,  -9.1783, -28.    ,   0.    ])"
      ]
     },
     "execution_count": 17,
     "metadata": {
      "tags": []
     },
     "output_type": "execute_result"
    }
   ],
   "source": [
    "scaler.data_min_"
   ]
  },
  {
   "cell_type": "code",
   "execution_count": 18,
   "metadata": {
    "colab": {
     "base_uri": "https://localhost:8080/"
    },
    "id": "S3QmYG5V7a0E",
    "outputId": "56cc1b49-dd59-413e-aad3-bd4d14104979"
   },
   "outputs": [
    {
     "data": {
      "text/plain": [
       "array([  43.734 ,   -6.7652,   43.    , 1265.    ])"
      ]
     },
     "execution_count": 18,
     "metadata": {
      "tags": []
     },
     "output_type": "execute_result"
    }
   ],
   "source": [
    "scaler.data_max_"
   ]
  },
  {
   "cell_type": "markdown",
   "metadata": {
    "id": "ktewLvGl7a0I"
   },
   "source": [
    "### Obtener id de las estaciones"
   ]
  },
  {
   "cell_type": "code",
   "execution_count": 19,
   "metadata": {
    "colab": {
     "base_uri": "https://localhost:8080/"
    },
    "id": "phFxsjpE7a0J",
    "outputId": "ef860989-72fd-404d-bf42-462ba3049cbf"
   },
   "outputs": [
    {
     "data": {
      "text/plain": [
       "142"
      ]
     },
     "execution_count": 19,
     "metadata": {
      "tags": []
     },
     "output_type": "execute_result"
    }
   ],
   "source": [
    "estaciones = [s for s in set(data['estacionid'])]\n",
    "\n",
    "len(estaciones)"
   ]
  },
  {
   "cell_type": "markdown",
   "metadata": {
    "id": "JoTBXkKv7a0N"
   },
   "source": [
    "### Obtener datos de las estaciones\n",
    "\n",
    "**Las estaciones que no tienen registro de radiación son eliminadas**"
   ]
  },
  {
   "cell_type": "code",
   "execution_count": 20,
   "metadata": {
    "colab": {
     "base_uri": "https://localhost:8080/"
    },
    "id": "diqMzyjF7a0O",
    "outputId": "2a162833-8fe4-4f12-cf1f-1957fa6d2f06"
   },
   "outputs": [
    {
     "name": "stdout",
     "output_type": "stream",
     "text": [
      "CPU times: user 2.64 s, sys: 33.5 ms, total: 2.67 s\n",
      "Wall time: 2.42 s\n"
     ]
    }
   ],
   "source": [
    "%%time\n",
    "data_by_station = []\n",
    "\n",
    "for s in estaciones:\n",
    "    filter_station = data['estacionid'] == s\n",
    "    data_station = data[filter_station].drop(columns=['estacionid'])\n",
    "    d = data_station.describe()\n",
    "    if d.rad['max'] != 0:\n",
    "        data_by_station.append(data_station)"
   ]
  },
  {
   "cell_type": "code",
   "execution_count": 21,
   "metadata": {
    "colab": {
     "base_uri": "https://localhost:8080/"
    },
    "id": "JvwHJ5KP7a0Z",
    "outputId": "35e69f7a-18f1-452e-8952-bc5ccc9d9586"
   },
   "outputs": [
    {
     "data": {
      "text/plain": [
       "111"
      ]
     },
     "execution_count": 21,
     "metadata": {
      "tags": []
     },
     "output_type": "execute_result"
    }
   ],
   "source": [
    "len(data_by_station)"
   ]
  },
  {
   "cell_type": "markdown",
   "metadata": {
    "id": "OV6L2CYl7a0d"
   },
   "source": [
    "### Ajustar intervalos de tiempo\n",
    "\n",
    "**Ajuste de 1 hora**"
   ]
  },
  {
   "cell_type": "code",
   "execution_count": 22,
   "metadata": {
    "colab": {
     "base_uri": "https://localhost:8080/"
    },
    "id": "NLDhWGnT7a0e",
    "outputId": "5d1a071f-3c90-41a2-cb4e-3b730bcea6f7"
   },
   "outputs": [
    {
     "name": "stdout",
     "output_type": "stream",
     "text": [
      "CPU times: user 280 ms, sys: 5.04 ms, total: 285 ms\n",
      "Wall time: 286 ms\n"
     ]
    }
   ],
   "source": [
    "%%time\n",
    "data_by_station = [s.resample('1H').mean().ffill().bfill() for s in data_by_station]"
   ]
  },
  {
   "cell_type": "code",
   "execution_count": 23,
   "metadata": {
    "colab": {
     "base_uri": "https://localhost:8080/",
     "height": 450
    },
    "id": "yVtGQv0i7a0k",
    "outputId": "e051df1d-4d49-4ae2-f4f6-803a48645f50"
   },
   "outputs": [
    {
     "data": {
      "text/html": [
       "<div>\n",
       "<style scoped>\n",
       "    .dataframe tbody tr th:only-of-type {\n",
       "        vertical-align: middle;\n",
       "    }\n",
       "\n",
       "    .dataframe tbody tr th {\n",
       "        vertical-align: top;\n",
       "    }\n",
       "\n",
       "    .dataframe thead th {\n",
       "        text-align: right;\n",
       "    }\n",
       "</style>\n",
       "<table border=\"1\" class=\"dataframe\">\n",
       "  <thead>\n",
       "    <tr style=\"text-align: right;\">\n",
       "      <th></th>\n",
       "      <th>lat</th>\n",
       "      <th>lon</th>\n",
       "      <th>tamb</th>\n",
       "      <th>rad</th>\n",
       "    </tr>\n",
       "    <tr>\n",
       "      <th>fecha</th>\n",
       "      <th></th>\n",
       "      <th></th>\n",
       "      <th></th>\n",
       "      <th></th>\n",
       "    </tr>\n",
       "  </thead>\n",
       "  <tbody>\n",
       "    <tr>\n",
       "      <th>2019-01-01 01:00:00</th>\n",
       "      <td>43.3634</td>\n",
       "      <td>-8.4419</td>\n",
       "      <td>10.700</td>\n",
       "      <td>0.000000</td>\n",
       "    </tr>\n",
       "    <tr>\n",
       "      <th>2019-01-01 02:00:00</th>\n",
       "      <td>43.3634</td>\n",
       "      <td>-8.4419</td>\n",
       "      <td>10.350</td>\n",
       "      <td>0.000000</td>\n",
       "    </tr>\n",
       "    <tr>\n",
       "      <th>2019-01-01 03:00:00</th>\n",
       "      <td>43.3634</td>\n",
       "      <td>-8.4419</td>\n",
       "      <td>9.800</td>\n",
       "      <td>0.000000</td>\n",
       "    </tr>\n",
       "    <tr>\n",
       "      <th>2019-01-01 04:00:00</th>\n",
       "      <td>43.3634</td>\n",
       "      <td>-8.4419</td>\n",
       "      <td>11.125</td>\n",
       "      <td>0.000000</td>\n",
       "    </tr>\n",
       "    <tr>\n",
       "      <th>2019-01-01 05:00:00</th>\n",
       "      <td>43.3634</td>\n",
       "      <td>-8.4419</td>\n",
       "      <td>11.675</td>\n",
       "      <td>0.000000</td>\n",
       "    </tr>\n",
       "    <tr>\n",
       "      <th>...</th>\n",
       "      <td>...</td>\n",
       "      <td>...</td>\n",
       "      <td>...</td>\n",
       "      <td>...</td>\n",
       "    </tr>\n",
       "    <tr>\n",
       "      <th>2019-06-01 15:00:00</th>\n",
       "      <td>43.3634</td>\n",
       "      <td>-8.4419</td>\n",
       "      <td>22.750</td>\n",
       "      <td>851.000000</td>\n",
       "    </tr>\n",
       "    <tr>\n",
       "      <th>2019-06-01 16:00:00</th>\n",
       "      <td>43.3634</td>\n",
       "      <td>-8.4419</td>\n",
       "      <td>22.500</td>\n",
       "      <td>800.500000</td>\n",
       "    </tr>\n",
       "    <tr>\n",
       "      <th>2019-06-01 17:00:00</th>\n",
       "      <td>43.3634</td>\n",
       "      <td>-8.4419</td>\n",
       "      <td>24.750</td>\n",
       "      <td>693.750000</td>\n",
       "    </tr>\n",
       "    <tr>\n",
       "      <th>2019-06-01 18:00:00</th>\n",
       "      <td>43.3634</td>\n",
       "      <td>-8.4419</td>\n",
       "      <td>26.250</td>\n",
       "      <td>596.500000</td>\n",
       "    </tr>\n",
       "    <tr>\n",
       "      <th>2019-06-01 19:00:00</th>\n",
       "      <td>43.3634</td>\n",
       "      <td>-8.4419</td>\n",
       "      <td>24.000</td>\n",
       "      <td>375.666667</td>\n",
       "    </tr>\n",
       "  </tbody>\n",
       "</table>\n",
       "<p>3643 rows × 4 columns</p>\n",
       "</div>"
      ],
      "text/plain": [
       "                         lat     lon    tamb         rad\n",
       "fecha                                                   \n",
       "2019-01-01 01:00:00  43.3634 -8.4419  10.700    0.000000\n",
       "2019-01-01 02:00:00  43.3634 -8.4419  10.350    0.000000\n",
       "2019-01-01 03:00:00  43.3634 -8.4419   9.800    0.000000\n",
       "2019-01-01 04:00:00  43.3634 -8.4419  11.125    0.000000\n",
       "2019-01-01 05:00:00  43.3634 -8.4419  11.675    0.000000\n",
       "...                      ...     ...     ...         ...\n",
       "2019-06-01 15:00:00  43.3634 -8.4419  22.750  851.000000\n",
       "2019-06-01 16:00:00  43.3634 -8.4419  22.500  800.500000\n",
       "2019-06-01 17:00:00  43.3634 -8.4419  24.750  693.750000\n",
       "2019-06-01 18:00:00  43.3634 -8.4419  26.250  596.500000\n",
       "2019-06-01 19:00:00  43.3634 -8.4419  24.000  375.666667\n",
       "\n",
       "[3643 rows x 4 columns]"
      ]
     },
     "execution_count": 23,
     "metadata": {
      "tags": []
     },
     "output_type": "execute_result"
    }
   ],
   "source": [
    "data_by_station[0]"
   ]
  },
  {
   "cell_type": "code",
   "execution_count": 24,
   "metadata": {
    "id": "fkAqIo4m7a0o"
   },
   "outputs": [],
   "source": [
    "#for d in data_by_station:\n",
    "#    d['day']=[x.day for x in d.index]\n",
    "#    d['month']=[x.month for x in d.index]\n",
    "#    d['hour']=[x.hour for x in d.index]"
   ]
  },
  {
   "cell_type": "code",
   "execution_count": 25,
   "metadata": {
    "id": "2FxWLnU_7a0t"
   },
   "outputs": [],
   "source": [
    "# data_by_station[0]"
   ]
  },
  {
   "cell_type": "code",
   "execution_count": 26,
   "metadata": {
    "colab": {
     "base_uri": "https://localhost:8080/"
    },
    "id": "vW-AHRS87a01",
    "outputId": "3d0b04de-bf7f-4048-8e75-05ec087aca4d"
   },
   "outputs": [
    {
     "data": {
      "text/plain": [
       "array([  0.        ,   0.        ,   0.        , ..., 693.75      ,\n",
       "       596.5       , 375.66666667])"
      ]
     },
     "execution_count": 26,
     "metadata": {
      "tags": []
     },
     "output_type": "execute_result"
    }
   ],
   "source": [
    "### rad\n",
    "data_by_station[0].values[:, -1]"
   ]
  },
  {
   "cell_type": "markdown",
   "metadata": {
    "id": "sHSnKN467a05"
   },
   "source": [
    "### Visualización"
   ]
  },
  {
   "cell_type": "code",
   "execution_count": 27,
   "metadata": {
    "id": "CM255RaO7a06"
   },
   "outputs": [],
   "source": [
    "import matplotlib.pyplot as plt\n",
    "import seaborn as sns\n",
    "\n",
    "sns.set(rc={'figure.figsize': (16, 6)})"
   ]
  },
  {
   "cell_type": "markdown",
   "metadata": {
    "id": "EeJ5l6yj7a09"
   },
   "source": [
    "### Preparación de los datos para el entrenamiento de la red"
   ]
  },
  {
   "cell_type": "code",
   "execution_count": 28,
   "metadata": {
    "id": "tOA5IbPk7a0-"
   },
   "outputs": [],
   "source": [
    "import numpy as np\n",
    "import tensorflow as tf\n",
    "\n",
    "# Se fija la semilla para generar valores aleatorios\n",
    "np.random.seed(1)\n",
    "tf.random.set_seed(1)"
   ]
  },
  {
   "cell_type": "markdown",
   "metadata": {
    "id": "Yy4pMNGs7a1C"
   },
   "source": [
    "#### Función para preparar los datos para una RNN"
   ]
  },
  {
   "cell_type": "code",
   "execution_count": 29,
   "metadata": {
    "id": "cj0atncr7a1D"
   },
   "outputs": [],
   "source": [
    "def get_rnn_data(dataset, history_size=30, target_size=7):\n",
    "    start_index = history_size\n",
    "    end_index = len(dataset) - target_size\n",
    "    \n",
    "    data = []\n",
    "    labels = []\n",
    "    \n",
    "    for i in range(start_index, end_index):\n",
    "        indices = range(i - history_size, i, 1)\n",
    "        data.append(dataset[indices])\n",
    "        labels.append(dataset[i:i+target_size, -1])\n",
    "        \n",
    "    data = np.array(data)\n",
    "    labels = np.array(labels)\n",
    "    \n",
    "    return data, labels"
   ]
  },
  {
   "cell_type": "code",
   "execution_count": 30,
   "metadata": {
    "id": "mZB6sfyx7a1I"
   },
   "outputs": [],
   "source": [
    "past_history = 23 # Pasar información de 23 horas anteriores\n",
    "forecast_horizon = 1 # Obtener nivel de radiacion para la siguiente hora"
   ]
  },
  {
   "cell_type": "code",
   "execution_count": 31,
   "metadata": {
    "colab": {
     "base_uri": "https://localhost:8080/"
    },
    "id": "ZxwmM1ZQ7a1L",
    "outputId": "55dcf7cb-60af-4e80-c307-858c75bbe0fb"
   },
   "outputs": [
    {
     "data": {
      "text/plain": [
       "array([[ 0.59625232, -0.38966475,  0.09014085, -1.        ],\n",
       "       [ 0.59625232, -0.38966475,  0.08028169, -1.        ],\n",
       "       [ 0.59625232, -0.38966475,  0.06478873, -1.        ],\n",
       "       ...,\n",
       "       [ 0.59625232, -0.38966475,  0.48591549,  0.09683794],\n",
       "       [ 0.59625232, -0.38966475,  0.52816901, -0.056917  ],\n",
       "       [ 0.59625232, -0.38966475,  0.46478873, -0.40606061]])"
      ]
     },
     "execution_count": 31,
     "metadata": {
      "tags": []
     },
     "output_type": "execute_result"
    }
   ],
   "source": [
    "data_by_station = [scaler.transform(x) for x in data_by_station]\n",
    "\n",
    "data_by_station[0]"
   ]
  },
  {
   "cell_type": "code",
   "execution_count": 32,
   "metadata": {
    "colab": {
     "base_uri": "https://localhost:8080/"
    },
    "id": "UQzg7rug7a1P",
    "outputId": "97710dec-50ed-41d8-b1f4-a7a34a28a35b"
   },
   "outputs": [
    {
     "name": "stdout",
     "output_type": "stream",
     "text": [
      "CPU times: user 5.08 s, sys: 50.6 ms, total: 5.13 s\n",
      "Wall time: 5.12 s\n"
     ]
    }
   ],
   "source": [
    "%%time\n",
    "data = [get_rnn_data(d, past_history, forecast_horizon) for d in data_by_station]"
   ]
  },
  {
   "cell_type": "code",
   "execution_count": 33,
   "metadata": {
    "colab": {
     "base_uri": "https://localhost:8080/"
    },
    "id": "45UKKWMF7a1T",
    "outputId": "41259c2f-bc2c-4b49-f770-28b908aa80d0"
   },
   "outputs": [
    {
     "data": {
      "text/plain": [
       "111"
      ]
     },
     "execution_count": 33,
     "metadata": {
      "tags": []
     },
     "output_type": "execute_result"
    }
   ],
   "source": [
    "len(data)"
   ]
  },
  {
   "cell_type": "code",
   "execution_count": 34,
   "metadata": {
    "id": "cIfnnTPe7a1X"
   },
   "outputs": [],
   "source": [
    "data_input = data[0][0]\n",
    "data_target = data[0][1]"
   ]
  },
  {
   "cell_type": "code",
   "execution_count": 35,
   "metadata": {
    "colab": {
     "base_uri": "https://localhost:8080/"
    },
    "id": "pwWOR85T7a1c",
    "outputId": "b70eee09-8fc5-4e83-c4dc-8f9302aadc4e"
   },
   "outputs": [
    {
     "data": {
      "text/plain": [
       "(3619, 23, 4)"
      ]
     },
     "execution_count": 35,
     "metadata": {
      "tags": []
     },
     "output_type": "execute_result"
    }
   ],
   "source": [
    "data_input.shape"
   ]
  },
  {
   "cell_type": "code",
   "execution_count": 36,
   "metadata": {
    "colab": {
     "base_uri": "https://localhost:8080/"
    },
    "id": "JVebiAkx7a1g",
    "outputId": "c1da20be-a311-4e48-97cf-94f8d7d56c41"
   },
   "outputs": [
    {
     "data": {
      "text/plain": [
       "(3619, 1)"
      ]
     },
     "execution_count": 36,
     "metadata": {
      "tags": []
     },
     "output_type": "execute_result"
    }
   ],
   "source": [
    "data_target.shape"
   ]
  },
  {
   "cell_type": "code",
   "execution_count": 37,
   "metadata": {
    "colab": {
     "base_uri": "https://localhost:8080/"
    },
    "id": "Pri9xt0_7a1o",
    "outputId": "d03a6134-c6f7-404d-9991-7ea6906c591f"
   },
   "outputs": [
    {
     "name": "stdout",
     "output_type": "stream",
     "text": [
      "CPU times: user 4.54 s, sys: 350 ms, total: 4.89 s\n",
      "Wall time: 4.9 s\n"
     ]
    }
   ],
   "source": [
    "%%time\n",
    "for i in range(1, len(data)):\n",
    "    data_input = np.concatenate((data_input, data[i][0]))\n",
    "    data_target = np.concatenate((data_target, data[i][1]))"
   ]
  },
  {
   "cell_type": "code",
   "execution_count": 38,
   "metadata": {
    "colab": {
     "base_uri": "https://localhost:8080/"
    },
    "id": "2J31slVk7a1s",
    "outputId": "596e3305-31d1-4045-c7e3-30bf8f180937"
   },
   "outputs": [
    {
     "data": {
      "text/plain": [
       "(401335, 23, 4)"
      ]
     },
     "execution_count": 38,
     "metadata": {
      "tags": []
     },
     "output_type": "execute_result"
    }
   ],
   "source": [
    "data_input.shape"
   ]
  },
  {
   "cell_type": "code",
   "execution_count": 39,
   "metadata": {
    "colab": {
     "base_uri": "https://localhost:8080/"
    },
    "id": "ViEc9caT7a1v",
    "outputId": "af310225-065d-420e-e12a-d921c3f034c2"
   },
   "outputs": [
    {
     "data": {
      "text/plain": [
       "['0-100',\n",
       " '100-200',\n",
       " '200-300',\n",
       " '300-400',\n",
       " '400-500',\n",
       " '500-600',\n",
       " '600-700',\n",
       " '700-800',\n",
       " '800-900',\n",
       " '900-1000',\n",
       " '1000-1100']"
      ]
     },
     "execution_count": 39,
     "metadata": {
      "tags": []
     },
     "output_type": "execute_result"
    }
   ],
   "source": [
    "rad_range = ['{0}-{1}'.format(i, i+100) for i in range(0, 1100, 100)]\n",
    "\n",
    "rad_range"
   ]
  },
  {
   "cell_type": "code",
   "execution_count": 40,
   "metadata": {
    "colab": {
     "base_uri": "https://localhost:8080/"
    },
    "id": "8kB8sOnE7a14",
    "outputId": "8c38bc58-d1d4-4fe3-864c-ca6d445d2fc1"
   },
   "outputs": [
    {
     "data": {
      "text/plain": [
       "1138.5"
      ]
     },
     "execution_count": 40,
     "metadata": {
      "tags": []
     },
     "output_type": "execute_result"
    }
   ],
   "source": [
    "z = np.zeros(shape=(data_target.shape[0], 3))\n",
    "\n",
    "z2 = np.concatenate((z, data_target), axis=1)\n",
    "\n",
    "rad = scaler.inverse_transform(z2)[:,-1]\n",
    "\n",
    "rad.max()"
   ]
  },
  {
   "cell_type": "code",
   "execution_count": 41,
   "metadata": {
    "colab": {
     "base_uri": "https://localhost:8080/"
    },
    "id": "pNjKb2eN7a18",
    "outputId": "58938513-a337-48a1-c096-b0114c5553e3"
   },
   "outputs": [
    {
     "data": {
      "text/plain": [
       "0.0"
      ]
     },
     "execution_count": 41,
     "metadata": {
      "tags": []
     },
     "output_type": "execute_result"
    }
   ],
   "source": [
    "rad.min()"
   ]
  },
  {
   "cell_type": "code",
   "execution_count": 42,
   "metadata": {
    "id": "vS0Gqcl57a2A"
   },
   "outputs": [],
   "source": [
    "def get_range_category(v):\n",
    "    if v < 100:\n",
    "        return 0\n",
    "    if v < 200:\n",
    "        return 1\n",
    "    if v < 300:\n",
    "        return 2\n",
    "    if v < 400:\n",
    "        return 3\n",
    "    if v < 500:\n",
    "        return 4\n",
    "    if v < 600:\n",
    "        return 5\n",
    "    if v < 700:\n",
    "        return 6\n",
    "    if v < 800:\n",
    "        return 7\n",
    "    if v < 900:\n",
    "        return 8\n",
    "    if v < 1000:\n",
    "        return 9\n",
    "    if v >= 1000:\n",
    "        return 10\n",
    "\n",
    "labels = [get_range_category(x) for x in rad]"
   ]
  },
  {
   "cell_type": "code",
   "execution_count": 43,
   "metadata": {
    "colab": {
     "base_uri": "https://localhost:8080/"
    },
    "id": "N-mNSgK67a2H",
    "outputId": "01687d4b-4b1e-477f-bd3b-5f3c807c0c19"
   },
   "outputs": [
    {
     "data": {
      "text/plain": [
       "[0, 0, 0, 0, 0, 0, 1, 2, 3, 4, 4, 3, 2, 1, 0, 0, 0, 0, 0, 0]"
      ]
     },
     "execution_count": 43,
     "metadata": {
      "tags": []
     },
     "output_type": "execute_result"
    }
   ],
   "source": [
    "labels[100:120]"
   ]
  },
  {
   "cell_type": "code",
   "execution_count": 44,
   "metadata": {
    "colab": {
     "base_uri": "https://localhost:8080/",
     "height": 377
    },
    "id": "KQxgT6v37a2L",
    "outputId": "8414a807-6f0f-4743-d31a-135155cc9ba4"
   },
   "outputs": [
    {
     "data": {
      "image/png": "[encoded data removed]",
      "text/plain": [
       "<Figure size 1152x432 with 1 Axes>"
      ]
     },
     "metadata": {
      "tags": []
     },
     "output_type": "display_data"
    }
   ],
   "source": [
    "histogram = np.zeros(11)\n",
    "\n",
    "for i in labels:\n",
    "    histogram[i] = histogram[i] + 1\n",
    "    \n",
    "plt.plot(histogram)\n",
    "plt.show()"
   ]
  },
  {
   "cell_type": "code",
   "execution_count": 45,
   "metadata": {
    "id": "MOMJALgL7a2P"
   },
   "outputs": [],
   "source": [
    "from tensorflow.keras.utils import to_categorical"
   ]
  },
  {
   "cell_type": "code",
   "execution_count": 46,
   "metadata": {
    "id": "nsOdOQdw7a2S"
   },
   "outputs": [],
   "source": [
    "data_target_output = to_categorical(labels, 11)"
   ]
  },
  {
   "cell_type": "markdown",
   "metadata": {
    "id": "tUGf8kMz7a2V"
   },
   "source": [
    "#### GRU"
   ]
  },
  {
   "cell_type": "code",
   "execution_count": 47,
   "metadata": {
    "id": "Rfpk7Rsk7a2W"
   },
   "outputs": [],
   "source": [
    "from tensorflow.keras.models import Sequential\n",
    "from tensorflow.keras.layers import GRU, Dense, Reshape, Conv2D\n",
    "from tensorflow.keras.callbacks import EarlyStopping"
   ]
  },
  {
   "cell_type": "code",
   "execution_count": 48,
   "metadata": {
    "id": "-83rEC6j7a2d"
   },
   "outputs": [],
   "source": [
    "from sklearn.model_selection import train_test_split"
   ]
  },
  {
   "cell_type": "code",
   "execution_count": 49,
   "metadata": {
    "colab": {
     "base_uri": "https://localhost:8080/"
    },
    "id": "mkOTeOVF7a2g",
    "outputId": "15539048-7d39-4692-fc3d-0c6ec48e83ac"
   },
   "outputs": [
    {
     "name": "stdout",
     "output_type": "stream",
     "text": [
      "CPU times: user 134 ms, sys: 3.03 ms, total: 137 ms\n",
      "Wall time: 138 ms\n"
     ]
    }
   ],
   "source": [
    "%%time\n",
    "X_train, X_test, y_train, y_test = train_test_split(data_input, data_target_output, train_size=0.8)"
   ]
  },
  {
   "cell_type": "code",
   "execution_count": 50,
   "metadata": {
    "id": "Eb9d8gcA7a2o"
   },
   "outputs": [],
   "source": [
    "def get_model():\n",
    "    model = Sequential([\n",
    "        Reshape(\n",
    "            input_shape=(X_train.shape[1], X_train.shape[2]), \n",
    "            target_shape=(X_train.shape[1], X_train.shape[2], 1)\n",
    "        ),\n",
    "        Conv2D(64, kernel_size=(3, 1), padding='same'),\n",
    "        Reshape(target_shape=(X_train.shape[1], 64*X_train.shape[2])),\n",
    "        GRU(64, activation='tanh'),\n",
    "        Dense(11, activation='softmax')\n",
    "    ])\n",
    "\n",
    "    model.compile(loss='categorical_crossentropy', optimizer='adam', metrics=['accuracy'])\n",
    "\n",
    "    # model.summary()\n",
    "    \n",
    "    return model"
   ]
  },
  {
   "cell_type": "markdown",
   "metadata": {
    "id": "THpW_ZNr7a2r"
   },
   "source": [
    "## K-Fold Cross Validation"
   ]
  },
  {
   "cell_type": "code",
   "execution_count": 51,
   "metadata": {
    "id": "xkhnBr9H7a2r"
   },
   "outputs": [],
   "source": [
    "from sklearn.model_selection import KFold"
   ]
  },
  {
   "cell_type": "code",
   "execution_count": 52,
   "metadata": {
    "id": "3FQ3Bh4s7a2w"
   },
   "outputs": [],
   "source": [
    "cant_folds = 5\n",
    "cant_epochs = 50\n",
    "cant_batch = 64\n",
    "\n",
    "VALIDATION_ACCURACY = []\n",
    "VALIDATION_LOSS = []\n",
    "\n",
    "save_dir = '/content/drive/My Drive/solar-forecasting/models/'\n",
    "\n",
    "def model_name(k):\n",
    "    return 'conv_gru_fold-'+str(k)+'.h5'\n",
    "\n",
    "fold_var = 1\n",
    "kf = KFold(n_splits=cant_folds)"
   ]
  },
  {
   "cell_type": "code",
   "execution_count": 53,
   "metadata": {
    "colab": {
     "base_uri": "https://localhost:8080/"
    },
    "id": "hGXjpfPX7a20",
    "outputId": "f22998f7-92b3-483b-fd01-ed6bd3a9c94b"
   },
   "outputs": [
    {
     "name": "stdout",
     "output_type": "stream",
     "text": [
      "\n",
      "FOLD: 5\n",
      "Epoch 1/50\n",
      "4014/4014 [==============================] - 18s 4ms/step - loss: 0.5167 - accuracy: 0.8071 - val_loss: 0.4528 - val_accuracy: 0.8248\n",
      "Epoch 2/50\n",
      "4014/4014 [==============================] - 17s 4ms/step - loss: 0.4267 - accuracy: 0.8387 - val_loss: 0.4077 - val_accuracy: 0.8462\n",
      "Epoch 3/50\n",
      "4014/4014 [==============================] - 18s 4ms/step - loss: 0.4015 - accuracy: 0.8457 - val_loss: 0.3978 - val_accuracy: 0.8473\n",
      "Epoch 4/50\n",
      "4014/4014 [==============================] - 17s 4ms/step - loss: 0.3897 - accuracy: 0.8488 - val_loss: 0.3887 - val_accuracy: 0.8483\n",
      "Epoch 5/50\n",
      "4014/4014 [==============================] - 18s 4ms/step - loss: 0.3829 - accuracy: 0.8508 - val_loss: 0.3825 - val_accuracy: 0.8522\n",
      "Epoch 6/50\n",
      "4014/4014 [==============================] - 18s 4ms/step - loss: 0.3781 - accuracy: 0.8529 - val_loss: 0.3763 - val_accuracy: 0.8524\n",
      "Epoch 7/50\n",
      "4014/4014 [==============================] - 17s 4ms/step - loss: 0.3736 - accuracy: 0.8542 - val_loss: 0.3758 - val_accuracy: 0.8533\n",
      "Epoch 8/50\n",
      "4014/4014 [==============================] - 17s 4ms/step - loss: 0.3715 - accuracy: 0.8544 - val_loss: 0.3752 - val_accuracy: 0.8533\n",
      "Epoch 9/50\n",
      "4014/4014 [==============================] - 17s 4ms/step - loss: 0.3684 - accuracy: 0.8555 - val_loss: 0.3775 - val_accuracy: 0.8513\n",
      "Epoch 10/50\n",
      "4014/4014 [==============================] - 18s 4ms/step - loss: 0.3662 - accuracy: 0.8568 - val_loss: 0.3713 - val_accuracy: 0.8547\n",
      "Epoch 11/50\n",
      "4014/4014 [==============================] - 17s 4ms/step - loss: 0.3644 - accuracy: 0.8568 - val_loss: 0.3752 - val_accuracy: 0.8515\n",
      "Epoch 12/50\n",
      "4014/4014 [==============================] - 17s 4ms/step - loss: 0.3625 - accuracy: 0.8577 - val_loss: 0.3768 - val_accuracy: 0.8515\n",
      "Epoch 13/50\n",
      "4014/4014 [==============================] - 17s 4ms/step - loss: 0.3608 - accuracy: 0.8587 - val_loss: 0.3707 - val_accuracy: 0.8540\n",
      "Epoch 14/50\n",
      "4014/4014 [==============================] - 17s 4ms/step - loss: 0.3591 - accuracy: 0.8591 - val_loss: 0.3700 - val_accuracy: 0.8543\n",
      "Epoch 15/50\n",
      "4014/4014 [==============================] - 17s 4ms/step - loss: 0.3577 - accuracy: 0.8598 - val_loss: 0.3654 - val_accuracy: 0.8558\n",
      "Epoch 16/50\n",
      "4014/4014 [==============================] - 17s 4ms/step - loss: 0.3561 - accuracy: 0.8606 - val_loss: 0.3684 - val_accuracy: 0.8565\n",
      "Epoch 17/50\n",
      "4014/4014 [==============================] - 18s 5ms/step - loss: 0.3554 - accuracy: 0.8602 - val_loss: 0.3726 - val_accuracy: 0.8552\n",
      "Epoch 18/50\n",
      "4014/4014 [==============================] - 17s 4ms/step - loss: 0.3541 - accuracy: 0.8614 - val_loss: 0.3641 - val_accuracy: 0.8581\n",
      "Epoch 19/50\n",
      "4014/4014 [==============================] - 17s 4ms/step - loss: 0.3532 - accuracy: 0.8613 - val_loss: 0.3649 - val_accuracy: 0.8575\n",
      "Epoch 20/50\n",
      "4014/4014 [==============================] - 17s 4ms/step - loss: 0.3515 - accuracy: 0.8626 - val_loss: 0.3682 - val_accuracy: 0.8563\n",
      "Epoch 21/50\n",
      "4014/4014 [==============================] - 18s 4ms/step - loss: 0.3508 - accuracy: 0.8625 - val_loss: 0.3650 - val_accuracy: 0.8583\n",
      "Epoch 22/50\n",
      "4014/4014 [==============================] - 17s 4ms/step - loss: 0.3503 - accuracy: 0.8631 - val_loss: 0.3700 - val_accuracy: 0.8575\n",
      "Epoch 23/50\n",
      "4014/4014 [==============================] - 17s 4ms/step - loss: 0.3487 - accuracy: 0.8634 - val_loss: 0.3732 - val_accuracy: 0.8565\n",
      "Epoch 24/50\n",
      "4014/4014 [==============================] - 17s 4ms/step - loss: 0.3484 - accuracy: 0.8636 - val_loss: 0.3641 - val_accuracy: 0.8571\n",
      "Epoch 25/50\n",
      "4014/4014 [==============================] - 18s 4ms/step - loss: 0.3478 - accuracy: 0.8643 - val_loss: 0.3675 - val_accuracy: 0.8563\n",
      "Epoch 26/50\n",
      "4014/4014 [==============================] - 18s 4ms/step - loss: 0.3463 - accuracy: 0.8647 - val_loss: 0.3669 - val_accuracy: 0.8569\n",
      "Epoch 27/50\n",
      "4014/4014 [==============================] - 18s 4ms/step - loss: 0.3463 - accuracy: 0.8650 - val_loss: 0.3655 - val_accuracy: 0.8569\n",
      "Epoch 28/50\n",
      "4014/4014 [==============================] - 18s 4ms/step - loss: 0.3456 - accuracy: 0.8644 - val_loss: 0.3728 - val_accuracy: 0.8544\n",
      "Epoch 29/50\n",
      "4014/4014 [==============================] - 17s 4ms/step - loss: 0.3444 - accuracy: 0.8646 - val_loss: 0.3674 - val_accuracy: 0.8572\n",
      "Epoch 30/50\n",
      "4014/4014 [==============================] - 17s 4ms/step - loss: 0.3445 - accuracy: 0.8656 - val_loss: 0.3745 - val_accuracy: 0.8539\n",
      "Epoch 31/50\n",
      "4014/4014 [==============================] - 17s 4ms/step - loss: 0.3436 - accuracy: 0.8659 - val_loss: 0.3643 - val_accuracy: 0.8573\n",
      "EVALUATE FOLD: 5\n",
      "2007/2007 [==============================] - 5s 3ms/step - loss: 0.3650 - accuracy: 0.8583\n",
      "CPU times: user 57min 32s, sys: 7min 22s, total: 1h 4min 54s\n",
      "Wall time: 51min 6s\n"
     ]
    }
   ],
   "source": [
    "%%time\n",
    "\n",
    "from IPython.display import clear_output\n",
    "\n",
    "for train_index, val_index in kf.split(X_train,y_train):\n",
    "    x_train_data = X_train[train_index]\n",
    "    y_train_data = y_train[train_index]\n",
    "    x_val_data = X_train[val_index]\n",
    "    y_val_data = y_train[val_index]\n",
    "    \n",
    "    earlyStopping = EarlyStopping(monitor='val_accuracy', mode='max', patience=10)\n",
    "    \n",
    "    checkpoint = tf.keras.callbacks.ModelCheckpoint(\n",
    "        save_dir+model_name(fold_var), \n",
    "        monitor='val_accuracy', \n",
    "        save_best_only=True, mode='max',\n",
    "        verbose=0\n",
    "    )\n",
    "    \n",
    "    model = get_model()\n",
    "    \n",
    "    clear_output()\n",
    "    print(\"\\nFOLD:\", fold_var)\n",
    "    \n",
    "    history = model.fit(\n",
    "        x_train_data, y_train_data, \n",
    "        epochs=cant_epochs, batch_size=cant_batch, \n",
    "        validation_data=(x_val_data, y_val_data),\n",
    "        callbacks=[checkpoint, earlyStopping],\n",
    "    )\n",
    "    \n",
    "    print(\"EVALUATE FOLD:\", fold_var)\n",
    "    \n",
    "    # LOAD BEST MODEL to evaluate the performance of the model\n",
    "    model.load_weights(save_dir+model_name(fold_var))\n",
    "    \n",
    "    results = model.evaluate(x_val_data, y_val_data)\n",
    "    results = dict(zip(model.metrics_names,results))\n",
    "    \n",
    "    VALIDATION_ACCURACY.append(results['accuracy'])\n",
    "    VALIDATION_LOSS.append(results['loss'])\n",
    "    \n",
    "    tf.keras.backend.clear_session()\n",
    "    \n",
    "    fold_var += 1"
   ]
  },
  {
   "cell_type": "code",
   "execution_count": 54,
   "metadata": {
    "colab": {
     "base_uri": "https://localhost:8080/",
     "height": 411
    },
    "id": "XsMf1HlV7a27",
    "outputId": "90d1df60-105d-4668-a934-a7a7fbd05912"
   },
   "outputs": [
    {
     "name": "stderr",
     "output_type": "stream",
     "text": [
      "No handles with labels found to put in legend.\n"
     ]
    },
    {
     "data": {
      "image/png": "[encoded data removed]",
      "text/plain": [
       "<Figure size 1152x432 with 1 Axes>"
      ]
     },
     "metadata": {
      "tags": []
     },
     "output_type": "display_data"
    }
   ],
   "source": [
    "plt.bar([i for i in range(1, cant_folds+1)], VALIDATION_ACCURACY)\n",
    "plt.xlabel('Fold Number')\n",
    "plt.legend()\n",
    "plt.show()"
   ]
  },
  {
   "cell_type": "code",
   "execution_count": 55,
   "metadata": {
    "colab": {
     "base_uri": "https://localhost:8080/"
    },
    "id": "YWHikL1i7a3B",
    "outputId": "9c05d94b-a805-4875-e8bf-2aff37d13117"
   },
   "outputs": [
    {
     "name": "stdout",
     "output_type": "stream",
     "text": [
      "BEST FOLD:  4\n",
      "BEST ACCURACY:  0.8589226603507996\n"
     ]
    }
   ],
   "source": [
    "model = get_model()\n",
    "\n",
    "best = max(VALIDATION_ACCURACY)\n",
    "best_index = VALIDATION_ACCURACY.index(best)+1\n",
    "\n",
    "print(\"BEST FOLD: \", best_index)\n",
    "print(\"BEST ACCURACY: \", best)\n",
    "\n",
    "model.load_weights(save_dir+model_name(best_index))"
   ]
  },
  {
   "cell_type": "code",
   "execution_count": 56,
   "metadata": {
    "colab": {
     "base_uri": "https://localhost:8080/"
    },
    "id": "430leCOh7a3F",
    "outputId": "68e8b603-4c28-4ba5-f49f-42e89ab4a56e"
   },
   "outputs": [
    {
     "name": "stdout",
     "output_type": "stream",
     "text": [
      "2509/2509 [==============================] - 7s 3ms/step - loss: 0.3597 - accuracy: 0.8595\n"
     ]
    },
    {
     "data": {
      "text/plain": [
       "[0.3596635162830353, 0.8594814538955688]"
      ]
     },
     "execution_count": 56,
     "metadata": {
      "tags": []
     },
     "output_type": "execute_result"
    }
   ],
   "source": [
    "model.evaluate(X_test, y_test)"
   ]
  },
  {
   "cell_type": "code",
   "execution_count": 57,
   "metadata": {
    "colab": {
     "base_uri": "https://localhost:8080/"
    },
    "id": "hKOnsy8O7a3M",
    "outputId": "1db38d9b-047a-4826-ef73-dd3a14e1000e"
   },
   "outputs": [
    {
     "name": "stdout",
     "output_type": "stream",
     "text": [
      "CPU times: user 4.4 s, sys: 311 ms, total: 4.71 s\n",
      "Wall time: 3.76 s\n"
     ]
    }
   ],
   "source": [
    "%%time\n",
    "y_predicted = model.predict(X_test)"
   ]
  },
  {
   "cell_type": "code",
   "execution_count": 58,
   "metadata": {
    "id": "Hb4iURBz7a3P"
   },
   "outputs": [],
   "source": [
    "YP = np.array([x.tolist().index(max(x)) for x in y_predicted])\n",
    "YT = np.array([x.tolist().index(max(x)) for x in y_test])"
   ]
  },
  {
   "cell_type": "code",
   "execution_count": 59,
   "metadata": {
    "colab": {
     "base_uri": "https://localhost:8080/",
     "height": 377
    },
    "id": "SysB5DpH7a3S",
    "outputId": "bd899bf2-c7e9-49fc-cff9-8f9dadd8bd3b"
   },
   "outputs": [
    {
     "data": {
      "image/png": "[encoded data removed]",
      "text/plain": [
       "<Figure size 1152x432 with 1 Axes>"
      ]
     },
     "metadata": {
      "tags": []
     },
     "output_type": "display_data"
    }
   ],
   "source": [
    "error = YT - YP\n",
    "plt.plot(error)\n",
    "plt.show()"
   ]
  },
  {
   "cell_type": "markdown",
   "metadata": {
    "id": "BglIIj9B7a3W"
   },
   "source": [
    "$$\\mathrm{MAE}=\\frac{\\mathrm{SAE}}{N}=\\frac{\\sum_{i=1}^N \\left | x_i - \\hat x_i \\right |}{N}$$"
   ]
  },
  {
   "cell_type": "markdown",
   "metadata": {},
   "source": [
    "$$\\mathrm{MAE}=\\frac{\\mathrm{SAE}}{N}=\\frac{\\sum_{i=1}^N \\left | x_i - \\hat x_i \\right |}{N}$$\n",
    "\n",
    "Donde:\n",
    "$\\{x_i\\}$ son la observacionesa ctuales de las series de tiempo\n",
    "$\\{\\hat x_i\\}$ es la serie de tiempo estimada o pronosticada\n",
    "$\\mathrm{SAE}$ es la suma de los errores absolutos (o desviaciones)\n",
    "$N$ es el número de puntos de datos no faltantes\n"
   ]
  },
  {
   "cell_type": "code",
   "execution_count": null,
   "metadata": {},
   "outputs": [],
   "source": []
  }
 ],
 "metadata": {
  "accelerator": "GPU",
  "colab": {
   "collapsed_sections": [],
   "name": "08.3.2.ipynb",
   "provenance": []
  },
  "kernelspec": {
   "display_name": "Python 3",
   "language": "python",
   "name": "python3"
  },
  "language_info": {
   "codemirror_mode": {
    "name": "ipython",
    "version": 3
   },
   "file_extension": ".py",
   "mimetype": "text/x-python",
   "name": "python",
   "nbconvert_exporter": "python",
   "pygments_lexer": "ipython3",
   "version": "3.8.6"
  }
 },
 "nbformat": 4,
 "nbformat_minor": 4
}
