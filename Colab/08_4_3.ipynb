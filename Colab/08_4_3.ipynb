{
 "cells": [
  {
   "cell_type": "code",
   "execution_count": 1,
   "metadata": {
    "colab": {
     "base_uri": "https://localhost:8080/",
     "height": 34
    },
    "id": "NrSzw-eOw0JK",
    "outputId": "989d1a35-6e3b-45b5-dce3-0a0cb5de9ec9"
   },
   "outputs": [
    {
     "name": "stdout",
     "output_type": "stream",
     "text": [
      "Drive already mounted at /content/drive; to attempt to forcibly remount, call drive.mount(\"/content/drive\", force_remount=True).\n"
     ]
    }
   ],
   "source": [
    "from google.colab import drive\n",
    "drive.mount('/content/drive')"
   ]
  },
  {
   "cell_type": "code",
   "execution_count": 2,
   "metadata": {
    "id": "TvD4JXfqw0JR"
   },
   "outputs": [],
   "source": [
    "import pandas as pd"
   ]
  },
  {
   "cell_type": "code",
   "execution_count": 3,
   "metadata": {
    "id": "b6xidTDRw0JW"
   },
   "outputs": [],
   "source": [
    "data = pd.read_csv('/content/drive/My Drive/solar-forecasting/data/meteo_galicia.csv', sep=';', parse_dates=['fecha'], decimal=',',\n",
    "                 infer_datetime_format=True, low_memory=False, index_col='fecha').sort_index()"
   ]
  },
  {
   "cell_type": "markdown",
   "metadata": {
    "id": "IMcdH_plw0Jb"
   },
   "source": [
    "### Cargar datos"
   ]
  },
  {
   "cell_type": "code",
   "execution_count": 4,
   "metadata": {
    "id": "QM1651ZIw0Jc"
   },
   "outputs": [],
   "source": [
    "#data = pd.read_csv('./data/meteo_galicia.csv', sep=';', parse_dates=['fecha'], decimal=',',\n",
    "#                 infer_datetime_format=True, low_memory=False, index_col='fecha').sort_index()"
   ]
  },
  {
   "cell_type": "code",
   "execution_count": 5,
   "metadata": {
    "colab": {
     "base_uri": "https://localhost:8080/",
     "height": 450
    },
    "id": "0wz6F44Fw0Jg",
    "outputId": "4458832b-231d-4cee-a69b-246889329cbb"
   },
   "outputs": [
    {
     "data": {
      "text/html": [
       "<div>\n",
       "<style scoped>\n",
       "    .dataframe tbody tr th:only-of-type {\n",
       "        vertical-align: middle;\n",
       "    }\n",
       "\n",
       "    .dataframe tbody tr th {\n",
       "        vertical-align: top;\n",
       "    }\n",
       "\n",
       "    .dataframe thead th {\n",
       "        text-align: right;\n",
       "    }\n",
       "</style>\n",
       "<table border=\"1\" class=\"dataframe\">\n",
       "  <thead>\n",
       "    <tr style=\"text-align: right;\">\n",
       "      <th></th>\n",
       "      <th>estacionid</th>\n",
       "      <th>lat</th>\n",
       "      <th>lon</th>\n",
       "      <th>tamb</th>\n",
       "      <th>hum</th>\n",
       "      <th>pres</th>\n",
       "      <th>prec</th>\n",
       "      <th>rad</th>\n",
       "      <th>vvien</th>\n",
       "      <th>tipodered</th>\n",
       "    </tr>\n",
       "    <tr>\n",
       "      <th>fecha</th>\n",
       "      <th></th>\n",
       "      <th></th>\n",
       "      <th></th>\n",
       "      <th></th>\n",
       "      <th></th>\n",
       "      <th></th>\n",
       "      <th></th>\n",
       "      <th></th>\n",
       "      <th></th>\n",
       "      <th></th>\n",
       "    </tr>\n",
       "  </thead>\n",
       "  <tbody>\n",
       "    <tr>\n",
       "      <th>2019-01-01 00:10:00</th>\n",
       "      <td>20284</td>\n",
       "      <td>42.4044</td>\n",
       "      <td>-8.6730</td>\n",
       "      <td>5.4</td>\n",
       "      <td>0</td>\n",
       "      <td>1022.0</td>\n",
       "      <td>0.0</td>\n",
       "      <td>0.0</td>\n",
       "      <td>0.7</td>\n",
       "      <td>OFICIAL</td>\n",
       "    </tr>\n",
       "    <tr>\n",
       "      <th>2019-01-01 00:10:00</th>\n",
       "      <td>20233</td>\n",
       "      <td>42.3554</td>\n",
       "      <td>-7.0086</td>\n",
       "      <td>7.3</td>\n",
       "      <td>0</td>\n",
       "      <td>892.1</td>\n",
       "      <td>0.0</td>\n",
       "      <td>0.0</td>\n",
       "      <td>3.5</td>\n",
       "      <td>OFICIAL</td>\n",
       "    </tr>\n",
       "    <tr>\n",
       "      <th>2019-01-01 00:10:00</th>\n",
       "      <td>20218</td>\n",
       "      <td>43.1626</td>\n",
       "      <td>-7.2826</td>\n",
       "      <td>9.2</td>\n",
       "      <td>0</td>\n",
       "      <td>955.0</td>\n",
       "      <td>0.0</td>\n",
       "      <td>0.0</td>\n",
       "      <td>0.0</td>\n",
       "      <td>OFICIAL</td>\n",
       "    </tr>\n",
       "    <tr>\n",
       "      <th>2019-01-01 00:10:00</th>\n",
       "      <td>20217</td>\n",
       "      <td>42.7071</td>\n",
       "      <td>-7.0471</td>\n",
       "      <td>8.5</td>\n",
       "      <td>0</td>\n",
       "      <td>882.5</td>\n",
       "      <td>0.0</td>\n",
       "      <td>1.0</td>\n",
       "      <td>6.3</td>\n",
       "      <td>OFICIAL</td>\n",
       "    </tr>\n",
       "    <tr>\n",
       "      <th>2019-01-01 00:10:00</th>\n",
       "      <td>20221</td>\n",
       "      <td>43.5407</td>\n",
       "      <td>-7.0830</td>\n",
       "      <td>5.3</td>\n",
       "      <td>0</td>\n",
       "      <td>1027.0</td>\n",
       "      <td>0.0</td>\n",
       "      <td>0.0</td>\n",
       "      <td>2.8</td>\n",
       "      <td>OFICIAL</td>\n",
       "    </tr>\n",
       "    <tr>\n",
       "      <th>...</th>\n",
       "      <td>...</td>\n",
       "      <td>...</td>\n",
       "      <td>...</td>\n",
       "      <td>...</td>\n",
       "      <td>...</td>\n",
       "      <td>...</td>\n",
       "      <td>...</td>\n",
       "      <td>...</td>\n",
       "      <td>...</td>\n",
       "      <td>...</td>\n",
       "    </tr>\n",
       "    <tr>\n",
       "      <th>2019-06-01 19:40:00</th>\n",
       "      <td>20249</td>\n",
       "      <td>42.2987</td>\n",
       "      <td>-7.5907</td>\n",
       "      <td>25.0</td>\n",
       "      <td>0</td>\n",
       "      <td>909.0</td>\n",
       "      <td>0.0</td>\n",
       "      <td>402.0</td>\n",
       "      <td>2.0</td>\n",
       "      <td>OFICIAL</td>\n",
       "    </tr>\n",
       "    <tr>\n",
       "      <th>2019-06-01 19:40:00</th>\n",
       "      <td>20259</td>\n",
       "      <td>42.1630</td>\n",
       "      <td>-7.0896</td>\n",
       "      <td>27.0</td>\n",
       "      <td>0</td>\n",
       "      <td>922.0</td>\n",
       "      <td>0.0</td>\n",
       "      <td>374.0</td>\n",
       "      <td>3.0</td>\n",
       "      <td>OFICIAL</td>\n",
       "    </tr>\n",
       "    <tr>\n",
       "      <th>2019-06-01 19:40:00</th>\n",
       "      <td>20255</td>\n",
       "      <td>42.4631</td>\n",
       "      <td>-6.9295</td>\n",
       "      <td>30.0</td>\n",
       "      <td>0</td>\n",
       "      <td>NaN</td>\n",
       "      <td>0.0</td>\n",
       "      <td>378.0</td>\n",
       "      <td>0.0</td>\n",
       "      <td>OFICIAL</td>\n",
       "    </tr>\n",
       "    <tr>\n",
       "      <th>2019-06-01 19:40:00</th>\n",
       "      <td>20187</td>\n",
       "      <td>42.8760</td>\n",
       "      <td>-8.5594</td>\n",
       "      <td>28.0</td>\n",
       "      <td>0</td>\n",
       "      <td>988.0</td>\n",
       "      <td>0.0</td>\n",
       "      <td>419.0</td>\n",
       "      <td>3.0</td>\n",
       "      <td>OFICIAL</td>\n",
       "    </tr>\n",
       "    <tr>\n",
       "      <th>2019-06-01 19:40:00</th>\n",
       "      <td>20295</td>\n",
       "      <td>42.0786</td>\n",
       "      <td>-8.6794</td>\n",
       "      <td>25.0</td>\n",
       "      <td>0</td>\n",
       "      <td>963.0</td>\n",
       "      <td>0.0</td>\n",
       "      <td>26.0</td>\n",
       "      <td>0.0</td>\n",
       "      <td>OFICIAL</td>\n",
       "    </tr>\n",
       "  </tbody>\n",
       "</table>\n",
       "<p>2510008 rows × 10 columns</p>\n",
       "</div>"
      ],
      "text/plain": [
       "                     estacionid      lat     lon  ...    rad  vvien  tipodered\n",
       "fecha                                             ...                         \n",
       "2019-01-01 00:10:00       20284  42.4044 -8.6730  ...    0.0    0.7    OFICIAL\n",
       "2019-01-01 00:10:00       20233  42.3554 -7.0086  ...    0.0    3.5    OFICIAL\n",
       "2019-01-01 00:10:00       20218  43.1626 -7.2826  ...    0.0    0.0    OFICIAL\n",
       "2019-01-01 00:10:00       20217  42.7071 -7.0471  ...    1.0    6.3    OFICIAL\n",
       "2019-01-01 00:10:00       20221  43.5407 -7.0830  ...    0.0    2.8    OFICIAL\n",
       "...                         ...      ...     ...  ...    ...    ...        ...\n",
       "2019-06-01 19:40:00       20249  42.2987 -7.5907  ...  402.0    2.0    OFICIAL\n",
       "2019-06-01 19:40:00       20259  42.1630 -7.0896  ...  374.0    3.0    OFICIAL\n",
       "2019-06-01 19:40:00       20255  42.4631 -6.9295  ...  378.0    0.0    OFICIAL\n",
       "2019-06-01 19:40:00       20187  42.8760 -8.5594  ...  419.0    3.0    OFICIAL\n",
       "2019-06-01 19:40:00       20295  42.0786 -8.6794  ...   26.0    0.0    OFICIAL\n",
       "\n",
       "[2510008 rows x 10 columns]"
      ]
     },
     "execution_count": 5,
     "metadata": {
      "tags": []
     },
     "output_type": "execute_result"
    }
   ],
   "source": [
    "data"
   ]
  },
  {
   "cell_type": "markdown",
   "metadata": {
    "id": "uI5vLGFJw0Jn"
   },
   "source": [
    "### Eliminar columnas innecesarias"
   ]
  },
  {
   "cell_type": "code",
   "execution_count": 6,
   "metadata": {
    "id": "oC9DLt84w0Jo"
   },
   "outputs": [],
   "source": [
    "data = data.drop(columns=['tipodered', 'hum', 'prec', 'vvien', 'pres'])"
   ]
  },
  {
   "cell_type": "code",
   "execution_count": 7,
   "metadata": {
    "colab": {
     "base_uri": "https://localhost:8080/",
     "height": 34
    },
    "id": "g7q4Q9SRw0Jt",
    "outputId": "fca92dfe-4ac2-48e3-e541-869ad9a6c6fe"
   },
   "outputs": [
    {
     "data": {
      "text/plain": [
       "2510008"
      ]
     },
     "execution_count": 7,
     "metadata": {
      "tags": []
     },
     "output_type": "execute_result"
    }
   ],
   "source": [
    "len(data)"
   ]
  },
  {
   "cell_type": "code",
   "execution_count": 8,
   "metadata": {
    "colab": {
     "base_uri": "https://localhost:8080/",
     "height": 119
    },
    "id": "l2WASUvTw0Jz",
    "outputId": "bfd46fc4-ebe9-4136-866c-4ec44c5ee85b"
   },
   "outputs": [
    {
     "data": {
      "text/plain": [
       "estacionid        0\n",
       "lat               0\n",
       "lon               0\n",
       "tamb           2475\n",
       "rad           10847\n",
       "dtype: int64"
      ]
     },
     "execution_count": 8,
     "metadata": {
      "tags": []
     },
     "output_type": "execute_result"
    }
   ],
   "source": [
    "data.isnull().sum()"
   ]
  },
  {
   "cell_type": "code",
   "execution_count": 9,
   "metadata": {
    "id": "4NEZtI16w0J5"
   },
   "outputs": [],
   "source": [
    "data = data.dropna()"
   ]
  },
  {
   "cell_type": "code",
   "execution_count": 10,
   "metadata": {
    "colab": {
     "base_uri": "https://localhost:8080/",
     "height": 34
    },
    "id": "Y6RVsNviw0J-",
    "outputId": "800d3849-6fdc-45e5-a0a9-0ee55113a82f"
   },
   "outputs": [
    {
     "data": {
      "text/plain": [
       "2496903"
      ]
     },
     "execution_count": 10,
     "metadata": {
      "tags": []
     },
     "output_type": "execute_result"
    }
   ],
   "source": [
    "len(data)"
   ]
  },
  {
   "cell_type": "code",
   "execution_count": 11,
   "metadata": {
    "colab": {
     "base_uri": "https://localhost:8080/",
     "height": 119
    },
    "id": "BGiqVlBnw0KC",
    "outputId": "02b00b7b-748e-47f9-ad5f-81a8e3999251"
   },
   "outputs": [
    {
     "data": {
      "text/plain": [
       "estacionid    0\n",
       "lat           0\n",
       "lon           0\n",
       "tamb          0\n",
       "rad           0\n",
       "dtype: int64"
      ]
     },
     "execution_count": 11,
     "metadata": {
      "tags": []
     },
     "output_type": "execute_result"
    }
   ],
   "source": [
    "data.isnull().sum()"
   ]
  },
  {
   "cell_type": "markdown",
   "metadata": {
    "id": "C84BPd59w0KG"
   },
   "source": [
    "#### Escalar"
   ]
  },
  {
   "cell_type": "code",
   "execution_count": 12,
   "metadata": {
    "id": "FYEuMMKjw0KI"
   },
   "outputs": [],
   "source": [
    "class Scaler:\n",
    "    def fit(self, data):\n",
    "        self._min = data.min()\n",
    "        self._max = data.max()\n",
    "    \n",
    "    def normalize(self, data):\n",
    "        return (data - self._min) / (self._max - self._min)\n",
    "    \n",
    "    def denormalize(self, data):\n",
    "        return data*(self._max-self._min)+self._min"
   ]
  },
  {
   "cell_type": "code",
   "execution_count": 13,
   "metadata": {
    "id": "zuwfaofrw0KN"
   },
   "outputs": [],
   "source": [
    "tamb_scaler = Scaler()\n",
    "tamb_scaler.fit(data['tamb'])\n",
    "data['tamb'] = tamb_scaler.normalize(data['tamb'])\n",
    "\n",
    "rad_scaler = Scaler()\n",
    "rad_scaler.fit(data['rad'])\n",
    "data['rad'] = rad_scaler.normalize(data['rad'])"
   ]
  },
  {
   "cell_type": "code",
   "execution_count": 14,
   "metadata": {
    "colab": {
     "base_uri": "https://localhost:8080/",
     "height": 450
    },
    "id": "A4x5QkWaw0KR",
    "outputId": "d60e405b-5d92-4ebf-e917-57ab0f17d7ab"
   },
   "outputs": [
    {
     "data": {
      "text/html": [
       "<div>\n",
       "<style scoped>\n",
       "    .dataframe tbody tr th:only-of-type {\n",
       "        vertical-align: middle;\n",
       "    }\n",
       "\n",
       "    .dataframe tbody tr th {\n",
       "        vertical-align: top;\n",
       "    }\n",
       "\n",
       "    .dataframe thead th {\n",
       "        text-align: right;\n",
       "    }\n",
       "</style>\n",
       "<table border=\"1\" class=\"dataframe\">\n",
       "  <thead>\n",
       "    <tr style=\"text-align: right;\">\n",
       "      <th></th>\n",
       "      <th>estacionid</th>\n",
       "      <th>lat</th>\n",
       "      <th>lon</th>\n",
       "      <th>tamb</th>\n",
       "      <th>rad</th>\n",
       "    </tr>\n",
       "    <tr>\n",
       "      <th>fecha</th>\n",
       "      <th></th>\n",
       "      <th></th>\n",
       "      <th></th>\n",
       "      <th></th>\n",
       "      <th></th>\n",
       "    </tr>\n",
       "  </thead>\n",
       "  <tbody>\n",
       "    <tr>\n",
       "      <th>2019-01-01 00:10:00</th>\n",
       "      <td>20284</td>\n",
       "      <td>42.4044</td>\n",
       "      <td>-8.6730</td>\n",
       "      <td>0.470423</td>\n",
       "      <td>0.000000</td>\n",
       "    </tr>\n",
       "    <tr>\n",
       "      <th>2019-01-01 00:10:00</th>\n",
       "      <td>20233</td>\n",
       "      <td>42.3554</td>\n",
       "      <td>-7.0086</td>\n",
       "      <td>0.497183</td>\n",
       "      <td>0.000000</td>\n",
       "    </tr>\n",
       "    <tr>\n",
       "      <th>2019-01-01 00:10:00</th>\n",
       "      <td>20218</td>\n",
       "      <td>43.1626</td>\n",
       "      <td>-7.2826</td>\n",
       "      <td>0.523944</td>\n",
       "      <td>0.000000</td>\n",
       "    </tr>\n",
       "    <tr>\n",
       "      <th>2019-01-01 00:10:00</th>\n",
       "      <td>20217</td>\n",
       "      <td>42.7071</td>\n",
       "      <td>-7.0471</td>\n",
       "      <td>0.514085</td>\n",
       "      <td>0.000791</td>\n",
       "    </tr>\n",
       "    <tr>\n",
       "      <th>2019-01-01 00:10:00</th>\n",
       "      <td>20221</td>\n",
       "      <td>43.5407</td>\n",
       "      <td>-7.0830</td>\n",
       "      <td>0.469014</td>\n",
       "      <td>0.000000</td>\n",
       "    </tr>\n",
       "    <tr>\n",
       "      <th>...</th>\n",
       "      <td>...</td>\n",
       "      <td>...</td>\n",
       "      <td>...</td>\n",
       "      <td>...</td>\n",
       "      <td>...</td>\n",
       "    </tr>\n",
       "    <tr>\n",
       "      <th>2019-06-01 19:40:00</th>\n",
       "      <td>20249</td>\n",
       "      <td>42.2987</td>\n",
       "      <td>-7.5907</td>\n",
       "      <td>0.746479</td>\n",
       "      <td>0.317787</td>\n",
       "    </tr>\n",
       "    <tr>\n",
       "      <th>2019-06-01 19:40:00</th>\n",
       "      <td>20259</td>\n",
       "      <td>42.1630</td>\n",
       "      <td>-7.0896</td>\n",
       "      <td>0.774648</td>\n",
       "      <td>0.295652</td>\n",
       "    </tr>\n",
       "    <tr>\n",
       "      <th>2019-06-01 19:40:00</th>\n",
       "      <td>20255</td>\n",
       "      <td>42.4631</td>\n",
       "      <td>-6.9295</td>\n",
       "      <td>0.816901</td>\n",
       "      <td>0.298814</td>\n",
       "    </tr>\n",
       "    <tr>\n",
       "      <th>2019-06-01 19:40:00</th>\n",
       "      <td>20187</td>\n",
       "      <td>42.8760</td>\n",
       "      <td>-8.5594</td>\n",
       "      <td>0.788732</td>\n",
       "      <td>0.331225</td>\n",
       "    </tr>\n",
       "    <tr>\n",
       "      <th>2019-06-01 19:40:00</th>\n",
       "      <td>20295</td>\n",
       "      <td>42.0786</td>\n",
       "      <td>-8.6794</td>\n",
       "      <td>0.746479</td>\n",
       "      <td>0.020553</td>\n",
       "    </tr>\n",
       "  </tbody>\n",
       "</table>\n",
       "<p>2496903 rows × 5 columns</p>\n",
       "</div>"
      ],
      "text/plain": [
       "                     estacionid      lat     lon      tamb       rad\n",
       "fecha                                                               \n",
       "2019-01-01 00:10:00       20284  42.4044 -8.6730  0.470423  0.000000\n",
       "2019-01-01 00:10:00       20233  42.3554 -7.0086  0.497183  0.000000\n",
       "2019-01-01 00:10:00       20218  43.1626 -7.2826  0.523944  0.000000\n",
       "2019-01-01 00:10:00       20217  42.7071 -7.0471  0.514085  0.000791\n",
       "2019-01-01 00:10:00       20221  43.5407 -7.0830  0.469014  0.000000\n",
       "...                         ...      ...     ...       ...       ...\n",
       "2019-06-01 19:40:00       20249  42.2987 -7.5907  0.746479  0.317787\n",
       "2019-06-01 19:40:00       20259  42.1630 -7.0896  0.774648  0.295652\n",
       "2019-06-01 19:40:00       20255  42.4631 -6.9295  0.816901  0.298814\n",
       "2019-06-01 19:40:00       20187  42.8760 -8.5594  0.788732  0.331225\n",
       "2019-06-01 19:40:00       20295  42.0786 -8.6794  0.746479  0.020553\n",
       "\n",
       "[2496903 rows x 5 columns]"
      ]
     },
     "execution_count": 14,
     "metadata": {
      "tags": []
     },
     "output_type": "execute_result"
    }
   ],
   "source": [
    "data"
   ]
  },
  {
   "cell_type": "markdown",
   "metadata": {
    "id": "qklsfjZnw0KX"
   },
   "source": [
    "### Obtener id de las estaciones"
   ]
  },
  {
   "cell_type": "code",
   "execution_count": 15,
   "metadata": {
    "colab": {
     "base_uri": "https://localhost:8080/",
     "height": 34
    },
    "id": "Hdrw213Aw0KZ",
    "outputId": "ce23a7b6-a89d-464c-cf67-dc816c97badc"
   },
   "outputs": [
    {
     "data": {
      "text/plain": [
       "142"
      ]
     },
     "execution_count": 15,
     "metadata": {
      "tags": []
     },
     "output_type": "execute_result"
    }
   ],
   "source": [
    "estaciones = [s for s in set(data['estacionid'])]\n",
    "\n",
    "len(estaciones)"
   ]
  },
  {
   "cell_type": "markdown",
   "metadata": {
    "id": "AZC-ybPAw0Kd"
   },
   "source": [
    "### Obtener datos de las estaciones\n",
    "\n",
    "**Las estaciones que no tienen registro de radiación son eliminadas**"
   ]
  },
  {
   "cell_type": "code",
   "execution_count": 16,
   "metadata": {
    "colab": {
     "base_uri": "https://localhost:8080/",
     "height": 51
    },
    "id": "4fxNtuv4w0Ke",
    "outputId": "938dbdcf-3038-439a-91d5-ce7ee6d1a871"
   },
   "outputs": [
    {
     "name": "stdout",
     "output_type": "stream",
     "text": [
      "CPU times: user 2.42 s, sys: 33.1 ms, total: 2.45 s\n",
      "Wall time: 2.23 s\n"
     ]
    }
   ],
   "source": [
    "%%time\n",
    "data_by_station = []\n",
    "\n",
    "for s in estaciones:\n",
    "    filter_station = data['estacionid'] == s\n",
    "    data_station = data[filter_station].drop(columns=['estacionid'])\n",
    "    d = data_station.describe()\n",
    "    if d.rad['max'] != 0:\n",
    "        data_by_station.append(data_station)"
   ]
  },
  {
   "cell_type": "code",
   "execution_count": 17,
   "metadata": {
    "colab": {
     "base_uri": "https://localhost:8080/",
     "height": 34
    },
    "id": "RaRPMoECw0Ki",
    "outputId": "5785cded-8d98-4b03-b2be-56d29341bc77"
   },
   "outputs": [
    {
     "data": {
      "text/plain": [
       "111"
      ]
     },
     "execution_count": 17,
     "metadata": {
      "tags": []
     },
     "output_type": "execute_result"
    }
   ],
   "source": [
    "len(data_by_station)"
   ]
  },
  {
   "cell_type": "markdown",
   "metadata": {
    "id": "oicJw1Iyw0Km"
   },
   "source": [
    "### Ajustar intervalos de tiempo\n",
    "\n",
    "**Ajuste de 1 hora**"
   ]
  },
  {
   "cell_type": "code",
   "execution_count": 18,
   "metadata": {
    "colab": {
     "base_uri": "https://localhost:8080/",
     "height": 51
    },
    "id": "tsIIci_Vw0Kn",
    "outputId": "4a90f135-95af-4991-9e46-1b61026740f1"
   },
   "outputs": [
    {
     "name": "stdout",
     "output_type": "stream",
     "text": [
      "CPU times: user 237 ms, sys: 7.09 ms, total: 244 ms\n",
      "Wall time: 245 ms\n"
     ]
    }
   ],
   "source": [
    "%%time\n",
    "data_by_station = [s.resample('1H').mean().ffill().bfill() for s in data_by_station]"
   ]
  },
  {
   "cell_type": "code",
   "execution_count": 19,
   "metadata": {
    "colab": {
     "base_uri": "https://localhost:8080/",
     "height": 450
    },
    "id": "6In14Gn5w0Ks",
    "outputId": "781feddf-be98-4eb1-a3c0-4896260f9059"
   },
   "outputs": [
    {
     "data": {
      "text/html": [
       "<div>\n",
       "<style scoped>\n",
       "    .dataframe tbody tr th:only-of-type {\n",
       "        vertical-align: middle;\n",
       "    }\n",
       "\n",
       "    .dataframe tbody tr th {\n",
       "        vertical-align: top;\n",
       "    }\n",
       "\n",
       "    .dataframe thead th {\n",
       "        text-align: right;\n",
       "    }\n",
       "</style>\n",
       "<table border=\"1\" class=\"dataframe\">\n",
       "  <thead>\n",
       "    <tr style=\"text-align: right;\">\n",
       "      <th></th>\n",
       "      <th>lat</th>\n",
       "      <th>lon</th>\n",
       "      <th>tamb</th>\n",
       "      <th>rad</th>\n",
       "    </tr>\n",
       "    <tr>\n",
       "      <th>fecha</th>\n",
       "      <th></th>\n",
       "      <th></th>\n",
       "      <th></th>\n",
       "      <th></th>\n",
       "    </tr>\n",
       "  </thead>\n",
       "  <tbody>\n",
       "    <tr>\n",
       "      <th>2019-01-01 01:00:00</th>\n",
       "      <td>43.3634</td>\n",
       "      <td>-8.4419</td>\n",
       "      <td>0.545070</td>\n",
       "      <td>0.000000</td>\n",
       "    </tr>\n",
       "    <tr>\n",
       "      <th>2019-01-01 02:00:00</th>\n",
       "      <td>43.3634</td>\n",
       "      <td>-8.4419</td>\n",
       "      <td>0.540141</td>\n",
       "      <td>0.000000</td>\n",
       "    </tr>\n",
       "    <tr>\n",
       "      <th>2019-01-01 03:00:00</th>\n",
       "      <td>43.3634</td>\n",
       "      <td>-8.4419</td>\n",
       "      <td>0.532394</td>\n",
       "      <td>0.000000</td>\n",
       "    </tr>\n",
       "    <tr>\n",
       "      <th>2019-01-01 04:00:00</th>\n",
       "      <td>43.3634</td>\n",
       "      <td>-8.4419</td>\n",
       "      <td>0.551056</td>\n",
       "      <td>0.000000</td>\n",
       "    </tr>\n",
       "    <tr>\n",
       "      <th>2019-01-01 05:00:00</th>\n",
       "      <td>43.3634</td>\n",
       "      <td>-8.4419</td>\n",
       "      <td>0.558803</td>\n",
       "      <td>0.000000</td>\n",
       "    </tr>\n",
       "    <tr>\n",
       "      <th>...</th>\n",
       "      <td>...</td>\n",
       "      <td>...</td>\n",
       "      <td>...</td>\n",
       "      <td>...</td>\n",
       "    </tr>\n",
       "    <tr>\n",
       "      <th>2019-06-01 15:00:00</th>\n",
       "      <td>43.3634</td>\n",
       "      <td>-8.4419</td>\n",
       "      <td>0.714789</td>\n",
       "      <td>0.672727</td>\n",
       "    </tr>\n",
       "    <tr>\n",
       "      <th>2019-06-01 16:00:00</th>\n",
       "      <td>43.3634</td>\n",
       "      <td>-8.4419</td>\n",
       "      <td>0.711268</td>\n",
       "      <td>0.632806</td>\n",
       "    </tr>\n",
       "    <tr>\n",
       "      <th>2019-06-01 17:00:00</th>\n",
       "      <td>43.3634</td>\n",
       "      <td>-8.4419</td>\n",
       "      <td>0.742958</td>\n",
       "      <td>0.548419</td>\n",
       "    </tr>\n",
       "    <tr>\n",
       "      <th>2019-06-01 18:00:00</th>\n",
       "      <td>43.3634</td>\n",
       "      <td>-8.4419</td>\n",
       "      <td>0.764085</td>\n",
       "      <td>0.471542</td>\n",
       "    </tr>\n",
       "    <tr>\n",
       "      <th>2019-06-01 19:00:00</th>\n",
       "      <td>43.3634</td>\n",
       "      <td>-8.4419</td>\n",
       "      <td>0.732394</td>\n",
       "      <td>0.296970</td>\n",
       "    </tr>\n",
       "  </tbody>\n",
       "</table>\n",
       "<p>3643 rows × 4 columns</p>\n",
       "</div>"
      ],
      "text/plain": [
       "                         lat     lon      tamb       rad\n",
       "fecha                                                   \n",
       "2019-01-01 01:00:00  43.3634 -8.4419  0.545070  0.000000\n",
       "2019-01-01 02:00:00  43.3634 -8.4419  0.540141  0.000000\n",
       "2019-01-01 03:00:00  43.3634 -8.4419  0.532394  0.000000\n",
       "2019-01-01 04:00:00  43.3634 -8.4419  0.551056  0.000000\n",
       "2019-01-01 05:00:00  43.3634 -8.4419  0.558803  0.000000\n",
       "...                      ...     ...       ...       ...\n",
       "2019-06-01 15:00:00  43.3634 -8.4419  0.714789  0.672727\n",
       "2019-06-01 16:00:00  43.3634 -8.4419  0.711268  0.632806\n",
       "2019-06-01 17:00:00  43.3634 -8.4419  0.742958  0.548419\n",
       "2019-06-01 18:00:00  43.3634 -8.4419  0.764085  0.471542\n",
       "2019-06-01 19:00:00  43.3634 -8.4419  0.732394  0.296970\n",
       "\n",
       "[3643 rows x 4 columns]"
      ]
     },
     "execution_count": 19,
     "metadata": {
      "tags": []
     },
     "output_type": "execute_result"
    }
   ],
   "source": [
    "data_by_station[0]"
   ]
  },
  {
   "cell_type": "code",
   "execution_count": 20,
   "metadata": {
    "id": "pgkL8lJvw0Ky"
   },
   "outputs": [],
   "source": [
    "for d in data_by_station:\n",
    "    d['day']=[x.day for x in d.index]\n",
    "    d['month']=[x.month for x in d.index]\n",
    "    d['hour']=[x.hour for x in d.index]"
   ]
  },
  {
   "cell_type": "code",
   "execution_count": 21,
   "metadata": {
    "colab": {
     "base_uri": "https://localhost:8080/",
     "height": 450
    },
    "id": "lXH9l5C5w0K2",
    "outputId": "1f881ac5-4142-4377-fa5f-8203109542fa"
   },
   "outputs": [
    {
     "data": {
      "text/html": [
       "<div>\n",
       "<style scoped>\n",
       "    .dataframe tbody tr th:only-of-type {\n",
       "        vertical-align: middle;\n",
       "    }\n",
       "\n",
       "    .dataframe tbody tr th {\n",
       "        vertical-align: top;\n",
       "    }\n",
       "\n",
       "    .dataframe thead th {\n",
       "        text-align: right;\n",
       "    }\n",
       "</style>\n",
       "<table border=\"1\" class=\"dataframe\">\n",
       "  <thead>\n",
       "    <tr style=\"text-align: right;\">\n",
       "      <th></th>\n",
       "      <th>lat</th>\n",
       "      <th>lon</th>\n",
       "      <th>tamb</th>\n",
       "      <th>rad</th>\n",
       "      <th>day</th>\n",
       "      <th>month</th>\n",
       "      <th>hour</th>\n",
       "    </tr>\n",
       "    <tr>\n",
       "      <th>fecha</th>\n",
       "      <th></th>\n",
       "      <th></th>\n",
       "      <th></th>\n",
       "      <th></th>\n",
       "      <th></th>\n",
       "      <th></th>\n",
       "      <th></th>\n",
       "    </tr>\n",
       "  </thead>\n",
       "  <tbody>\n",
       "    <tr>\n",
       "      <th>2019-01-01 01:00:00</th>\n",
       "      <td>43.3634</td>\n",
       "      <td>-8.4419</td>\n",
       "      <td>0.545070</td>\n",
       "      <td>0.000000</td>\n",
       "      <td>1</td>\n",
       "      <td>1</td>\n",
       "      <td>1</td>\n",
       "    </tr>\n",
       "    <tr>\n",
       "      <th>2019-01-01 02:00:00</th>\n",
       "      <td>43.3634</td>\n",
       "      <td>-8.4419</td>\n",
       "      <td>0.540141</td>\n",
       "      <td>0.000000</td>\n",
       "      <td>1</td>\n",
       "      <td>1</td>\n",
       "      <td>2</td>\n",
       "    </tr>\n",
       "    <tr>\n",
       "      <th>2019-01-01 03:00:00</th>\n",
       "      <td>43.3634</td>\n",
       "      <td>-8.4419</td>\n",
       "      <td>0.532394</td>\n",
       "      <td>0.000000</td>\n",
       "      <td>1</td>\n",
       "      <td>1</td>\n",
       "      <td>3</td>\n",
       "    </tr>\n",
       "    <tr>\n",
       "      <th>2019-01-01 04:00:00</th>\n",
       "      <td>43.3634</td>\n",
       "      <td>-8.4419</td>\n",
       "      <td>0.551056</td>\n",
       "      <td>0.000000</td>\n",
       "      <td>1</td>\n",
       "      <td>1</td>\n",
       "      <td>4</td>\n",
       "    </tr>\n",
       "    <tr>\n",
       "      <th>2019-01-01 05:00:00</th>\n",
       "      <td>43.3634</td>\n",
       "      <td>-8.4419</td>\n",
       "      <td>0.558803</td>\n",
       "      <td>0.000000</td>\n",
       "      <td>1</td>\n",
       "      <td>1</td>\n",
       "      <td>5</td>\n",
       "    </tr>\n",
       "    <tr>\n",
       "      <th>...</th>\n",
       "      <td>...</td>\n",
       "      <td>...</td>\n",
       "      <td>...</td>\n",
       "      <td>...</td>\n",
       "      <td>...</td>\n",
       "      <td>...</td>\n",
       "      <td>...</td>\n",
       "    </tr>\n",
       "    <tr>\n",
       "      <th>2019-06-01 15:00:00</th>\n",
       "      <td>43.3634</td>\n",
       "      <td>-8.4419</td>\n",
       "      <td>0.714789</td>\n",
       "      <td>0.672727</td>\n",
       "      <td>1</td>\n",
       "      <td>6</td>\n",
       "      <td>15</td>\n",
       "    </tr>\n",
       "    <tr>\n",
       "      <th>2019-06-01 16:00:00</th>\n",
       "      <td>43.3634</td>\n",
       "      <td>-8.4419</td>\n",
       "      <td>0.711268</td>\n",
       "      <td>0.632806</td>\n",
       "      <td>1</td>\n",
       "      <td>6</td>\n",
       "      <td>16</td>\n",
       "    </tr>\n",
       "    <tr>\n",
       "      <th>2019-06-01 17:00:00</th>\n",
       "      <td>43.3634</td>\n",
       "      <td>-8.4419</td>\n",
       "      <td>0.742958</td>\n",
       "      <td>0.548419</td>\n",
       "      <td>1</td>\n",
       "      <td>6</td>\n",
       "      <td>17</td>\n",
       "    </tr>\n",
       "    <tr>\n",
       "      <th>2019-06-01 18:00:00</th>\n",
       "      <td>43.3634</td>\n",
       "      <td>-8.4419</td>\n",
       "      <td>0.764085</td>\n",
       "      <td>0.471542</td>\n",
       "      <td>1</td>\n",
       "      <td>6</td>\n",
       "      <td>18</td>\n",
       "    </tr>\n",
       "    <tr>\n",
       "      <th>2019-06-01 19:00:00</th>\n",
       "      <td>43.3634</td>\n",
       "      <td>-8.4419</td>\n",
       "      <td>0.732394</td>\n",
       "      <td>0.296970</td>\n",
       "      <td>1</td>\n",
       "      <td>6</td>\n",
       "      <td>19</td>\n",
       "    </tr>\n",
       "  </tbody>\n",
       "</table>\n",
       "<p>3643 rows × 7 columns</p>\n",
       "</div>"
      ],
      "text/plain": [
       "                         lat     lon      tamb       rad  day  month  hour\n",
       "fecha                                                                     \n",
       "2019-01-01 01:00:00  43.3634 -8.4419  0.545070  0.000000    1      1     1\n",
       "2019-01-01 02:00:00  43.3634 -8.4419  0.540141  0.000000    1      1     2\n",
       "2019-01-01 03:00:00  43.3634 -8.4419  0.532394  0.000000    1      1     3\n",
       "2019-01-01 04:00:00  43.3634 -8.4419  0.551056  0.000000    1      1     4\n",
       "2019-01-01 05:00:00  43.3634 -8.4419  0.558803  0.000000    1      1     5\n",
       "...                      ...     ...       ...       ...  ...    ...   ...\n",
       "2019-06-01 15:00:00  43.3634 -8.4419  0.714789  0.672727    1      6    15\n",
       "2019-06-01 16:00:00  43.3634 -8.4419  0.711268  0.632806    1      6    16\n",
       "2019-06-01 17:00:00  43.3634 -8.4419  0.742958  0.548419    1      6    17\n",
       "2019-06-01 18:00:00  43.3634 -8.4419  0.764085  0.471542    1      6    18\n",
       "2019-06-01 19:00:00  43.3634 -8.4419  0.732394  0.296970    1      6    19\n",
       "\n",
       "[3643 rows x 7 columns]"
      ]
     },
     "execution_count": 21,
     "metadata": {
      "tags": []
     },
     "output_type": "execute_result"
    }
   ],
   "source": [
    "data_by_station[0]"
   ]
  },
  {
   "cell_type": "code",
   "execution_count": 22,
   "metadata": {
    "colab": {
     "base_uri": "https://localhost:8080/",
     "height": 51
    },
    "id": "ESVQvjQgw0K5",
    "outputId": "2729b839-4aa3-41d4-980d-9a654df5a9f9"
   },
   "outputs": [
    {
     "data": {
      "text/plain": [
       "array([0.        , 0.        , 0.        , ..., 0.54841897, 0.4715415 ,\n",
       "       0.2969697 ])"
      ]
     },
     "execution_count": 22,
     "metadata": {
      "tags": []
     },
     "output_type": "execute_result"
    }
   ],
   "source": [
    "### rad\n",
    "data_by_station[0].values[:, -4]"
   ]
  },
  {
   "cell_type": "markdown",
   "metadata": {
    "id": "JARFKycnw0K-"
   },
   "source": [
    "### Visualización"
   ]
  },
  {
   "cell_type": "code",
   "execution_count": 23,
   "metadata": {
    "id": "dRlaP-Jbw0K_"
   },
   "outputs": [],
   "source": [
    "import matplotlib.pyplot as plt\n",
    "import seaborn as sns\n",
    "\n",
    "sns.set(rc={'figure.figsize': (16, 6)})"
   ]
  },
  {
   "cell_type": "markdown",
   "metadata": {
    "id": "auBZNrrlw0LC"
   },
   "source": [
    "### Preparación de los datos para el entrenamiento de la red"
   ]
  },
  {
   "cell_type": "code",
   "execution_count": 24,
   "metadata": {
    "id": "JCuB58v2w0LD"
   },
   "outputs": [],
   "source": [
    "import numpy as np\n",
    "import tensorflow as tf\n",
    "\n",
    "# Se fija la semilla para generar valores aleatorios\n",
    "np.random.seed(1)\n",
    "tf.random.set_seed(1)"
   ]
  },
  {
   "cell_type": "markdown",
   "metadata": {
    "id": "lysGE2j4w0LI"
   },
   "source": [
    "#### Función para preparar los datos para una RNN"
   ]
  },
  {
   "cell_type": "code",
   "execution_count": 25,
   "metadata": {
    "id": "x9wTSh1Dw0LL"
   },
   "outputs": [],
   "source": [
    "def get_rnn_data(dataset, history_size=30, target_size=7):\n",
    "    start_index = history_size\n",
    "    end_index = len(dataset) - target_size\n",
    "    \n",
    "    data = []\n",
    "    labels = []\n",
    "    \n",
    "    for i in range(start_index, end_index):\n",
    "        indices = range(i - history_size, i, 1)\n",
    "        data.append(dataset[indices])\n",
    "        labels.append(dataset[i:i+target_size, -4])\n",
    "        \n",
    "    data = np.array(data)\n",
    "    labels = np.array(labels)\n",
    "    \n",
    "    return data, labels"
   ]
  },
  {
   "cell_type": "code",
   "execution_count": 26,
   "metadata": {
    "id": "1LdijIMhw0LQ"
   },
   "outputs": [],
   "source": [
    "past_history = 23 # Pasar información de 23 horas anteriores\n",
    "forecast_horizon = 1 # Obtener nivel de radiacion para la siguiente hora"
   ]
  },
  {
   "cell_type": "code",
   "execution_count": 27,
   "metadata": {
    "colab": {
     "base_uri": "https://localhost:8080/",
     "height": 51
    },
    "id": "VknQOCxIw0LV",
    "outputId": "8ff02e24-55c1-4cce-9b94-3cc3f95a56a8"
   },
   "outputs": [
    {
     "name": "stdout",
     "output_type": "stream",
     "text": [
      "CPU times: user 4.63 s, sys: 70.7 ms, total: 4.7 s\n",
      "Wall time: 4.71 s\n"
     ]
    }
   ],
   "source": [
    "%%time\n",
    "data = [get_rnn_data(d.values, past_history, forecast_horizon) for d in data_by_station]"
   ]
  },
  {
   "cell_type": "code",
   "execution_count": 28,
   "metadata": {
    "colab": {
     "base_uri": "https://localhost:8080/",
     "height": 34
    },
    "id": "31OV-Zdnw0LY",
    "outputId": "0a3ddede-83b9-48da-8c5a-3cf0696914f5"
   },
   "outputs": [
    {
     "data": {
      "text/plain": [
       "111"
      ]
     },
     "execution_count": 28,
     "metadata": {
      "tags": []
     },
     "output_type": "execute_result"
    }
   ],
   "source": [
    "len(data)"
   ]
  },
  {
   "cell_type": "code",
   "execution_count": 29,
   "metadata": {
    "id": "-OTNGazMw0Ld"
   },
   "outputs": [],
   "source": [
    "data_input = data[0][0]\n",
    "data_target = data[0][1]"
   ]
  },
  {
   "cell_type": "code",
   "execution_count": 30,
   "metadata": {
    "colab": {
     "base_uri": "https://localhost:8080/",
     "height": 34
    },
    "id": "HkIayWnPw0Li",
    "outputId": "98cbbb6f-5571-4e06-aebc-6444924e2570"
   },
   "outputs": [
    {
     "data": {
      "text/plain": [
       "(3619, 23, 7)"
      ]
     },
     "execution_count": 30,
     "metadata": {
      "tags": []
     },
     "output_type": "execute_result"
    }
   ],
   "source": [
    "data_input.shape"
   ]
  },
  {
   "cell_type": "code",
   "execution_count": 31,
   "metadata": {
    "colab": {
     "base_uri": "https://localhost:8080/",
     "height": 34
    },
    "id": "BJzQ_s8Rw0Lm",
    "outputId": "6473d779-98ba-4c80-c0d4-148185b01138"
   },
   "outputs": [
    {
     "data": {
      "text/plain": [
       "(3619, 1)"
      ]
     },
     "execution_count": 31,
     "metadata": {
      "tags": []
     },
     "output_type": "execute_result"
    }
   ],
   "source": [
    "data_target.shape"
   ]
  },
  {
   "cell_type": "code",
   "execution_count": 32,
   "metadata": {
    "colab": {
     "base_uri": "https://localhost:8080/",
     "height": 136
    },
    "id": "Ad7sUvlBw0Lq",
    "outputId": "68992dbc-0be5-45bf-98d3-a0bfcd58eb64"
   },
   "outputs": [
    {
     "data": {
      "text/plain": [
       "array([[  0.  ],\n",
       "       [  0.  ],\n",
       "       [  0.  ],\n",
       "       ...,\n",
       "       [800.5 ],\n",
       "       [693.75],\n",
       "       [596.5 ]])"
      ]
     },
     "execution_count": 32,
     "metadata": {
      "tags": []
     },
     "output_type": "execute_result"
    }
   ],
   "source": [
    "rad_scaler.denormalize(data_target)"
   ]
  },
  {
   "cell_type": "code",
   "execution_count": 33,
   "metadata": {
    "colab": {
     "base_uri": "https://localhost:8080/",
     "height": 136
    },
    "id": "n552YaY7w0Lu",
    "outputId": "bb9a1f32-ad48-46ad-96a5-fc6e19d8aaad"
   },
   "outputs": [
    {
     "data": {
      "text/plain": [
       "array([[0.        ],\n",
       "       [0.        ],\n",
       "       [0.        ],\n",
       "       ...,\n",
       "       [0.63280632],\n",
       "       [0.54841897],\n",
       "       [0.4715415 ]])"
      ]
     },
     "execution_count": 33,
     "metadata": {
      "tags": []
     },
     "output_type": "execute_result"
    }
   ],
   "source": [
    "data_target"
   ]
  },
  {
   "cell_type": "code",
   "execution_count": 34,
   "metadata": {
    "colab": {
     "base_uri": "https://localhost:8080/",
     "height": 51
    },
    "id": "v3zMx9pBw0Lz",
    "outputId": "b84275dd-560c-4448-fa32-e46e033c1ac7"
   },
   "outputs": [
    {
     "name": "stdout",
     "output_type": "stream",
     "text": [
      "CPU times: user 6.92 s, sys: 458 ms, total: 7.38 s\n",
      "Wall time: 7.39 s\n"
     ]
    }
   ],
   "source": [
    "%%time\n",
    "for i in range(1, len(data)):\n",
    "    data_input = np.concatenate((data_input, data[i][0]))\n",
    "    data_target = np.concatenate((data_target, data[i][1]))"
   ]
  },
  {
   "cell_type": "code",
   "execution_count": 35,
   "metadata": {
    "colab": {
     "base_uri": "https://localhost:8080/",
     "height": 34
    },
    "id": "-7HggXTpw0L3",
    "outputId": "d12c1576-031a-4af5-81bc-557b3617869b"
   },
   "outputs": [
    {
     "data": {
      "text/plain": [
       "(401335, 23, 7)"
      ]
     },
     "execution_count": 35,
     "metadata": {
      "tags": []
     },
     "output_type": "execute_result"
    }
   ],
   "source": [
    "data_input.shape"
   ]
  },
  {
   "cell_type": "code",
   "execution_count": 36,
   "metadata": {
    "colab": {
     "base_uri": "https://localhost:8080/",
     "height": 34
    },
    "id": "OQ8gk4j-w0L8",
    "outputId": "ee0f72ac-5740-4d30-a4f3-a28a2561e128"
   },
   "outputs": [
    {
     "data": {
      "text/plain": [
       "(401335, 1)"
      ]
     },
     "execution_count": 36,
     "metadata": {
      "tags": []
     },
     "output_type": "execute_result"
    }
   ],
   "source": [
    "data_target.shape"
   ]
  },
  {
   "cell_type": "markdown",
   "metadata": {
    "id": "G3tZ9MUrw0MA"
   },
   "source": [
    "#### GRU"
   ]
  },
  {
   "cell_type": "code",
   "execution_count": 37,
   "metadata": {
    "id": "uo3zWCl_w0MB"
   },
   "outputs": [],
   "source": [
    "from tensorflow.keras.models import Sequential\n",
    "from tensorflow.keras.layers import GRU, Dense, Conv2D, Reshape\n",
    "from tensorflow.keras.losses import mae\n",
    "from tensorflow.keras.callbacks import EarlyStopping"
   ]
  },
  {
   "cell_type": "code",
   "execution_count": 38,
   "metadata": {
    "id": "b5zU_1oSw0ME"
   },
   "outputs": [],
   "source": [
    "earlyStopping = EarlyStopping(monitor='val_loss', mode='min', patience=10, restore_best_weights=True)"
   ]
  },
  {
   "cell_type": "code",
   "execution_count": 39,
   "metadata": {
    "id": "nkuc1vO4w0MI"
   },
   "outputs": [],
   "source": [
    "from sklearn.model_selection import train_test_split"
   ]
  },
  {
   "cell_type": "code",
   "execution_count": 40,
   "metadata": {
    "colab": {
     "base_uri": "https://localhost:8080/",
     "height": 51
    },
    "id": "LJPED34vw0MQ",
    "outputId": "f9ee9d68-1fb8-4ef0-967e-970e963d178b"
   },
   "outputs": [
    {
     "name": "stdout",
     "output_type": "stream",
     "text": [
      "CPU times: user 164 ms, sys: 0 ns, total: 164 ms\n",
      "Wall time: 164 ms\n"
     ]
    }
   ],
   "source": [
    "%%time\n",
    "X_train, X_test, y_train, y_test = train_test_split(data_input, data_target, train_size=0.8)"
   ]
  },
  {
   "cell_type": "code",
   "execution_count": 41,
   "metadata": {
    "id": "m6kT5qj-w0MU"
   },
   "outputs": [],
   "source": [
    "def rad_mae(x, y):\n",
    "    X = rad_scaler.denormalize(x)\n",
    "    Y = rad_scaler.denormalize(y)\n",
    "    \n",
    "    return mae(X, Y)"
   ]
  },
  {
   "cell_type": "code",
   "execution_count": 42,
   "metadata": {
    "colab": {
     "base_uri": "https://localhost:8080/",
     "height": 323
    },
    "id": "-fXB9UIkw0MX",
    "outputId": "ddd3c9ef-148c-4a6d-dc82-e65f64e172f3"
   },
   "outputs": [
    {
     "name": "stdout",
     "output_type": "stream",
     "text": [
      "Model: \"sequential\"\n",
      "_________________________________________________________________\n",
      "Layer (type)                 Output Shape              Param #   \n",
      "=================================================================\n",
      "reshape (Reshape)            (None, 23, 7, 1)          0         \n",
      "_________________________________________________________________\n",
      "conv2d (Conv2D)              (None, 23, 7, 128)        512       \n",
      "_________________________________________________________________\n",
      "reshape_1 (Reshape)          (None, 23, 896)           0         \n",
      "_________________________________________________________________\n",
      "gru (GRU)                    (None, 128)               393984    \n",
      "_________________________________________________________________\n",
      "dense (Dense)                (None, 1)                 129       \n",
      "=================================================================\n",
      "Total params: 394,625\n",
      "Trainable params: 394,625\n",
      "Non-trainable params: 0\n",
      "_________________________________________________________________\n"
     ]
    }
   ],
   "source": [
    "model = Sequential([\n",
    "    Reshape(\n",
    "        input_shape=(X_train.shape[1], X_train.shape[2]), \n",
    "        target_shape=(X_train.shape[1], X_train.shape[2], 1)\n",
    "    ),\n",
    "    Conv2D(128, kernel_size=(3, 1), padding='same', activation='relu'),\n",
    "    Reshape(target_shape=(X_train.shape[1], 128*X_train.shape[2])),\n",
    "    GRU(128, input_shape=(X_train.shape[1], X_train.shape[2]), activation='tanh'),\n",
    "    Dense(forecast_horizon, activation='sigmoid')\n",
    "])\n",
    "\n",
    "model.compile(loss='mae', optimizer='adam', metrics=[rad_mae])\n",
    "\n",
    "model.summary()"
   ]
  },
  {
   "cell_type": "code",
   "execution_count": 43,
   "metadata": {
    "colab": {
     "base_uri": "https://localhost:8080/",
     "height": 1000
    },
    "id": "9yqqbuFEw0Mc",
    "outputId": "7db35230-1cfb-4bd3-982c-603c8a982212"
   },
   "outputs": [
    {
     "name": "stdout",
     "output_type": "stream",
     "text": [
      "Epoch 1/50\n",
      "4014/4014 [==============================] - 19s 5ms/step - loss: 0.0339 - rad_mae: 42.9449 - val_loss: 0.0200 - val_rad_mae: 25.3052\n",
      "Epoch 2/50\n",
      "4014/4014 [==============================] - 18s 5ms/step - loss: 0.0201 - rad_mae: 25.4364 - val_loss: 0.0200 - val_rad_mae: 25.2872\n",
      "Epoch 3/50\n",
      "4014/4014 [==============================] - 18s 5ms/step - loss: 0.0193 - rad_mae: 24.4356 - val_loss: 0.0188 - val_rad_mae: 23.7378\n",
      "Epoch 4/50\n",
      "4014/4014 [==============================] - 18s 5ms/step - loss: 0.0189 - rad_mae: 23.8905 - val_loss: 0.0177 - val_rad_mae: 22.3980\n",
      "Epoch 5/50\n",
      "4014/4014 [==============================] - 18s 5ms/step - loss: 0.0185 - rad_mae: 23.4475 - val_loss: 0.0195 - val_rad_mae: 24.7294\n",
      "Epoch 6/50\n",
      "4014/4014 [==============================] - 19s 5ms/step - loss: 0.0184 - rad_mae: 23.2163 - val_loss: 0.0190 - val_rad_mae: 24.0512\n",
      "Epoch 7/50\n",
      "4014/4014 [==============================] - 18s 5ms/step - loss: 0.0181 - rad_mae: 22.9402 - val_loss: 0.0174 - val_rad_mae: 22.0150\n",
      "Epoch 8/50\n",
      "4014/4014 [==============================] - 19s 5ms/step - loss: 0.0179 - rad_mae: 22.5887 - val_loss: 0.0185 - val_rad_mae: 23.3464\n",
      "Epoch 9/50\n",
      "4014/4014 [==============================] - 18s 5ms/step - loss: 0.0178 - rad_mae: 22.4624 - val_loss: 0.0193 - val_rad_mae: 24.4305\n",
      "Epoch 10/50\n",
      "4014/4014 [==============================] - 19s 5ms/step - loss: 0.0176 - rad_mae: 22.2059 - val_loss: 0.0178 - val_rad_mae: 22.5685\n",
      "Epoch 11/50\n",
      "4014/4014 [==============================] - 19s 5ms/step - loss: 0.0174 - rad_mae: 22.0270 - val_loss: 0.0179 - val_rad_mae: 22.5882\n",
      "Epoch 12/50\n",
      "4014/4014 [==============================] - 19s 5ms/step - loss: 0.0173 - rad_mae: 21.9428 - val_loss: 0.0175 - val_rad_mae: 22.1150\n",
      "Epoch 13/50\n",
      "4014/4014 [==============================] - 18s 5ms/step - loss: 0.0172 - rad_mae: 21.7402 - val_loss: 0.0183 - val_rad_mae: 23.1108\n",
      "Epoch 14/50\n",
      "4014/4014 [==============================] - 19s 5ms/step - loss: 0.0171 - rad_mae: 21.6681 - val_loss: 0.0168 - val_rad_mae: 21.2798\n",
      "Epoch 15/50\n",
      "4014/4014 [==============================] - 18s 5ms/step - loss: 0.0171 - rad_mae: 21.6055 - val_loss: 0.0169 - val_rad_mae: 21.3254\n",
      "Epoch 16/50\n",
      "4014/4014 [==============================] - 19s 5ms/step - loss: 0.0170 - rad_mae: 21.5014 - val_loss: 0.0176 - val_rad_mae: 22.2630\n",
      "Epoch 17/50\n",
      "4014/4014 [==============================] - 18s 5ms/step - loss: 0.0170 - rad_mae: 21.4656 - val_loss: 0.0174 - val_rad_mae: 21.9845\n",
      "Epoch 18/50\n",
      "4014/4014 [==============================] - 18s 5ms/step - loss: 0.0170 - rad_mae: 21.4474 - val_loss: 0.0166 - val_rad_mae: 20.9972\n",
      "Epoch 19/50\n",
      "4014/4014 [==============================] - 19s 5ms/step - loss: 0.0169 - rad_mae: 21.3487 - val_loss: 0.0174 - val_rad_mae: 21.9625\n",
      "Epoch 20/50\n",
      "4014/4014 [==============================] - 18s 5ms/step - loss: 0.0167 - rad_mae: 21.1631 - val_loss: 0.0163 - val_rad_mae: 20.6304\n",
      "Epoch 22/50\n",
      "4014/4014 [==============================] - 18s 5ms/step - loss: 0.0167 - rad_mae: 21.1030 - val_loss: 0.0172 - val_rad_mae: 21.7093\n",
      "Epoch 23/50\n",
      "4014/4014 [==============================] - 19s 5ms/step - loss: 0.0167 - rad_mae: 21.0906 - val_loss: 0.0176 - val_rad_mae: 22.2331\n",
      "Epoch 24/50\n",
      "4014/4014 [==============================] - 18s 5ms/step - loss: 0.0166 - rad_mae: 21.0203 - val_loss: 0.0172 - val_rad_mae: 21.7456\n",
      "Epoch 25/50\n",
      "4014/4014 [==============================] - 19s 5ms/step - loss: 0.0165 - rad_mae: 20.9273 - val_loss: 0.0163 - val_rad_mae: 20.5820\n",
      "Epoch 26/50\n",
      "4014/4014 [==============================] - 19s 5ms/step - loss: 0.0166 - rad_mae: 20.9597 - val_loss: 0.0165 - val_rad_mae: 20.9033\n",
      "Epoch 27/50\n",
      "4014/4014 [==============================] - 19s 5ms/step - loss: 0.0165 - rad_mae: 20.8436 - val_loss: 0.0162 - val_rad_mae: 20.4742\n",
      "Epoch 28/50\n",
      "4014/4014 [==============================] - 19s 5ms/step - loss: 0.0165 - rad_mae: 20.8622 - val_loss: 0.0163 - val_rad_mae: 20.6161\n",
      "Epoch 29/50\n",
      "4014/4014 [==============================] - 19s 5ms/step - loss: 0.0164 - rad_mae: 20.7682 - val_loss: 0.0170 - val_rad_mae: 21.4626\n",
      "Epoch 30/50\n",
      "4014/4014 [==============================] - 18s 5ms/step - loss: 0.0164 - rad_mae: 20.7396 - val_loss: 0.0165 - val_rad_mae: 20.9285\n",
      "Epoch 31/50\n",
      "4014/4014 [==============================] - 18s 5ms/step - loss: 0.0164 - rad_mae: 20.7247 - val_loss: 0.0169 - val_rad_mae: 21.3265\n",
      "Epoch 32/50\n",
      "4014/4014 [==============================] - 18s 5ms/step - loss: 0.0164 - rad_mae: 20.6977 - val_loss: 0.0160 - val_rad_mae: 20.2258\n",
      "Epoch 33/50\n",
      "4014/4014 [==============================] - 18s 4ms/step - loss: 0.0163 - rad_mae: 20.6424 - val_loss: 0.0164 - val_rad_mae: 20.7450\n",
      "Epoch 34/50\n",
      "4014/4014 [==============================] - 18s 4ms/step - loss: 0.0163 - rad_mae: 20.6282 - val_loss: 0.0182 - val_rad_mae: 23.0329\n",
      "Epoch 35/50\n",
      "4014/4014 [==============================] - 18s 5ms/step - loss: 0.0163 - rad_mae: 20.6608 - val_loss: 0.0162 - val_rad_mae: 20.4549\n",
      "Epoch 36/50\n",
      "4014/4014 [==============================] - 18s 5ms/step - loss: 0.0163 - rad_mae: 20.6236 - val_loss: 0.0174 - val_rad_mae: 22.0200\n",
      "Epoch 37/50\n",
      "4014/4014 [==============================] - 18s 5ms/step - loss: 0.0163 - rad_mae: 20.6215 - val_loss: 0.0162 - val_rad_mae: 20.4817\n",
      "Epoch 38/50\n",
      "4014/4014 [==============================] - 19s 5ms/step - loss: 0.0163 - rad_mae: 20.5837 - val_loss: 0.0160 - val_rad_mae: 20.2509\n",
      "Epoch 39/50\n",
      "4014/4014 [==============================] - 19s 5ms/step - loss: 0.0162 - rad_mae: 20.5562 - val_loss: 0.0164 - val_rad_mae: 20.7527\n",
      "Epoch 40/50\n",
      "4014/4014 [==============================] - 19s 5ms/step - loss: 0.0162 - rad_mae: 20.5231 - val_loss: 0.0164 - val_rad_mae: 20.6860\n",
      "Epoch 41/50\n",
      "4014/4014 [==============================] - 18s 5ms/step - loss: 0.0163 - rad_mae: 20.5606 - val_loss: 0.0160 - val_rad_mae: 20.2930\n",
      "Epoch 42/50\n",
      "4014/4014 [==============================] - 18s 5ms/step - loss: 0.0162 - rad_mae: 20.5238 - val_loss: 0.0160 - val_rad_mae: 20.2864\n",
      "CPU times: user 14min 45s, sys: 1min 36s, total: 16min 21s\n",
      "Wall time: 12min 59s\n"
     ]
    }
   ],
   "source": [
    "%%time\n",
    "history = model.fit(X_train, y_train, epochs=50, batch_size=64, validation_split=0.2, callbacks=[earlyStopping])"
   ]
  },
  {
   "cell_type": "code",
   "execution_count": 44,
   "metadata": {
    "colab": {
     "base_uri": "https://localhost:8080/",
     "height": 377
    },
    "id": "KtL4rEixw0Mh",
    "outputId": "0cc57bed-76bd-42dc-a2d9-f4b97d9c8643"
   },
   "outputs": [
    {
     "data": {
      "image/png": "[encoded data removed]",
      "text/plain": [
       "<Figure size 1152x432 with 1 Axes>"
      ]
     },
     "metadata": {
      "tags": []
     },
     "output_type": "display_data"
    }
   ],
   "source": [
    "plt.plot(history.history['loss'], label='loss')\n",
    "plt.plot(history.history['val_loss'], label='val_loss')\n",
    "plt.legend()\n",
    "plt.show()"
   ]
  },
  {
   "cell_type": "code",
   "execution_count": 45,
   "metadata": {
    "colab": {
     "base_uri": "https://localhost:8080/",
     "height": 51
    },
    "id": "B3mQlpojw0Mm",
    "outputId": "8058f9b6-a7d0-4a42-82df-b8ebd5b90a14"
   },
   "outputs": [
    {
     "name": "stdout",
     "output_type": "stream",
     "text": [
      "2509/2509 [==============================] - 5s 2ms/step - loss: 0.0156 - rad_mae: 19.6753\n"
     ]
    },
    {
     "data": {
      "text/plain": [
       "[0.015553588978946209, 19.67530632019043]"
      ]
     },
     "execution_count": 45,
     "metadata": {
      "tags": []
     },
     "output_type": "execute_result"
    }
   ],
   "source": [
    "model.evaluate(X_test, y_test)"
   ]
  },
  {
   "cell_type": "code",
   "execution_count": 46,
   "metadata": {
    "colab": {
     "base_uri": "https://localhost:8080/",
     "height": 34
    },
    "id": "W-GxQ6uhw0Mq",
    "outputId": "9793ce2e-5e82-4ffc-d3b6-8ad4b4f94209"
   },
   "outputs": [
    {
     "data": {
      "text/plain": [
       "(80267, 1)"
      ]
     },
     "execution_count": 46,
     "metadata": {
      "tags": []
     },
     "output_type": "execute_result"
    }
   ],
   "source": [
    "y_test.shape"
   ]
  },
  {
   "cell_type": "code",
   "execution_count": 47,
   "metadata": {
    "id": "dX4Xgt2Dw0Ms"
   },
   "outputs": [],
   "source": [
    "y_predicted = model.predict(X_test)"
   ]
  },
  {
   "cell_type": "code",
   "execution_count": 48,
   "metadata": {
    "id": "SgX0dTwVw0Mw"
   },
   "outputs": [],
   "source": [
    "YP = rad_scaler.denormalize(y_predicted)\n",
    "YT = rad_scaler.denormalize(y_test)"
   ]
  },
  {
   "cell_type": "code",
   "execution_count": 49,
   "metadata": {
    "colab": {
     "base_uri": "https://localhost:8080/",
     "height": 377
    },
    "id": "zfh3cF-rw0M0",
    "outputId": "451a0036-021c-4c8f-c2f8-47a2e221eb7b"
   },
   "outputs": [
    {
     "data": {
      "image/png": "[encoded data removed]",
      "text/plain": [
       "<Figure size 1152x432 with 1 Axes>"
      ]
     },
     "metadata": {
      "tags": []
     },
     "output_type": "display_data"
    }
   ],
   "source": [
    "plt.plot(YT)\n",
    "plt.plot(YP, color='salmon')\n",
    "plt.show()"
   ]
  },
  {
   "cell_type": "code",
   "execution_count": 50,
   "metadata": {
    "id": "WPe8yj-xw0M5"
   },
   "outputs": [],
   "source": [
    "error = YT - YP"
   ]
  },
  {
   "cell_type": "code",
   "execution_count": 51,
   "metadata": {
    "colab": {
     "base_uri": "https://localhost:8080/",
     "height": 377
    },
    "id": "4_QBJdUaw0NA",
    "outputId": "9baa6714-106d-43c2-8484-7bd33d94aad5"
   },
   "outputs": [
    {
     "data": {
      "image/png": "[encoded data removed]",
      "text/plain": [
       "<Figure size 1152x432 with 1 Axes>"
      ]
     },
     "metadata": {
      "tags": []
     },
     "output_type": "display_data"
    }
   ],
   "source": [
    "plt.plot(error)\n",
    "plt.show()"
   ]
  },
  {
   "cell_type": "code",
   "execution_count": 51,
   "metadata": {
    "id": "8p_C5kKow0NH"
   },
   "outputs": [],
   "source": []
  }
 ],
 "metadata": {
  "accelerator": "GPU",
  "colab": {
   "collapsed_sections": [],
   "name": "08.4.3.ipynb",
   "provenance": []
  },
  "kernelspec": {
   "display_name": "Python 3",
   "language": "python",
   "name": "python3"
  },
  "language_info": {
   "codemirror_mode": {
    "name": "ipython",
    "version": 3
   },
   "file_extension": ".py",
   "mimetype": "text/x-python",
   "name": "python",
   "nbconvert_exporter": "python",
   "pygments_lexer": "ipython3",
   "version": "3.8.6"
  }
 },
 "nbformat": 4,
 "nbformat_minor": 4
}
