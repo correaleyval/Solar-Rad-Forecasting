{
 "cells": [
  {
   "cell_type": "code",
   "execution_count": 1,
   "metadata": {},
   "outputs": [],
   "source": [
    "#from google.colab import drive\n",
    "#drive.mount('/content/drive')"
   ]
  },
  {
   "cell_type": "code",
   "execution_count": 2,
   "metadata": {},
   "outputs": [],
   "source": [
    "import pandas as pd"
   ]
  },
  {
   "cell_type": "code",
   "execution_count": 3,
   "metadata": {},
   "outputs": [],
   "source": [
    "#data = pd.read_csv('/content/drive/My Drive/solar-forecasting/data/meteo_galicia.csv', sep=';', parse_dates=['fecha'], decimal=',',\n",
    "#                 infer_datetime_format=True, low_memory=False, index_col='fecha').sort_index()"
   ]
  },
  {
   "cell_type": "markdown",
   "metadata": {},
   "source": [
    "### Cargar datos"
   ]
  },
  {
   "cell_type": "code",
   "execution_count": 4,
   "metadata": {},
   "outputs": [],
   "source": [
    "data = pd.read_csv('./data/meteo_galicia.csv', sep=';', parse_dates=['fecha'], decimal=',',\n",
    "                 infer_datetime_format=True, low_memory=False, index_col='fecha').sort_index()"
   ]
  },
  {
   "cell_type": "code",
   "execution_count": 5,
   "metadata": {},
   "outputs": [
    {
     "data": {
      "text/html": [
       "<div>\n",
       "<style scoped>\n",
       "    .dataframe tbody tr th:only-of-type {\n",
       "        vertical-align: middle;\n",
       "    }\n",
       "\n",
       "    .dataframe tbody tr th {\n",
       "        vertical-align: top;\n",
       "    }\n",
       "\n",
       "    .dataframe thead th {\n",
       "        text-align: right;\n",
       "    }\n",
       "</style>\n",
       "<table border=\"1\" class=\"dataframe\">\n",
       "  <thead>\n",
       "    <tr style=\"text-align: right;\">\n",
       "      <th></th>\n",
       "      <th>estacionid</th>\n",
       "      <th>lat</th>\n",
       "      <th>lon</th>\n",
       "      <th>tamb</th>\n",
       "      <th>hum</th>\n",
       "      <th>pres</th>\n",
       "      <th>prec</th>\n",
       "      <th>rad</th>\n",
       "      <th>vvien</th>\n",
       "      <th>tipodered</th>\n",
       "    </tr>\n",
       "    <tr>\n",
       "      <th>fecha</th>\n",
       "      <th></th>\n",
       "      <th></th>\n",
       "      <th></th>\n",
       "      <th></th>\n",
       "      <th></th>\n",
       "      <th></th>\n",
       "      <th></th>\n",
       "      <th></th>\n",
       "      <th></th>\n",
       "      <th></th>\n",
       "    </tr>\n",
       "  </thead>\n",
       "  <tbody>\n",
       "    <tr>\n",
       "      <th>2019-01-01 00:10:00</th>\n",
       "      <td>20284</td>\n",
       "      <td>42.4044</td>\n",
       "      <td>-8.6730</td>\n",
       "      <td>5.4</td>\n",
       "      <td>0</td>\n",
       "      <td>1022.0</td>\n",
       "      <td>0.0</td>\n",
       "      <td>0.0</td>\n",
       "      <td>0.7</td>\n",
       "      <td>OFICIAL</td>\n",
       "    </tr>\n",
       "    <tr>\n",
       "      <th>2019-01-01 00:10:00</th>\n",
       "      <td>20233</td>\n",
       "      <td>42.3554</td>\n",
       "      <td>-7.0086</td>\n",
       "      <td>7.3</td>\n",
       "      <td>0</td>\n",
       "      <td>892.1</td>\n",
       "      <td>0.0</td>\n",
       "      <td>0.0</td>\n",
       "      <td>3.5</td>\n",
       "      <td>OFICIAL</td>\n",
       "    </tr>\n",
       "    <tr>\n",
       "      <th>2019-01-01 00:10:00</th>\n",
       "      <td>20218</td>\n",
       "      <td>43.1626</td>\n",
       "      <td>-7.2826</td>\n",
       "      <td>9.2</td>\n",
       "      <td>0</td>\n",
       "      <td>955.0</td>\n",
       "      <td>0.0</td>\n",
       "      <td>0.0</td>\n",
       "      <td>0.0</td>\n",
       "      <td>OFICIAL</td>\n",
       "    </tr>\n",
       "    <tr>\n",
       "      <th>2019-01-01 00:10:00</th>\n",
       "      <td>20217</td>\n",
       "      <td>42.7071</td>\n",
       "      <td>-7.0471</td>\n",
       "      <td>8.5</td>\n",
       "      <td>0</td>\n",
       "      <td>882.5</td>\n",
       "      <td>0.0</td>\n",
       "      <td>1.0</td>\n",
       "      <td>6.3</td>\n",
       "      <td>OFICIAL</td>\n",
       "    </tr>\n",
       "    <tr>\n",
       "      <th>2019-01-01 00:10:00</th>\n",
       "      <td>20221</td>\n",
       "      <td>43.5407</td>\n",
       "      <td>-7.0830</td>\n",
       "      <td>5.3</td>\n",
       "      <td>0</td>\n",
       "      <td>1027.0</td>\n",
       "      <td>0.0</td>\n",
       "      <td>0.0</td>\n",
       "      <td>2.8</td>\n",
       "      <td>OFICIAL</td>\n",
       "    </tr>\n",
       "    <tr>\n",
       "      <th>...</th>\n",
       "      <td>...</td>\n",
       "      <td>...</td>\n",
       "      <td>...</td>\n",
       "      <td>...</td>\n",
       "      <td>...</td>\n",
       "      <td>...</td>\n",
       "      <td>...</td>\n",
       "      <td>...</td>\n",
       "      <td>...</td>\n",
       "      <td>...</td>\n",
       "    </tr>\n",
       "    <tr>\n",
       "      <th>2019-06-01 19:40:00</th>\n",
       "      <td>20249</td>\n",
       "      <td>42.2987</td>\n",
       "      <td>-7.5907</td>\n",
       "      <td>25.0</td>\n",
       "      <td>0</td>\n",
       "      <td>909.0</td>\n",
       "      <td>0.0</td>\n",
       "      <td>402.0</td>\n",
       "      <td>2.0</td>\n",
       "      <td>OFICIAL</td>\n",
       "    </tr>\n",
       "    <tr>\n",
       "      <th>2019-06-01 19:40:00</th>\n",
       "      <td>20259</td>\n",
       "      <td>42.1630</td>\n",
       "      <td>-7.0896</td>\n",
       "      <td>27.0</td>\n",
       "      <td>0</td>\n",
       "      <td>922.0</td>\n",
       "      <td>0.0</td>\n",
       "      <td>374.0</td>\n",
       "      <td>3.0</td>\n",
       "      <td>OFICIAL</td>\n",
       "    </tr>\n",
       "    <tr>\n",
       "      <th>2019-06-01 19:40:00</th>\n",
       "      <td>20255</td>\n",
       "      <td>42.4631</td>\n",
       "      <td>-6.9295</td>\n",
       "      <td>30.0</td>\n",
       "      <td>0</td>\n",
       "      <td>NaN</td>\n",
       "      <td>0.0</td>\n",
       "      <td>378.0</td>\n",
       "      <td>0.0</td>\n",
       "      <td>OFICIAL</td>\n",
       "    </tr>\n",
       "    <tr>\n",
       "      <th>2019-06-01 19:40:00</th>\n",
       "      <td>20187</td>\n",
       "      <td>42.8760</td>\n",
       "      <td>-8.5594</td>\n",
       "      <td>28.0</td>\n",
       "      <td>0</td>\n",
       "      <td>988.0</td>\n",
       "      <td>0.0</td>\n",
       "      <td>419.0</td>\n",
       "      <td>3.0</td>\n",
       "      <td>OFICIAL</td>\n",
       "    </tr>\n",
       "    <tr>\n",
       "      <th>2019-06-01 19:40:00</th>\n",
       "      <td>20295</td>\n",
       "      <td>42.0786</td>\n",
       "      <td>-8.6794</td>\n",
       "      <td>25.0</td>\n",
       "      <td>0</td>\n",
       "      <td>963.0</td>\n",
       "      <td>0.0</td>\n",
       "      <td>26.0</td>\n",
       "      <td>0.0</td>\n",
       "      <td>OFICIAL</td>\n",
       "    </tr>\n",
       "  </tbody>\n",
       "</table>\n",
       "<p>2510008 rows × 10 columns</p>\n",
       "</div>"
      ],
      "text/plain": [
       "                     estacionid      lat     lon  tamb  hum    pres  prec  \\\n",
       "fecha                                                                       \n",
       "2019-01-01 00:10:00       20284  42.4044 -8.6730   5.4    0  1022.0   0.0   \n",
       "2019-01-01 00:10:00       20233  42.3554 -7.0086   7.3    0   892.1   0.0   \n",
       "2019-01-01 00:10:00       20218  43.1626 -7.2826   9.2    0   955.0   0.0   \n",
       "2019-01-01 00:10:00       20217  42.7071 -7.0471   8.5    0   882.5   0.0   \n",
       "2019-01-01 00:10:00       20221  43.5407 -7.0830   5.3    0  1027.0   0.0   \n",
       "...                         ...      ...     ...   ...  ...     ...   ...   \n",
       "2019-06-01 19:40:00       20249  42.2987 -7.5907  25.0    0   909.0   0.0   \n",
       "2019-06-01 19:40:00       20259  42.1630 -7.0896  27.0    0   922.0   0.0   \n",
       "2019-06-01 19:40:00       20255  42.4631 -6.9295  30.0    0     NaN   0.0   \n",
       "2019-06-01 19:40:00       20187  42.8760 -8.5594  28.0    0   988.0   0.0   \n",
       "2019-06-01 19:40:00       20295  42.0786 -8.6794  25.0    0   963.0   0.0   \n",
       "\n",
       "                       rad  vvien tipodered  \n",
       "fecha                                        \n",
       "2019-01-01 00:10:00    0.0    0.7   OFICIAL  \n",
       "2019-01-01 00:10:00    0.0    3.5   OFICIAL  \n",
       "2019-01-01 00:10:00    0.0    0.0   OFICIAL  \n",
       "2019-01-01 00:10:00    1.0    6.3   OFICIAL  \n",
       "2019-01-01 00:10:00    0.0    2.8   OFICIAL  \n",
       "...                    ...    ...       ...  \n",
       "2019-06-01 19:40:00  402.0    2.0   OFICIAL  \n",
       "2019-06-01 19:40:00  374.0    3.0   OFICIAL  \n",
       "2019-06-01 19:40:00  378.0    0.0   OFICIAL  \n",
       "2019-06-01 19:40:00  419.0    3.0   OFICIAL  \n",
       "2019-06-01 19:40:00   26.0    0.0   OFICIAL  \n",
       "\n",
       "[2510008 rows x 10 columns]"
      ]
     },
     "execution_count": 5,
     "metadata": {},
     "output_type": "execute_result"
    }
   ],
   "source": [
    "data"
   ]
  },
  {
   "cell_type": "markdown",
   "metadata": {},
   "source": [
    "### Eliminar columnas innecesarias"
   ]
  },
  {
   "cell_type": "code",
   "execution_count": 6,
   "metadata": {},
   "outputs": [],
   "source": [
    "data = data.drop(columns=['tipodered', 'hum', 'prec', 'vvien', 'pres'])"
   ]
  },
  {
   "cell_type": "code",
   "execution_count": 7,
   "metadata": {},
   "outputs": [
    {
     "data": {
      "text/plain": [
       "2510008"
      ]
     },
     "execution_count": 7,
     "metadata": {},
     "output_type": "execute_result"
    }
   ],
   "source": [
    "len(data)"
   ]
  },
  {
   "cell_type": "code",
   "execution_count": 8,
   "metadata": {},
   "outputs": [
    {
     "data": {
      "text/plain": [
       "estacionid        0\n",
       "lat               0\n",
       "lon               0\n",
       "tamb           2475\n",
       "rad           10847\n",
       "dtype: int64"
      ]
     },
     "execution_count": 8,
     "metadata": {},
     "output_type": "execute_result"
    }
   ],
   "source": [
    "data.isnull().sum()"
   ]
  },
  {
   "cell_type": "code",
   "execution_count": 9,
   "metadata": {},
   "outputs": [],
   "source": [
    "data = data.dropna()"
   ]
  },
  {
   "cell_type": "code",
   "execution_count": 10,
   "metadata": {},
   "outputs": [
    {
     "data": {
      "text/plain": [
       "2496903"
      ]
     },
     "execution_count": 10,
     "metadata": {},
     "output_type": "execute_result"
    }
   ],
   "source": [
    "len(data)"
   ]
  },
  {
   "cell_type": "code",
   "execution_count": 11,
   "metadata": {},
   "outputs": [
    {
     "data": {
      "text/plain": [
       "estacionid    0\n",
       "lat           0\n",
       "lon           0\n",
       "tamb          0\n",
       "rad           0\n",
       "dtype: int64"
      ]
     },
     "execution_count": 11,
     "metadata": {},
     "output_type": "execute_result"
    }
   ],
   "source": [
    "data.isnull().sum()"
   ]
  },
  {
   "cell_type": "markdown",
   "metadata": {},
   "source": [
    "### Obtener id de las estaciones"
   ]
  },
  {
   "cell_type": "code",
   "execution_count": 12,
   "metadata": {},
   "outputs": [
    {
     "data": {
      "text/plain": [
       "142"
      ]
     },
     "execution_count": 12,
     "metadata": {},
     "output_type": "execute_result"
    }
   ],
   "source": [
    "estaciones = [s for s in set(data['estacionid'])]\n",
    "\n",
    "len(estaciones)"
   ]
  },
  {
   "cell_type": "markdown",
   "metadata": {},
   "source": [
    "### Obtener datos de las estaciones\n",
    "\n",
    "**Las estaciones que no tienen registro de radiación son eliminadas**"
   ]
  },
  {
   "cell_type": "code",
   "execution_count": 13,
   "metadata": {},
   "outputs": [
    {
     "name": "stdout",
     "output_type": "stream",
     "text": [
      "CPU times: user 2.54 s, sys: 0 ns, total: 2.54 s\n",
      "Wall time: 2.55 s\n"
     ]
    }
   ],
   "source": [
    "%%time\n",
    "data_by_station = []\n",
    "\n",
    "for s in estaciones:\n",
    "    filter_station = data['estacionid'] == s\n",
    "    data_station = data[filter_station].drop(columns=['estacionid'])\n",
    "    d = data_station.describe()\n",
    "    if d.rad['max'] != 0:\n",
    "        data_by_station.append(data_station)"
   ]
  },
  {
   "cell_type": "code",
   "execution_count": 14,
   "metadata": {},
   "outputs": [
    {
     "data": {
      "text/plain": [
       "111"
      ]
     },
     "execution_count": 14,
     "metadata": {},
     "output_type": "execute_result"
    }
   ],
   "source": [
    "len(data_by_station)"
   ]
  },
  {
   "cell_type": "markdown",
   "metadata": {},
   "source": [
    "### Ajustar intervalos de tiempo\n",
    "\n",
    "**Ajuste de 1 hora**"
   ]
  },
  {
   "cell_type": "code",
   "execution_count": 15,
   "metadata": {},
   "outputs": [
    {
     "name": "stdout",
     "output_type": "stream",
     "text": [
      "CPU times: user 287 ms, sys: 72 µs, total: 287 ms\n",
      "Wall time: 286 ms\n"
     ]
    }
   ],
   "source": [
    "%%time\n",
    "data_by_station = [s.resample('1H').mean().ffill().bfill() for s in data_by_station]"
   ]
  },
  {
   "cell_type": "markdown",
   "metadata": {},
   "source": [
    "### Agregar numero del día y del mes a los datos de cada estación"
   ]
  },
  {
   "cell_type": "code",
   "execution_count": 16,
   "metadata": {},
   "outputs": [
    {
     "name": "stdout",
     "output_type": "stream",
     "text": [
      "CPU times: user 1.83 s, sys: 36.8 ms, total: 1.86 s\n",
      "Wall time: 1.87 s\n"
     ]
    }
   ],
   "source": [
    "%%time\n",
    "for d in data_by_station:\n",
    "    d['day']=[x.day for x in d.index]\n",
    "    d['month']=[x.month for x in d.index]\n",
    "    d['hour']=[x.hour for x in d.index]"
   ]
  },
  {
   "cell_type": "code",
   "execution_count": 17,
   "metadata": {},
   "outputs": [
    {
     "data": {
      "text/html": [
       "<div>\n",
       "<style scoped>\n",
       "    .dataframe tbody tr th:only-of-type {\n",
       "        vertical-align: middle;\n",
       "    }\n",
       "\n",
       "    .dataframe tbody tr th {\n",
       "        vertical-align: top;\n",
       "    }\n",
       "\n",
       "    .dataframe thead th {\n",
       "        text-align: right;\n",
       "    }\n",
       "</style>\n",
       "<table border=\"1\" class=\"dataframe\">\n",
       "  <thead>\n",
       "    <tr style=\"text-align: right;\">\n",
       "      <th></th>\n",
       "      <th>lat</th>\n",
       "      <th>lon</th>\n",
       "      <th>tamb</th>\n",
       "      <th>rad</th>\n",
       "      <th>day</th>\n",
       "      <th>month</th>\n",
       "      <th>hour</th>\n",
       "    </tr>\n",
       "    <tr>\n",
       "      <th>fecha</th>\n",
       "      <th></th>\n",
       "      <th></th>\n",
       "      <th></th>\n",
       "      <th></th>\n",
       "      <th></th>\n",
       "      <th></th>\n",
       "      <th></th>\n",
       "    </tr>\n",
       "  </thead>\n",
       "  <tbody>\n",
       "    <tr>\n",
       "      <th>2019-01-01 01:00:00</th>\n",
       "      <td>43.3634</td>\n",
       "      <td>-8.4419</td>\n",
       "      <td>10.700</td>\n",
       "      <td>0.000000</td>\n",
       "      <td>1</td>\n",
       "      <td>1</td>\n",
       "      <td>1</td>\n",
       "    </tr>\n",
       "    <tr>\n",
       "      <th>2019-01-01 02:00:00</th>\n",
       "      <td>43.3634</td>\n",
       "      <td>-8.4419</td>\n",
       "      <td>10.350</td>\n",
       "      <td>0.000000</td>\n",
       "      <td>1</td>\n",
       "      <td>1</td>\n",
       "      <td>2</td>\n",
       "    </tr>\n",
       "    <tr>\n",
       "      <th>2019-01-01 03:00:00</th>\n",
       "      <td>43.3634</td>\n",
       "      <td>-8.4419</td>\n",
       "      <td>9.800</td>\n",
       "      <td>0.000000</td>\n",
       "      <td>1</td>\n",
       "      <td>1</td>\n",
       "      <td>3</td>\n",
       "    </tr>\n",
       "    <tr>\n",
       "      <th>2019-01-01 04:00:00</th>\n",
       "      <td>43.3634</td>\n",
       "      <td>-8.4419</td>\n",
       "      <td>11.125</td>\n",
       "      <td>0.000000</td>\n",
       "      <td>1</td>\n",
       "      <td>1</td>\n",
       "      <td>4</td>\n",
       "    </tr>\n",
       "    <tr>\n",
       "      <th>2019-01-01 05:00:00</th>\n",
       "      <td>43.3634</td>\n",
       "      <td>-8.4419</td>\n",
       "      <td>11.675</td>\n",
       "      <td>0.000000</td>\n",
       "      <td>1</td>\n",
       "      <td>1</td>\n",
       "      <td>5</td>\n",
       "    </tr>\n",
       "    <tr>\n",
       "      <th>...</th>\n",
       "      <td>...</td>\n",
       "      <td>...</td>\n",
       "      <td>...</td>\n",
       "      <td>...</td>\n",
       "      <td>...</td>\n",
       "      <td>...</td>\n",
       "      <td>...</td>\n",
       "    </tr>\n",
       "    <tr>\n",
       "      <th>2019-06-01 15:00:00</th>\n",
       "      <td>43.3634</td>\n",
       "      <td>-8.4419</td>\n",
       "      <td>22.750</td>\n",
       "      <td>851.000000</td>\n",
       "      <td>1</td>\n",
       "      <td>6</td>\n",
       "      <td>15</td>\n",
       "    </tr>\n",
       "    <tr>\n",
       "      <th>2019-06-01 16:00:00</th>\n",
       "      <td>43.3634</td>\n",
       "      <td>-8.4419</td>\n",
       "      <td>22.500</td>\n",
       "      <td>800.500000</td>\n",
       "      <td>1</td>\n",
       "      <td>6</td>\n",
       "      <td>16</td>\n",
       "    </tr>\n",
       "    <tr>\n",
       "      <th>2019-06-01 17:00:00</th>\n",
       "      <td>43.3634</td>\n",
       "      <td>-8.4419</td>\n",
       "      <td>24.750</td>\n",
       "      <td>693.750000</td>\n",
       "      <td>1</td>\n",
       "      <td>6</td>\n",
       "      <td>17</td>\n",
       "    </tr>\n",
       "    <tr>\n",
       "      <th>2019-06-01 18:00:00</th>\n",
       "      <td>43.3634</td>\n",
       "      <td>-8.4419</td>\n",
       "      <td>26.250</td>\n",
       "      <td>596.500000</td>\n",
       "      <td>1</td>\n",
       "      <td>6</td>\n",
       "      <td>18</td>\n",
       "    </tr>\n",
       "    <tr>\n",
       "      <th>2019-06-01 19:00:00</th>\n",
       "      <td>43.3634</td>\n",
       "      <td>-8.4419</td>\n",
       "      <td>24.000</td>\n",
       "      <td>375.666667</td>\n",
       "      <td>1</td>\n",
       "      <td>6</td>\n",
       "      <td>19</td>\n",
       "    </tr>\n",
       "  </tbody>\n",
       "</table>\n",
       "<p>3643 rows × 7 columns</p>\n",
       "</div>"
      ],
      "text/plain": [
       "                         lat     lon    tamb         rad  day  month  hour\n",
       "fecha                                                                     \n",
       "2019-01-01 01:00:00  43.3634 -8.4419  10.700    0.000000    1      1     1\n",
       "2019-01-01 02:00:00  43.3634 -8.4419  10.350    0.000000    1      1     2\n",
       "2019-01-01 03:00:00  43.3634 -8.4419   9.800    0.000000    1      1     3\n",
       "2019-01-01 04:00:00  43.3634 -8.4419  11.125    0.000000    1      1     4\n",
       "2019-01-01 05:00:00  43.3634 -8.4419  11.675    0.000000    1      1     5\n",
       "...                      ...     ...     ...         ...  ...    ...   ...\n",
       "2019-06-01 15:00:00  43.3634 -8.4419  22.750  851.000000    1      6    15\n",
       "2019-06-01 16:00:00  43.3634 -8.4419  22.500  800.500000    1      6    16\n",
       "2019-06-01 17:00:00  43.3634 -8.4419  24.750  693.750000    1      6    17\n",
       "2019-06-01 18:00:00  43.3634 -8.4419  26.250  596.500000    1      6    18\n",
       "2019-06-01 19:00:00  43.3634 -8.4419  24.000  375.666667    1      6    19\n",
       "\n",
       "[3643 rows x 7 columns]"
      ]
     },
     "execution_count": 17,
     "metadata": {},
     "output_type": "execute_result"
    }
   ],
   "source": [
    "data_by_station[0]"
   ]
  },
  {
   "cell_type": "markdown",
   "metadata": {},
   "source": [
    "### Unir todos los datos de las estaciones"
   ]
  },
  {
   "cell_type": "code",
   "execution_count": 18,
   "metadata": {},
   "outputs": [],
   "source": [
    "data = pd.concat(data_by_station)"
   ]
  },
  {
   "cell_type": "code",
   "execution_count": 19,
   "metadata": {},
   "outputs": [
    {
     "data": {
      "text/plain": [
       "(403999, 7)"
      ]
     },
     "execution_count": 19,
     "metadata": {},
     "output_type": "execute_result"
    }
   ],
   "source": [
    "data.shape"
   ]
  },
  {
   "cell_type": "code",
   "execution_count": 20,
   "metadata": {},
   "outputs": [
    {
     "data": {
      "text/html": [
       "<div>\n",
       "<style scoped>\n",
       "    .dataframe tbody tr th:only-of-type {\n",
       "        vertical-align: middle;\n",
       "    }\n",
       "\n",
       "    .dataframe tbody tr th {\n",
       "        vertical-align: top;\n",
       "    }\n",
       "\n",
       "    .dataframe thead th {\n",
       "        text-align: right;\n",
       "    }\n",
       "</style>\n",
       "<table border=\"1\" class=\"dataframe\">\n",
       "  <thead>\n",
       "    <tr style=\"text-align: right;\">\n",
       "      <th></th>\n",
       "      <th>lat</th>\n",
       "      <th>lon</th>\n",
       "      <th>tamb</th>\n",
       "      <th>rad</th>\n",
       "      <th>day</th>\n",
       "      <th>month</th>\n",
       "      <th>hour</th>\n",
       "    </tr>\n",
       "    <tr>\n",
       "      <th>fecha</th>\n",
       "      <th></th>\n",
       "      <th></th>\n",
       "      <th></th>\n",
       "      <th></th>\n",
       "      <th></th>\n",
       "      <th></th>\n",
       "      <th></th>\n",
       "    </tr>\n",
       "  </thead>\n",
       "  <tbody>\n",
       "    <tr>\n",
       "      <th>2019-01-01 01:00:00</th>\n",
       "      <td>43.3634</td>\n",
       "      <td>-8.4419</td>\n",
       "      <td>10.700000</td>\n",
       "      <td>0.000000</td>\n",
       "      <td>1</td>\n",
       "      <td>1</td>\n",
       "      <td>1</td>\n",
       "    </tr>\n",
       "    <tr>\n",
       "      <th>2019-01-01 02:00:00</th>\n",
       "      <td>43.3634</td>\n",
       "      <td>-8.4419</td>\n",
       "      <td>10.350000</td>\n",
       "      <td>0.000000</td>\n",
       "      <td>1</td>\n",
       "      <td>1</td>\n",
       "      <td>2</td>\n",
       "    </tr>\n",
       "    <tr>\n",
       "      <th>2019-01-01 03:00:00</th>\n",
       "      <td>43.3634</td>\n",
       "      <td>-8.4419</td>\n",
       "      <td>9.800000</td>\n",
       "      <td>0.000000</td>\n",
       "      <td>1</td>\n",
       "      <td>1</td>\n",
       "      <td>3</td>\n",
       "    </tr>\n",
       "    <tr>\n",
       "      <th>2019-01-01 04:00:00</th>\n",
       "      <td>43.3634</td>\n",
       "      <td>-8.4419</td>\n",
       "      <td>11.125000</td>\n",
       "      <td>0.000000</td>\n",
       "      <td>1</td>\n",
       "      <td>1</td>\n",
       "      <td>4</td>\n",
       "    </tr>\n",
       "    <tr>\n",
       "      <th>2019-01-01 05:00:00</th>\n",
       "      <td>43.3634</td>\n",
       "      <td>-8.4419</td>\n",
       "      <td>11.675000</td>\n",
       "      <td>0.000000</td>\n",
       "      <td>1</td>\n",
       "      <td>1</td>\n",
       "      <td>5</td>\n",
       "    </tr>\n",
       "    <tr>\n",
       "      <th>...</th>\n",
       "      <td>...</td>\n",
       "      <td>...</td>\n",
       "      <td>...</td>\n",
       "      <td>...</td>\n",
       "      <td>...</td>\n",
       "      <td>...</td>\n",
       "      <td>...</td>\n",
       "    </tr>\n",
       "    <tr>\n",
       "      <th>2019-06-01 15:00:00</th>\n",
       "      <td>42.5801</td>\n",
       "      <td>-8.8047</td>\n",
       "      <td>24.000000</td>\n",
       "      <td>993.333333</td>\n",
       "      <td>1</td>\n",
       "      <td>6</td>\n",
       "      <td>15</td>\n",
       "    </tr>\n",
       "    <tr>\n",
       "      <th>2019-06-01 16:00:00</th>\n",
       "      <td>42.5801</td>\n",
       "      <td>-8.8047</td>\n",
       "      <td>24.500000</td>\n",
       "      <td>925.666667</td>\n",
       "      <td>1</td>\n",
       "      <td>6</td>\n",
       "      <td>16</td>\n",
       "    </tr>\n",
       "    <tr>\n",
       "      <th>2019-06-01 17:00:00</th>\n",
       "      <td>42.5801</td>\n",
       "      <td>-8.8047</td>\n",
       "      <td>24.833333</td>\n",
       "      <td>804.666667</td>\n",
       "      <td>1</td>\n",
       "      <td>6</td>\n",
       "      <td>17</td>\n",
       "    </tr>\n",
       "    <tr>\n",
       "      <th>2019-06-01 18:00:00</th>\n",
       "      <td>42.5801</td>\n",
       "      <td>-8.8047</td>\n",
       "      <td>25.000000</td>\n",
       "      <td>630.333333</td>\n",
       "      <td>1</td>\n",
       "      <td>6</td>\n",
       "      <td>18</td>\n",
       "    </tr>\n",
       "    <tr>\n",
       "      <th>2019-06-01 19:00:00</th>\n",
       "      <td>42.5801</td>\n",
       "      <td>-8.8047</td>\n",
       "      <td>24.400000</td>\n",
       "      <td>456.200000</td>\n",
       "      <td>1</td>\n",
       "      <td>6</td>\n",
       "      <td>19</td>\n",
       "    </tr>\n",
       "  </tbody>\n",
       "</table>\n",
       "<p>403999 rows × 7 columns</p>\n",
       "</div>"
      ],
      "text/plain": [
       "                         lat     lon       tamb         rad  day  month  hour\n",
       "fecha                                                                        \n",
       "2019-01-01 01:00:00  43.3634 -8.4419  10.700000    0.000000    1      1     1\n",
       "2019-01-01 02:00:00  43.3634 -8.4419  10.350000    0.000000    1      1     2\n",
       "2019-01-01 03:00:00  43.3634 -8.4419   9.800000    0.000000    1      1     3\n",
       "2019-01-01 04:00:00  43.3634 -8.4419  11.125000    0.000000    1      1     4\n",
       "2019-01-01 05:00:00  43.3634 -8.4419  11.675000    0.000000    1      1     5\n",
       "...                      ...     ...        ...         ...  ...    ...   ...\n",
       "2019-06-01 15:00:00  42.5801 -8.8047  24.000000  993.333333    1      6    15\n",
       "2019-06-01 16:00:00  42.5801 -8.8047  24.500000  925.666667    1      6    16\n",
       "2019-06-01 17:00:00  42.5801 -8.8047  24.833333  804.666667    1      6    17\n",
       "2019-06-01 18:00:00  42.5801 -8.8047  25.000000  630.333333    1      6    18\n",
       "2019-06-01 19:00:00  42.5801 -8.8047  24.400000  456.200000    1      6    19\n",
       "\n",
       "[403999 rows x 7 columns]"
      ]
     },
     "execution_count": 20,
     "metadata": {},
     "output_type": "execute_result"
    }
   ],
   "source": [
    "data"
   ]
  },
  {
   "cell_type": "markdown",
   "metadata": {},
   "source": [
    "### Escalar "
   ]
  },
  {
   "cell_type": "code",
   "execution_count": 21,
   "metadata": {},
   "outputs": [],
   "source": [
    "class Scaler:\n",
    "    def fit(self, data):\n",
    "        self._min = data.min()\n",
    "        self._max = data.max()\n",
    "    \n",
    "    def normalize(self, data):\n",
    "        return (data - self._min) / (self._max - self._min)\n",
    "    \n",
    "    def denormalize(self, data):\n",
    "        return data*(self._max-self._min)+self._min"
   ]
  },
  {
   "cell_type": "code",
   "execution_count": 22,
   "metadata": {},
   "outputs": [
    {
     "data": {
      "text/html": [
       "<div>\n",
       "<style scoped>\n",
       "    .dataframe tbody tr th:only-of-type {\n",
       "        vertical-align: middle;\n",
       "    }\n",
       "\n",
       "    .dataframe tbody tr th {\n",
       "        vertical-align: top;\n",
       "    }\n",
       "\n",
       "    .dataframe thead th {\n",
       "        text-align: right;\n",
       "    }\n",
       "</style>\n",
       "<table border=\"1\" class=\"dataframe\">\n",
       "  <thead>\n",
       "    <tr style=\"text-align: right;\">\n",
       "      <th></th>\n",
       "      <th>lat</th>\n",
       "      <th>lon</th>\n",
       "      <th>tamb</th>\n",
       "      <th>rad</th>\n",
       "      <th>day</th>\n",
       "      <th>month</th>\n",
       "      <th>hour</th>\n",
       "    </tr>\n",
       "    <tr>\n",
       "      <th>fecha</th>\n",
       "      <th></th>\n",
       "      <th></th>\n",
       "      <th></th>\n",
       "      <th></th>\n",
       "      <th></th>\n",
       "      <th></th>\n",
       "      <th></th>\n",
       "    </tr>\n",
       "  </thead>\n",
       "  <tbody>\n",
       "    <tr>\n",
       "      <th>2019-01-01 01:00:00</th>\n",
       "      <td>43.3634</td>\n",
       "      <td>-8.4419</td>\n",
       "      <td>0.513208</td>\n",
       "      <td>0.000000</td>\n",
       "      <td>1</td>\n",
       "      <td>1</td>\n",
       "      <td>1</td>\n",
       "    </tr>\n",
       "    <tr>\n",
       "      <th>2019-01-01 02:00:00</th>\n",
       "      <td>43.3634</td>\n",
       "      <td>-8.4419</td>\n",
       "      <td>0.506604</td>\n",
       "      <td>0.000000</td>\n",
       "      <td>1</td>\n",
       "      <td>1</td>\n",
       "      <td>2</td>\n",
       "    </tr>\n",
       "    <tr>\n",
       "      <th>2019-01-01 03:00:00</th>\n",
       "      <td>43.3634</td>\n",
       "      <td>-8.4419</td>\n",
       "      <td>0.496226</td>\n",
       "      <td>0.000000</td>\n",
       "      <td>1</td>\n",
       "      <td>1</td>\n",
       "      <td>3</td>\n",
       "    </tr>\n",
       "    <tr>\n",
       "      <th>2019-01-01 04:00:00</th>\n",
       "      <td>43.3634</td>\n",
       "      <td>-8.4419</td>\n",
       "      <td>0.521226</td>\n",
       "      <td>0.000000</td>\n",
       "      <td>1</td>\n",
       "      <td>1</td>\n",
       "      <td>4</td>\n",
       "    </tr>\n",
       "    <tr>\n",
       "      <th>2019-01-01 05:00:00</th>\n",
       "      <td>43.3634</td>\n",
       "      <td>-8.4419</td>\n",
       "      <td>0.531604</td>\n",
       "      <td>0.000000</td>\n",
       "      <td>1</td>\n",
       "      <td>1</td>\n",
       "      <td>5</td>\n",
       "    </tr>\n",
       "    <tr>\n",
       "      <th>...</th>\n",
       "      <td>...</td>\n",
       "      <td>...</td>\n",
       "      <td>...</td>\n",
       "      <td>...</td>\n",
       "      <td>...</td>\n",
       "      <td>...</td>\n",
       "      <td>...</td>\n",
       "    </tr>\n",
       "    <tr>\n",
       "      <th>2019-06-01 15:00:00</th>\n",
       "      <td>42.5801</td>\n",
       "      <td>-8.8047</td>\n",
       "      <td>0.764151</td>\n",
       "      <td>0.872493</td>\n",
       "      <td>1</td>\n",
       "      <td>6</td>\n",
       "      <td>15</td>\n",
       "    </tr>\n",
       "    <tr>\n",
       "      <th>2019-06-01 16:00:00</th>\n",
       "      <td>42.5801</td>\n",
       "      <td>-8.8047</td>\n",
       "      <td>0.773585</td>\n",
       "      <td>0.813058</td>\n",
       "      <td>1</td>\n",
       "      <td>6</td>\n",
       "      <td>16</td>\n",
       "    </tr>\n",
       "    <tr>\n",
       "      <th>2019-06-01 17:00:00</th>\n",
       "      <td>42.5801</td>\n",
       "      <td>-8.8047</td>\n",
       "      <td>0.779874</td>\n",
       "      <td>0.706778</td>\n",
       "      <td>1</td>\n",
       "      <td>6</td>\n",
       "      <td>17</td>\n",
       "    </tr>\n",
       "    <tr>\n",
       "      <th>2019-06-01 18:00:00</th>\n",
       "      <td>42.5801</td>\n",
       "      <td>-8.8047</td>\n",
       "      <td>0.783019</td>\n",
       "      <td>0.553652</td>\n",
       "      <td>1</td>\n",
       "      <td>6</td>\n",
       "      <td>18</td>\n",
       "    </tr>\n",
       "    <tr>\n",
       "      <th>2019-06-01 19:00:00</th>\n",
       "      <td>42.5801</td>\n",
       "      <td>-8.8047</td>\n",
       "      <td>0.771698</td>\n",
       "      <td>0.400703</td>\n",
       "      <td>1</td>\n",
       "      <td>6</td>\n",
       "      <td>19</td>\n",
       "    </tr>\n",
       "  </tbody>\n",
       "</table>\n",
       "<p>403999 rows × 7 columns</p>\n",
       "</div>"
      ],
      "text/plain": [
       "                         lat     lon      tamb       rad  day  month  hour\n",
       "fecha                                                                     \n",
       "2019-01-01 01:00:00  43.3634 -8.4419  0.513208  0.000000    1      1     1\n",
       "2019-01-01 02:00:00  43.3634 -8.4419  0.506604  0.000000    1      1     2\n",
       "2019-01-01 03:00:00  43.3634 -8.4419  0.496226  0.000000    1      1     3\n",
       "2019-01-01 04:00:00  43.3634 -8.4419  0.521226  0.000000    1      1     4\n",
       "2019-01-01 05:00:00  43.3634 -8.4419  0.531604  0.000000    1      1     5\n",
       "...                      ...     ...       ...       ...  ...    ...   ...\n",
       "2019-06-01 15:00:00  42.5801 -8.8047  0.764151  0.872493    1      6    15\n",
       "2019-06-01 16:00:00  42.5801 -8.8047  0.773585  0.813058    1      6    16\n",
       "2019-06-01 17:00:00  42.5801 -8.8047  0.779874  0.706778    1      6    17\n",
       "2019-06-01 18:00:00  42.5801 -8.8047  0.783019  0.553652    1      6    18\n",
       "2019-06-01 19:00:00  42.5801 -8.8047  0.771698  0.400703    1      6    19\n",
       "\n",
       "[403999 rows x 7 columns]"
      ]
     },
     "execution_count": 22,
     "metadata": {},
     "output_type": "execute_result"
    }
   ],
   "source": [
    "tamb_scaler = Scaler()\n",
    "tamb_scaler.fit(data['tamb'])\n",
    "data['tamb'] = tamb_scaler.normalize(data['tamb'])\n",
    "\n",
    "rad_scaler = Scaler()\n",
    "rad_scaler.fit(data['rad'])\n",
    "data['rad'] = rad_scaler.normalize(data['rad'])\n",
    "\n",
    "data"
   ]
  },
  {
   "cell_type": "markdown",
   "metadata": {},
   "source": [
    "### Preparación de los datos para el entrenamiento de la red"
   ]
  },
  {
   "cell_type": "code",
   "execution_count": 23,
   "metadata": {},
   "outputs": [],
   "source": [
    "import numpy as np\n",
    "import tensorflow as tf\n",
    "\n",
    "# Se fija la semilla para generar valores aleatorios\n",
    "np.random.seed(1)\n",
    "tf.random.set_seed(1)"
   ]
  },
  {
   "cell_type": "code",
   "execution_count": 24,
   "metadata": {},
   "outputs": [],
   "source": [
    "data_target = data['rad'].values\n",
    "data_input = data.drop(columns=['rad']).values"
   ]
  },
  {
   "cell_type": "code",
   "execution_count": 25,
   "metadata": {},
   "outputs": [
    {
     "data": {
      "text/plain": [
       "(403999, 6)"
      ]
     },
     "execution_count": 25,
     "metadata": {},
     "output_type": "execute_result"
    }
   ],
   "source": [
    "data_input.shape"
   ]
  },
  {
   "cell_type": "code",
   "execution_count": 26,
   "metadata": {},
   "outputs": [
    {
     "data": {
      "text/plain": [
       "(403999,)"
      ]
     },
     "execution_count": 26,
     "metadata": {},
     "output_type": "execute_result"
    }
   ],
   "source": [
    "data_target.shape"
   ]
  },
  {
   "cell_type": "markdown",
   "metadata": {},
   "source": [
    "#### Neural Nerwork"
   ]
  },
  {
   "cell_type": "code",
   "execution_count": 27,
   "metadata": {},
   "outputs": [],
   "source": [
    "from tensorflow.keras.models import Model\n",
    "from tensorflow.keras.layers import Dense, Input, concatenate\n",
    "from tensorflow.keras.losses import mae"
   ]
  },
  {
   "cell_type": "code",
   "execution_count": 28,
   "metadata": {},
   "outputs": [],
   "source": [
    "from sklearn.model_selection import train_test_split"
   ]
  },
  {
   "cell_type": "code",
   "execution_count": 29,
   "metadata": {},
   "outputs": [
    {
     "name": "stdout",
     "output_type": "stream",
     "text": [
      "CPU times: user 63.2 ms, sys: 6.1 ms, total: 69.3 ms\n",
      "Wall time: 68.7 ms\n"
     ]
    }
   ],
   "source": [
    "%%time\n",
    "X_train, X_test, y_train, y_test = train_test_split(data_input, data_target, train_size=0.8)"
   ]
  },
  {
   "cell_type": "code",
   "execution_count": 30,
   "metadata": {},
   "outputs": [],
   "source": [
    "def rad_mae(x, y):\n",
    "    X = rad_scaler.denormalize(x)\n",
    "    Y = rad_scaler.denormalize(y)\n",
    "    \n",
    "    return mae(X, Y)"
   ]
  },
  {
   "cell_type": "code",
   "execution_count": 31,
   "metadata": {},
   "outputs": [],
   "source": [
    "def make_model():\n",
    "    in_ubicacion = Input(shape=2, name='in_ubicacion')\n",
    "    in_momento = Input(shape=3, name='in_momento')\n",
    "    in_temperatura = Input(shape=1, name='in_temperatura')\n",
    "    \n",
    "    # Procesamiento de momento\n",
    "    pre_momento = Dense(100, activation='relu', name='pre_momento')(in_momento)\n",
    "    out_momento = Dense(1, activation='relu', name='out_momento')(pre_momento)\n",
    "    \n",
    "    # Procesamiento de ubicación\n",
    "    pre_ubicacion = Dense(100, activation='tanh', name='pre_ubicacion')(in_ubicacion)\n",
    "    out_ubicacion = Dense(1, activation='tanh', name='out_ubicacion')(pre_ubicacion)\n",
    "    \n",
    "    concatenacion = concatenate([(out_momento), (out_ubicacion), (in_temperatura)], name='concatenacion')\n",
    "    \n",
    "    # Procesamiento de los valores devueltos por las primeras dos redes\n",
    "    X = Dense(300, activation='sigmoid', name='X')(concatenacion)\n",
    "    X = Dense(200, activation='sigmoid', name='X2')(X)\n",
    "    X = Dense(100, activation='sigmoid', name='X3')(X)\n",
    "    \n",
    "    salida = Dense(1, activation='sigmoid', name='salida')(X)\n",
    "    \n",
    "    model = Model(inputs=[in_momento, in_ubicacion, in_temperatura], outputs=salida)\n",
    "\n",
    "    model.compile(loss='mae', optimizer='adam', metrics=[rad_mae])\n",
    "\n",
    "    model.summary()\n",
    "    \n",
    "    return model"
   ]
  },
  {
   "cell_type": "code",
   "execution_count": 32,
   "metadata": {},
   "outputs": [
    {
     "name": "stdout",
     "output_type": "stream",
     "text": [
      "Model: \"functional_1\"\n",
      "__________________________________________________________________________________________________\n",
      "Layer (type)                    Output Shape         Param #     Connected to                     \n",
      "==================================================================================================\n",
      "in_momento (InputLayer)         [(None, 3)]          0                                            \n",
      "__________________________________________________________________________________________________\n",
      "in_ubicacion (InputLayer)       [(None, 2)]          0                                            \n",
      "__________________________________________________________________________________________________\n",
      "pre_momento (Dense)             (None, 100)          400         in_momento[0][0]                 \n",
      "__________________________________________________________________________________________________\n",
      "pre_ubicacion (Dense)           (None, 100)          300         in_ubicacion[0][0]               \n",
      "__________________________________________________________________________________________________\n",
      "out_momento (Dense)             (None, 1)            101         pre_momento[0][0]                \n",
      "__________________________________________________________________________________________________\n",
      "out_ubicacion (Dense)           (None, 1)            101         pre_ubicacion[0][0]              \n",
      "__________________________________________________________________________________________________\n",
      "in_temperatura (InputLayer)     [(None, 1)]          0                                            \n",
      "__________________________________________________________________________________________________\n",
      "concatenacion (Concatenate)     (None, 3)            0           out_momento[0][0]                \n",
      "                                                                 out_ubicacion[0][0]              \n",
      "                                                                 in_temperatura[0][0]             \n",
      "__________________________________________________________________________________________________\n",
      "X (Dense)                       (None, 300)          1200        concatenacion[0][0]              \n",
      "__________________________________________________________________________________________________\n",
      "X2 (Dense)                      (None, 200)          60200       X[0][0]                          \n",
      "__________________________________________________________________________________________________\n",
      "X3 (Dense)                      (None, 100)          20100       X2[0][0]                         \n",
      "__________________________________________________________________________________________________\n",
      "salida (Dense)                  (None, 1)            101         X3[0][0]                         \n",
      "==================================================================================================\n",
      "Total params: 82,503\n",
      "Trainable params: 82,503\n",
      "Non-trainable params: 0\n",
      "__________________________________________________________________________________________________\n"
     ]
    }
   ],
   "source": [
    "model = make_model()"
   ]
  },
  {
   "cell_type": "code",
   "execution_count": 33,
   "metadata": {},
   "outputs": [
    {
     "data": {
      "text/plain": [
       "array([25.,  1., 15.])"
      ]
     },
     "execution_count": 33,
     "metadata": {},
     "output_type": "execute_result"
    }
   ],
   "source": [
    "# momento dia, mes y hora\n",
    "X_train[0, 3:6]"
   ]
  },
  {
   "cell_type": "code",
   "execution_count": 34,
   "metadata": {},
   "outputs": [
    {
     "data": {
      "text/plain": [
       "array([42.2417, -8.7276])"
      ]
     },
     "execution_count": 34,
     "metadata": {},
     "output_type": "execute_result"
    }
   ],
   "source": [
    "# ubicacion lat lon\n",
    "X_train[0, 0:2]"
   ]
  },
  {
   "cell_type": "code",
   "execution_count": 35,
   "metadata": {},
   "outputs": [
    {
     "data": {
      "text/plain": [
       "0.6069182389937107"
      ]
     },
     "execution_count": 35,
     "metadata": {},
     "output_type": "execute_result"
    }
   ],
   "source": [
    "# temperatura\n",
    "X_train[0, 2]"
   ]
  },
  {
   "cell_type": "code",
   "execution_count": 36,
   "metadata": {},
   "outputs": [
    {
     "name": "stdout",
     "output_type": "stream",
     "text": [
      "Epoch 1/20\n",
      "7070/7070 [==============================] - 74s 10ms/step - loss: 0.1041 - rad_mae: 118.5616 - val_loss: 0.0962 - val_rad_mae: 109.4946\n",
      "Epoch 2/20\n",
      "7070/7070 [==============================] - 71s 10ms/step - loss: 0.0854 - rad_mae: 97.1987 - val_loss: 0.0607 - val_rad_mae: 69.0718\n",
      "Epoch 3/20\n",
      "7070/7070 [==============================] - 73s 10ms/step - loss: 0.0570 - rad_mae: 64.8879 - val_loss: 0.0533 - val_rad_mae: 60.6304\n",
      "Epoch 4/20\n",
      "7070/7070 [==============================] - 74s 10ms/step - loss: 0.0543 - rad_mae: 61.8478 - val_loss: 0.0542 - val_rad_mae: 61.7015\n",
      "Epoch 5/20\n",
      "7070/7070 [==============================] - 63s 9ms/step - loss: 0.0532 - rad_mae: 60.5380 - val_loss: 0.0531 - val_rad_mae: 60.4497\n",
      "Epoch 6/20\n",
      "7070/7070 [==============================] - 75s 11ms/step - loss: 0.0523 - rad_mae: 59.5437 - val_loss: 0.0511 - val_rad_mae: 58.2150\n",
      "Epoch 7/20\n",
      "7070/7070 [==============================] - 65s 9ms/step - loss: 0.0516 - rad_mae: 58.7908 - val_loss: 0.0509 - val_rad_mae: 57.8990\n",
      "Epoch 8/20\n",
      "7070/7070 [==============================] - 70s 10ms/step - loss: 0.0510 - rad_mae: 58.1076 - val_loss: 0.0509 - val_rad_mae: 57.9909\n",
      "Epoch 9/20\n",
      "7070/7070 [==============================] - 73s 10ms/step - loss: 0.0503 - rad_mae: 57.3001 - val_loss: 0.0492 - val_rad_mae: 56.0707\n",
      "Epoch 10/20\n",
      "7070/7070 [==============================] - 79s 11ms/step - loss: 0.0504 - rad_mae: 57.4252 - val_loss: 0.0502 - val_rad_mae: 57.1467\n",
      "Epoch 11/20\n",
      "7070/7070 [==============================] - 72s 10ms/step - loss: 0.0498 - rad_mae: 56.7207 - val_loss: 0.0486 - val_rad_mae: 55.3319\n",
      "Epoch 12/20\n",
      "7070/7070 [==============================] - 55s 8ms/step - loss: 0.0497 - rad_mae: 56.5488 - val_loss: 0.0508 - val_rad_mae: 57.8243\n",
      "Epoch 13/20\n",
      "7070/7070 [==============================] - 65s 9ms/step - loss: 0.0500 - rad_mae: 56.9791 - val_loss: 0.0476 - val_rad_mae: 54.1456\n",
      "Epoch 14/20\n",
      "7070/7070 [==============================] - 72s 10ms/step - loss: 0.0489 - rad_mae: 55.6991 - val_loss: 0.0481 - val_rad_mae: 54.7120\n",
      "Epoch 15/20\n",
      "7070/7070 [==============================] - 73s 10ms/step - loss: 0.0488 - rad_mae: 55.6028 - val_loss: 0.0473 - val_rad_mae: 53.8244\n",
      "Epoch 16/20\n",
      "7070/7070 [==============================] - 74s 10ms/step - loss: 0.0472 - rad_mae: 53.7062 - val_loss: 0.0473 - val_rad_mae: 53.8382\n",
      "Epoch 17/20\n",
      "7070/7070 [==============================] - 67s 10ms/step - loss: 0.0475 - rad_mae: 54.0778 - val_loss: 0.0456 - val_rad_mae: 51.9388\n",
      "Epoch 18/20\n",
      "7070/7070 [==============================] - 75s 11ms/step - loss: 0.0471 - rad_mae: 53.6339 - val_loss: 0.0469 - val_rad_mae: 53.3541\n",
      "Epoch 19/20\n",
      "7070/7070 [==============================] - 66s 9ms/step - loss: 0.0470 - rad_mae: 53.4724 - val_loss: 0.0484 - val_rad_mae: 55.1590\n",
      "Epoch 20/20\n",
      "7070/7070 [==============================] - 78s 11ms/step - loss: 0.0467 - rad_mae: 53.2239 - val_loss: 0.0462 - val_rad_mae: 52.6484\n",
      "CPU times: user 44min 55s, sys: 33min 26s, total: 1h 18min 21s\n",
      "Wall time: 23min 32s\n"
     ]
    }
   ],
   "source": [
    "%%time\n",
    "history = model.fit([X_train[:,3:6], X_train[:,0:2], X_train[:,2]], y_train, epochs=20, validation_split=0.3, verbose=1, batch_size=32)"
   ]
  },
  {
   "cell_type": "code",
   "execution_count": 37,
   "metadata": {},
   "outputs": [
    {
     "name": "stdout",
     "output_type": "stream",
     "text": [
      "2525/2525 [==============================] - 9s 3ms/step - loss: 0.0461 - rad_mae: 52.4460\n",
      "CPU times: user 16 s, sys: 13.6 s, total: 29.6 s\n",
      "Wall time: 8.98 s\n"
     ]
    },
    {
     "data": {
      "text/plain": [
       "[0.04606587812304497, 52.44597244262695]"
      ]
     },
     "execution_count": 37,
     "metadata": {},
     "output_type": "execute_result"
    }
   ],
   "source": [
    "%%time\n",
    "model.evaluate([X_test[:,3:6], X_test[:,0:2], X_test[:,2]], y_test)"
   ]
  },
  {
   "cell_type": "code",
   "execution_count": 38,
   "metadata": {},
   "outputs": [],
   "source": [
    "import matplotlib.pyplot as plt\n",
    "import seaborn as sns\n",
    "\n",
    "sns.set(rc={'figure.figsize': (16, 6)})"
   ]
  },
  {
   "cell_type": "code",
   "execution_count": 39,
   "metadata": {},
   "outputs": [
    {
     "data": {
      "image/png": "[encoded data removed]",
      "text/plain": [
       "<Figure size 1152x432 with 1 Axes>"
      ]
     },
     "metadata": {},
     "output_type": "display_data"
    }
   ],
   "source": [
    "plt.plot(history.history['rad_mae'], label='MAE')\n",
    "plt.plot(history.history['val_rad_mae'], label='VAL_MAE')\n",
    "plt.legend()\n",
    "plt.show()"
   ]
  },
  {
   "cell_type": "code",
   "execution_count": 40,
   "metadata": {},
   "outputs": [
    {
     "data": {
      "image/png": "[encoded data removed]",
      "text/plain": [
       "<Figure size 1152x432 with 1 Axes>"
      ]
     },
     "metadata": {},
     "output_type": "display_data"
    }
   ],
   "source": [
    "y_predicted = model.predict([X_test[:,3:6], X_test[:,0:2], X_test[:,2]])\n",
    "\n",
    "YP = rad_scaler.denormalize(y_predicted)\n",
    "YT = rad_scaler.denormalize(y_test)\n",
    "\n",
    "YT = YT.reshape(YT.shape[0], 1)\n",
    "\n",
    "error = YT - YP\n",
    "\n",
    "plt.plot(error)\n",
    "plt.show()"
   ]
  },
  {
   "cell_type": "code",
   "execution_count": null,
   "metadata": {},
   "outputs": [],
   "source": []
  }
 ],
 "metadata": {
  "kernelspec": {
   "display_name": "Python 3",
   "language": "python",
   "name": "python3"
  },
  "language_info": {
   "codemirror_mode": {
    "name": "ipython",
    "version": 3
   },
   "file_extension": ".py",
   "mimetype": "text/x-python",
   "name": "python",
   "nbconvert_exporter": "python",
   "pygments_lexer": "ipython3",
   "version": "3.8.5"
  }
 },
 "nbformat": 4,
 "nbformat_minor": 4
}
