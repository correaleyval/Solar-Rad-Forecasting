{
 "cells": [
  {
   "cell_type": "code",
   "execution_count": 1,
   "metadata": {},
   "outputs": [],
   "source": [
    "#from google.colab import drive\n",
    "#drive.mount('/content/drive')"
   ]
  },
  {
   "cell_type": "code",
   "execution_count": 2,
   "metadata": {},
   "outputs": [],
   "source": [
    "import pandas as pd"
   ]
  },
  {
   "cell_type": "code",
   "execution_count": 3,
   "metadata": {},
   "outputs": [],
   "source": [
    "#data = pd.read_csv('/content/drive/My Drive/solar-forecasting/data/meteo_galicia.csv', sep=';', parse_dates=['fecha'], decimal=',',\n",
    "#                 infer_datetime_format=True, low_memory=False, index_col='fecha').sort_index()"
   ]
  },
  {
   "cell_type": "markdown",
   "metadata": {},
   "source": [
    "### Cargar datos"
   ]
  },
  {
   "cell_type": "code",
   "execution_count": 4,
   "metadata": {},
   "outputs": [],
   "source": [
    "data = pd.read_csv('./data/meteo_galicia.csv', sep=';', parse_dates=['fecha'], decimal=',',\n",
    "                 infer_datetime_format=True, low_memory=False, index_col='fecha').sort_index()"
   ]
  },
  {
   "cell_type": "code",
   "execution_count": 5,
   "metadata": {},
   "outputs": [
    {
     "data": {
      "text/html": [
       "<div>\n",
       "<style scoped>\n",
       "    .dataframe tbody tr th:only-of-type {\n",
       "        vertical-align: middle;\n",
       "    }\n",
       "\n",
       "    .dataframe tbody tr th {\n",
       "        vertical-align: top;\n",
       "    }\n",
       "\n",
       "    .dataframe thead th {\n",
       "        text-align: right;\n",
       "    }\n",
       "</style>\n",
       "<table border=\"1\" class=\"dataframe\">\n",
       "  <thead>\n",
       "    <tr style=\"text-align: right;\">\n",
       "      <th></th>\n",
       "      <th>estacionid</th>\n",
       "      <th>lat</th>\n",
       "      <th>lon</th>\n",
       "      <th>tamb</th>\n",
       "      <th>hum</th>\n",
       "      <th>pres</th>\n",
       "      <th>prec</th>\n",
       "      <th>rad</th>\n",
       "      <th>vvien</th>\n",
       "      <th>tipodered</th>\n",
       "    </tr>\n",
       "    <tr>\n",
       "      <th>fecha</th>\n",
       "      <th></th>\n",
       "      <th></th>\n",
       "      <th></th>\n",
       "      <th></th>\n",
       "      <th></th>\n",
       "      <th></th>\n",
       "      <th></th>\n",
       "      <th></th>\n",
       "      <th></th>\n",
       "      <th></th>\n",
       "    </tr>\n",
       "  </thead>\n",
       "  <tbody>\n",
       "    <tr>\n",
       "      <th>2019-01-01 00:10:00</th>\n",
       "      <td>20284</td>\n",
       "      <td>42.4044</td>\n",
       "      <td>-8.6730</td>\n",
       "      <td>5.4</td>\n",
       "      <td>0</td>\n",
       "      <td>1022.0</td>\n",
       "      <td>0.0</td>\n",
       "      <td>0.0</td>\n",
       "      <td>0.7</td>\n",
       "      <td>OFICIAL</td>\n",
       "    </tr>\n",
       "    <tr>\n",
       "      <th>2019-01-01 00:10:00</th>\n",
       "      <td>20233</td>\n",
       "      <td>42.3554</td>\n",
       "      <td>-7.0086</td>\n",
       "      <td>7.3</td>\n",
       "      <td>0</td>\n",
       "      <td>892.1</td>\n",
       "      <td>0.0</td>\n",
       "      <td>0.0</td>\n",
       "      <td>3.5</td>\n",
       "      <td>OFICIAL</td>\n",
       "    </tr>\n",
       "    <tr>\n",
       "      <th>2019-01-01 00:10:00</th>\n",
       "      <td>20218</td>\n",
       "      <td>43.1626</td>\n",
       "      <td>-7.2826</td>\n",
       "      <td>9.2</td>\n",
       "      <td>0</td>\n",
       "      <td>955.0</td>\n",
       "      <td>0.0</td>\n",
       "      <td>0.0</td>\n",
       "      <td>0.0</td>\n",
       "      <td>OFICIAL</td>\n",
       "    </tr>\n",
       "    <tr>\n",
       "      <th>2019-01-01 00:10:00</th>\n",
       "      <td>20217</td>\n",
       "      <td>42.7071</td>\n",
       "      <td>-7.0471</td>\n",
       "      <td>8.5</td>\n",
       "      <td>0</td>\n",
       "      <td>882.5</td>\n",
       "      <td>0.0</td>\n",
       "      <td>1.0</td>\n",
       "      <td>6.3</td>\n",
       "      <td>OFICIAL</td>\n",
       "    </tr>\n",
       "    <tr>\n",
       "      <th>2019-01-01 00:10:00</th>\n",
       "      <td>20221</td>\n",
       "      <td>43.5407</td>\n",
       "      <td>-7.0830</td>\n",
       "      <td>5.3</td>\n",
       "      <td>0</td>\n",
       "      <td>1027.0</td>\n",
       "      <td>0.0</td>\n",
       "      <td>0.0</td>\n",
       "      <td>2.8</td>\n",
       "      <td>OFICIAL</td>\n",
       "    </tr>\n",
       "    <tr>\n",
       "      <th>...</th>\n",
       "      <td>...</td>\n",
       "      <td>...</td>\n",
       "      <td>...</td>\n",
       "      <td>...</td>\n",
       "      <td>...</td>\n",
       "      <td>...</td>\n",
       "      <td>...</td>\n",
       "      <td>...</td>\n",
       "      <td>...</td>\n",
       "      <td>...</td>\n",
       "    </tr>\n",
       "    <tr>\n",
       "      <th>2019-06-01 19:40:00</th>\n",
       "      <td>20249</td>\n",
       "      <td>42.2987</td>\n",
       "      <td>-7.5907</td>\n",
       "      <td>25.0</td>\n",
       "      <td>0</td>\n",
       "      <td>909.0</td>\n",
       "      <td>0.0</td>\n",
       "      <td>402.0</td>\n",
       "      <td>2.0</td>\n",
       "      <td>OFICIAL</td>\n",
       "    </tr>\n",
       "    <tr>\n",
       "      <th>2019-06-01 19:40:00</th>\n",
       "      <td>20259</td>\n",
       "      <td>42.1630</td>\n",
       "      <td>-7.0896</td>\n",
       "      <td>27.0</td>\n",
       "      <td>0</td>\n",
       "      <td>922.0</td>\n",
       "      <td>0.0</td>\n",
       "      <td>374.0</td>\n",
       "      <td>3.0</td>\n",
       "      <td>OFICIAL</td>\n",
       "    </tr>\n",
       "    <tr>\n",
       "      <th>2019-06-01 19:40:00</th>\n",
       "      <td>20255</td>\n",
       "      <td>42.4631</td>\n",
       "      <td>-6.9295</td>\n",
       "      <td>30.0</td>\n",
       "      <td>0</td>\n",
       "      <td>NaN</td>\n",
       "      <td>0.0</td>\n",
       "      <td>378.0</td>\n",
       "      <td>0.0</td>\n",
       "      <td>OFICIAL</td>\n",
       "    </tr>\n",
       "    <tr>\n",
       "      <th>2019-06-01 19:40:00</th>\n",
       "      <td>20187</td>\n",
       "      <td>42.8760</td>\n",
       "      <td>-8.5594</td>\n",
       "      <td>28.0</td>\n",
       "      <td>0</td>\n",
       "      <td>988.0</td>\n",
       "      <td>0.0</td>\n",
       "      <td>419.0</td>\n",
       "      <td>3.0</td>\n",
       "      <td>OFICIAL</td>\n",
       "    </tr>\n",
       "    <tr>\n",
       "      <th>2019-06-01 19:40:00</th>\n",
       "      <td>20295</td>\n",
       "      <td>42.0786</td>\n",
       "      <td>-8.6794</td>\n",
       "      <td>25.0</td>\n",
       "      <td>0</td>\n",
       "      <td>963.0</td>\n",
       "      <td>0.0</td>\n",
       "      <td>26.0</td>\n",
       "      <td>0.0</td>\n",
       "      <td>OFICIAL</td>\n",
       "    </tr>\n",
       "  </tbody>\n",
       "</table>\n",
       "<p>2510008 rows × 10 columns</p>\n",
       "</div>"
      ],
      "text/plain": [
       "                     estacionid      lat     lon  tamb  hum    pres  prec  \\\n",
       "fecha                                                                       \n",
       "2019-01-01 00:10:00       20284  42.4044 -8.6730   5.4    0  1022.0   0.0   \n",
       "2019-01-01 00:10:00       20233  42.3554 -7.0086   7.3    0   892.1   0.0   \n",
       "2019-01-01 00:10:00       20218  43.1626 -7.2826   9.2    0   955.0   0.0   \n",
       "2019-01-01 00:10:00       20217  42.7071 -7.0471   8.5    0   882.5   0.0   \n",
       "2019-01-01 00:10:00       20221  43.5407 -7.0830   5.3    0  1027.0   0.0   \n",
       "...                         ...      ...     ...   ...  ...     ...   ...   \n",
       "2019-06-01 19:40:00       20249  42.2987 -7.5907  25.0    0   909.0   0.0   \n",
       "2019-06-01 19:40:00       20259  42.1630 -7.0896  27.0    0   922.0   0.0   \n",
       "2019-06-01 19:40:00       20255  42.4631 -6.9295  30.0    0     NaN   0.0   \n",
       "2019-06-01 19:40:00       20187  42.8760 -8.5594  28.0    0   988.0   0.0   \n",
       "2019-06-01 19:40:00       20295  42.0786 -8.6794  25.0    0   963.0   0.0   \n",
       "\n",
       "                       rad  vvien tipodered  \n",
       "fecha                                        \n",
       "2019-01-01 00:10:00    0.0    0.7   OFICIAL  \n",
       "2019-01-01 00:10:00    0.0    3.5   OFICIAL  \n",
       "2019-01-01 00:10:00    0.0    0.0   OFICIAL  \n",
       "2019-01-01 00:10:00    1.0    6.3   OFICIAL  \n",
       "2019-01-01 00:10:00    0.0    2.8   OFICIAL  \n",
       "...                    ...    ...       ...  \n",
       "2019-06-01 19:40:00  402.0    2.0   OFICIAL  \n",
       "2019-06-01 19:40:00  374.0    3.0   OFICIAL  \n",
       "2019-06-01 19:40:00  378.0    0.0   OFICIAL  \n",
       "2019-06-01 19:40:00  419.0    3.0   OFICIAL  \n",
       "2019-06-01 19:40:00   26.0    0.0   OFICIAL  \n",
       "\n",
       "[2510008 rows x 10 columns]"
      ]
     },
     "execution_count": 5,
     "metadata": {},
     "output_type": "execute_result"
    }
   ],
   "source": [
    "data"
   ]
  },
  {
   "cell_type": "markdown",
   "metadata": {},
   "source": [
    "### Eliminar columnas innecesarias"
   ]
  },
  {
   "cell_type": "code",
   "execution_count": 6,
   "metadata": {},
   "outputs": [],
   "source": [
    "data = data.drop(columns=['tipodered', 'hum', 'prec', 'vvien', 'pres'])"
   ]
  },
  {
   "cell_type": "code",
   "execution_count": 7,
   "metadata": {},
   "outputs": [
    {
     "data": {
      "text/plain": [
       "2510008"
      ]
     },
     "execution_count": 7,
     "metadata": {},
     "output_type": "execute_result"
    }
   ],
   "source": [
    "len(data)"
   ]
  },
  {
   "cell_type": "code",
   "execution_count": 8,
   "metadata": {},
   "outputs": [
    {
     "data": {
      "text/plain": [
       "estacionid        0\n",
       "lat               0\n",
       "lon               0\n",
       "tamb           2475\n",
       "rad           10847\n",
       "dtype: int64"
      ]
     },
     "execution_count": 8,
     "metadata": {},
     "output_type": "execute_result"
    }
   ],
   "source": [
    "data.isnull().sum()"
   ]
  },
  {
   "cell_type": "code",
   "execution_count": 9,
   "metadata": {},
   "outputs": [],
   "source": [
    "data = data.dropna()"
   ]
  },
  {
   "cell_type": "code",
   "execution_count": 10,
   "metadata": {},
   "outputs": [
    {
     "data": {
      "text/plain": [
       "2496903"
      ]
     },
     "execution_count": 10,
     "metadata": {},
     "output_type": "execute_result"
    }
   ],
   "source": [
    "len(data)"
   ]
  },
  {
   "cell_type": "code",
   "execution_count": 11,
   "metadata": {},
   "outputs": [
    {
     "data": {
      "text/plain": [
       "estacionid    0\n",
       "lat           0\n",
       "lon           0\n",
       "tamb          0\n",
       "rad           0\n",
       "dtype: int64"
      ]
     },
     "execution_count": 11,
     "metadata": {},
     "output_type": "execute_result"
    }
   ],
   "source": [
    "data.isnull().sum()"
   ]
  },
  {
   "cell_type": "markdown",
   "metadata": {},
   "source": [
    "### Obtener id de las estaciones"
   ]
  },
  {
   "cell_type": "code",
   "execution_count": 12,
   "metadata": {},
   "outputs": [
    {
     "data": {
      "text/plain": [
       "142"
      ]
     },
     "execution_count": 12,
     "metadata": {},
     "output_type": "execute_result"
    }
   ],
   "source": [
    "estaciones = [s for s in set(data['estacionid'])]\n",
    "\n",
    "len(estaciones)"
   ]
  },
  {
   "cell_type": "markdown",
   "metadata": {},
   "source": [
    "### Obtener datos de las estaciones\n",
    "\n",
    "**Las estaciones que no tienen registro de radiación son eliminadas**"
   ]
  },
  {
   "cell_type": "code",
   "execution_count": 13,
   "metadata": {},
   "outputs": [
    {
     "name": "stdout",
     "output_type": "stream",
     "text": [
      "CPU times: user 2.63 s, sys: 13 ms, total: 2.64 s\n",
      "Wall time: 2.69 s\n"
     ]
    }
   ],
   "source": [
    "%%time\n",
    "data_by_station = []\n",
    "\n",
    "for s in estaciones:\n",
    "    filter_station = data['estacionid'] == s\n",
    "    data_station = data[filter_station].drop(columns=['estacionid'])\n",
    "    d = data_station.describe()\n",
    "    if d.rad['max'] != 0:\n",
    "        data_by_station.append(data_station)"
   ]
  },
  {
   "cell_type": "code",
   "execution_count": 14,
   "metadata": {},
   "outputs": [
    {
     "data": {
      "text/plain": [
       "111"
      ]
     },
     "execution_count": 14,
     "metadata": {},
     "output_type": "execute_result"
    }
   ],
   "source": [
    "len(data_by_station)"
   ]
  },
  {
   "cell_type": "markdown",
   "metadata": {},
   "source": [
    "### Ajustar intervalos de tiempo\n",
    "\n",
    "**Ajuste de 1 hora**"
   ]
  },
  {
   "cell_type": "code",
   "execution_count": 15,
   "metadata": {},
   "outputs": [
    {
     "name": "stdout",
     "output_type": "stream",
     "text": [
      "CPU times: user 281 ms, sys: 6.53 ms, total: 288 ms\n",
      "Wall time: 287 ms\n"
     ]
    }
   ],
   "source": [
    "%%time\n",
    "data_by_station = [s.resample('1H').mean().ffill().bfill() for s in data_by_station]"
   ]
  },
  {
   "cell_type": "markdown",
   "metadata": {},
   "source": [
    "### Agregar numero del día y del mes a los datos de cada estación"
   ]
  },
  {
   "cell_type": "code",
   "execution_count": 16,
   "metadata": {},
   "outputs": [
    {
     "name": "stdout",
     "output_type": "stream",
     "text": [
      "CPU times: user 1.88 s, sys: 40.4 ms, total: 1.92 s\n",
      "Wall time: 1.92 s\n"
     ]
    }
   ],
   "source": [
    "%%time\n",
    "for d in data_by_station:\n",
    "    d['day']=[x.day for x in d.index]\n",
    "    d['month']=[x.month for x in d.index]\n",
    "    d['hour']=[x.hour for x in d.index]"
   ]
  },
  {
   "cell_type": "code",
   "execution_count": 17,
   "metadata": {},
   "outputs": [
    {
     "data": {
      "text/html": [
       "<div>\n",
       "<style scoped>\n",
       "    .dataframe tbody tr th:only-of-type {\n",
       "        vertical-align: middle;\n",
       "    }\n",
       "\n",
       "    .dataframe tbody tr th {\n",
       "        vertical-align: top;\n",
       "    }\n",
       "\n",
       "    .dataframe thead th {\n",
       "        text-align: right;\n",
       "    }\n",
       "</style>\n",
       "<table border=\"1\" class=\"dataframe\">\n",
       "  <thead>\n",
       "    <tr style=\"text-align: right;\">\n",
       "      <th></th>\n",
       "      <th>lat</th>\n",
       "      <th>lon</th>\n",
       "      <th>tamb</th>\n",
       "      <th>rad</th>\n",
       "      <th>day</th>\n",
       "      <th>month</th>\n",
       "      <th>hour</th>\n",
       "    </tr>\n",
       "    <tr>\n",
       "      <th>fecha</th>\n",
       "      <th></th>\n",
       "      <th></th>\n",
       "      <th></th>\n",
       "      <th></th>\n",
       "      <th></th>\n",
       "      <th></th>\n",
       "      <th></th>\n",
       "    </tr>\n",
       "  </thead>\n",
       "  <tbody>\n",
       "    <tr>\n",
       "      <th>2019-01-01 01:00:00</th>\n",
       "      <td>43.3634</td>\n",
       "      <td>-8.4419</td>\n",
       "      <td>10.700</td>\n",
       "      <td>0.000000</td>\n",
       "      <td>1</td>\n",
       "      <td>1</td>\n",
       "      <td>1</td>\n",
       "    </tr>\n",
       "    <tr>\n",
       "      <th>2019-01-01 02:00:00</th>\n",
       "      <td>43.3634</td>\n",
       "      <td>-8.4419</td>\n",
       "      <td>10.350</td>\n",
       "      <td>0.000000</td>\n",
       "      <td>1</td>\n",
       "      <td>1</td>\n",
       "      <td>2</td>\n",
       "    </tr>\n",
       "    <tr>\n",
       "      <th>2019-01-01 03:00:00</th>\n",
       "      <td>43.3634</td>\n",
       "      <td>-8.4419</td>\n",
       "      <td>9.800</td>\n",
       "      <td>0.000000</td>\n",
       "      <td>1</td>\n",
       "      <td>1</td>\n",
       "      <td>3</td>\n",
       "    </tr>\n",
       "    <tr>\n",
       "      <th>2019-01-01 04:00:00</th>\n",
       "      <td>43.3634</td>\n",
       "      <td>-8.4419</td>\n",
       "      <td>11.125</td>\n",
       "      <td>0.000000</td>\n",
       "      <td>1</td>\n",
       "      <td>1</td>\n",
       "      <td>4</td>\n",
       "    </tr>\n",
       "    <tr>\n",
       "      <th>2019-01-01 05:00:00</th>\n",
       "      <td>43.3634</td>\n",
       "      <td>-8.4419</td>\n",
       "      <td>11.675</td>\n",
       "      <td>0.000000</td>\n",
       "      <td>1</td>\n",
       "      <td>1</td>\n",
       "      <td>5</td>\n",
       "    </tr>\n",
       "    <tr>\n",
       "      <th>...</th>\n",
       "      <td>...</td>\n",
       "      <td>...</td>\n",
       "      <td>...</td>\n",
       "      <td>...</td>\n",
       "      <td>...</td>\n",
       "      <td>...</td>\n",
       "      <td>...</td>\n",
       "    </tr>\n",
       "    <tr>\n",
       "      <th>2019-06-01 15:00:00</th>\n",
       "      <td>43.3634</td>\n",
       "      <td>-8.4419</td>\n",
       "      <td>22.750</td>\n",
       "      <td>851.000000</td>\n",
       "      <td>1</td>\n",
       "      <td>6</td>\n",
       "      <td>15</td>\n",
       "    </tr>\n",
       "    <tr>\n",
       "      <th>2019-06-01 16:00:00</th>\n",
       "      <td>43.3634</td>\n",
       "      <td>-8.4419</td>\n",
       "      <td>22.500</td>\n",
       "      <td>800.500000</td>\n",
       "      <td>1</td>\n",
       "      <td>6</td>\n",
       "      <td>16</td>\n",
       "    </tr>\n",
       "    <tr>\n",
       "      <th>2019-06-01 17:00:00</th>\n",
       "      <td>43.3634</td>\n",
       "      <td>-8.4419</td>\n",
       "      <td>24.750</td>\n",
       "      <td>693.750000</td>\n",
       "      <td>1</td>\n",
       "      <td>6</td>\n",
       "      <td>17</td>\n",
       "    </tr>\n",
       "    <tr>\n",
       "      <th>2019-06-01 18:00:00</th>\n",
       "      <td>43.3634</td>\n",
       "      <td>-8.4419</td>\n",
       "      <td>26.250</td>\n",
       "      <td>596.500000</td>\n",
       "      <td>1</td>\n",
       "      <td>6</td>\n",
       "      <td>18</td>\n",
       "    </tr>\n",
       "    <tr>\n",
       "      <th>2019-06-01 19:00:00</th>\n",
       "      <td>43.3634</td>\n",
       "      <td>-8.4419</td>\n",
       "      <td>24.000</td>\n",
       "      <td>375.666667</td>\n",
       "      <td>1</td>\n",
       "      <td>6</td>\n",
       "      <td>19</td>\n",
       "    </tr>\n",
       "  </tbody>\n",
       "</table>\n",
       "<p>3643 rows × 7 columns</p>\n",
       "</div>"
      ],
      "text/plain": [
       "                         lat     lon    tamb         rad  day  month  hour\n",
       "fecha                                                                     \n",
       "2019-01-01 01:00:00  43.3634 -8.4419  10.700    0.000000    1      1     1\n",
       "2019-01-01 02:00:00  43.3634 -8.4419  10.350    0.000000    1      1     2\n",
       "2019-01-01 03:00:00  43.3634 -8.4419   9.800    0.000000    1      1     3\n",
       "2019-01-01 04:00:00  43.3634 -8.4419  11.125    0.000000    1      1     4\n",
       "2019-01-01 05:00:00  43.3634 -8.4419  11.675    0.000000    1      1     5\n",
       "...                      ...     ...     ...         ...  ...    ...   ...\n",
       "2019-06-01 15:00:00  43.3634 -8.4419  22.750  851.000000    1      6    15\n",
       "2019-06-01 16:00:00  43.3634 -8.4419  22.500  800.500000    1      6    16\n",
       "2019-06-01 17:00:00  43.3634 -8.4419  24.750  693.750000    1      6    17\n",
       "2019-06-01 18:00:00  43.3634 -8.4419  26.250  596.500000    1      6    18\n",
       "2019-06-01 19:00:00  43.3634 -8.4419  24.000  375.666667    1      6    19\n",
       "\n",
       "[3643 rows x 7 columns]"
      ]
     },
     "execution_count": 17,
     "metadata": {},
     "output_type": "execute_result"
    }
   ],
   "source": [
    "data_by_station[0]"
   ]
  },
  {
   "cell_type": "markdown",
   "metadata": {},
   "source": [
    "### Unir todos los datos de las estaciones"
   ]
  },
  {
   "cell_type": "code",
   "execution_count": 18,
   "metadata": {},
   "outputs": [],
   "source": [
    "data = pd.concat(data_by_station)"
   ]
  },
  {
   "cell_type": "code",
   "execution_count": 19,
   "metadata": {},
   "outputs": [
    {
     "data": {
      "text/plain": [
       "(403999, 7)"
      ]
     },
     "execution_count": 19,
     "metadata": {},
     "output_type": "execute_result"
    }
   ],
   "source": [
    "data.shape"
   ]
  },
  {
   "cell_type": "code",
   "execution_count": 20,
   "metadata": {},
   "outputs": [
    {
     "data": {
      "text/html": [
       "<div>\n",
       "<style scoped>\n",
       "    .dataframe tbody tr th:only-of-type {\n",
       "        vertical-align: middle;\n",
       "    }\n",
       "\n",
       "    .dataframe tbody tr th {\n",
       "        vertical-align: top;\n",
       "    }\n",
       "\n",
       "    .dataframe thead th {\n",
       "        text-align: right;\n",
       "    }\n",
       "</style>\n",
       "<table border=\"1\" class=\"dataframe\">\n",
       "  <thead>\n",
       "    <tr style=\"text-align: right;\">\n",
       "      <th></th>\n",
       "      <th>lat</th>\n",
       "      <th>lon</th>\n",
       "      <th>tamb</th>\n",
       "      <th>rad</th>\n",
       "      <th>day</th>\n",
       "      <th>month</th>\n",
       "      <th>hour</th>\n",
       "    </tr>\n",
       "    <tr>\n",
       "      <th>fecha</th>\n",
       "      <th></th>\n",
       "      <th></th>\n",
       "      <th></th>\n",
       "      <th></th>\n",
       "      <th></th>\n",
       "      <th></th>\n",
       "      <th></th>\n",
       "    </tr>\n",
       "  </thead>\n",
       "  <tbody>\n",
       "    <tr>\n",
       "      <th>2019-01-01 01:00:00</th>\n",
       "      <td>43.3634</td>\n",
       "      <td>-8.4419</td>\n",
       "      <td>10.700000</td>\n",
       "      <td>0.000000</td>\n",
       "      <td>1</td>\n",
       "      <td>1</td>\n",
       "      <td>1</td>\n",
       "    </tr>\n",
       "    <tr>\n",
       "      <th>2019-01-01 02:00:00</th>\n",
       "      <td>43.3634</td>\n",
       "      <td>-8.4419</td>\n",
       "      <td>10.350000</td>\n",
       "      <td>0.000000</td>\n",
       "      <td>1</td>\n",
       "      <td>1</td>\n",
       "      <td>2</td>\n",
       "    </tr>\n",
       "    <tr>\n",
       "      <th>2019-01-01 03:00:00</th>\n",
       "      <td>43.3634</td>\n",
       "      <td>-8.4419</td>\n",
       "      <td>9.800000</td>\n",
       "      <td>0.000000</td>\n",
       "      <td>1</td>\n",
       "      <td>1</td>\n",
       "      <td>3</td>\n",
       "    </tr>\n",
       "    <tr>\n",
       "      <th>2019-01-01 04:00:00</th>\n",
       "      <td>43.3634</td>\n",
       "      <td>-8.4419</td>\n",
       "      <td>11.125000</td>\n",
       "      <td>0.000000</td>\n",
       "      <td>1</td>\n",
       "      <td>1</td>\n",
       "      <td>4</td>\n",
       "    </tr>\n",
       "    <tr>\n",
       "      <th>2019-01-01 05:00:00</th>\n",
       "      <td>43.3634</td>\n",
       "      <td>-8.4419</td>\n",
       "      <td>11.675000</td>\n",
       "      <td>0.000000</td>\n",
       "      <td>1</td>\n",
       "      <td>1</td>\n",
       "      <td>5</td>\n",
       "    </tr>\n",
       "    <tr>\n",
       "      <th>...</th>\n",
       "      <td>...</td>\n",
       "      <td>...</td>\n",
       "      <td>...</td>\n",
       "      <td>...</td>\n",
       "      <td>...</td>\n",
       "      <td>...</td>\n",
       "      <td>...</td>\n",
       "    </tr>\n",
       "    <tr>\n",
       "      <th>2019-06-01 15:00:00</th>\n",
       "      <td>42.5801</td>\n",
       "      <td>-8.8047</td>\n",
       "      <td>24.000000</td>\n",
       "      <td>993.333333</td>\n",
       "      <td>1</td>\n",
       "      <td>6</td>\n",
       "      <td>15</td>\n",
       "    </tr>\n",
       "    <tr>\n",
       "      <th>2019-06-01 16:00:00</th>\n",
       "      <td>42.5801</td>\n",
       "      <td>-8.8047</td>\n",
       "      <td>24.500000</td>\n",
       "      <td>925.666667</td>\n",
       "      <td>1</td>\n",
       "      <td>6</td>\n",
       "      <td>16</td>\n",
       "    </tr>\n",
       "    <tr>\n",
       "      <th>2019-06-01 17:00:00</th>\n",
       "      <td>42.5801</td>\n",
       "      <td>-8.8047</td>\n",
       "      <td>24.833333</td>\n",
       "      <td>804.666667</td>\n",
       "      <td>1</td>\n",
       "      <td>6</td>\n",
       "      <td>17</td>\n",
       "    </tr>\n",
       "    <tr>\n",
       "      <th>2019-06-01 18:00:00</th>\n",
       "      <td>42.5801</td>\n",
       "      <td>-8.8047</td>\n",
       "      <td>25.000000</td>\n",
       "      <td>630.333333</td>\n",
       "      <td>1</td>\n",
       "      <td>6</td>\n",
       "      <td>18</td>\n",
       "    </tr>\n",
       "    <tr>\n",
       "      <th>2019-06-01 19:00:00</th>\n",
       "      <td>42.5801</td>\n",
       "      <td>-8.8047</td>\n",
       "      <td>24.400000</td>\n",
       "      <td>456.200000</td>\n",
       "      <td>1</td>\n",
       "      <td>6</td>\n",
       "      <td>19</td>\n",
       "    </tr>\n",
       "  </tbody>\n",
       "</table>\n",
       "<p>403999 rows × 7 columns</p>\n",
       "</div>"
      ],
      "text/plain": [
       "                         lat     lon       tamb         rad  day  month  hour\n",
       "fecha                                                                        \n",
       "2019-01-01 01:00:00  43.3634 -8.4419  10.700000    0.000000    1      1     1\n",
       "2019-01-01 02:00:00  43.3634 -8.4419  10.350000    0.000000    1      1     2\n",
       "2019-01-01 03:00:00  43.3634 -8.4419   9.800000    0.000000    1      1     3\n",
       "2019-01-01 04:00:00  43.3634 -8.4419  11.125000    0.000000    1      1     4\n",
       "2019-01-01 05:00:00  43.3634 -8.4419  11.675000    0.000000    1      1     5\n",
       "...                      ...     ...        ...         ...  ...    ...   ...\n",
       "2019-06-01 15:00:00  42.5801 -8.8047  24.000000  993.333333    1      6    15\n",
       "2019-06-01 16:00:00  42.5801 -8.8047  24.500000  925.666667    1      6    16\n",
       "2019-06-01 17:00:00  42.5801 -8.8047  24.833333  804.666667    1      6    17\n",
       "2019-06-01 18:00:00  42.5801 -8.8047  25.000000  630.333333    1      6    18\n",
       "2019-06-01 19:00:00  42.5801 -8.8047  24.400000  456.200000    1      6    19\n",
       "\n",
       "[403999 rows x 7 columns]"
      ]
     },
     "execution_count": 20,
     "metadata": {},
     "output_type": "execute_result"
    }
   ],
   "source": [
    "data"
   ]
  },
  {
   "cell_type": "markdown",
   "metadata": {},
   "source": [
    "### Escalar "
   ]
  },
  {
   "cell_type": "code",
   "execution_count": 21,
   "metadata": {},
   "outputs": [],
   "source": [
    "class Scaler:\n",
    "    def fit(self, data):\n",
    "        self._min = data.min()\n",
    "        self._max = data.max()\n",
    "    \n",
    "    def normalize(self, data):\n",
    "        return (data - self._min) / (self._max - self._min)\n",
    "    \n",
    "    def denormalize(self, data):\n",
    "        return data*(self._max-self._min)+self._min"
   ]
  },
  {
   "cell_type": "code",
   "execution_count": 22,
   "metadata": {},
   "outputs": [
    {
     "data": {
      "text/html": [
       "<div>\n",
       "<style scoped>\n",
       "    .dataframe tbody tr th:only-of-type {\n",
       "        vertical-align: middle;\n",
       "    }\n",
       "\n",
       "    .dataframe tbody tr th {\n",
       "        vertical-align: top;\n",
       "    }\n",
       "\n",
       "    .dataframe thead th {\n",
       "        text-align: right;\n",
       "    }\n",
       "</style>\n",
       "<table border=\"1\" class=\"dataframe\">\n",
       "  <thead>\n",
       "    <tr style=\"text-align: right;\">\n",
       "      <th></th>\n",
       "      <th>lat</th>\n",
       "      <th>lon</th>\n",
       "      <th>tamb</th>\n",
       "      <th>rad</th>\n",
       "      <th>day</th>\n",
       "      <th>month</th>\n",
       "      <th>hour</th>\n",
       "    </tr>\n",
       "    <tr>\n",
       "      <th>fecha</th>\n",
       "      <th></th>\n",
       "      <th></th>\n",
       "      <th></th>\n",
       "      <th></th>\n",
       "      <th></th>\n",
       "      <th></th>\n",
       "      <th></th>\n",
       "    </tr>\n",
       "  </thead>\n",
       "  <tbody>\n",
       "    <tr>\n",
       "      <th>2019-01-01 01:00:00</th>\n",
       "      <td>43.3634</td>\n",
       "      <td>-8.4419</td>\n",
       "      <td>0.513208</td>\n",
       "      <td>0.000000</td>\n",
       "      <td>1</td>\n",
       "      <td>1</td>\n",
       "      <td>1</td>\n",
       "    </tr>\n",
       "    <tr>\n",
       "      <th>2019-01-01 02:00:00</th>\n",
       "      <td>43.3634</td>\n",
       "      <td>-8.4419</td>\n",
       "      <td>0.506604</td>\n",
       "      <td>0.000000</td>\n",
       "      <td>1</td>\n",
       "      <td>1</td>\n",
       "      <td>2</td>\n",
       "    </tr>\n",
       "    <tr>\n",
       "      <th>2019-01-01 03:00:00</th>\n",
       "      <td>43.3634</td>\n",
       "      <td>-8.4419</td>\n",
       "      <td>0.496226</td>\n",
       "      <td>0.000000</td>\n",
       "      <td>1</td>\n",
       "      <td>1</td>\n",
       "      <td>3</td>\n",
       "    </tr>\n",
       "    <tr>\n",
       "      <th>2019-01-01 04:00:00</th>\n",
       "      <td>43.3634</td>\n",
       "      <td>-8.4419</td>\n",
       "      <td>0.521226</td>\n",
       "      <td>0.000000</td>\n",
       "      <td>1</td>\n",
       "      <td>1</td>\n",
       "      <td>4</td>\n",
       "    </tr>\n",
       "    <tr>\n",
       "      <th>2019-01-01 05:00:00</th>\n",
       "      <td>43.3634</td>\n",
       "      <td>-8.4419</td>\n",
       "      <td>0.531604</td>\n",
       "      <td>0.000000</td>\n",
       "      <td>1</td>\n",
       "      <td>1</td>\n",
       "      <td>5</td>\n",
       "    </tr>\n",
       "    <tr>\n",
       "      <th>...</th>\n",
       "      <td>...</td>\n",
       "      <td>...</td>\n",
       "      <td>...</td>\n",
       "      <td>...</td>\n",
       "      <td>...</td>\n",
       "      <td>...</td>\n",
       "      <td>...</td>\n",
       "    </tr>\n",
       "    <tr>\n",
       "      <th>2019-06-01 15:00:00</th>\n",
       "      <td>42.5801</td>\n",
       "      <td>-8.8047</td>\n",
       "      <td>0.764151</td>\n",
       "      <td>0.872493</td>\n",
       "      <td>1</td>\n",
       "      <td>6</td>\n",
       "      <td>15</td>\n",
       "    </tr>\n",
       "    <tr>\n",
       "      <th>2019-06-01 16:00:00</th>\n",
       "      <td>42.5801</td>\n",
       "      <td>-8.8047</td>\n",
       "      <td>0.773585</td>\n",
       "      <td>0.813058</td>\n",
       "      <td>1</td>\n",
       "      <td>6</td>\n",
       "      <td>16</td>\n",
       "    </tr>\n",
       "    <tr>\n",
       "      <th>2019-06-01 17:00:00</th>\n",
       "      <td>42.5801</td>\n",
       "      <td>-8.8047</td>\n",
       "      <td>0.779874</td>\n",
       "      <td>0.706778</td>\n",
       "      <td>1</td>\n",
       "      <td>6</td>\n",
       "      <td>17</td>\n",
       "    </tr>\n",
       "    <tr>\n",
       "      <th>2019-06-01 18:00:00</th>\n",
       "      <td>42.5801</td>\n",
       "      <td>-8.8047</td>\n",
       "      <td>0.783019</td>\n",
       "      <td>0.553652</td>\n",
       "      <td>1</td>\n",
       "      <td>6</td>\n",
       "      <td>18</td>\n",
       "    </tr>\n",
       "    <tr>\n",
       "      <th>2019-06-01 19:00:00</th>\n",
       "      <td>42.5801</td>\n",
       "      <td>-8.8047</td>\n",
       "      <td>0.771698</td>\n",
       "      <td>0.400703</td>\n",
       "      <td>1</td>\n",
       "      <td>6</td>\n",
       "      <td>19</td>\n",
       "    </tr>\n",
       "  </tbody>\n",
       "</table>\n",
       "<p>403999 rows × 7 columns</p>\n",
       "</div>"
      ],
      "text/plain": [
       "                         lat     lon      tamb       rad  day  month  hour\n",
       "fecha                                                                     \n",
       "2019-01-01 01:00:00  43.3634 -8.4419  0.513208  0.000000    1      1     1\n",
       "2019-01-01 02:00:00  43.3634 -8.4419  0.506604  0.000000    1      1     2\n",
       "2019-01-01 03:00:00  43.3634 -8.4419  0.496226  0.000000    1      1     3\n",
       "2019-01-01 04:00:00  43.3634 -8.4419  0.521226  0.000000    1      1     4\n",
       "2019-01-01 05:00:00  43.3634 -8.4419  0.531604  0.000000    1      1     5\n",
       "...                      ...     ...       ...       ...  ...    ...   ...\n",
       "2019-06-01 15:00:00  42.5801 -8.8047  0.764151  0.872493    1      6    15\n",
       "2019-06-01 16:00:00  42.5801 -8.8047  0.773585  0.813058    1      6    16\n",
       "2019-06-01 17:00:00  42.5801 -8.8047  0.779874  0.706778    1      6    17\n",
       "2019-06-01 18:00:00  42.5801 -8.8047  0.783019  0.553652    1      6    18\n",
       "2019-06-01 19:00:00  42.5801 -8.8047  0.771698  0.400703    1      6    19\n",
       "\n",
       "[403999 rows x 7 columns]"
      ]
     },
     "execution_count": 22,
     "metadata": {},
     "output_type": "execute_result"
    }
   ],
   "source": [
    "tamb_scaler = Scaler()\n",
    "tamb_scaler.fit(data['tamb'])\n",
    "data['tamb'] = tamb_scaler.normalize(data['tamb'])\n",
    "\n",
    "rad_scaler = Scaler()\n",
    "rad_scaler.fit(data['rad'])\n",
    "data['rad'] = rad_scaler.normalize(data['rad'])\n",
    "\n",
    "data"
   ]
  },
  {
   "cell_type": "markdown",
   "metadata": {},
   "source": [
    "### Preparación de los datos para el entrenamiento de la red"
   ]
  },
  {
   "cell_type": "code",
   "execution_count": 23,
   "metadata": {},
   "outputs": [],
   "source": [
    "import numpy as np\n",
    "import tensorflow as tf\n",
    "\n",
    "# Se fija la semilla para generar valores aleatorios\n",
    "np.random.seed(1)\n",
    "tf.random.set_seed(1)"
   ]
  },
  {
   "cell_type": "code",
   "execution_count": 24,
   "metadata": {},
   "outputs": [],
   "source": [
    "data_target = data['rad'].values\n",
    "data_input = data.drop(columns=['rad']).values"
   ]
  },
  {
   "cell_type": "code",
   "execution_count": 25,
   "metadata": {},
   "outputs": [
    {
     "data": {
      "text/plain": [
       "(403999, 6)"
      ]
     },
     "execution_count": 25,
     "metadata": {},
     "output_type": "execute_result"
    }
   ],
   "source": [
    "data_input.shape"
   ]
  },
  {
   "cell_type": "code",
   "execution_count": 26,
   "metadata": {},
   "outputs": [
    {
     "data": {
      "text/plain": [
       "(403999,)"
      ]
     },
     "execution_count": 26,
     "metadata": {},
     "output_type": "execute_result"
    }
   ],
   "source": [
    "data_target.shape"
   ]
  },
  {
   "cell_type": "markdown",
   "metadata": {},
   "source": [
    "#### Neural Nerwork"
   ]
  },
  {
   "cell_type": "code",
   "execution_count": 27,
   "metadata": {},
   "outputs": [],
   "source": [
    "from tensorflow.keras.models import Sequential\n",
    "from tensorflow.keras.layers import Dense\n",
    "from tensorflow.keras.losses import mae"
   ]
  },
  {
   "cell_type": "code",
   "execution_count": 28,
   "metadata": {},
   "outputs": [],
   "source": [
    "from sklearn.model_selection import train_test_split"
   ]
  },
  {
   "cell_type": "code",
   "execution_count": 29,
   "metadata": {},
   "outputs": [
    {
     "name": "stdout",
     "output_type": "stream",
     "text": [
      "CPU times: user 74.4 ms, sys: 0 ns, total: 74.4 ms\n",
      "Wall time: 74.1 ms\n"
     ]
    }
   ],
   "source": [
    "%%time\n",
    "X_train, X_test, y_train, y_test = train_test_split(data_input, data_target, train_size=0.8)"
   ]
  },
  {
   "cell_type": "code",
   "execution_count": 30,
   "metadata": {},
   "outputs": [],
   "source": [
    "def rad_mae(x, y):\n",
    "    X = rad_scaler.denormalize(x)\n",
    "    Y = rad_scaler.denormalize(y)\n",
    "    \n",
    "    return mae(X, Y)"
   ]
  },
  {
   "cell_type": "code",
   "execution_count": 31,
   "metadata": {},
   "outputs": [
    {
     "name": "stdout",
     "output_type": "stream",
     "text": [
      "Model: \"sequential\"\n",
      "_________________________________________________________________\n",
      "Layer (type)                 Output Shape              Param #   \n",
      "=================================================================\n",
      "dense (Dense)                (None, 300)               2100      \n",
      "_________________________________________________________________\n",
      "dense_1 (Dense)              (None, 1)                 301       \n",
      "=================================================================\n",
      "Total params: 2,401\n",
      "Trainable params: 2,401\n",
      "Non-trainable params: 0\n",
      "_________________________________________________________________\n"
     ]
    }
   ],
   "source": [
    "model = Sequential([\n",
    "    Dense(300, input_dim=X_train.shape[1], activation='sigmoid'),\n",
    "    Dense(1, activation='sigmoid')\n",
    "])\n",
    "\n",
    "model.compile(loss='mae', optimizer='adam', metrics=[rad_mae])\n",
    "\n",
    "model.summary()"
   ]
  },
  {
   "cell_type": "code",
   "execution_count": 32,
   "metadata": {},
   "outputs": [
    {
     "name": "stdout",
     "output_type": "stream",
     "text": [
      "CPU times: user 6min 30s, sys: 3min 58s, total: 10min 28s\n",
      "Wall time: 2min 41s\n"
     ]
    }
   ],
   "source": [
    "%%time\n",
    "history = model.fit(X_train, y_train, epochs=50, batch_size=256, validation_split=0.3, verbose=0)"
   ]
  },
  {
   "cell_type": "code",
   "execution_count": 33,
   "metadata": {},
   "outputs": [
    {
     "name": "stdout",
     "output_type": "stream",
     "text": [
      "2525/2525 [==============================] - 10s 4ms/step - loss: 0.0356 - rad_mae: 40.4750\n",
      "CPU times: user 18.2 s, sys: 14.4 s, total: 32.7 s\n",
      "Wall time: 10.1 s\n"
     ]
    },
    {
     "data": {
      "text/plain": [
       "[0.035551175475120544, 40.47504425048828]"
      ]
     },
     "execution_count": 33,
     "metadata": {},
     "output_type": "execute_result"
    }
   ],
   "source": [
    "%%time\n",
    "model.evaluate(X_test, y_test)"
   ]
  },
  {
   "cell_type": "code",
   "execution_count": 34,
   "metadata": {},
   "outputs": [],
   "source": [
    "import matplotlib.pyplot as plt\n",
    "import seaborn as sns\n",
    "\n",
    "sns.set(rc={'figure.figsize': (16, 6)})"
   ]
  },
  {
   "cell_type": "code",
   "execution_count": 35,
   "metadata": {},
   "outputs": [
    {
     "data": {
      "image/png": "[encoded data removed]",
      "text/plain": [
       "<Figure size 1152x432 with 1 Axes>"
      ]
     },
     "metadata": {},
     "output_type": "display_data"
    }
   ],
   "source": [
    "plt.plot(history.history['rad_mae'], label='MAE')\n",
    "plt.plot(history.history['val_rad_mae'], label='VAL_MAE')\n",
    "plt.legend()\n",
    "plt.show()"
   ]
  },
  {
   "cell_type": "code",
   "execution_count": 36,
   "metadata": {},
   "outputs": [
    {
     "data": {
      "image/png": "[encoded data removed]",
      "text/plain": [
       "<Figure size 1152x432 with 1 Axes>"
      ]
     },
     "metadata": {},
     "output_type": "display_data"
    }
   ],
   "source": [
    "y_predicted = model.predict(X_test)\n",
    "\n",
    "YP = rad_scaler.denormalize(y_predicted)\n",
    "YT = rad_scaler.denormalize(y_test)\n",
    "\n",
    "YT = YT.reshape(YT.shape[0], 1)\n",
    "\n",
    "error = YT - YP\n",
    "\n",
    "plt.plot(error)\n",
    "plt.show()"
   ]
  },
  {
   "cell_type": "code",
   "execution_count": null,
   "metadata": {},
   "outputs": [],
   "source": []
  }
 ],
 "metadata": {
  "kernelspec": {
   "display_name": "Python 3",
   "language": "python",
   "name": "python3"
  },
  "language_info": {
   "codemirror_mode": {
    "name": "ipython",
    "version": 3
   },
   "file_extension": ".py",
   "mimetype": "text/x-python",
   "name": "python",
   "nbconvert_exporter": "python",
   "pygments_lexer": "ipython3",
   "version": "3.8.5"
  }
 },
 "nbformat": 4,
 "nbformat_minor": 4
}
